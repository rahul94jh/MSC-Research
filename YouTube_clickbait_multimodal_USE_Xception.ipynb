{
  "nbformat": 4,
  "nbformat_minor": 0,
  "metadata": {
    "colab": {
      "name": "YouTube_clickbait_multimodal_USE_Xception.ipynb",
      "provenance": [],
      "collapsed_sections": [
        "6c5Z4mvpETfk",
        "xDpkuomFEXnX",
        "R_TiIhN3EaLk",
        "luqotE4nFrVC",
        "6agn6NigOrLW",
        "7P4hIhC0OySA",
        "2u93GhkpSboC",
        "hwyuYRKMWIER",
        "9yX_lKz5Xic6",
        "lnXKl4Q9ouDs"
      ],
      "include_colab_link": true
    },
    "kernelspec": {
      "name": "python3",
      "display_name": "Python 3"
    },
    "language_info": {
      "name": "python"
    },
    "accelerator": "GPU"
  },
  "cells": [
    {
      "cell_type": "markdown",
      "metadata": {
        "id": "view-in-github",
        "colab_type": "text"
      },
      "source": [
        "<a href=\"https://colab.research.google.com/github/rahul94jh/MSC-Research/blob/main/YouTube_clickbait_multimodal_USE_Xception.ipynb\" target=\"_parent\"><img src=\"https://colab.research.google.com/assets/colab-badge.svg\" alt=\"Open In Colab\"/></a>"
      ]
    },
    {
      "cell_type": "markdown",
      "metadata": {
        "id": "6c5Z4mvpETfk"
      },
      "source": [
        "#Setup"
      ]
    },
    {
      "cell_type": "code",
      "metadata": {
        "id": "CfJ9BpMLELyo",
        "colab": {
          "base_uri": "https://localhost:8080/"
        },
        "outputId": "99e730f8-dbdb-4fd2-bf78-4253d95402d5"
      },
      "source": [
        "from google.colab import drive\n",
        "drive.mount('/content/drive')"
      ],
      "execution_count": 1,
      "outputs": [
        {
          "output_type": "stream",
          "text": [
            "Mounted at /content/drive\n"
          ],
          "name": "stdout"
        }
      ]
    },
    {
      "cell_type": "markdown",
      "metadata": {
        "id": "xDpkuomFEXnX"
      },
      "source": [
        "#Imports"
      ]
    },
    {
      "cell_type": "code",
      "metadata": {
        "id": "-JZKGxbFEYgV",
        "colab": {
          "base_uri": "https://localhost:8080/"
        },
        "outputId": "6df46af0-8129-4b8b-a1b3-dc638a762902"
      },
      "source": [
        "import os, sys, math\n",
        "import numpy as np\n",
        "import random\n",
        "import pandas as pd\n",
        "import matplotlib as mpl\n",
        "from matplotlib import pyplot as plt\n",
        "\n",
        "import seaborn as sns\n",
        "\n",
        "import tensorflow as tf\n",
        "import tensorflow_hub as hub\n",
        "#print(\"Tensorflow version \" + tf.__version__)\n",
        "\n",
        "AUTO = tf.data.experimental.AUTOTUNE # used in tf.data.Dataset API\n",
        "\n",
        "import keras\n",
        "from keras import layers, regularizers, optimizers\n",
        "from keras.layers import Dense, Add, Flatten, Input, Activation, Embedding, Conv1D, GlobalMaxPooling1D, Dropout, Lambda, concatenate\n",
        "from keras.models import Sequential, Model, load_model\n",
        "from sklearn.model_selection import StratifiedShuffleSplit\n",
        "from keras.callbacks import EarlyStopping, ModelCheckpoint\n",
        "import keras.backend as K\n",
        "\n",
        "from sklearn.utils import shuffle\n",
        "from sklearn.metrics.pairwise import cosine_similarity\n",
        "from sklearn.metrics import roc_auc_score\n",
        "from sklearn.metrics import confusion_matrix\n",
        "from sklearn.metrics import accuracy_score\n",
        "from sklearn.metrics import precision_score\n",
        "from sklearn.metrics import recall_score\n",
        "from sklearn.metrics import f1_score\n",
        "from sklearn.metrics import cohen_kappa_score\n",
        "\n",
        "#Import custom script\n",
        "sys.path.append('/content/drive/MyDrive/Colab Notebooks/clcikbait_detection/scripts')\n",
        "\n",
        "\n",
        "import tf_dataset_helpers as dh\n",
        "\n",
        "from tf_dataset_helpers import read_tfrec_data\n",
        "import model_helpers as mh\n",
        "import visualization_helpers as vh\n"
      ],
      "execution_count": 8,
      "outputs": [
        {
          "output_type": "stream",
          "text": [
            "/usr/local/lib/python3.7/dist-packages/keras/optimizer_v2/optimizer_v2.py:356: UserWarning: The `lr` argument is deprecated, use `learning_rate` instead.\n",
            "  \"The `lr` argument is deprecated, use `learning_rate` instead.\")\n"
          ],
          "name": "stderr"
        }
      ]
    },
    {
      "cell_type": "markdown",
      "metadata": {
        "id": "R_TiIhN3EaLk"
      },
      "source": [
        "#Configurations"
      ]
    },
    {
      "cell_type": "code",
      "metadata": {
        "id": "NuH6w61bEbnk"
      },
      "source": [
        "TARGET_SIZE = [180, 180]\n",
        "CLASSES = [b'nonclickbaits', b'clickbaits'] \n",
        "BATCH_SIZE = 32  # On Colab/GPU, a higher batch size does not help and sometimes does not fit on the GPU (OOM)\n",
        "EPOCHS=50\n",
        "VALIDATION_SPLIT = 0.3\n",
        "TESTING_SPLIT = 0.5\n",
        "WIDTH = 180\n",
        "HEIGHT = 180"
      ],
      "execution_count": 62,
      "outputs": []
    },
    {
      "cell_type": "code",
      "metadata": {
        "id": "eGBIgj_RIgT8"
      },
      "source": [
        "tfrec_trainVal_files_path = '/content/drive/MyDrive/Colab Notebooks/clcikbait_detection/dataset/YouTube_clickbait/tfrec_data/train_val/'\n",
        "tfrec_test_files_path = '/content/drive/MyDrive/Colab Notebooks/clcikbait_detection/dataset/YouTube_clickbait/tfrec_data/test/'\n",
        "tfrec_benchmark_files_path = '/content/drive/MyDrive/Colab Notebooks/clcikbait_detection/dataset/invid_fake_video_v2/tfrec_data/'"
      ],
      "execution_count": 63,
      "outputs": []
    },
    {
      "cell_type": "code",
      "metadata": {
        "id": "HdeAJ9X9yEx7"
      },
      "source": [
        "#Save weights\n",
        "checkpoint_filepath = '/content/drive/MyDrive/Colab Notebooks/clcikbait_detection/models/mm_models/Checkpoints'\n",
        "clickbait_mm_bert_xception_weights_path = os.path.join(checkpoint_filepath, 'clickbait_mm_USE_xception_weights')\n",
        "\n",
        "#Save model\n",
        "MODEL_SAVE_PATH ='/content/drive/MyDrive/Colab Notebooks/clcikbait_detection/models/mm_models'\n",
        "clickbait_mm_bert_xception_path = os.path.join(MODEL_SAVE_PATH, 'clickbait_mm_USE_xception_model')"
      ],
      "execution_count": 64,
      "outputs": []
    },
    {
      "cell_type": "code",
      "metadata": {
        "colab": {
          "base_uri": "https://localhost:8080/"
        },
        "id": "-jT4IVsryNgP",
        "outputId": "9cd9319d-3819-4a0d-f906-4717ace5f5be"
      },
      "source": [
        "#instantiate read_data utility\n",
        "read_data = read_tfrec_data(tfrec_trainVal_files_path, TARGET_SIZE=TARGET_SIZE,  VALIDATION_SPLIT=0.2, TESTING_SPLIT=0.0, MODE=2, SHUFFLE_BUFFER=17000)\n",
        "read_test_data = read_tfrec_data(tfrec_test_files_path, TARGET_SIZE=TARGET_SIZE, VALIDATION_SPLIT=0.0, TESTING_SPLIT=0.0, MODE=2, SHUFFLE_BUFFER=1900) # Used only for testing\n",
        "read_benchmark_data = read_tfrec_data(tfrec_benchmark_files_path, TARGET_SIZE=TARGET_SIZE, VALIDATION_SPLIT=0.0, TESTING_SPLIT=0.0, MODE=2, SHUFFLE_BUFFER=100) # Used only for benchmarking\n",
        "\n",
        "num_training_example = 17000\n",
        "# splitting data files between training, validation and test\n",
        "filenames, training_filenames, validation_filenames, testing_filenames = read_data.get_tfrec_files()\n",
        "testing_filenames, _, _,_ = read_test_data.get_tfrec_files()\n",
        "benchmarking_filenames, _, _,_ = read_benchmark_data.get_tfrec_files()"
      ],
      "execution_count": 65,
      "outputs": [
        {
          "output_type": "stream",
          "text": [
            "Pattern matches 30 data files. Splitting dataset into 24 training files , 6 validation files and 0 test files\n",
            "Pattern matches 2 data files. Splitting dataset into 2 training files , 0 validation files and 0 test files\n",
            "Pattern matches 4 data files. Splitting dataset into 4 training files , 0 validation files and 0 test files\n"
          ],
          "name": "stdout"
        }
      ]
    },
    {
      "cell_type": "code",
      "metadata": {
        "id": "psa9ra3pFYdu"
      },
      "source": [
        "def display_9_images_from_dataset(dataset):\n",
        "  plt.figure(figsize=(13,13))\n",
        "  subplot=331\n",
        "  for i, ((image,text), label) in enumerate(dataset):\n",
        "    plt.subplot(subplot)\n",
        "    plt.axis('off')\n",
        "    plt.imshow(image.numpy().astype(np.uint8))\n",
        "    plt.title(CLASSES[label.numpy()], fontsize=16)\n",
        "    subplot += 1\n",
        "    if i==8:\n",
        "      break\n",
        "  #plt.tight_layout()\n",
        "  plt.subplots_adjust(wspace=0.1, hspace=0.1)\n",
        "  plt.show()\n",
        "\n",
        "def title_from_label_and_target(label, correct_label):\n",
        "  correct = (label == correct_label)\n",
        "  return \"{} [{}{}{}]\".format(CLASSES[label], str(correct), ', shoud be ' if not correct else '',\n",
        "                              CLASSES[correct_label] if not correct else ''), correct\n",
        "\n",
        "          \n",
        "\n",
        "def display_one_image(image, title, subplot, red=False):\n",
        "    plt.subplot(subplot)\n",
        "    plt.axis('off')\n",
        "    plt.imshow(image)\n",
        "    plt.title(title, fontsize=16, color='red' if red else 'black')\n",
        "    return subplot+1\n",
        "  \n",
        "def display_9_images_with_predictions(images, predictions, labels):\n",
        "  subplot=331\n",
        "  plt.figure(figsize=(13,13))\n",
        "  for i, image in enumerate(images):\n",
        "    title, correct = title_from_label_and_target(predictions[i], labels[i])\n",
        "    subplot = display_one_image(image, title, subplot, not correct)\n",
        "    if i >= 8:\n",
        "      break;\n",
        "              \n",
        "  #plt.tight_layout()\n",
        "  plt.subplots_adjust(wspace=0.1, hspace=0.1)\n",
        "  plt.show()\n",
        "\n",
        "def read_tfrecord(example):\n",
        "    features = {\n",
        "        \"image\": tf.io.FixedLenFeature([], tf.string),  # tf.string = bytestring (not text string)\n",
        "        \"class\": tf.io.FixedLenFeature([], tf.int64),   # shape [] means scalar\n",
        "        \"text\": tf.io.FixedLenFeature([], tf.string),\n",
        "        \n",
        "        # additional (not very useful) fields to demonstrate TFRecord writing/reading of different types of data\n",
        "        \"label\":         tf.io.FixedLenFeature([], tf.string),  # one bytestring\n",
        "    }\n",
        "    # decode the TFRecord\n",
        "    example = tf.io.parse_single_example(example, features)\n",
        "    \n",
        "    # FixedLenFeature fields are now ready to use: exmple['size']\n",
        "    # VarLenFeature fields require additional sparse_to_dense decoding\n",
        "    \n",
        "    image = tf.image.decode_jpeg(example['image'], channels=3)\n",
        "    image = tf.reshape(image, [*TARGET_SIZE, 3])\n",
        "    \n",
        "    class_num = example['class']\n",
        "    text = example['text']\n",
        "    label  = example['label']\n",
        "    return image, text, class_num, label\n",
        "\n",
        "def load_dataset(filenames):\n",
        "  # read from TFRecords. For optimal performance, read from multiple\n",
        "  # TFRecord files at once and set the option experimental_deterministic = False\n",
        "  # to allow order-altering optimizations.\n",
        "\n",
        "  option_no_order = tf.data.Options()\n",
        "  option_no_order.experimental_deterministic = False\n",
        "\n",
        "  dataset = tf.data.TFRecordDataset(filenames, num_parallel_reads=AUTO)\n",
        "  dataset = dataset.with_options(option_no_order)\n",
        "  dataset = dataset.map(read_tfrecord, num_parallel_calls=AUTO)\n",
        "  dataset = dataset.map(lambda image, text, class_num, label: ((image,text), class_num))\n",
        "  return dataset\n",
        "\n",
        "def get_batched_dataset(filenames, train=False):\n",
        "  dataset = load_dataset(filenames)\n",
        "  dataset = dataset.cache() # This dataset fits in RAM\n",
        "  if train:\n",
        "    # Best practices for Keras:\n",
        "    # Training dataset: repeat then batch\n",
        "    # Evaluation dataset: do not repeat\n",
        "    dataset = dataset.shuffle(num_training_example)\n",
        "    dataset = dataset.repeat()\n",
        "  dataset = dataset.batch(BATCH_SIZE)\n",
        "  dataset = dataset.prefetch(AUTO) # prefetch next batch while training (autotune prefetch buffer size)\n",
        "  # should shuffle too but this dataset was well shuffled on disk already\n",
        "  return dataset\n",
        "  # source: Dataset performance guide: https://www.tensorflow.org/guide/performance/datasets\n",
        "\n",
        "def create_image_model():\n",
        "  base_model = tf.keras.applications.Xception(\n",
        "    weights=\"imagenet\",  # Load weights pre-trained on ImageNet.\n",
        "    input_shape=(WIDTH, HEIGHT, 3),\n",
        "    include_top=False,\n",
        "  )  \n",
        "  # Freeze the base_model\n",
        "  base_model.trainable = False\n",
        "  # Create new model on top\n",
        "  inputs = tf.keras.Input(shape=(WIDTH, HEIGHT, 3))\n",
        "\n",
        "  x = tf.keras.applications.xception.preprocess_input(inputs)\n",
        "  x = base_model(x, training=False)\n",
        "  x = tf.keras.layers.GlobalAveragePooling2D()(x)\n",
        "  x = tf.keras.layers.Dropout(0.2)(x)  # Regularize with dropout\n",
        "  x = tf.keras.layers.Dense(512, activation='relu')(x)\n",
        "  x = tf.keras.layers.Dropout(0.2)(x)\n",
        "  outputs = tf.keras.layers.Lambda(lambda xz:K.l2_normalize(xz,axis=1))(x)\n",
        "  model = tf.keras.Model(inputs, outputs)\n",
        "  return model\n",
        "\n",
        "def create_text_model():\n",
        "  text_model = tf.keras.models.Sequential()\n",
        "  text_model.add(hub.KerasLayer('https://tfhub.dev/google/universal-sentence-encoder/4', \n",
        "                        input_shape=[], \n",
        "                        dtype=tf.string, \n",
        "                         trainable=True))\n",
        "  text_model.add(Dropout(0.15))\n",
        "  text_model.add(tf.keras.layers.Dense(512, activation='relu'))\n",
        "  text_model.add(Dropout(0.15))\n",
        "  text_model.add(Lambda(lambda xz:K.l2_normalize(xz,axis=1)))\n",
        "  return text_model \n",
        "\n",
        "mpl.rcParams['figure.figsize'] = (12, 10)\n",
        "colors = plt.rcParams['axes.prop_cycle'].by_key()['color']\n",
        "def plot_metrics(history):\n",
        "  metrics = ['loss', 'prc', 'precision', 'recall']\n",
        "  for n, metric in enumerate(metrics):\n",
        "    name = metric.replace(\"_\",\" \").capitalize()\n",
        "    plt.subplot(2,2,n+1)\n",
        "    plt.plot(history.epoch, history.history[metric], color=colors[0], label='Train')\n",
        "    plt.plot(history.epoch, history.history['val_'+metric],\n",
        "             color=colors[0], linestyle=\"--\", label='Val')\n",
        "    plt.xlabel('Epoch')\n",
        "    plt.ylabel(name)\n",
        "    if metric == 'loss':\n",
        "      plt.ylim([0, plt.ylim()[1]])\n",
        "    elif metric == 'auc':\n",
        "      plt.ylim([0.8,1])\n",
        "    else:\n",
        "      plt.ylim([0,1])\n",
        "\n",
        "    plt.legend()\n",
        "\n",
        "def display_training_curves(training, validation, title, subplot):\n",
        "  if subplot%10==1: # set up the subplots on the first call\n",
        "    plt.subplots(figsize=(10,10), facecolor='#F0F0F0')\n",
        "    #plt.tight_layout()\n",
        "  ax = plt.subplot(subplot)\n",
        "  ax.set_facecolor('#F8F8F8')\n",
        "  ax.plot(training)\n",
        "  ax.plot(validation)\n",
        "  ax.set_title('model '+ title)\n",
        "  ax.set_ylabel(title)\n",
        "  ax.set_xlabel('epoch')\n",
        "  ax.legend(['train', 'valid.'])\n",
        "\n",
        "def plot_cm(labels, predictions, p=0.5):\n",
        "  cm = confusion_matrix(labels, predictions > p)\n",
        "  plt.figure(figsize=(5,5))\n",
        "  sns.heatmap(cm, annot=True, fmt=\"d\")\n",
        "  plt.title('Confusion matrix @{:.2f}'.format(p))\n",
        "  plt.ylabel('Actual label')\n",
        "  plt.xlabel('Predicted label')\n",
        "\n",
        "  print('Non clickbaits Detected (True Negatives): ', cm[0][0])\n",
        "  print('Non-Clickbaits Detected as Clickbaits (False Positives): ', cm[0][1])\n",
        "  print('Clickbaits Detected as Non-clickbaits (False Negatives): ', cm[1][0])\n",
        "  print('Clickbaits Detected (True Positives): ', cm[1][1])\n",
        "  print('Total Non-clickbaits: ', np.sum(cm[0]))\n",
        "  print('Total Clickbaits: ', np.sum(cm[1]))\n",
        "  \n",
        "def get_metrics(testy, y_pred):\n",
        "    # accuracy: (tp + tn) / (p + n)\n",
        "    accuracy = accuracy_score(testy, y_pred)\n",
        "    print('Accuracy: %f' % accuracy)\n",
        "    # precision tp / (tp + fp)\n",
        "    precision = precision_score(testy, y_pred)\n",
        "    print('Precision: %f' % precision)\n",
        "    # recall: tp / (tp + fn)\n",
        "    recall = recall_score(testy, y_pred)\n",
        "    print('Recall: %f' % recall)\n",
        "    # f1: 2 tp / (2 tp + fp + fn)\n",
        "    f1 = f1_score(testy, y_pred)\n",
        "    print('F1 score: %f' % f1)\n",
        "    # ROC AUC\n",
        "    auc = roc_auc_score(testy, y_pred)\n",
        "    print('ROC AUC: %f' % auc)\n",
        "    # confusion matrix\n",
        "    matrix = confusion_matrix(testy, y_pred)\n",
        "    print(matrix)\n",
        "\n",
        "def predict_on_test(model, ds, N=1):\n",
        "  test_data = ds.take(N)\n",
        "  test_image=[]\n",
        "  y_true=[]\n",
        "  \n",
        "  for (images,texts), labels in test_data:\n",
        "    for i in range(BATCH_SIZE):\n",
        "      test_image.append(images[i].numpy())\n",
        "      y_true.append(labels[i].numpy())\n",
        "\n",
        "\n",
        "\n",
        "  predicted_scores  = model.predict(test_data)\n",
        "  y_pred = (predicted_scores > 0.5).astype(\"int32\")\n",
        "  y_pred = y_pred.reshape(-1)\n",
        "  get_metrics(y_true, y_pred)\n",
        "  print()\n",
        "  plot_cm(y_true, predicted_scores)\n",
        "  return test_image, y_true, y_pred"
      ],
      "execution_count": 66,
      "outputs": []
    },
    {
      "cell_type": "markdown",
      "metadata": {
        "id": "luqotE4nFrVC"
      },
      "source": [
        "#Load data"
      ]
    },
    {
      "cell_type": "code",
      "metadata": {
        "id": "EoCRo488LYti"
      },
      "source": [
        "# instantiate the datasets\n",
        "train_ds = get_batched_dataset(training_filenames, train=True)\n",
        "val_ds = get_batched_dataset(validation_filenames, train=False)\n",
        "test_ds = get_batched_dataset(testing_filenames, train=False)\n",
        "benchmark_ds = get_batched_dataset(benchmarking_filenames, train=False)"
      ],
      "execution_count": 91,
      "outputs": []
    },
    {
      "cell_type": "code",
      "metadata": {
        "colab": {
          "base_uri": "https://localhost:8080/"
        },
        "id": "61wSwWf-Mgch",
        "outputId": "0de63db9-d6ca-4486-b635-b6f6c29690fd"
      },
      "source": [
        "\n",
        "for (image, text), class_num in train_ds.take(1):\n",
        "  for i in range(10):\n",
        "    print(f\"Image shape {image[i].shape}, Text {text[i]}, Class={class_num[i]}, Label={CLASSES[class_num[i]]}\")"
      ],
      "execution_count": 54,
      "outputs": [
        {
          "output_type": "stream",
          "text": [
            "Image shape (180, 180, 3), Text b'paint explosions the slow mo guys gav and dan repaint the garden the only way they know how with slow motion explosions filmed at fps with a phantom flex follow gav on twitter follow dan on twitter', Class=0, Label=b'nonclickbaits'\n",
            "Image shape (180, 180, 3), Text b'rob and kristen s babymaking scene was too steamy robert pattinson and kristen stewart got hot and heavy for the filming of breaking dawn but not all of it made the cut listen to them discuss what was too much for the movie and why steamy scenes sometimes aren t all they re cracked up to be', Class=0, Label=b'nonclickbaits'\n",
            "Image shape (180, 180, 3), Text b'python gui with tkinter introduction facebook github google linkedin reddit support thenewboston twitter', Class=0, Label=b'nonclickbaits'\n",
            "Image shape (180, 180, 3), Text b'the flash vs audi r get smoked pussy faze adapt merch snapchat adaptsnaps twitter instagram the faze house rain apex teeqo temperrr blaziken gamma labs discount code adapt scuf discount code adapt watch all my videos', Class=1, Label=b'clickbaits'\n",
            "Image shape (180, 180, 3), Text b'bronx th grader wows nyc poetry scene meet kioni popcorn marshall an extraordinary year old poet from the bronx despite her age kioni has earned the respect and admiration of the nyc poetry community by developing her own unique voice and bravely exploring mature themes like alienation abandonment loneliness and abuse follow kioni s emotional journey as she prepares for her first featured performance at new york s famed nuyorican poets cafe prodigies is a bi weekly series showcasing the youngest and brightest as they challenge themselves to reach new heights and the stories behind them created and produced by radical media thnkr gives you extraordinary access to the people stories places and thinking that will change your mind follow thnkr on twitter like us on facebook check out our pinterest subscribe', Class=0, Label=b'nonclickbaits'\n",
            "Image shape (180, 180, 3), Text b'girlfriend vs boyfriend pranks compilation gfvsbf pranks enjoy this girlfriend vs boyfriend pranks compilation subscribe for daily funny pranks director follow prankcity follow yesfunnyyes watch the full playlist of the funniest pranks', Class=1, Label=b'clickbaits'\n",
            "Image shape (180, 180, 3), Text b'worlds hardest car tightrope gta funny moments let s go for likes subscribe for more videos check out more videos over here q a series challenge series check out my friends jelly slogoman on my channel i play a bunch of amazing games such as happy wheels gta and minecraft check out my socialmedia twitter instagram facebook outro song can t stop won t stop mighty high download on itunes intro song nu disco televisor neon monstercat release', Class=1, Label=b'clickbaits'\n",
            "Image shape (180, 180, 3), Text b'killcam fail wish i wouldn t have messed up oh well leave a like if you enjoyed thanks homies twitter instagram twitch custom gaming performance pc s kontrol freek discount code adapt gamma labs discount code adapt scuf discount code adapt watch all my videos the majority of my thumbnails are done by music by d ofaquavibe available on itunes here', Class=1, Label=b'clickbaits'\n",
            "Image shape (180, 180, 3), Text b'banned from playing gta q a kwebbelkop let s go for likes subscribe for more videos check out more videos over here q a series challenge series check out my friends jelly slogoman on my channel i play a bunch of amazing games such as happy wheels gta and minecraft check out my socialmedia twitter instagram facebook outro song can t stop won t stop mighty high download on itunes intro song nu disco televisor neon monstercat release', Class=1, Label=b'clickbaits'\n",
            "Image shape (180, 180, 3), Text b'machine learning making sense of a messy world the world is filled with things that most of us are able to understand and react to without much thought a stop sign partially covered by snow is still a stop sign a chair that s five times bigger than usual is still a place to sit but for computers the world is often messy and complicated google engineers and researchers discuss how machine learning is beginning to make computers and many of the things we use them for maps search recommending videos translations better google engineers and researcher in order of appearance blaise aguera y arcas greg corrado john giannandrea peter norvig jeff dean geoffrey hinton anna patterson more on machine learning at google blog g page twitter machine learning and deep neural nets explained', Class=0, Label=b'nonclickbaits'\n"
          ],
          "name": "stdout"
        }
      ]
    },
    {
      "cell_type": "markdown",
      "metadata": {
        "id": "6agn6NigOrLW"
      },
      "source": [
        "#Build and compile model"
      ]
    },
    {
      "cell_type": "markdown",
      "metadata": {
        "id": "7P4hIhC0OySA"
      },
      "source": [
        "##Image model"
      ]
    },
    {
      "cell_type": "code",
      "metadata": {
        "colab": {
          "base_uri": "https://localhost:8080/"
        },
        "id": "WExBbixhRSXN",
        "outputId": "27c57cfa-e647-4186-8afc-7411208268d0"
      },
      "source": [
        "img_model = create_image_model()\n",
        "img_model.summary()"
      ],
      "execution_count": 67,
      "outputs": [
        {
          "output_type": "stream",
          "text": [
            "Model: \"model_10\"\n",
            "_________________________________________________________________\n",
            "Layer (type)                 Output Shape              Param #   \n",
            "=================================================================\n",
            "input_14 (InputLayer)        [(None, 180, 180, 3)]     0         \n",
            "_________________________________________________________________\n",
            "tf.math.truediv_5 (TFOpLambd (None, 180, 180, 3)       0         \n",
            "_________________________________________________________________\n",
            "tf.math.subtract_5 (TFOpLamb (None, 180, 180, 3)       0         \n",
            "_________________________________________________________________\n",
            "xception (Functional)        (None, 6, 6, 2048)        20861480  \n",
            "_________________________________________________________________\n",
            "global_average_pooling2d_5 ( (None, 2048)              0         \n",
            "_________________________________________________________________\n",
            "dropout_20 (Dropout)         (None, 2048)              0         \n",
            "_________________________________________________________________\n",
            "dense_30 (Dense)             (None, 512)               1049088   \n",
            "_________________________________________________________________\n",
            "dropout_21 (Dropout)         (None, 512)               0         \n",
            "_________________________________________________________________\n",
            "lambda_10 (Lambda)           (None, 512)               0         \n",
            "=================================================================\n",
            "Total params: 21,910,568\n",
            "Trainable params: 1,049,088\n",
            "Non-trainable params: 20,861,480\n",
            "_________________________________________________________________\n"
          ],
          "name": "stdout"
        }
      ]
    },
    {
      "cell_type": "markdown",
      "metadata": {
        "id": "2u93GhkpSboC"
      },
      "source": [
        "##Text model"
      ]
    },
    {
      "cell_type": "code",
      "metadata": {
        "colab": {
          "base_uri": "https://localhost:8080/"
        },
        "id": "pP8yl0ZcSzAF",
        "outputId": "7738aa9d-4ac1-4125-9e4c-8223430a0c71"
      },
      "source": [
        "txt_model = create_text_model()\n",
        "txt_model.summary()"
      ],
      "execution_count": 68,
      "outputs": [
        {
          "output_type": "stream",
          "text": [
            "Model: \"sequential_5\"\n",
            "_________________________________________________________________\n",
            "Layer (type)                 Output Shape              Param #   \n",
            "=================================================================\n",
            "keras_layer_5 (KerasLayer)   (None, 512)               256797824 \n",
            "_________________________________________________________________\n",
            "dropout_22 (Dropout)         (None, 512)               0         \n",
            "_________________________________________________________________\n",
            "dense_31 (Dense)             (None, 512)               262656    \n",
            "_________________________________________________________________\n",
            "dropout_23 (Dropout)         (None, 512)               0         \n",
            "_________________________________________________________________\n",
            "lambda_11 (Lambda)           (None, 512)               0         \n",
            "=================================================================\n",
            "Total params: 257,060,480\n",
            "Trainable params: 257,060,480\n",
            "Non-trainable params: 0\n",
            "_________________________________________________________________\n"
          ],
          "name": "stdout"
        }
      ]
    },
    {
      "cell_type": "markdown",
      "metadata": {
        "id": "hwyuYRKMWIER"
      },
      "source": [
        "##Text-Image combined multi-modal model"
      ]
    },
    {
      "cell_type": "code",
      "metadata": {
        "colab": {
          "base_uri": "https://localhost:8080/"
        },
        "id": "awF9YtbVS384",
        "outputId": "e7657b79-3d4c-4eb7-ee41-dc6ea08b62d0"
      },
      "source": [
        "merged=concatenate([img_model.output,txt_model.output])\n",
        "out=Dense(512, activation='relu')(merged)\n",
        "out =Dense(256, activation='relu')(out)\n",
        "out =Dense(128, activation='relu')(out)\n",
        "out =Dense(1, activation='sigmoid')(out)\n",
        "final_model=Model([img_model.input,txt_model.input],out) \n",
        "final_model.summary()"
      ],
      "execution_count": 69,
      "outputs": [
        {
          "output_type": "stream",
          "text": [
            "Model: \"model_11\"\n",
            "__________________________________________________________________________________________________\n",
            "Layer (type)                    Output Shape         Param #     Connected to                     \n",
            "==================================================================================================\n",
            "input_14 (InputLayer)           [(None, 180, 180, 3) 0                                            \n",
            "__________________________________________________________________________________________________\n",
            "tf.math.truediv_5 (TFOpLambda)  (None, 180, 180, 3)  0           input_14[0][0]                   \n",
            "__________________________________________________________________________________________________\n",
            "tf.math.subtract_5 (TFOpLambda) (None, 180, 180, 3)  0           tf.math.truediv_5[0][0]          \n",
            "__________________________________________________________________________________________________\n",
            "xception (Functional)           (None, 6, 6, 2048)   20861480    tf.math.subtract_5[0][0]         \n",
            "__________________________________________________________________________________________________\n",
            "keras_layer_5_input (InputLayer [(None,)]            0                                            \n",
            "__________________________________________________________________________________________________\n",
            "global_average_pooling2d_5 (Glo (None, 2048)         0           xception[0][0]                   \n",
            "__________________________________________________________________________________________________\n",
            "keras_layer_5 (KerasLayer)      (None, 512)          256797824   keras_layer_5_input[0][0]        \n",
            "__________________________________________________________________________________________________\n",
            "dropout_20 (Dropout)            (None, 2048)         0           global_average_pooling2d_5[0][0] \n",
            "__________________________________________________________________________________________________\n",
            "dropout_22 (Dropout)            (None, 512)          0           keras_layer_5[0][0]              \n",
            "__________________________________________________________________________________________________\n",
            "dense_30 (Dense)                (None, 512)          1049088     dropout_20[0][0]                 \n",
            "__________________________________________________________________________________________________\n",
            "dense_31 (Dense)                (None, 512)          262656      dropout_22[0][0]                 \n",
            "__________________________________________________________________________________________________\n",
            "dropout_21 (Dropout)            (None, 512)          0           dense_30[0][0]                   \n",
            "__________________________________________________________________________________________________\n",
            "dropout_23 (Dropout)            (None, 512)          0           dense_31[0][0]                   \n",
            "__________________________________________________________________________________________________\n",
            "lambda_10 (Lambda)              (None, 512)          0           dropout_21[0][0]                 \n",
            "__________________________________________________________________________________________________\n",
            "lambda_11 (Lambda)              (None, 512)          0           dropout_23[0][0]                 \n",
            "__________________________________________________________________________________________________\n",
            "concatenate_5 (Concatenate)     (None, 1024)         0           lambda_10[0][0]                  \n",
            "                                                                 lambda_11[0][0]                  \n",
            "__________________________________________________________________________________________________\n",
            "dense_32 (Dense)                (None, 512)          524800      concatenate_5[0][0]              \n",
            "__________________________________________________________________________________________________\n",
            "dense_33 (Dense)                (None, 256)          131328      dense_32[0][0]                   \n",
            "__________________________________________________________________________________________________\n",
            "dense_34 (Dense)                (None, 128)          32896       dense_33[0][0]                   \n",
            "__________________________________________________________________________________________________\n",
            "dense_35 (Dense)                (None, 1)            129         dense_34[0][0]                   \n",
            "==================================================================================================\n",
            "Total params: 279,660,201\n",
            "Trainable params: 258,798,721\n",
            "Non-trainable params: 20,861,480\n",
            "__________________________________________________________________________________________________\n"
          ],
          "name": "stdout"
        }
      ]
    },
    {
      "cell_type": "code",
      "metadata": {
        "id": "fvECZjlhab_5",
        "colab": {
          "base_uri": "https://localhost:8080/"
        },
        "outputId": "608e0f61-f638-4f44-ccd7-cb377d00b2c3"
      },
      "source": [
        "LOSS = keras.losses.BinaryCrossentropy()\n",
        "OPTIMIZER = tf.keras.optimizers.RMSprop(lr=1.6192e-5)\n",
        "METRICS = [\n",
        "      keras.metrics.TruePositives(name='tp'),\n",
        "      keras.metrics.FalsePositives(name='fp'),\n",
        "      keras.metrics.TrueNegatives(name='tn'),\n",
        "      keras.metrics.FalseNegatives(name='fn'), \n",
        "      keras.metrics.BinaryAccuracy(name='accuracy'),\n",
        "      keras.metrics.Precision(name='precision'),\n",
        "      keras.metrics.Recall(name='recall'),\n",
        "      keras.metrics.AUC(name='auc'),\n",
        "      keras.metrics.AUC(name='prc', curve='PR'), # precision-recall curve\n",
        " ]"
      ],
      "execution_count": 70,
      "outputs": [
        {
          "output_type": "stream",
          "text": [
            "/usr/local/lib/python3.7/dist-packages/keras/optimizer_v2/optimizer_v2.py:356: UserWarning: The `lr` argument is deprecated, use `learning_rate` instead.\n",
            "  \"The `lr` argument is deprecated, use `learning_rate` instead.\")\n"
          ],
          "name": "stderr"
        }
      ]
    },
    {
      "cell_type": "code",
      "metadata": {
        "id": "3JD1AfkLanmx"
      },
      "source": [
        "final_model.compile(\n",
        "    optimizer=OPTIMIZER,\n",
        "    loss=LOSS,\n",
        "    metrics=METRICS\n",
        "    )"
      ],
      "execution_count": 71,
      "outputs": []
    },
    {
      "cell_type": "markdown",
      "metadata": {
        "id": "9yX_lKz5Xic6"
      },
      "source": [
        "#Model Training"
      ]
    },
    {
      "cell_type": "code",
      "metadata": {
        "id": "1qhKAE18ckxT"
      },
      "source": [
        "#callbacks\n",
        "es = EarlyStopping(\n",
        "    monitor='val_prc', \n",
        "    verbose=1,\n",
        "    patience=5,\n",
        "    mode='max',\n",
        "    restore_best_weights=True\n",
        "    )\n",
        "\n",
        "mcb = tf.keras.callbacks.ModelCheckpoint (\n",
        "         filepath=clickbait_mm_bert_xception_weights_path,\n",
        "         save_weights_only=True,\n",
        "         monitor='val_loss',\n",
        "         mode='min',\n",
        "         verbose=1,\n",
        "         save_best_only=True\n",
        "        )"
      ],
      "execution_count": 72,
      "outputs": []
    },
    {
      "cell_type": "code",
      "metadata": {
        "colab": {
          "base_uri": "https://localhost:8080/"
        },
        "id": "SKEFz2AWXkJ2",
        "outputId": "a9cf2f56-8fa6-4001-ac07-fe9d50f73474"
      },
      "source": [
        "history = final_model.fit(\n",
        "  train_ds,\n",
        "  steps_per_epoch = 420,\n",
        "  validation_data=val_ds,\n",
        "  validation_steps=100,\n",
        "  epochs=EPOCHS,\n",
        "  verbose=1,\n",
        "  callbacks=[es, mcb]\n",
        ")"
      ],
      "execution_count": 73,
      "outputs": [
        {
          "output_type": "stream",
          "text": [
            "Epoch 1/50\n",
            "420/420 [==============================] - 159s 341ms/step - loss: 0.5643 - tp: 5128.0000 - fp: 1218.0000 - tn: 5676.0000 - fn: 1418.0000 - accuracy: 0.8039 - precision: 0.8081 - recall: 0.7834 - auc: 0.8799 - prc: 0.8902 - val_loss: 0.2721 - val_tp: 1315.0000 - val_fp: 109.0000 - val_tn: 1663.0000 - val_fn: 113.0000 - val_accuracy: 0.9306 - val_precision: 0.9235 - val_recall: 0.9209 - val_auc: 0.9748 - val_prc: 0.9751\n",
            "\n",
            "Epoch 00001: val_loss improved from inf to 0.27212, saving model to /content/drive/MyDrive/Colab Notebooks/clcikbait_detection/models/mm_models/Checkpoints/clickbait_mm_USE_xception_weights\n",
            "Epoch 2/50\n",
            "420/420 [==============================] - 152s 358ms/step - loss: 0.2664 - tp: 5713.0000 - fp: 492.0000 - tn: 6370.0000 - fn: 865.0000 - accuracy: 0.8990 - precision: 0.9207 - recall: 0.8685 - auc: 0.9641 - prc: 0.9665 - val_loss: 0.1373 - val_tp: 1330.0000 - val_fp: 78.0000 - val_tn: 1694.0000 - val_fn: 98.0000 - val_accuracy: 0.9450 - val_precision: 0.9446 - val_recall: 0.9314 - val_auc: 0.9884 - val_prc: 0.9871\n",
            "\n",
            "Epoch 00002: val_loss improved from 0.27212 to 0.13731, saving model to /content/drive/MyDrive/Colab Notebooks/clcikbait_detection/models/mm_models/Checkpoints/clickbait_mm_USE_xception_weights\n",
            "Epoch 3/50\n",
            "420/420 [==============================] - 151s 359ms/step - loss: 0.1775 - tp: 6011.0000 - fp: 423.0000 - tn: 6473.0000 - fn: 533.0000 - accuracy: 0.9289 - precision: 0.9343 - recall: 0.9186 - auc: 0.9821 - prc: 0.9821 - val_loss: 0.1018 - val_tp: 1361.0000 - val_fp: 58.0000 - val_tn: 1714.0000 - val_fn: 67.0000 - val_accuracy: 0.9609 - val_precision: 0.9591 - val_recall: 0.9531 - val_auc: 0.9927 - val_prc: 0.9919\n",
            "\n",
            "Epoch 00003: val_loss improved from 0.13731 to 0.10184, saving model to /content/drive/MyDrive/Colab Notebooks/clcikbait_detection/models/mm_models/Checkpoints/clickbait_mm_USE_xception_weights\n",
            "Epoch 4/50\n",
            "420/420 [==============================] - 150s 358ms/step - loss: 0.1454 - tp: 6070.0000 - fp: 360.0000 - tn: 6563.0000 - fn: 447.0000 - accuracy: 0.9400 - precision: 0.9440 - recall: 0.9314 - auc: 0.9875 - prc: 0.9870 - val_loss: 0.0930 - val_tp: 1381.0000 - val_fp: 61.0000 - val_tn: 1711.0000 - val_fn: 47.0000 - val_accuracy: 0.9663 - val_precision: 0.9577 - val_recall: 0.9671 - val_auc: 0.9933 - val_prc: 0.9919\n",
            "\n",
            "Epoch 00004: val_loss improved from 0.10184 to 0.09304, saving model to /content/drive/MyDrive/Colab Notebooks/clcikbait_detection/models/mm_models/Checkpoints/clickbait_mm_USE_xception_weights\n",
            "Epoch 5/50\n",
            "420/420 [==============================] - 151s 360ms/step - loss: 0.1222 - tp: 6247.0000 - fp: 310.0000 - tn: 6532.0000 - fn: 351.0000 - accuracy: 0.9508 - precision: 0.9527 - recall: 0.9468 - auc: 0.9907 - prc: 0.9901 - val_loss: 0.0933 - val_tp: 1391.0000 - val_fp: 69.0000 - val_tn: 1703.0000 - val_fn: 37.0000 - val_accuracy: 0.9669 - val_precision: 0.9527 - val_recall: 0.9741 - val_auc: 0.9934 - val_prc: 0.9917\n",
            "\n",
            "Epoch 00005: val_loss did not improve from 0.09304\n",
            "Epoch 6/50\n",
            "420/420 [==============================] - 142s 337ms/step - loss: 0.1074 - tp: 6205.0000 - fp: 272.0000 - tn: 6653.0000 - fn: 310.0000 - accuracy: 0.9567 - precision: 0.9580 - recall: 0.9524 - auc: 0.9928 - prc: 0.9923 - val_loss: 0.0884 - val_tp: 1385.0000 - val_fp: 54.0000 - val_tn: 1718.0000 - val_fn: 43.0000 - val_accuracy: 0.9697 - val_precision: 0.9625 - val_recall: 0.9699 - val_auc: 0.9940 - val_prc: 0.9928\n",
            "\n",
            "Epoch 00006: val_loss improved from 0.09304 to 0.08836, saving model to /content/drive/MyDrive/Colab Notebooks/clcikbait_detection/models/mm_models/Checkpoints/clickbait_mm_USE_xception_weights\n",
            "Epoch 7/50\n",
            "420/420 [==============================] - 150s 356ms/step - loss: 0.0929 - tp: 6337.0000 - fp: 230.0000 - tn: 6633.0000 - fn: 240.0000 - accuracy: 0.9650 - precision: 0.9650 - recall: 0.9635 - auc: 0.9943 - prc: 0.9940 - val_loss: 0.0891 - val_tp: 1384.0000 - val_fp: 51.0000 - val_tn: 1721.0000 - val_fn: 44.0000 - val_accuracy: 0.9703 - val_precision: 0.9645 - val_recall: 0.9692 - val_auc: 0.9939 - val_prc: 0.9923\n",
            "\n",
            "Epoch 00007: val_loss did not improve from 0.08836\n",
            "Epoch 8/50\n",
            "420/420 [==============================] - 141s 337ms/step - loss: 0.0816 - tp: 6320.0000 - fp: 187.0000 - tn: 6719.0000 - fn: 214.0000 - accuracy: 0.9702 - precision: 0.9713 - recall: 0.9672 - auc: 0.9955 - prc: 0.9947 - val_loss: 0.0905 - val_tp: 1383.0000 - val_fp: 48.0000 - val_tn: 1724.0000 - val_fn: 45.0000 - val_accuracy: 0.9709 - val_precision: 0.9665 - val_recall: 0.9685 - val_auc: 0.9940 - val_prc: 0.9923\n",
            "\n",
            "Epoch 00008: val_loss did not improve from 0.08836\n",
            "Epoch 9/50\n",
            "420/420 [==============================] - 141s 336ms/step - loss: 0.0732 - tp: 6396.0000 - fp: 172.0000 - tn: 6693.0000 - fn: 179.0000 - accuracy: 0.9739 - precision: 0.9738 - recall: 0.9728 - auc: 0.9963 - prc: 0.9961 - val_loss: 0.0908 - val_tp: 1385.0000 - val_fp: 49.0000 - val_tn: 1723.0000 - val_fn: 43.0000 - val_accuracy: 0.9712 - val_precision: 0.9658 - val_recall: 0.9699 - val_auc: 0.9934 - val_prc: 0.9915\n",
            "\n",
            "Epoch 00009: val_loss did not improve from 0.08836\n",
            "Epoch 10/50\n",
            "420/420 [==============================] - 142s 337ms/step - loss: 0.0640 - tp: 6434.0000 - fp: 141.0000 - tn: 6699.0000 - fn: 166.0000 - accuracy: 0.9772 - precision: 0.9786 - recall: 0.9748 - auc: 0.9969 - prc: 0.9969 - val_loss: 0.0948 - val_tp: 1386.0000 - val_fp: 55.0000 - val_tn: 1717.0000 - val_fn: 42.0000 - val_accuracy: 0.9697 - val_precision: 0.9618 - val_recall: 0.9706 - val_auc: 0.9932 - val_prc: 0.9910\n",
            "\n",
            "Epoch 00010: val_loss did not improve from 0.08836\n",
            "Epoch 11/50\n",
            "420/420 [==============================] - 141s 337ms/step - loss: 0.0578 - tp: 6344.0000 - fp: 124.0000 - tn: 6839.0000 - fn: 133.0000 - accuracy: 0.9809 - precision: 0.9808 - recall: 0.9795 - auc: 0.9973 - prc: 0.9967 - val_loss: 0.0949 - val_tp: 1384.0000 - val_fp: 47.0000 - val_tn: 1725.0000 - val_fn: 44.0000 - val_accuracy: 0.9716 - val_precision: 0.9672 - val_recall: 0.9692 - val_auc: 0.9928 - val_prc: 0.9908\n",
            "Restoring model weights from the end of the best epoch.\n",
            "\n",
            "Epoch 00011: val_loss did not improve from 0.08836\n",
            "Epoch 00011: early stopping\n"
          ],
          "name": "stdout"
        }
      ]
    },
    {
      "cell_type": "code",
      "metadata": {
        "id": "H5dmcS0WfHys"
      },
      "source": [
        "#final_model.save('/content/drive/MyDrive/Colab Notebooks/Clickbait detection/model_path/simple_mm_model')"
      ],
      "execution_count": 74,
      "outputs": []
    },
    {
      "cell_type": "markdown",
      "metadata": {
        "id": "lnXKl4Q9ouDs"
      },
      "source": [
        "#Plot training history"
      ]
    },
    {
      "cell_type": "code",
      "metadata": {
        "colab": {
          "base_uri": "https://localhost:8080/",
          "height": 610
        },
        "id": "3-fgBZyLo-Fp",
        "outputId": "ef901e34-e26a-47b2-fb1c-487cb97c3eb0"
      },
      "source": [
        "plot_metrics(history)"
      ],
      "execution_count": 82,
      "outputs": [
        {
          "output_type": "display_data",
          "data": {
            "image/png": "[encoded data removed]",
            "text/plain": [
              "<Figure size 864x720 with 4 Axes>"
            ]
          },
          "metadata": {
            "needs_background": "light"
          }
        }
      ]
    },
    {
      "cell_type": "code",
      "metadata": {
        "colab": {
          "base_uri": "https://localhost:8080/",
          "height": 621
        },
        "id": "wFcxpfCApPFa",
        "outputId": "e1fb5ad6-a084-4494-d7bb-411c27563471"
      },
      "source": [
        "display_training_curves(history.history['accuracy'], history.history['val_accuracy'], 'accuracy', 211)\n",
        "display_training_curves(history.history['loss'], history.history['val_loss'], 'loss', 212)"
      ],
      "execution_count": 83,
      "outputs": [
        {
          "output_type": "display_data",
          "data": {
            "image/png": "[encoded data removed]",
            "text/plain": [
              "<Figure size 720x720 with 2 Axes>"
            ]
          },
          "metadata": {}
        }
      ]
    },
    {
      "cell_type": "code",
      "metadata": {
        "colab": {
          "base_uri": "https://localhost:8080/",
          "height": 621
        },
        "id": "F3JhMGnfpe2I",
        "outputId": "af51aa51-efb8-405f-b4c8-28fdedf40e21"
      },
      "source": [
        "display_training_curves(history.history['recall'], history.history['val_recall'], 'recall', 211)\n",
        "display_training_curves(history.history['precision'], history.history['val_precision'], 'precision', 212)"
      ],
      "execution_count": 84,
      "outputs": [
        {
          "output_type": "display_data",
          "data": {
            "image/png": "[encoded data removed]",
            "text/plain": [
              "<Figure size 720x720 with 2 Axes>"
            ]
          },
          "metadata": {}
        }
      ]
    },
    {
      "cell_type": "markdown",
      "metadata": {
        "id": "XlZwWImKplhI"
      },
      "source": [
        "#Predictions"
      ]
    },
    {
      "cell_type": "code",
      "metadata": {
        "id": "wkz-CBaLpmsX"
      },
      "source": [
        "#saved_model = keras.models.load_model('/content/drive/MyDrive/Colab Notebooks/Clickbait detection/model_path/simple_mm_model')"
      ],
      "execution_count": 85,
      "outputs": []
    },
    {
      "cell_type": "code",
      "metadata": {
        "colab": {
          "base_uri": "https://localhost:8080/"
        },
        "id": "Fg9rCYD4qOC7",
        "outputId": "3dc414a3-8eb3-428e-95df-11aa1617a25d"
      },
      "source": [
        "results = final_model.evaluate(test_ds)\n",
        "\n",
        "for name, value in zip(final_model.metrics_names, results):\n",
        "  print(name, ': ', value)\n",
        "print()\n",
        "  "
      ],
      "execution_count": 86,
      "outputs": [
        {
          "output_type": "stream",
          "text": [
            "61/61 [==============================] - 13s 216ms/step - loss: 0.0859 - tp: 890.0000 - fp: 29.0000 - tn: 1007.0000 - fn: 22.0000 - accuracy: 0.9738 - precision: 0.9684 - recall: 0.9759 - auc: 0.9945 - prc: 0.9935\n",
            "loss :  0.0858941376209259\n",
            "tp :  890.0\n",
            "fp :  29.0\n",
            "tn :  1007.0\n",
            "fn :  22.0\n",
            "accuracy :  0.9738193154335022\n",
            "precision :  0.9684439897537231\n",
            "recall :  0.9758771657943726\n",
            "auc :  0.9945322871208191\n",
            "prc :  0.9934827089309692\n",
            "\n"
          ],
          "name": "stdout"
        }
      ]
    },
    {
      "cell_type": "code",
      "metadata": {
        "colab": {
          "base_uri": "https://localhost:8080/",
          "height": 598
        },
        "id": "sI_-UJIM069d",
        "outputId": "503bd32d-b241-4cdc-eb32-3e39303e0768"
      },
      "source": [
        "test_image, y_true, y_pred = predict_on_test(final_model,test_ds,N=15)"
      ],
      "execution_count": 87,
      "outputs": [
        {
          "output_type": "stream",
          "text": [
            "Accuracy: 0.966667\n",
            "Precision: 0.961702\n",
            "Recall: 0.969957\n",
            "F1 score: 0.965812\n",
            "ROC AUC: 0.966760\n",
            "[[238   9]\n",
            " [  7 226]]\n",
            "\n",
            "Non clickbaits Detected (True Negatives):  238\n",
            "Non-Clickbaits Detected as Clickbaits (False Positives):  9\n",
            "Clickbaits Detected as Non-clickbaits (False Negatives):  7\n",
            "Clickbaits Detected (True Positives):  226\n",
            "Total Non-clickbaits:  247\n",
            "Total Clickbaits:  233\n"
          ],
          "name": "stdout"
        },
        {
          "output_type": "display_data",
          "data": {
            "image/png": "[encoded data removed]",
            "text/plain": [
              "<Figure size 360x360 with 2 Axes>"
            ]
          },
          "metadata": {
            "needs_background": "light"
          }
        }
      ]
    },
    {
      "cell_type": "markdown",
      "metadata": {
        "id": "frpBt6wK2rGo"
      },
      "source": [
        "#Benchmarking"
      ]
    },
    {
      "cell_type": "code",
      "metadata": {
        "colab": {
          "base_uri": "https://localhost:8080/"
        },
        "id": "HEme-FLf2sgw",
        "outputId": "5986f9a0-56ed-4063-a375-3fe5b52bea7d"
      },
      "source": [
        "results = final_model.evaluate(benchmark_ds)\n",
        "\n",
        "for name, value in zip(final_model.metrics_names, results):\n",
        "  print(name, ': ', value)\n",
        "print()"
      ],
      "execution_count": 92,
      "outputs": [
        {
          "output_type": "stream",
          "text": [
            "6/6 [==============================] - 2s 397ms/step - loss: 0.5523 - tp: 68.0000 - fp: 8.0000 - tn: 61.0000 - fn: 26.0000 - accuracy: 0.7914 - precision: 0.8947 - recall: 0.7234 - auc: 0.8886 - prc: 0.9230\n",
            "loss :  0.5523228049278259\n",
            "tp :  68.0\n",
            "fp :  8.0\n",
            "tn :  61.0\n",
            "fn :  26.0\n",
            "accuracy :  0.7914110422134399\n",
            "precision :  0.8947368264198303\n",
            "recall :  0.7234042286872864\n",
            "auc :  0.8886063098907471\n",
            "prc :  0.9229538440704346\n",
            "\n"
          ],
          "name": "stdout"
        }
      ]
    },
    {
      "cell_type": "code",
      "metadata": {
        "colab": {
          "base_uri": "https://localhost:8080/",
          "height": 598
        },
        "id": "M3edD5MM22Cx",
        "outputId": "798d3762-e3b0-45a0-e346-bfcadaf40110"
      },
      "source": [
        "test_image, y_true, y_pred = predict_on_test(final_model,benchmark_ds,N=5)\n"
      ],
      "execution_count": 93,
      "outputs": [
        {
          "output_type": "stream",
          "text": [
            "Accuracy: 0.787500\n",
            "Precision: 0.894737\n",
            "Recall: 0.723404\n",
            "F1 score: 0.800000\n",
            "ROC AUC: 0.801096\n",
            "[[58  8]\n",
            " [26 68]]\n",
            "\n",
            "Non clickbaits Detected (True Negatives):  58\n",
            "Non-Clickbaits Detected as Clickbaits (False Positives):  8\n",
            "Clickbaits Detected as Non-clickbaits (False Negatives):  26\n",
            "Clickbaits Detected (True Positives):  68\n",
            "Total Non-clickbaits:  66\n",
            "Total Clickbaits:  94\n"
          ],
          "name": "stdout"
        },
        {
          "output_type": "display_data",
          "data": {
            "image/png": "[encoded data removed]",
            "text/plain": [
              "<Figure size 360x360 with 2 Axes>"
            ]
          },
          "metadata": {
            "needs_background": "light"
          }
        }
      ]
    }
  ]
}