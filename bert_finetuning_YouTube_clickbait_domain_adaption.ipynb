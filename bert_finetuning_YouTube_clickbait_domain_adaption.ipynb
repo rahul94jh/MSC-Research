{
  "nbformat": 4,
  "nbformat_minor": 0,
  "metadata": {
    "colab": {
      "name": "bert_finetuning_YouTube_clickbait_domain_adaption.ipynb",
      "provenance": [],
      "collapsed_sections": [
        "KMTn9bhktYps",
        "cDzVIeTqtgHF",
        "HKcowprstl0r",
        "HWD2vnekDCr6",
        "fe8RMZlBoEVg",
        "Pvp9_oivD_QD",
        "HyRKSP2zwYyo",
        "dexXAe2b0LQl",
        "CsCwE3RZSi3e",
        "t-l3hSAZjmAR",
        "JB9jLSmmxlRX",
        "KGm28Sny7Wbg"
      ],
      "mount_file_id": "1Ax9uSKbn5h9-dyAMy-X-5XQwWBo8gzR3",
      "authorship_tag": "ABX9TyMrXlEtIEUbmaW4cZqWB3JA",
      "include_colab_link": true
    },
    "kernelspec": {
      "name": "python3",
      "display_name": "Python 3"
    },
    "language_info": {
      "name": "python"
    },
    "accelerator": "GPU"
  },
  "cells": [
    {
      "cell_type": "markdown",
      "metadata": {
        "id": "view-in-github",
        "colab_type": "text"
      },
      "source": [
        "<a href=\"https://colab.research.google.com/github/rahul94jh/MSC-Research/blob/main/bert_finetuning_YouTube_clickbait_domain_adaption.ipynb\" target=\"_parent\"><img src=\"https://colab.research.google.com/assets/colab-badge.svg\" alt=\"Open In Colab\"/></a>"
      ]
    },
    {
      "cell_type": "markdown",
      "metadata": {
        "id": "KMTn9bhktYps"
      },
      "source": [
        "#Setup"
      ]
    },
    {
      "cell_type": "code",
      "metadata": {
        "colab": {
          "base_uri": "https://localhost:8080/"
        },
        "id": "U7pZ99IQqhKo",
        "outputId": "a65a5a1a-9434-42f4-c62b-65b692ca57c7"
      },
      "source": [
        "#Check GPU, if assigned k8 then factory reset couple of times until we get Tesla GPU\n",
        "!nvidia-smi"
      ],
      "execution_count": 1,
      "outputs": [
        {
          "output_type": "stream",
          "text": [
            "Sat Jul 17 09:42:23 2021       \n",
            "+-----------------------------------------------------------------------------+\n",
            "| NVIDIA-SMI 470.42.01    Driver Version: 460.32.03    CUDA Version: 11.2     |\n",
            "|-------------------------------+----------------------+----------------------+\n",
            "| GPU  Name        Persistence-M| Bus-Id        Disp.A | Volatile Uncorr. ECC |\n",
            "| Fan  Temp  Perf  Pwr:Usage/Cap|         Memory-Usage | GPU-Util  Compute M. |\n",
            "|                               |                      |               MIG M. |\n",
            "|===============================+======================+======================|\n",
            "|   0  Tesla T4            Off  | 00000000:00:04.0 Off |                    0 |\n",
            "| N/A   50C    P8    11W /  70W |      0MiB / 15109MiB |      0%      Default |\n",
            "|                               |                      |                  N/A |\n",
            "+-------------------------------+----------------------+----------------------+\n",
            "                                                                               \n",
            "+-----------------------------------------------------------------------------+\n",
            "| Processes:                                                                  |\n",
            "|  GPU   GI   CI        PID   Type   Process name                  GPU Memory |\n",
            "|        ID   ID                                                   Usage      |\n",
            "|=============================================================================|\n",
            "|  No running processes found                                                 |\n",
            "+-----------------------------------------------------------------------------+\n"
          ],
          "name": "stdout"
        }
      ]
    },
    {
      "cell_type": "code",
      "metadata": {
        "colab": {
          "base_uri": "https://localhost:8080/"
        },
        "id": "73DTOjAUnKJO",
        "outputId": "7ad0f18b-5e20-4e74-8cda-a43dc2252c06"
      },
      "source": [
        "!pip install -q tensorflow-text\n",
        "!pip install -q tf-models-official"
      ],
      "execution_count": 2,
      "outputs": [
        {
          "output_type": "stream",
          "text": [
            "\u001b[K     |████████████████████████████████| 4.3MB 9.9MB/s \n",
            "\u001b[K     |████████████████████████████████| 1.6MB 8.2MB/s \n",
            "\u001b[K     |████████████████████████████████| 686kB 53.0MB/s \n",
            "\u001b[K     |████████████████████████████████| 37.2MB 79kB/s \n",
            "\u001b[K     |████████████████████████████████| 51kB 8.9MB/s \n",
            "\u001b[K     |████████████████████████████████| 358kB 49.1MB/s \n",
            "\u001b[K     |████████████████████████████████| 215kB 56.5MB/s \n",
            "\u001b[K     |████████████████████████████████| 645kB 41.5MB/s \n",
            "\u001b[K     |████████████████████████████████| 102kB 14.4MB/s \n",
            "\u001b[K     |████████████████████████████████| 61kB 9.9MB/s \n",
            "\u001b[K     |████████████████████████████████| 1.2MB 45.3MB/s \n",
            "\u001b[?25h  Building wheel for seqeval (setup.py) ... \u001b[?25l\u001b[?25hdone\n",
            "  Building wheel for py-cpuinfo (setup.py) ... \u001b[?25l\u001b[?25hdone\n"
          ],
          "name": "stdout"
        }
      ]
    },
    {
      "cell_type": "markdown",
      "metadata": {
        "id": "cDzVIeTqtgHF"
      },
      "source": [
        "#Imports"
      ]
    },
    {
      "cell_type": "code",
      "metadata": {
        "id": "4Q_MKLxE-7yz"
      },
      "source": [
        "import os, math\n",
        "import numpy as np\n",
        "import pandas as pd\n",
        "import requests\n",
        "import shutil\n",
        "import re\n",
        "from pathlib import Path\n",
        "import random\n",
        "import matplotlib as mpl\n",
        "from matplotlib import pyplot as plt\n",
        "import seaborn as sns\n",
        "\n",
        "from sklearn.metrics.pairwise import cosine_similarity\n",
        "from sklearn.metrics import roc_auc_score\n",
        "from sklearn.metrics import confusion_matrix\n",
        "from sklearn.metrics import accuracy_score\n",
        "from sklearn.metrics import precision_score\n",
        "from sklearn.metrics import recall_score\n",
        "from sklearn.metrics import f1_score\n",
        "from sklearn.metrics import cohen_kappa_score\n",
        "\n",
        "\n",
        "import tensorflow as tf\n",
        "import tensorflow_hub as hub\n",
        "import tensorflow_text as text\n",
        "import tensorflow_addons as tfa\n",
        "from official.nlp.data import classifier_data_lib\n",
        "from official.nlp.bert import tokenization\n",
        "from official.nlp import optimization\n",
        "\n",
        "\n",
        "from tensorflow import keras\n",
        "from official.nlp import optimization  # to create AdamW optmizer\n",
        "AUTO = tf.data.experimental.AUTOTUNE # used in tf.data.Dataset API\n",
        "\n",
        "tf.get_logger().setLevel('ERROR')\n",
        "\n",
        "import sys\n",
        "\n",
        "#Import custom script\n",
        "sys.path.append('/content/drive/MyDrive/Colab Notebooks/clcikbait_detection/scripts')\n",
        "from tf_dataset_helpers import read_tfrec_data\n",
        "import model_helpers as mh\n",
        "import visualization_helpers as vh"
      ],
      "execution_count": 38,
      "outputs": []
    },
    {
      "cell_type": "code",
      "metadata": {
        "colab": {
          "base_uri": "https://localhost:8080/"
        },
        "id": "5RE9WE8LtUhd",
        "outputId": "5279f6a4-6fae-4fd3-904b-3497b6066467"
      },
      "source": [
        "print(\"TF Version: \", tf.__version__)\n",
        "print(\"Eager mode: \", tf.executing_eagerly())\n",
        "print(\"Hub version: \", hub.__version__)\n",
        "print(\"GPU is\", \"available\" if tf.config.experimental.list_physical_devices(\"GPU\") else \"NOT AVAILABLE\")"
      ],
      "execution_count": 4,
      "outputs": [
        {
          "output_type": "stream",
          "text": [
            "TF Version:  2.5.0\n",
            "Eager mode:  True\n",
            "Hub version:  0.12.0\n",
            "GPU is available\n"
          ],
          "name": "stdout"
        }
      ]
    },
    {
      "cell_type": "markdown",
      "metadata": {
        "id": "HKcowprstl0r"
      },
      "source": [
        "#Configs"
      ]
    },
    {
      "cell_type": "markdown",
      "metadata": {
        "id": "HWD2vnekDCr6"
      },
      "source": [
        "##Bert configs"
      ]
    },
    {
      "cell_type": "code",
      "metadata": {
        "id": "GTNn3LRp7DfR",
        "cellView": "form"
      },
      "source": [
        "#@title \"Model mappings\"\n",
        "bert_model_name = 'bert_en_uncased_L-12_H-768_A-12' \n",
        "\n",
        "map_name_to_handle = {\n",
        "    'bert_en_uncased_L-12_H-768_A-12':\n",
        "        'https://tfhub.dev/tensorflow/bert_en_uncased_L-12_H-768_A-12/4',\n",
        "    'bert_en_cased_L-12_H-768_A-12':\n",
        "        'https://tfhub.dev/tensorflow/bert_en_cased_L-12_H-768_A-12/4'\n",
        "}"
      ],
      "execution_count": 5,
      "outputs": []
    },
    {
      "cell_type": "code",
      "metadata": {
        "colab": {
          "base_uri": "https://localhost:8080/"
        },
        "id": "DSjQAbWngdd6",
        "cellView": "form",
        "outputId": "2de7381e-c470-4806-cb7f-5edce479463d"
      },
      "source": [
        "#@title \"Bert pretrained model downlaod\"\n",
        "tfhub_handle_encoder = map_name_to_handle[bert_model_name]\n",
        "\n",
        "print('BERT model selected           :', tfhub_handle_encoder)\n",
        "\n",
        "bert_layer = hub.KerasLayer(tfhub_handle_encoder, trainable=True, name='bert_encoder')\n",
        "vocab_file = bert_layer.resolved_object.vocab_file.asset_path.numpy()\n",
        "do_lower_case = bert_layer.resolved_object.do_lower_case.numpy()\n",
        "bert_tokenizer = tokenization.FullTokenizer(vocab_file, do_lower_case)"
      ],
      "execution_count": 6,
      "outputs": [
        {
          "output_type": "stream",
          "text": [
            "BERT model selected           : https://tfhub.dev/tensorflow/bert_en_uncased_L-12_H-768_A-12/4\n"
          ],
          "name": "stdout"
        }
      ]
    },
    {
      "cell_type": "markdown",
      "metadata": {
        "id": "fe8RMZlBoEVg"
      },
      "source": [
        "##General config"
      ]
    },
    {
      "cell_type": "code",
      "metadata": {
        "id": "v9DLhbQrtnGd"
      },
      "source": [
        "tfrec_trainVal_files_path = '/content/drive/MyDrive/Colab Notebooks/clcikbait_detection/dataset/YouTube_clickbait/tfrec_data/train_val/'\n",
        "tfrec_test_files_path = '/content/drive/MyDrive/Colab Notebooks/clcikbait_detection/dataset/YouTube_clickbait/tfrec_data/test/'\n",
        "stop_clickbait_tfrecFiles_path = '/content/drive/MyDrive/Colab Notebooks/clcikbait_detection/dataset/Stop_clickbait/tfrec_data/'\n",
        "\n",
        "model_root_path = '/content/drive/MyDrive/Colab Notebooks/clcikbait_detection/dataset/YouTube_clickbait/saved_models'\n",
        "saved_model_name = f'youtube_clickbait_finetuned_domain_adapted_{bert_model_name}'\n",
        "saved_model_path = os.path.join(model_root_path, saved_model_name )\n",
        "\n",
        "checkpoint_root_path = '/content/drive/MyDrive/Colab Notebooks/clcikbait_detection/dataset/YouTube_clickbait/checkpoints'\n",
        "model_checkpoint_path = os.path.join(checkpoint_root_path, f'youtube_clickbait_finetuned_domain_adapted_{bert_model_name}_checkpoint' )\n",
        "\n",
        "\n",
        "BATCH_SIZE = 32  \n",
        "# Label categories\n",
        "label_list = [0,1]\n",
        "# maximum length of (token) input sequences\n",
        "max_seq_len = 128\n",
        "init_lr = 2e-5\n",
        "\n",
        "epochs = 5"
      ],
      "execution_count": 7,
      "outputs": []
    },
    {
      "cell_type": "markdown",
      "metadata": {
        "id": "Pvp9_oivD_QD"
      },
      "source": [
        "#Scripts"
      ]
    },
    {
      "cell_type": "code",
      "metadata": {
        "id": "7e62N59Ttk60",
        "cellView": "form"
      },
      "source": [
        "#@title \"Utilities [TF Dataset]\"\n",
        "def read_tfrecord(example):\n",
        "    features = {\n",
        "        \"class\": tf.io.FixedLenFeature([], tf.int64),   # shape [] means scalar\n",
        "        \"text\": tf.io.FixedLenFeature([], tf.string),\n",
        "        \"label\": tf.io.FixedLenFeature([], tf.string)  # one bytestring\n",
        "    }\n",
        "    # decode the TFRecord\n",
        "    example = tf.io.parse_single_example(example, features)\n",
        "    \n",
        "    \n",
        "    class_num = example['class']\n",
        "    text = example['text']\n",
        "    label  = example['label']\n",
        "    return text, class_num, label\n",
        "\n",
        "def load_dataset(filenames):\n",
        "  option_no_order = tf.data.Options()\n",
        "  option_no_order.experimental_deterministic = False\n",
        "\n",
        "  dataset = tf.data.TFRecordDataset(filenames, num_parallel_reads=AUTO)\n",
        "  dataset = dataset.with_options(option_no_order)\n",
        "  dataset = dataset.map(read_tfrecord, num_parallel_calls=AUTO)\n",
        "  return dataset\n",
        "\n",
        "def get_batched_dataset(dataset, train=False):\n",
        "  if train:\n",
        "    dataset = dataset.shuffle(num_train_examples)\n",
        "    dataset = dataset.repeat()\n",
        "  dataset = dataset.batch(BATCH_SIZE, drop_remainder=True)\n",
        "  dataset = dataset.cache().prefetch(AUTO) # prefetch next batch while training (autotune prefetch buffer size)\n",
        "  return dataset"
      ],
      "execution_count": 8,
      "outputs": []
    },
    {
      "cell_type": "code",
      "metadata": {
        "id": "8NzGu2hUKfnA",
        "cellView": "form"
      },
      "source": [
        "#@title \"Utilities [Map bert preprocessing to Dataset]\"\n",
        "def to_feature(text, label, label_list=label_list, max_seq_length=max_seq_len, tokenizer=bert_tokenizer):\n",
        "  example = classifier_data_lib.InputExample(guid=None, text_a=text.numpy(), text_b=None, label=label.numpy())\n",
        "  feature = classifier_data_lib.convert_single_example(0, example, label_list, max_seq_length, tokenizer)\n",
        "\n",
        "  return (feature.input_ids, feature.input_mask, feature.segment_ids, feature.label_id)\n",
        "  \n",
        "def to_feature_map(text, label):\n",
        "  input_ids, input_mask, segment_ids, label_id = tf.py_function(to_feature, inp=[text, label], Tout=[tf.int32,tf.int32, tf.int32, tf.int32 ])\n",
        "  input_ids.set_shape([max_seq_len])\n",
        "  segment_ids.set_shape([max_seq_len])\n",
        "  input_mask.set_shape([max_seq_len])\n",
        "  label_id.set_shape([])\n",
        "\n",
        "  x = {\n",
        "       'input_word_ids': input_ids,\n",
        "       'input_mask': input_mask,\n",
        "       'input_type_ids':segment_ids\n",
        "  }\n",
        "  \n",
        "  return (x, label_id)\n",
        "  "
      ],
      "execution_count": 9,
      "outputs": []
    },
    {
      "cell_type": "code",
      "metadata": {
        "id": "ADXfSXSIWGpt",
        "cellView": "form"
      },
      "source": [
        "#@title \"Utilities [Create Model Definition]\"\n",
        "def create_model():\n",
        "\n",
        " encoder_inputs = dict(\n",
        "    input_word_ids=tf.keras.layers.Input(shape=(max_seq_len,), dtype=tf.int32, name=\"input_word_ids\"),\n",
        "    input_mask=tf.keras.layers.Input(shape=(max_seq_len,), dtype=tf.int32,  name=\"input_mask\"),\n",
        "    input_type_ids=tf.keras.layers.Input(shape=(max_seq_len,), dtype=tf.int32, name=\"input_type_ids\"),\n",
        ")\n",
        " \n",
        " net = bert_layer(encoder_inputs)['pooled_output']\n",
        "\n",
        " net = tf.keras.layers.Dropout(0.2)(net)\n",
        " net = tf.keras.layers.Dense(384, activation='ReLU', name='dense_384')(net)\n",
        " net = tf.keras.layers.Dropout(0.2)(net)\n",
        " output = tf.keras.layers.Dense(1, activation='sigmoid', name='classifier')(net)\n",
        "\n",
        " model = tf.keras.Model(\n",
        "     encoder_inputs,\n",
        "     outputs=output,\n",
        "     name='prediction'\n",
        " )\n",
        " return model"
      ],
      "execution_count": 10,
      "outputs": []
    },
    {
      "cell_type": "code",
      "metadata": {
        "cellView": "form",
        "id": "maZRzNq8zhiW"
      },
      "source": [
        "#@title \"Utilities [Model prediction]\"\n",
        "def get_metrics(y_test, y_pred):\n",
        "    # accuracy: (tp + tn) / (p + n)\n",
        "    accuracy = accuracy_score(y_test, y_pred)\n",
        "    print('Accuracy: %f' % accuracy)\n",
        "    # precision tp / (tp + fp)\n",
        "    precision = precision_score(y_test, y_pred)\n",
        "    print('Precision: %f' % precision)\n",
        "    # recall: tp / (tp + fn)\n",
        "    recall = recall_score(y_test, y_pred)\n",
        "    print('Recall: %f' % recall)\n",
        "    # f1: 2 tp / (2 tp + fp + fn)\n",
        "    f1 = f1_score(y_test, y_pred)\n",
        "    print('F1 score: %f' % f1)\n",
        "    # ROC AUC\n",
        "    auc = roc_auc_score(y_test, y_pred)\n",
        "    print('ROC AUC: %f' % auc)\n",
        "    # confusion matrix\n",
        "    matrix = confusion_matrix(y_test, y_pred)\n",
        "    print(matrix)\n",
        "\n",
        "def predict_on_test_dataset(model, test_data, BATCH_SIZE=32):\n",
        "  y_true=[]\n",
        "  \n",
        "  for text_feat, labels in test_data:\n",
        "    for i in range(BATCH_SIZE):\n",
        "      y_true.append(labels[i].numpy())\n",
        "\n",
        "\n",
        "  predicted_scores  = model.predict(test_data)\n",
        "  y_pred = (predicted_scores > 0.5).astype(\"int32\")\n",
        "  y_pred = y_pred.reshape(-1)\n",
        "  get_metrics(y_true, y_pred)\n",
        "  vh.plot_cm(y_true, predicted_scores)\n",
        "  print()"
      ],
      "execution_count": 53,
      "outputs": []
    },
    {
      "cell_type": "markdown",
      "metadata": {
        "id": "HyRKSP2zwYyo"
      },
      "source": [
        "#Read TFRecord data"
      ]
    },
    {
      "cell_type": "code",
      "metadata": {
        "colab": {
          "base_uri": "https://localhost:8080/"
        },
        "id": "sFYhIMQxwy6k",
        "outputId": "afd80c19-88f4-4fd0-c6e6-07a5775e16ee"
      },
      "source": [
        "#@title  \"Load files & Split\"\n",
        "#instantiate read_data utility\n",
        "read_YouTube_data = read_tfrec_data(tfrec_trainVal_files_path, VALIDATION_SPLIT=0.2, TESTING_SPLIT=0.0, MODE=1)\n",
        "\n",
        "read_stop_clickbait_data = read_tfrec_data(stop_clickbait_tfrecFiles_path, VALIDATION_SPLIT=0.2, TESTING_SPLIT=0.0, MODE=1)\n",
        "\n",
        "# splitting data files between training, validation and test\n",
        "YouTube_filenames, YouTube_training_filenames, YouTube_validation_filenames, YouTube_testing_filenames = read_YouTube_data.get_tfrec_files()\n",
        "\n",
        "stop_clickbait_filenames, stop_clickbait_training_filenames,stop_clickbait_validation_filenames, stop_clickbait_testing_filenames = read_stop_clickbait_data.get_tfrec_files()\n",
        "\n",
        "filenames = YouTube_filenames + stop_clickbait_filenames\n",
        "training_filenames = YouTube_training_filenames + stop_clickbait_training_filenames\n",
        "validation_filenames = YouTube_validation_filenames + stop_clickbait_validation_filenames\n",
        "\n",
        "random.shuffle(filenames)\n",
        "random.shuffle(training_filenames)\n",
        "random.shuffle(validation_filenames)\n",
        "\n",
        "#len(filenames), len(training_filenames), len(validation_filenames)\n",
        "\n",
        "num_train_examples = 974 * len(YouTube_training_filenames) + 500 * len(stop_clickbait_training_filenames)\n",
        "num_total_examples = 974 * len(YouTube_filenames) + 500 * len(stop_clickbait_filenames)\n",
        "\n",
        "validation_steps = int(num_total_examples  // len(filenames) * len(validation_filenames)) // BATCH_SIZE\n",
        "steps_per_epoch = int(num_total_examples  // len(filenames) * len(training_filenames)) // BATCH_SIZE\n",
        "\n",
        "num_train_steps = steps_per_epoch * epochs\n",
        "num_warmup_steps = num_train_steps // 10\n",
        "\n",
        "print(\"With a batch size of {}, there will be {} batches per training epoch and {} batch(es) per validation run.\".format(BATCH_SIZE, steps_per_epoch, validation_steps))\n",
        "\n"
      ],
      "execution_count": 12,
      "outputs": [
        {
          "output_type": "stream",
          "text": [
            "Pattern matches 14 data files. Splitting dataset into 12 training files , 2 validation files and 0 test files\n",
            "Pattern matches 64 data files. Splitting dataset into 52 training files , 12 validation files and 0 test files\n",
            "With a batch size of 32, there will be 1170 batches per training epoch and 255 batch(es) per validation run.\n"
          ],
          "name": "stdout"
        }
      ]
    },
    {
      "cell_type": "code",
      "metadata": {
        "colab": {
          "base_uri": "https://localhost:8080/"
        },
        "id": "EnFB1lF5p65f",
        "outputId": "7ea245f5-0a66-47c3-b2e0-069b829ae153"
      },
      "source": [
        "#instantiate read_data utility for test set\n",
        "read_test_data = read_tfrec_data(tfrec_test_files_path, VALIDATION_SPLIT=0.0, TESTING_SPLIT=0.0, MODE=1)\n",
        "\n",
        "# splitting data files between training, validation and test\n",
        "testing_filenames, _, _,_ = read_test_data.get_tfrec_files()\n",
        "len(testing_filenames)"
      ],
      "execution_count": 13,
      "outputs": [
        {
          "output_type": "stream",
          "text": [
            "Pattern matches 2 data files. Splitting dataset into 2 training files , 0 validation files and 0 test files\n"
          ],
          "name": "stdout"
        },
        {
          "output_type": "execute_result",
          "data": {
            "text/plain": [
              "2"
            ]
          },
          "metadata": {
            "tags": []
          },
          "execution_count": 13
        }
      ]
    },
    {
      "cell_type": "markdown",
      "metadata": {
        "id": "dexXAe2b0LQl"
      },
      "source": [
        "#Load TFRecord into TF Dataset"
      ]
    },
    {
      "cell_type": "code",
      "metadata": {
        "id": "5a2YkXiW0Osa"
      },
      "source": [
        "# create the datasets\n",
        "with tf.device('/cpu:0'):\n",
        "  train_ds = load_dataset(training_filenames)\n",
        "  val_ds = load_dataset(validation_filenames)\n",
        "  test_ds = load_dataset(testing_filenames)"
      ],
      "execution_count": 14,
      "outputs": []
    },
    {
      "cell_type": "code",
      "metadata": {
        "colab": {
          "base_uri": "https://localhost:8080/"
        },
        "id": "81QxcdL40xMi",
        "outputId": "f7e9fbc6-803f-4ec2-a901-1f106f9a0813"
      },
      "source": [
        "for i,(text, class_num, label) in enumerate(train_ds.take(10)):\n",
        "  print(f\"text : {text.numpy()}, class : {class_num.numpy()}, label : {label.numpy()}\")"
      ],
      "execution_count": 15,
      "outputs": [
        {
          "output_type": "stream",
          "text": [
            "text : b'omggggg minecraft video youtubers life with morgz omg we start a minecraft lets play today we have episode of a hilarious new game called youtubers life in this game we try and grow a youtube channel and gain subscribers fast it s not actually real though it gets a bit confusing anyway this game was so fun to play and i had such a laugh growing a channel and starting that minecraft lets play if you want to see the next episode of this epic series then lets smash likes if we hit that you will see part three also i worked so hard on this edit it took me over hours i am so happy with how this video turned out from start to finish and i think it could be one of my most entertaining videos on the channel do you agree tell me in the comment section below enjoy the video be sure to watch till the end yo guys first of all thank you so much for watching it would be great if you could leave a like rating as it motivates me to keep creating content for you all also if you are new then please hit that subscribe button to join teammorgz finally if you have any questions feedback or just general comments then be sure to leave it in the comment section below brand new apparel follow me on twitter follow my apparel twitter follow my twitch add my snapchat morgzhudson cheap fast reliable fifa coins packs use morgz for a discount my gaming chair uk use morgz for a discount my gaming chair us use morgz for a discount cheap reliable games my po box all packages sent will be opened in a video morgz po box dronfield s dp united kingdom business enquiries stay awesome guys d', class : 1, label : b'clickbaits'\n",
            "text : b'the sinister reason weed is illegal surprise nixon had zero chill adamruinseverything watch an all new adam ruins everything on trutv every tuesday c catch up with clips full episodes of adam ruins everything at trutv com adamruinseverything like adam ruins everything on facebook at facebook com trutvadamruinseverything follow adam ruins everything on twitter at twitter com adamruins see more like us on follow us on follow us on', class : 0, label : b'nonclickbaits'\n",
            "text : b'the whisper challenge with blake shelton jimmy and blake take turns guessing random names and phrases while wearing noise canceling headphones subscribe now to the tonight show starring jimmy fallon watch the tonight show starring jimmy fallon weeknights c get more jimmy fallon follow jimmy like jimmy get more the tonight show starring jimmy fallon follow the tonight show like the tonight show the tonight show tumblr get more nbc nbc youtube like nbc follow nbc nbc tumblr nbc google the tonight show starring jimmy fallon features hilarious highlights from the show including comedy sketches music parodies celebrity interviews ridiculous games and of course jimmy s thank you notes and hashtags you ll also find behind the scenes videos and other great web exclusives the whisper challenge with blake shelton', class : 0, label : b'nonclickbaits'\n",
            "text : b'this is epic yianni s instagram yianni s channel second channel shop follow me on twitter follow me instagram facebook add me on snapchat comedygamer click here to subscribe website what i use to record my gameplay where i get my controllers deji', class : 1, label : b'clickbaits'\n",
            "text : b'what is uber mashable explains uber and black cars and taxis oh my the latest video in our mashable explains series takes a look at how uber works for both employer and consumer written hosted and edited by yalda mostajeran sources taxi medallions world map from wikipedia uber cars from uber emeril image taxi meter image like us on facebook follow us on twitter follow us on tumblr follow our instagram join our circle on google plus subscribe mashable is the leading independent news site for all things tech social media and internet culture', class : 0, label : b'nonclickbaits'\n",
            "text : b'what is this img some of my favorite images from this week be part of the awesome thanks links scared cat cuddle cat gif asteroids elevator harry potter toilet seat butt heels brass monki shoes brass monki shoes nerdiest ones in one place lol buzz straw brunette illusion geeky christmas stuff worst nativities real life tetris fail sexy cats dog squid kid drift park normal paper snowflake instructions star wars snowflakes img minimal muppets double eye sculpture double dangerfield insane book titles and', class : 0, label : b'nonclickbaits'\n",
            "text : b'new puppy day in the life of sssniperwolf new puppy her name is tatyana from mgs she s a cute little pomeranian puppy tatyana and kaz love each other and play a lot double upload today black ops video in a few hours hit that like button in the face if you think tatyana is adorable and subscribe to join the wolf pack if you haven t already twitter instagram facebook twitch my shirt store business inquires join gamers it s the best way to get games get off quest products use code sss my headset my energy drink use code sss for off your order from gamma my gaming chair use code sss for off your order from gt omega racing my keyboard and mouse channel art by', class : 1, label : b'clickbaits'\n",
            "text : b'samsung galaxy note review samsung galaxy note their best yet galaxy note us galaxy note international galaxy note first impressions stickman tennis iphone plus review wallpaper video gear i use intro track deadmau slow down start over', class : 0, label : b'nonclickbaits'\n",
            "text : b'million dollar ideas in which john shares his first ever million dollar idea and talks about how hank has a new one each day also discussed is john s crippling fatigue parenthood and having a baby although to be fair the yeti is doing the lion s share of the work plus kinkajou thanks to for the baby crying and thanks to for the kinkajou', class : 0, label : b'nonclickbaits'\n",
            "text : b'ultimate year old s gaming setup amazing year old s gaming setup in this video i show you round my gaming setup which includes imac inch gaming monitors xbox one blue yeti microphone gt omega gaming chair razer keyboard apple magic mouse apple keyboard custom gaming pc mini fridge led multi colour lighting extended corsair gaming mouse mat beats headset astro a gaming headphones and more i also do a room tour showing you where i make my videos and all the equipment i use if you would like an updated gaming setup then tell me in the comment section i payed for this by working jobs one of them being youtube i also got a lot of my stuff from christmas and birthdays also sorry for the commentary not being that good in this video i recorded this a while back and a lot has changed in my room since i made this video if you would like a review of anything you saw in this video then tell me in the comment section below i hope you all enjoyed update wow this video is doing well this was actually one of my older and worst videos so it s a bit unlucky that its got so many views and not one of my better vids if this is your first time on my channel please don t judge me by this video take the time to check my more recent ones because i m sure you will enjoy yo guys first of all thank you so much for watching it would be great if you could leave a like rating as it motivates me to keep creating content for you all also if you are new then please hit that subscribe button to join teammorgz finally if you have any questions feedback or just general comments then be sure to leave it in the comment section below buy my apparel follow me on twitter follow my twitch add my snapchat morgzhudson my gaming chair uk use morgz for a discount my gaming chair us use morgz for a discount cheap reliable games donation page my po box all packages sent will be opened in a video morgz po box dronfield s dp united kingdom buisness enquiries stay awesome guys d', class : 1, label : b'clickbaits'\n"
          ],
          "name": "stdout"
        }
      ]
    },
    {
      "cell_type": "code",
      "metadata": {
        "id": "Y9EYaEqFQKM5"
      },
      "source": [
        "with tf.device('/cpu:0'):\n",
        "  train_ds = train_ds.map(lambda text, class_num, label:(text, class_num))\n",
        "  val_ds = val_ds.map(lambda text, class_num, label:(text, class_num))\n",
        "  test_ds = test_ds.map(lambda text, class_num, label:(text, class_num))"
      ],
      "execution_count": 16,
      "outputs": []
    },
    {
      "cell_type": "markdown",
      "metadata": {
        "id": "m4mlvS-W4TDx"
      },
      "source": [
        "#Modeling"
      ]
    },
    {
      "cell_type": "markdown",
      "metadata": {
        "id": "Y-C-yuTZILRE"
      },
      "source": [
        "##Bert preprocessing"
      ]
    },
    {
      "cell_type": "code",
      "metadata": {
        "id": "cVTejAUcINXW"
      },
      "source": [
        "with tf.device('/cpu:0'):\n",
        "  # train\n",
        "  train_data = train_ds.map(to_feature_map, num_parallel_calls=tf.data.experimental.AUTOTUNE)\n",
        "  train_data = get_batched_dataset(train_data, train=True)\n",
        "\n",
        "  # valid\n",
        "  val_data = val_ds.map(to_feature_map, num_parallel_calls=tf.data.experimental.AUTOTUNE)\n",
        "  val_data = get_batched_dataset(val_data)\n",
        "\n",
        "  # test\n",
        "  test_data = test_ds.map(to_feature_map, num_parallel_calls=tf.data.experimental.AUTOTUNE)\n",
        "  test_data = get_batched_dataset(test_data)\n",
        "  "
      ],
      "execution_count": 17,
      "outputs": []
    },
    {
      "cell_type": "code",
      "metadata": {
        "colab": {
          "base_uri": "https://localhost:8080/"
        },
        "id": "waCLqUaWSbQY",
        "outputId": "314e780f-03ad-4026-8c77-16d110f210c8"
      },
      "source": [
        "# train data spec\n",
        "train_data.element_spec"
      ],
      "execution_count": 18,
      "outputs": [
        {
          "output_type": "execute_result",
          "data": {
            "text/plain": [
              "({'input_mask': TensorSpec(shape=(32, 128), dtype=tf.int32, name=None),\n",
              "  'input_type_ids': TensorSpec(shape=(32, 128), dtype=tf.int32, name=None),\n",
              "  'input_word_ids': TensorSpec(shape=(32, 128), dtype=tf.int32, name=None)},\n",
              " TensorSpec(shape=(32,), dtype=tf.int32, name=None))"
            ]
          },
          "metadata": {
            "tags": []
          },
          "execution_count": 18
        }
      ]
    },
    {
      "cell_type": "markdown",
      "metadata": {
        "id": "CsCwE3RZSi3e"
      },
      "source": [
        "#Build classifier"
      ]
    },
    {
      "cell_type": "code",
      "metadata": {
        "colab": {
          "base_uri": "https://localhost:8080/"
        },
        "id": "sHVKiVfzSkSl",
        "outputId": "b3b99079-88d1-4f8a-e891-c45a25fa7b14"
      },
      "source": [
        "classifier_model = create_model()\n",
        "classifier_model.summary()"
      ],
      "execution_count": 19,
      "outputs": [
        {
          "output_type": "stream",
          "text": [
            "Model: \"prediction\"\n",
            "__________________________________________________________________________________________________\n",
            "Layer (type)                    Output Shape         Param #     Connected to                     \n",
            "==================================================================================================\n",
            "input_mask (InputLayer)         [(None, 128)]        0                                            \n",
            "__________________________________________________________________________________________________\n",
            "input_type_ids (InputLayer)     [(None, 128)]        0                                            \n",
            "__________________________________________________________________________________________________\n",
            "input_word_ids (InputLayer)     [(None, 128)]        0                                            \n",
            "__________________________________________________________________________________________________\n",
            "bert_encoder (KerasLayer)       {'pooled_output': (N 109482241   input_mask[0][0]                 \n",
            "                                                                 input_type_ids[0][0]             \n",
            "                                                                 input_word_ids[0][0]             \n",
            "__________________________________________________________________________________________________\n",
            "dropout (Dropout)               (None, 768)          0           bert_encoder[0][13]              \n",
            "__________________________________________________________________________________________________\n",
            "dense_384 (Dense)               (None, 384)          295296      dropout[0][0]                    \n",
            "__________________________________________________________________________________________________\n",
            "dropout_1 (Dropout)             (None, 384)          0           dense_384[0][0]                  \n",
            "__________________________________________________________________________________________________\n",
            "classifier (Dense)              (None, 1)            385         dropout_1[0][0]                  \n",
            "==================================================================================================\n",
            "Total params: 109,777,922\n",
            "Trainable params: 109,777,921\n",
            "Non-trainable params: 1\n",
            "__________________________________________________________________________________________________\n"
          ],
          "name": "stdout"
        }
      ]
    },
    {
      "cell_type": "markdown",
      "metadata": {
        "id": "t-l3hSAZjmAR"
      },
      "source": [
        "#Train classifier model"
      ]
    },
    {
      "cell_type": "markdown",
      "metadata": {
        "id": "JB9jLSmmxlRX"
      },
      "source": [
        "##Compile model"
      ]
    },
    {
      "cell_type": "code",
      "metadata": {
        "colab": {
          "base_uri": "https://localhost:8080/",
          "height": 286
        },
        "id": "jT4HWvMbweSY",
        "outputId": "a77ecafb-471e-40f4-c236-813f596b1dbf"
      },
      "source": [
        "es = tf.keras.callbacks.EarlyStopping(\n",
        "          monitor='val_loss', \n",
        "          verbose=1, \n",
        "          patience=5, \n",
        "          mode='min', \n",
        "          restore_best_weights=True\n",
        "          )\n",
        "\n",
        "mcb = tf.keras.callbacks.ModelCheckpoint (\n",
        "         filepath=model_checkpoint_path,\n",
        "         save_weights_only=True,\n",
        "         monitor='val_prc',\n",
        "         mode='max',\n",
        "         verbose=1,\n",
        "         save_best_only=True\n",
        "        )\n",
        "\n",
        "METRICS = [\n",
        "             keras.metrics.TruePositives(name='tp'),\n",
        "             keras.metrics.FalsePositives(name='fp'),\n",
        "             keras.metrics.TrueNegatives(name='tn'),\n",
        "             keras.metrics.FalseNegatives(name='fn'), \n",
        "             keras.metrics.BinaryAccuracy(name='accuracy'),\n",
        "             keras.metrics.Precision(name='precision'),\n",
        "             keras.metrics.Recall(name='recall'),\n",
        "             keras.metrics.AUC(name='auc'),\n",
        "             keras.metrics.AUC(name='prc', curve='PR'), # precision-recall curve\n",
        "          ]\n",
        "\n",
        "optimizer = optimization.create_optimizer(\n",
        "      init_lr=init_lr,\n",
        "      num_train_steps=num_train_steps,\n",
        "      num_warmup_steps=num_warmup_steps,\n",
        "      optimizer_type='adamw'\n",
        "      )\n",
        "\n",
        "classifier_model.compile(\n",
        "    optimizer=optimizer,\n",
        "    loss=tf.keras.losses.BinaryCrossentropy(), \n",
        "    metrics=METRICS\n",
        "    )\n",
        "\n",
        "tf.keras.utils.plot_model(model=classifier_model, show_shapes=True, dpi=60)"
      ],
      "execution_count": 20,
      "outputs": [
        {
          "output_type": "execute_result",
          "data": {
            "image/png": "[encoded data removed]",
            "text/plain": [
              "<IPython.core.display.Image object>"
            ]
          },
          "metadata": {
            "tags": []
          },
          "execution_count": 20
        }
      ]
    },
    {
      "cell_type": "code",
      "metadata": {
        "colab": {
          "base_uri": "https://localhost:8080/"
        },
        "id": "V5l3Vge8wibl",
        "outputId": "884f8a26-6f24-416b-e6a1-bc5b1138ae6e"
      },
      "source": [
        "#@title Load weights if available\n",
        "if os.path.exists(model_checkpoint_path):\n",
        "  print('loading saved weight')\n",
        "  classifier_model.load_weights(model_checkpoint_path)\n",
        "else:\n",
        "  print('No weight to initialize')"
      ],
      "execution_count": 21,
      "outputs": [
        {
          "output_type": "stream",
          "text": [
            "No weight to initialize\n"
          ],
          "name": "stdout"
        }
      ]
    },
    {
      "cell_type": "markdown",
      "metadata": {
        "id": "H6XKaUuaxqlk"
      },
      "source": [
        "##Train"
      ]
    },
    {
      "cell_type": "code",
      "metadata": {
        "colab": {
          "base_uri": "https://localhost:8080/"
        },
        "id": "VN83npGrjnwd",
        "outputId": "d2758c5d-1b26-4e69-d6b9-e59360f9ed34"
      },
      "source": [
        "history = classifier_model.fit(\n",
        "             x=train_data,\n",
        "             validation_data=val_data,\n",
        "             steps_per_epoch=steps_per_epoch,\n",
        "             epochs=epochs,\n",
        "             validation_steps=validation_steps,\n",
        "             callbacks=[es, mcb]\n",
        "             )"
      ],
      "execution_count": 22,
      "outputs": [
        {
          "output_type": "stream",
          "text": [
            "Epoch 1/5\n",
            "1170/1170 [==============================] - 1154s 928ms/step - loss: 0.1744 - tp: 17234.0000 - fp: 1720.0000 - tn: 17412.0000 - fn: 1074.0000 - accuracy: 0.9254 - precision: 0.9093 - recall: 0.9413 - auc: 0.9809 - prc: 0.9792 - val_loss: 0.0612 - val_tp: 3759.0000 - val_fp: 80.0000 - val_tn: 4020.0000 - val_fn: 77.0000 - val_accuracy: 0.9802 - val_precision: 0.9792 - val_recall: 0.9799 - val_auc: 0.9967 - val_prc: 0.9962\n",
            "\n",
            "Epoch 00001: val_prc improved from -inf to 0.99618, saving model to /content/drive/MyDrive/Colab Notebooks/clcikbait_detection/dataset/YouTube_clickbait/checkpoints/youtube_clickbait_finetuned_domain_adapted_bert_en_uncased_L-12_H-768_A-12_checkpoint\n",
            "Epoch 2/5\n",
            "1170/1170 [==============================] - 1009s 863ms/step - loss: 0.0462 - tp: 18025.0000 - fp: 224.0000 - tn: 18933.0000 - fn: 258.0000 - accuracy: 0.9871 - precision: 0.9877 - recall: 0.9859 - auc: 0.9970 - prc: 0.9960\n",
            "Epoch 3/5\n",
            "1170/1170 [==============================] - 1009s 862ms/step - loss: 0.0205 - tp: 18192.0000 - fp: 104.0000 - tn: 19032.0000 - fn: 112.0000 - accuracy: 0.9942 - precision: 0.9943 - recall: 0.9939 - auc: 0.9987 - prc: 0.9985\n",
            "Epoch 4/5\n",
            "1170/1170 [==============================] - 1009s 863ms/step - loss: 0.0094 - tp: 18253.0000 - fp: 51.0000 - tn: 19094.0000 - fn: 42.0000 - accuracy: 0.9975 - precision: 0.9972 - recall: 0.9977 - auc: 0.9994 - prc: 0.9993\n",
            "Epoch 5/5\n",
            "1170/1170 [==============================] - 1009s 862ms/step - loss: 0.0032 - tp: 18313.0000 - fp: 15.0000 - tn: 19097.0000 - fn: 15.0000 - accuracy: 0.9992 - precision: 0.9992 - recall: 0.9992 - auc: 0.9998 - prc: 0.9998\n"
          ],
          "name": "stdout"
        }
      ]
    },
    {
      "cell_type": "code",
      "metadata": {
        "id": "Qq21bsBY5zci"
      },
      "source": [
        "# Save model weights\n",
        "classifier_model.save_weights(model_checkpoint_path)"
      ],
      "execution_count": 35,
      "outputs": []
    },
    {
      "cell_type": "markdown",
      "metadata": {
        "id": "KGm28Sny7Wbg"
      },
      "source": [
        "#Plot train history"
      ]
    },
    {
      "cell_type": "code",
      "metadata": {
        "colab": {
          "base_uri": "https://localhost:8080/",
          "height": 621
        },
        "id": "de9jdjsl83rU",
        "outputId": "55190f5d-4807-4543-900a-b7f5cabca3d5"
      },
      "source": [
        "vh.display_training_curves(history.history['accuracy'], history.history['val_accuracy'], 'accuracy', 211)\n",
        "vh.display_training_curves(history.history['loss'], history.history['val_loss'], 'loss', 212)"
      ],
      "execution_count": 32,
      "outputs": [
        {
          "output_type": "display_data",
          "data": {
            "image/png": "[encoded data removed]",
            "text/plain": [
              "<Figure size 720x720 with 2 Axes>"
            ]
          },
          "metadata": {
            "tags": []
          }
        }
      ]
    },
    {
      "cell_type": "code",
      "metadata": {
        "colab": {
          "base_uri": "https://localhost:8080/",
          "height": 621
        },
        "id": "bMtvCGsZ89PT",
        "outputId": "33086276-c141-4509-e0c6-627dc9c14c00"
      },
      "source": [
        "vh.display_training_curves(history.history['recall'], history.history['val_recall'], 'recall', 211)\n",
        "vh.display_training_curves(history.history['precision'], history.history['val_precision'], 'precision', 212)"
      ],
      "execution_count": 33,
      "outputs": [
        {
          "output_type": "display_data",
          "data": {
            "image/png": "[encoded data removed]",
            "text/plain": [
              "<Figure size 720x720 with 2 Axes>"
            ]
          },
          "metadata": {
            "tags": []
          }
        }
      ]
    },
    {
      "cell_type": "markdown",
      "metadata": {
        "id": "il2faBB5uhbz"
      },
      "source": [
        "#Evaluate model"
      ]
    },
    {
      "cell_type": "code",
      "metadata": {
        "colab": {
          "base_uri": "https://localhost:8080/"
        },
        "id": "82Q5YKoQulNX",
        "outputId": "e2ff25f7-b874-4f0e-90a2-9885eeeee126"
      },
      "source": [
        "results = classifier_model.evaluate(test_data)\n",
        "\n",
        "for name, value in zip(classifier_model.metrics_names, results):\n",
        "  print(name, ': ', value)\n",
        "print()"
      ],
      "execution_count": 34,
      "outputs": [
        {
          "output_type": "stream",
          "text": [
            "60/60 [==============================] - 20s 322ms/step - loss: 0.1574 - tp: 871.0000 - fp: 21.0000 - tn: 1002.0000 - fn: 26.0000 - accuracy: 0.9755 - precision: 0.9765 - recall: 0.9710 - auc: 0.9841 - prc: 0.9788\n",
            "loss :  0.15740805864334106\n",
            "tp :  871.0\n",
            "fp :  21.0\n",
            "tn :  1002.0\n",
            "fn :  26.0\n",
            "accuracy :  0.9755208492279053\n",
            "precision :  0.976457417011261\n",
            "recall :  0.9710144996643066\n",
            "auc :  0.9841058254241943\n",
            "prc :  0.9788302779197693\n",
            "\n"
          ],
          "name": "stdout"
        }
      ]
    },
    {
      "cell_type": "markdown",
      "metadata": {
        "id": "0hyxBLmuwTsg"
      },
      "source": [
        "#Export for inference"
      ]
    },
    {
      "cell_type": "code",
      "metadata": {
        "id": "EJ8OWWr6tPvX",
        "colab": {
          "base_uri": "https://localhost:8080/"
        },
        "outputId": "480fe71c-842f-45a7-e675-5fd7bc029999"
      },
      "source": [
        "classifier_model.save(saved_model_path, include_optimizer=False)"
      ],
      "execution_count": 55,
      "outputs": [
        {
          "output_type": "stream",
          "text": [
            "WARNING:absl:Found untraced functions such as re_lu_layer_call_and_return_conditional_losses, re_lu_layer_call_fn, re_lu_layer_call_fn, re_lu_layer_call_and_return_conditional_losses, re_lu_layer_call_and_return_conditional_losses while saving (showing 5 of 920). These functions will not be directly callable after loading.\n"
          ],
          "name": "stderr"
        }
      ]
    },
    {
      "cell_type": "markdown",
      "metadata": {
        "id": "4dJBXqiE9rlP"
      },
      "source": [
        "#Model prediction"
      ]
    },
    {
      "cell_type": "code",
      "metadata": {
        "id": "5ObHbCj0NVgo"
      },
      "source": [
        "saved_classifier = keras.models.load_model(saved_model_path)"
      ],
      "execution_count": 56,
      "outputs": []
    },
    {
      "cell_type": "code",
      "metadata": {
        "colab": {
          "base_uri": "https://localhost:8080/",
          "height": 588
        },
        "id": "QOxoz5tb9ty3",
        "outputId": "80bd2304-9274-425f-a239-3a879ff10923"
      },
      "source": [
        "predict_on_test_dataset(saved_classifier, test_data, BATCH_SIZE=BATCH_SIZE)"
      ],
      "execution_count": 58,
      "outputs": [
        {
          "output_type": "stream",
          "text": [
            "Accuracy: 0.975521\n",
            "Precision: 0.976457\n",
            "Recall: 0.971014\n",
            "F1 score: 0.973728\n",
            "ROC AUC: 0.975243\n",
            "[[1002   21]\n",
            " [  26  871]]\n",
            "Non clickbaits Detected (True Negatives):  1002\n",
            "Non-Clickbaits Detected as Clickbaits (False Positives):  21\n",
            "Clickbaits Detected as Non-clickbaits (False Negatives):  26\n",
            "Clickbaits Detected (True Positives):  871\n",
            "Total Non-clickbaits:  1023\n",
            "Total Clickbaits:  897\n",
            "\n"
          ],
          "name": "stdout"
        },
        {
          "output_type": "display_data",
          "data": {
            "image/png": "[encoded data removed]",
            "text/plain": [
              "<Figure size 360x360 with 2 Axes>"
            ]
          },
          "metadata": {
            "tags": [],
            "needs_background": "light"
          }
        }
      ]
    }
  ]
}