{
  "nbformat": 4,
  "nbformat_minor": 0,
  "metadata": {
    "colab": {
      "name": "USE_finetuning_YouTube_clickbait_all.ipynb",
      "provenance": [],
      "collapsed_sections": [
        "KMTn9bhktYps",
        "cDzVIeTqtgHF",
        "HKcowprstl0r",
        "HWD2vnekDCr6",
        "fe8RMZlBoEVg",
        "HyRKSP2zwYyo",
        "dexXAe2b0LQl",
        "CsCwE3RZSi3e",
        "KGm28Sny7Wbg",
        "u3EcfqHpnb7M",
        "wUbL6y3Qnowd",
        "V3DsGFsKnteT",
        "36FvI_Jfnzm4",
        "yC6LVHAyn-hs",
        "Qoh5oCeBoFSB",
        "q2_erN4OoLL5",
        "Ldte4xEboU8H"
      ],
      "mount_file_id": "1lcHESYBH9Am8tgTInSSWgKKt91tPEWJ3",
      "authorship_tag": "ABX9TyPWVXeFXzQ72Zield8HKQ4j",
      "include_colab_link": true
    },
    "kernelspec": {
      "name": "python3",
      "display_name": "Python 3"
    },
    "language_info": {
      "name": "python"
    },
    "accelerator": "GPU"
  },
  "cells": [
    {
      "cell_type": "markdown",
      "metadata": {
        "id": "view-in-github",
        "colab_type": "text"
      },
      "source": [
        "<a href=\"https://colab.research.google.com/github/rahul94jh/MSC-Research/blob/main/USE_finetuning_YouTube_clickbait_all.ipynb\" target=\"_parent\"><img src=\"https://colab.research.google.com/assets/colab-badge.svg\" alt=\"Open In Colab\"/></a>"
      ]
    },
    {
      "cell_type": "markdown",
      "metadata": {
        "id": "KMTn9bhktYps"
      },
      "source": [
        "#Setup"
      ]
    },
    {
      "cell_type": "code",
      "metadata": {
        "colab": {
          "base_uri": "https://localhost:8080/"
        },
        "id": "aXthlH4rRNk8",
        "outputId": "25e651c0-bc22-4db9-caea-be248b745548"
      },
      "source": [
        "from google.colab import drive\n",
        "drive.mount('/content/drive')"
      ],
      "execution_count": null,
      "outputs": [
        {
          "output_type": "stream",
          "text": [
            "Drive already mounted at /content/drive; to attempt to forcibly remount, call drive.mount(\"/content/drive\", force_remount=True).\n"
          ],
          "name": "stdout"
        }
      ]
    },
    {
      "cell_type": "code",
      "metadata": {
        "colab": {
          "base_uri": "https://localhost:8080/"
        },
        "id": "U7pZ99IQqhKo",
        "outputId": "356a0633-cdc9-43ea-a01a-b8595303d852"
      },
      "source": [
        "#Check GPU, if assigned k8 then factory reset couple of times until we get Tesla GPU\n",
        "!nvidia-smi"
      ],
      "execution_count": null,
      "outputs": [
        {
          "output_type": "stream",
          "text": [
            "Thu Jul 22 06:23:23 2021       \n",
            "+-----------------------------------------------------------------------------+\n",
            "| NVIDIA-SMI 470.42.01    Driver Version: 460.32.03    CUDA Version: 11.2     |\n",
            "|-------------------------------+----------------------+----------------------+\n",
            "| GPU  Name        Persistence-M| Bus-Id        Disp.A | Volatile Uncorr. ECC |\n",
            "| Fan  Temp  Perf  Pwr:Usage/Cap|         Memory-Usage | GPU-Util  Compute M. |\n",
            "|                               |                      |               MIG M. |\n",
            "|===============================+======================+======================|\n",
            "|   0  Tesla T4            Off  | 00000000:00:04.0 Off |                    0 |\n",
            "| N/A   50C    P8     9W /  70W |      0MiB / 15109MiB |      0%      Default |\n",
            "|                               |                      |                  N/A |\n",
            "+-------------------------------+----------------------+----------------------+\n",
            "                                                                               \n",
            "+-----------------------------------------------------------------------------+\n",
            "| Processes:                                                                  |\n",
            "|  GPU   GI   CI        PID   Type   Process name                  GPU Memory |\n",
            "|        ID   ID                                                   Usage      |\n",
            "|=============================================================================|\n",
            "|  No running processes found                                                 |\n",
            "+-----------------------------------------------------------------------------+\n"
          ],
          "name": "stdout"
        }
      ]
    },
    {
      "cell_type": "code",
      "metadata": {
        "colab": {
          "base_uri": "https://localhost:8080/"
        },
        "id": "73DTOjAUnKJO",
        "outputId": "479d9096-79a7-4005-a026-bd433cc3e9c1"
      },
      "source": [
        "!pip install -q tensorflow-text\n",
        "!pip install -q tf-models-official"
      ],
      "execution_count": null,
      "outputs": [
        {
          "output_type": "stream",
          "text": [
            "\u001b[K     |████████████████████████████████| 4.3 MB 8.5 MB/s \n",
            "\u001b[K     |████████████████████████████████| 1.6 MB 8.5 MB/s \n",
            "\u001b[K     |████████████████████████████████| 211 kB 65.0 MB/s \n",
            "\u001b[K     |████████████████████████████████| 1.2 MB 48.0 MB/s \n",
            "\u001b[K     |████████████████████████████████| 99 kB 10.3 MB/s \n",
            "\u001b[K     |████████████████████████████████| 352 kB 61.8 MB/s \n",
            "\u001b[K     |████████████████████████████████| 636 kB 60.6 MB/s \n",
            "\u001b[K     |████████████████████████████████| 43 kB 2.1 MB/s \n",
            "\u001b[K     |████████████████████████████████| 679 kB 54.3 MB/s \n",
            "\u001b[K     |████████████████████████████████| 37.1 MB 46 kB/s \n",
            "\u001b[K     |████████████████████████████████| 54 kB 3.2 MB/s \n",
            "\u001b[?25h  Building wheel for py-cpuinfo (setup.py) ... \u001b[?25l\u001b[?25hdone\n",
            "  Building wheel for seqeval (setup.py) ... \u001b[?25l\u001b[?25hdone\n"
          ],
          "name": "stdout"
        }
      ]
    },
    {
      "cell_type": "markdown",
      "metadata": {
        "id": "cDzVIeTqtgHF"
      },
      "source": [
        "#Imports"
      ]
    },
    {
      "cell_type": "code",
      "metadata": {
        "id": "4Q_MKLxE-7yz",
        "colab": {
          "base_uri": "https://localhost:8080/"
        },
        "outputId": "77cfc419-a11a-4882-ffb1-7860e80a5e9c"
      },
      "source": [
        "import os, math\n",
        "import numpy as np\n",
        "import pandas as pd\n",
        "import requests\n",
        "import shutil\n",
        "import re\n",
        "from pathlib import Path\n",
        "import random\n",
        "import matplotlib as mpl\n",
        "from matplotlib import pyplot as plt\n",
        "import seaborn as sns\n",
        "\n",
        "from sklearn.metrics.pairwise import cosine_similarity\n",
        "from sklearn.metrics import roc_auc_score\n",
        "from sklearn.metrics import confusion_matrix\n",
        "from sklearn.metrics import accuracy_score\n",
        "from sklearn.metrics import precision_score\n",
        "from sklearn.metrics import recall_score\n",
        "from sklearn.metrics import f1_score\n",
        "from sklearn.metrics import cohen_kappa_score\n",
        "\n",
        "\n",
        "\n",
        "import tensorflow as tf\n",
        "import tensorflow_hub as hub\n",
        "import tensorflow_text as text\n",
        "import tensorflow_addons as tfa\n",
        "from tensorflow import keras\n",
        "from tensorflow.keras import layers\n",
        "from official.nlp.data import classifier_data_lib\n",
        "from official.nlp.bert import tokenization\n",
        "from official.nlp import optimization\n",
        "from keras.callbacks import ReduceLROnPlateau\n",
        "\n",
        "\n",
        "from tensorflow import keras\n",
        "from official.nlp import optimization  # to create AdamW optmizer\n",
        "AUTO = tf.data.experimental.AUTOTUNE # used in tf.data.Dataset API\n",
        "\n",
        "tf.get_logger().setLevel('ERROR')\n",
        "\n",
        "import sys\n",
        "\n",
        "#Import custom script\n",
        "sys.path.append('/content/drive/MyDrive/Colab Notebooks/clcikbait_detection/scripts')\n",
        "from tf_dataset_helpers import read_tfrec_data\n",
        "import model_helpers as mh\n",
        "import visualization_helpers as vh"
      ],
      "execution_count": null,
      "outputs": [
        {
          "output_type": "stream",
          "text": [
            "/usr/local/lib/python3.7/dist-packages/tensorflow/python/keras/optimizer_v2/optimizer_v2.py:375: UserWarning: The `lr` argument is deprecated, use `learning_rate` instead.\n",
            "  \"The `lr` argument is deprecated, use `learning_rate` instead.\")\n"
          ],
          "name": "stderr"
        }
      ]
    },
    {
      "cell_type": "code",
      "metadata": {
        "colab": {
          "base_uri": "https://localhost:8080/"
        },
        "id": "5RE9WE8LtUhd",
        "outputId": "a4b1ed31-6d1c-40f8-93a8-3386e5622f08"
      },
      "source": [
        "print(\"TF Version: \", tf.__version__)\n",
        "print(\"Eager mode: \", tf.executing_eagerly())\n",
        "print(\"Hub version: \", hub.__version__)\n",
        "print(\"GPU is\", \"available\" if tf.config.experimental.list_physical_devices(\"GPU\") else \"NOT AVAILABLE\")"
      ],
      "execution_count": null,
      "outputs": [
        {
          "output_type": "stream",
          "text": [
            "TF Version:  2.5.0\n",
            "Eager mode:  True\n",
            "Hub version:  0.12.0\n",
            "GPU is available\n"
          ],
          "name": "stdout"
        }
      ]
    },
    {
      "cell_type": "markdown",
      "metadata": {
        "id": "HKcowprstl0r"
      },
      "source": [
        "#Configs"
      ]
    },
    {
      "cell_type": "markdown",
      "metadata": {
        "id": "HWD2vnekDCr6"
      },
      "source": [
        "##Sentence encoder configs"
      ]
    },
    {
      "cell_type": "code",
      "metadata": {
        "id": "GTNn3LRp7DfR"
      },
      "source": [
        "encoder = hub.load('https://tfhub.dev/google/universal-sentence-encoder/4')\n",
        "USE_layer = hub.KerasLayer(\n",
        "    encoder,\n",
        "    input_shape=[],\n",
        "    dtype=tf.string, \n",
        "    trainable=True, name='USE_embedding')"
      ],
      "execution_count": null,
      "outputs": []
    },
    {
      "cell_type": "markdown",
      "metadata": {
        "id": "fe8RMZlBoEVg"
      },
      "source": [
        "##General config"
      ]
    },
    {
      "cell_type": "code",
      "metadata": {
        "id": "v9DLhbQrtnGd"
      },
      "source": [
        "tfrec_trainVal_files_path = '/content/drive/MyDrive/Colab Notebooks/clcikbait_detection/dataset/YouTube_clickbait/tfrec_data/train_val/'\n",
        "tfrec_test_files_path = '/content/drive/MyDrive/Colab Notebooks/clcikbait_detection/dataset/YouTube_clickbait/tfrec_data/test/'\n",
        "stop_clickbait_tfrecFiles_path = '/content/drive/MyDrive/Colab Notebooks/clcikbait_detection/dataset/Stop_clickbait/tfrec_data/'\n",
        "fvc_clickbait_tfrecFiles_path = '/content/drive/MyDrive/Colab Notebooks/clcikbait_detection/dataset/FVC_CORPUS/tfrec_data/'\n",
        "tfrec_benchmark_files_path = '/content/drive/MyDrive/Colab Notebooks/clcikbait_detection/dataset/invid_fake_video_v2/tfrec_data/'\n",
        "\n",
        "model_root_path = '/content/drive/MyDrive/Colab Notebooks/clcikbait_detection/dataset/YouTube_clickbait/saved_models'\n",
        "saved_model_name = f'youtube_clickbait_finetuned_USE_all'\n",
        "saved_model_path = os.path.join(model_root_path, saved_model_name )\n",
        "\n",
        "checkpoint_root_path = '/content/drive/MyDrive/Colab Notebooks/clcikbait_detection/dataset/YouTube_clickbait/checkpoints/youtube_clickbait_finetuned_USE_all'\n",
        "if not os.path.exists(checkpoint_root_path):\n",
        "    os.makedirs(checkpoint_root_path)\n",
        "model_checkpoint_path = os.path.join(checkpoint_root_path, f'youtube_clickbait_finetuned_USE_all_checkpoint' )\n",
        "\n",
        "\n",
        "BATCH_SIZE = 32  \n",
        "# Label categories\n",
        "label_list = [0,1]\n",
        "\n",
        "init_lr = 1e-3\n",
        "\n",
        "epochs = 30"
      ],
      "execution_count": null,
      "outputs": []
    },
    {
      "cell_type": "markdown",
      "metadata": {
        "id": "Pvp9_oivD_QD"
      },
      "source": [
        "#Scripts"
      ]
    },
    {
      "cell_type": "code",
      "metadata": {
        "id": "7e62N59Ttk60",
        "cellView": "form"
      },
      "source": [
        "#@title \"Utilities [TF Dataset]\"\n",
        "def read_tfrecord(example):\n",
        "    features = {\n",
        "        \"class\": tf.io.FixedLenFeature([], tf.int64),   # shape [] means scalar\n",
        "        \"text\": tf.io.FixedLenFeature([], tf.string),\n",
        "        \"label\": tf.io.FixedLenFeature([], tf.string)  # one bytestring\n",
        "    }\n",
        "    # decode the TFRecord\n",
        "    example = tf.io.parse_single_example(example, features)\n",
        "    \n",
        "    \n",
        "    class_num = example['class']\n",
        "    text = example['text']\n",
        "    label  = example['label']\n",
        "    return text, class_num, label\n",
        "\n",
        "def load_dataset(filenames):\n",
        "  option_no_order = tf.data.Options()\n",
        "  option_no_order.experimental_deterministic = False\n",
        "\n",
        "  dataset = tf.data.TFRecordDataset(filenames, num_parallel_reads=AUTO)\n",
        "  dataset = dataset.with_options(option_no_order)\n",
        "  dataset = dataset.map(read_tfrecord, num_parallel_calls=AUTO)\n",
        "  return dataset\n",
        "\n",
        "def get_batched_dataset(dataset, train=False):\n",
        "  if train:\n",
        "    dataset = dataset.shuffle(num_train_examples)\n",
        "  dataset = dataset.batch(BATCH_SIZE, drop_remainder=True)\n",
        "  dataset = dataset.cache().prefetch(AUTO) # prefetch next batch while training (autotune prefetch buffer size)\n",
        "  return dataset"
      ],
      "execution_count": null,
      "outputs": []
    },
    {
      "cell_type": "code",
      "metadata": {
        "id": "ADXfSXSIWGpt",
        "cellView": "form"
      },
      "source": [
        "#@title \"Utilities [Create Model Definition]\"\n",
        "def create_model():\n",
        "\n",
        " model = tf.keras.models.Sequential()\n",
        " model.add(USE_layer)\n",
        " model.add(tf.keras.layers.Dropout(0.2))\n",
        " model.add(tf.keras.layers.Dense(128, activation='relu'))\n",
        " model.add(tf.keras.layers.BatchNormalization())\n",
        " model.add(tf.keras.layers.Dropout(0.2))\n",
        " model.add(tf.keras.layers.Dense(1, activation='sigmoid'))\n",
        " return model"
      ],
      "execution_count": null,
      "outputs": []
    },
    {
      "cell_type": "code",
      "metadata": {
        "id": "maZRzNq8zhiW",
        "cellView": "form"
      },
      "source": [
        "#@title \"Utilities [Model prediction]\"\n",
        "def get_metrics(y_test, y_pred):\n",
        "    # accuracy: (tp + tn) / (p + n)\n",
        "    accuracy = accuracy_score(y_test, y_pred)\n",
        "    print('Accuracy: %f' % accuracy)\n",
        "    # precision tp / (tp + fp)\n",
        "    precision = precision_score(y_test, y_pred)\n",
        "    print('Precision: %f' % precision)\n",
        "    # recall: tp / (tp + fn)\n",
        "    recall = recall_score(y_test, y_pred)\n",
        "    print('Recall: %f' % recall)\n",
        "    # f1: 2 tp / (2 tp + fp + fn)\n",
        "    f1 = f1_score(y_test, y_pred)\n",
        "    print('F1 score: %f' % f1)\n",
        "    # ROC AUC\n",
        "    auc = roc_auc_score(y_test, y_pred)\n",
        "    print('ROC AUC: %f' % auc)\n",
        "    # confusion matrix\n",
        "    matrix = confusion_matrix(y_test, y_pred)\n",
        "    print(matrix)\n",
        "\n",
        "def predict_on_test_dataset(model, test_data, BATCH_SIZE=32):\n",
        "  y_true=[]\n",
        "  \n",
        "  for text_feat, labels in test_data:\n",
        "    for i in range(BATCH_SIZE):\n",
        "      y_true.append(labels[i].numpy())\n",
        "\n",
        "\n",
        "  predicted_scores  = model.predict(test_data)\n",
        "  y_pred = (predicted_scores > 0.5).astype(\"int32\")\n",
        "  y_pred = y_pred.reshape(-1)\n",
        "  get_metrics(y_true, y_pred)\n",
        "  vh.plot_cm(y_true, predicted_scores)\n",
        "  print()"
      ],
      "execution_count": null,
      "outputs": []
    },
    {
      "cell_type": "code",
      "metadata": {
        "id": "Dqg_9QR7hfk_",
        "cellView": "form"
      },
      "source": [
        "#@title \"Utilities [Visualization]\"\n",
        "def plot_graphs(history, metric):\n",
        "  plt.plot(history.history[metric])\n",
        "  plt.plot(history.history['val_'+metric], '')\n",
        "  plt.xlabel(\"Epochs\")\n",
        "  plt.ylabel(metric)\n",
        "  plt.legend([metric, 'val_'+metric])"
      ],
      "execution_count": null,
      "outputs": []
    },
    {
      "cell_type": "code",
      "metadata": {
        "cellView": "form",
        "id": "zwICLvt03qG3"
      },
      "source": [
        "#@title \"Utilities [Gradient function]\"\n",
        "#https://keras.io/examples/vision/gradient_centralization/#implement-gradient-centralization\n",
        "from tensorflow.keras.optimizers import RMSprop\n",
        "class GCRMSprop(RMSprop):\n",
        "    def get_gradients(self, loss, params):\n",
        "        # We here just provide a modified get_gradients() function since we are\n",
        "        # trying to just compute the centralized gradients.\n",
        "\n",
        "        grads = []\n",
        "        gradients = super().get_gradients()\n",
        "        for grad in gradients:\n",
        "            grad_len = len(grad.shape)\n",
        "            if grad_len > 1:\n",
        "                axis = list(range(grad_len - 1))\n",
        "                grad -= tf.reduce_mean(grad, axis=axis, keep_dims=True)\n",
        "            grads.append(grad)\n",
        "\n",
        "        return grads"
      ],
      "execution_count": null,
      "outputs": []
    },
    {
      "cell_type": "markdown",
      "metadata": {
        "id": "HyRKSP2zwYyo"
      },
      "source": [
        "#Read TFRecord data"
      ]
    },
    {
      "cell_type": "code",
      "metadata": {
        "colab": {
          "base_uri": "https://localhost:8080/"
        },
        "id": "sFYhIMQxwy6k",
        "outputId": "e47c7108-59ea-4b57-f289-2e2c027e5820"
      },
      "source": [
        "#@title  \"Load files & Split into Train and Val\"\n",
        "\n",
        "# read tfrec files from disk storage\n",
        "read_YouTube_data = read_tfrec_data(tfrec_trainVal_files_path, VALIDATION_SPLIT=0.2, TESTING_SPLIT=0.0, MODE=1)\n",
        "\n",
        "read_stop_clickbait_data = read_tfrec_data(stop_clickbait_tfrecFiles_path, VALIDATION_SPLIT=0.2, TESTING_SPLIT=0.0, MODE=1)\n",
        "\n",
        "read_fvc_clickbait_data = read_tfrec_data(fvc_clickbait_tfrecFiles_path, VALIDATION_SPLIT=0.2, TESTING_SPLIT=0.0, MODE=1)\n",
        "\n",
        "# splitting data files between training, validation and test\n",
        "YouTube_filenames, YouTube_training_filenames, YouTube_validation_filenames, YouTube_testing_filenames = read_YouTube_data.get_tfrec_files()\n",
        "\n",
        "stop_clickbait_filenames, stop_clickbait_training_filenames,stop_clickbait_validation_filenames, stop_clickbait_testing_filenames = read_stop_clickbait_data.get_tfrec_files()\n",
        "\n",
        "fvc_filenames, fvc_training_filenames, fvc_validation_filenames, fvc_testing_filenames = read_fvc_clickbait_data.get_tfrec_files()\n",
        "\n",
        "\n",
        "filenames = YouTube_filenames + stop_clickbait_filenames + fvc_filenames\n",
        "training_filenames = YouTube_training_filenames + stop_clickbait_training_filenames + fvc_training_filenames\n",
        "validation_filenames = YouTube_validation_filenames + stop_clickbait_validation_filenames + fvc_validation_filenames\n",
        "\n",
        "random.shuffle(filenames)\n",
        "random.shuffle(training_filenames)\n",
        "random.shuffle(validation_filenames)\n",
        "\n",
        "print(f'Length FileNames : {len(filenames)} Length Training FileNames : {len(training_filenames)} Length Validation FileNames : {len(validation_filenames)}')\n",
        "\n",
        "num_train_examples = 974 * len(YouTube_training_filenames) + 500 * len(stop_clickbait_training_filenames) + 100 * len(fvc_training_filenames)\n",
        "num_total_examples = 974 * len(YouTube_filenames) + 500 * len(stop_clickbait_filenames) + 100 * len(fvc_filenames)\n",
        "\n",
        "validation_steps = int(num_total_examples  // len(filenames) * len(validation_filenames)) // BATCH_SIZE\n",
        "steps_per_epoch = int(num_total_examples  // len(filenames) * len(training_filenames)) // BATCH_SIZE\n",
        "\n",
        "num_train_steps = steps_per_epoch * epochs\n",
        "num_warmup_steps = num_train_steps // 10\n",
        "\n",
        "print(\"With a batch size of {}, there will be {} batches per training epoch and {} batch(es) per validation run.\".format(BATCH_SIZE, steps_per_epoch, validation_steps))\n",
        "\n"
      ],
      "execution_count": null,
      "outputs": [
        {
          "output_type": "stream",
          "text": [
            "Pattern matches 14 data files. Splitting dataset into 12 training files , 2 validation files and 0 test files\n",
            "Pattern matches 64 data files. Splitting dataset into 52 training files , 12 validation files and 0 test files\n",
            "Pattern matches 16 data files. Splitting dataset into 13 training files , 3 validation files and 0 test files\n",
            "Length FileNames : 94 Length Training FileNames : 77 Length Validation FileNames : 17\n",
            "With a batch size of 32, there will be 1207 batches per training epoch and 266 batch(es) per validation run.\n"
          ],
          "name": "stdout"
        }
      ]
    },
    {
      "cell_type": "code",
      "metadata": {
        "colab": {
          "base_uri": "https://localhost:8080/"
        },
        "id": "EnFB1lF5p65f",
        "outputId": "0489162d-6ad9-4066-e1b9-2a3f0141ecc5"
      },
      "source": [
        "#@title  \"Load Test and Benchmarking files\"\n",
        "read_test_data = read_tfrec_data(tfrec_test_files_path, VALIDATION_SPLIT=0.0, TESTING_SPLIT=0.0, MODE=1) # Used only for testing\n",
        "read_benchmark_data = read_tfrec_data(tfrec_benchmark_files_path, VALIDATION_SPLIT=0.0, TESTING_SPLIT=0.0, MODE=1) # Used only for benchmarking\n",
        "\n",
        "\n",
        "testing_filenames, _, _,_ = read_test_data.get_tfrec_files()\n",
        "benchmarking_filenames, _, _,_ = read_benchmark_data.get_tfrec_files()\n",
        "\n",
        "len(testing_filenames), len(benchmarking_filenames)"
      ],
      "execution_count": null,
      "outputs": [
        {
          "output_type": "stream",
          "text": [
            "Pattern matches 2 data files. Splitting dataset into 2 training files , 0 validation files and 0 test files\n",
            "Pattern matches 4 data files. Splitting dataset into 4 training files , 0 validation files and 0 test files\n"
          ],
          "name": "stdout"
        },
        {
          "output_type": "execute_result",
          "data": {
            "text/plain": [
              "(2, 4)"
            ]
          },
          "metadata": {
            "tags": []
          },
          "execution_count": 15
        }
      ]
    },
    {
      "cell_type": "markdown",
      "metadata": {
        "id": "dexXAe2b0LQl"
      },
      "source": [
        "#Load TFRecord into TF Dataset"
      ]
    },
    {
      "cell_type": "code",
      "metadata": {
        "id": "5a2YkXiW0Osa"
      },
      "source": [
        "# create the TF datasets\n",
        "with tf.device('/cpu:0'):\n",
        "  train_ds = load_dataset(training_filenames)\n",
        "  val_ds = load_dataset(validation_filenames)\n",
        "  test_ds = load_dataset(testing_filenames)\n",
        "  benchmark_ds = load_dataset(benchmarking_filenames)"
      ],
      "execution_count": null,
      "outputs": []
    },
    {
      "cell_type": "code",
      "metadata": {
        "colab": {
          "base_uri": "https://localhost:8080/"
        },
        "id": "81QxcdL40xMi",
        "outputId": "a9272625-ab86-49fa-995d-0978a4207e8b"
      },
      "source": [
        "for i,(text, class_num, label) in enumerate(train_ds.take(10)):\n",
        "  print(f\"text : {text.numpy()}, class : {class_num.numpy()}, label : {label.numpy()}\")"
      ],
      "execution_count": null,
      "outputs": [
        {
          "output_type": "stream",
          "text": [
            "text : b'result of airstrike on emplacements squad isis in achan cad subscribe goo gl fafekn vk vk com ru patriots twitter twitter com eng patriots official chanel youtube com c ru patriots help me webmoney z for partners ilya russia ukraine news russian news in english russian news in russian russian news online latest russian news russian news english russian news today ukraine news today russia ukraine news ukraine news video ukraine news english news ukraine and russia news from ukraine and russia news ukraine russia ukraine news news in ukraine putin putin russia vladmir putin putin news putin vs obama america vs russia russia vs america war', class : 1, label : b'clickbaits'\n",
            "text : b'answers needed spacex launch stirs alien ufo fears in california the aftermath of spacex s launch of satellites into space from southern california was witnessed across state lines and hundreds of miles however many people did not know what to make of the stunning sights read more courtesy rt s ruptly video agency no re upload no reuse for licensing please contact rt live subscribe to rt like us on facebook follow us on vk follow us on twitter follow us on instagram follow us on google listen to us on soundcloud rt russia today is a global news network broadcasting from moscow and washington studios rt is the first news channel to break the billion youtube views benchmark', class : 1, label : b'clickbaits'\n",
            "text : b'terrorist vw', class : 1, label : b'clickbaits'\n",
            "text : b'woman trying to climb buckingham woman trying to climb buckingham palace is apprehended by police', class : 0, label : b'nonclickbaits'\n",
            "text : b'police dashcam footage captures train crashing into fedex truck disclaimer this video content is intended for educational and informational purposes only north salt lake police have released dashboard camera video above showing the moment a utah transit authority frontrunner train crashed into a fedex truck saturday morning according to uta a preliminary investigation shows the crossing gates were up and the flashing lights and bells that normally indicate a train is approaching were not active in the event of a power outage or lack of signal crossing gates are programmed to default to the down and active position as a safety precaution preliminary information indicates the gates were affected by the severe ice and snow conditions at the time and were in the default down and active position as they are programmed after an employee responded to the location the gates moved to the up position the agency has never had an accident like this before and uta is investigating why and how it happened to ensure it doesn t occur again uta wrote in a statement released tuesday there were no serious injuries in the accident like us on facebook follow us on twitter donate to policeactivity like us on facebook follow us on twitter', class : 0, label : b'nonclickbaits'\n",
            "text : b'new footage of charlie hebdo attack made public at least people were killed after gunmen opened fire at the headquarters of the satirical newspaper charlie hebdo in central paris on january a new surveillance video of the attack which has been made public shows the gunmen reloading their weapons and firing at a police car the police car was forced to back off and making way for the gunmen to flee in their car subscribe us on youtube download for ios download for android follow us on facebook twitter google tumblr weibo', class : 0, label : b'nonclickbaits'\n",
            "text : b'lightning hits a river what a sight lightning hits a river what a sight please subscribe for more great videos just like this more daily follow me twitch affiliate daily streamer twitter youtube', class : 1, label : b'clickbaits'\n",
            "text : b'haunting visual of injured omrandaqneesh rescued after air strike in syria omran daqneesh a five year old boy pulled out from the rubbles of his home in aleppo s neighbourhood is a symbol of the daily violence that syrians have been living under the casualty numbers of syria s civil war keeps going up with the latest estimates saying almost half a million people have been killed since subscribe here twitter facebook visit our website', class : 0, label : b'nonclickbaits'\n",
            "text : b'fire at bangkok nightclub sharing this video showing the fire event may the souls of the departed rest in peace', class : 0, label : b'nonclickbaits'\n",
            "text : b'aguila quiere raptar a un bebe desde el piso en el siguiente v deo veremos como la c mara sigue el ave ya que se precipita desde el cielo en el parque y trata de agarrar un peque o ni o que esta sentado en el campo el p jaro se las arregl para agarrar y levantar al ni o un metro de la tierra antes de soltarlo la madre y la persona que estaba grabando el hecho acudieron al lugar a consolar al beb mas videos en', class : 1, label : b'clickbaits'\n"
          ],
          "name": "stdout"
        }
      ]
    },
    {
      "cell_type": "code",
      "metadata": {
        "id": "Y9EYaEqFQKM5"
      },
      "source": [
        "# We need only Text and numeric Label from the dataset\n",
        "with tf.device('/cpu:0'):\n",
        "  train_ds = train_ds.map(lambda text, class_num, label:(text, class_num))\n",
        "  val_ds = val_ds.map(lambda text, class_num, label:(text, class_num))\n",
        "  test_ds = test_ds.map(lambda text, class_num, label:(text, class_num))\n",
        "  benchmark_ds = benchmark_ds.map(lambda text, class_num, label:(text, class_num))"
      ],
      "execution_count": null,
      "outputs": []
    },
    {
      "cell_type": "code",
      "metadata": {
        "colab": {
          "base_uri": "https://localhost:8080/"
        },
        "id": "cRpJwphml5xA",
        "outputId": "b006a4cf-b9e8-4e96-fd8b-08138d47a768"
      },
      "source": [
        "train_ds.element_spec, val_ds.element_spec, test_ds.element_spec, benchmark_ds.element_spec"
      ],
      "execution_count": null,
      "outputs": [
        {
          "output_type": "execute_result",
          "data": {
            "text/plain": [
              "((TensorSpec(shape=(), dtype=tf.string, name=None),\n",
              "  TensorSpec(shape=(), dtype=tf.int64, name=None)),\n",
              " (TensorSpec(shape=(), dtype=tf.string, name=None),\n",
              "  TensorSpec(shape=(), dtype=tf.int64, name=None)),\n",
              " (TensorSpec(shape=(), dtype=tf.string, name=None),\n",
              "  TensorSpec(shape=(), dtype=tf.int64, name=None)),\n",
              " (TensorSpec(shape=(), dtype=tf.string, name=None),\n",
              "  TensorSpec(shape=(), dtype=tf.int64, name=None)))"
            ]
          },
          "metadata": {
            "tags": []
          },
          "execution_count": 19
        }
      ]
    },
    {
      "cell_type": "code",
      "metadata": {
        "id": "RYCy7RJVfZWN"
      },
      "source": [
        "with tf.device('/cpu:0'):\n",
        "  train_ds = get_batched_dataset(train_ds, train=True)\n",
        "  val_ds = get_batched_dataset(val_ds)\n",
        "  test_ds = get_batched_dataset(test_ds)\n",
        "  benchmark_ds = get_batched_dataset(benchmark_ds)"
      ],
      "execution_count": null,
      "outputs": []
    },
    {
      "cell_type": "markdown",
      "metadata": {
        "id": "m4mlvS-W4TDx"
      },
      "source": [
        "#Modeling"
      ]
    },
    {
      "cell_type": "markdown",
      "metadata": {
        "id": "CsCwE3RZSi3e"
      },
      "source": [
        "##Build classifier"
      ]
    },
    {
      "cell_type": "code",
      "metadata": {
        "colab": {
          "base_uri": "https://localhost:8080/"
        },
        "id": "sHVKiVfzSkSl",
        "outputId": "409d09fd-6ec3-42d4-b25a-f01a211463f9"
      },
      "source": [
        "classifier_model = create_model()\n",
        "classifier_model.summary()"
      ],
      "execution_count": null,
      "outputs": [
        {
          "output_type": "stream",
          "text": [
            "Model: \"sequential\"\n",
            "_________________________________________________________________\n",
            "Layer (type)                 Output Shape              Param #   \n",
            "=================================================================\n",
            "USE_embedding (KerasLayer)   (None, 512)               256797824 \n",
            "_________________________________________________________________\n",
            "dropout (Dropout)            (None, 512)               0         \n",
            "_________________________________________________________________\n",
            "dense (Dense)                (None, 128)               65664     \n",
            "_________________________________________________________________\n",
            "batch_normalization (BatchNo (None, 128)               512       \n",
            "_________________________________________________________________\n",
            "dropout_1 (Dropout)          (None, 128)               0         \n",
            "_________________________________________________________________\n",
            "dense_1 (Dense)              (None, 1)                 129       \n",
            "=================================================================\n",
            "Total params: 256,864,129\n",
            "Trainable params: 256,863,873\n",
            "Non-trainable params: 256\n",
            "_________________________________________________________________\n"
          ],
          "name": "stdout"
        }
      ]
    },
    {
      "cell_type": "markdown",
      "metadata": {
        "id": "t-l3hSAZjmAR"
      },
      "source": [
        "##Train classifier model"
      ]
    },
    {
      "cell_type": "markdown",
      "metadata": {
        "id": "JB9jLSmmxlRX"
      },
      "source": [
        "###Compile model"
      ]
    },
    {
      "cell_type": "code",
      "metadata": {
        "colab": {
          "base_uri": "https://localhost:8080/",
          "height": 478
        },
        "id": "jT4HWvMbweSY",
        "outputId": "042b2710-2a0b-4468-b104-798919e5fc8a"
      },
      "source": [
        "es = tf.keras.callbacks.EarlyStopping(\n",
        "          monitor='val_loss', \n",
        "          verbose=1, \n",
        "          patience=5, \n",
        "          mode='min', \n",
        "          restore_best_weights=True\n",
        "          )\n",
        "\n",
        "mcb = tf.keras.callbacks.ModelCheckpoint (\n",
        "         filepath=model_checkpoint_path,\n",
        "         save_weights_only=True,\n",
        "         monitor='val_loss',\n",
        "         mode='min',\n",
        "         verbose=1,\n",
        "         save_best_only=True\n",
        "        )\n",
        "\n",
        "METRICS = [\n",
        "             keras.metrics.TruePositives(name='tp'),\n",
        "             keras.metrics.FalsePositives(name='fp'),\n",
        "             keras.metrics.TrueNegatives(name='tn'),\n",
        "             keras.metrics.FalseNegatives(name='fn'), \n",
        "             keras.metrics.BinaryAccuracy(name='accuracy'),\n",
        "             keras.metrics.Precision(name='precision'),\n",
        "             keras.metrics.Recall(name='recall'),\n",
        "             keras.metrics.AUC(name='auc'),\n",
        "             keras.metrics.AUC(name='prc', curve='PR'), # precision-recall curve\n",
        "          ]\n",
        "\n",
        "#optimizer = optimization.create_optimizer(\n",
        "#      init_lr=init_lr,\n",
        "#      num_train_steps=num_train_steps,\n",
        "#      num_warmup_steps=num_warmup_steps,\n",
        "#      optimizer_type='adamw'\n",
        "#      )\n",
        "\n",
        "lr_schedule = tf.keras.optimizers.schedules.ExponentialDecay(\n",
        "    init_lr,\n",
        "    decay_steps=num_train_steps,\n",
        "    decay_rate=0.96,\n",
        "    staircase=True)\n",
        "\n",
        "optimizer=tf.keras.optimizers.RMSprop(learning_rate=lr_schedule)\n",
        "\n",
        "classifier_model.compile(\n",
        "    optimizer=optimizer,\n",
        "    loss=tf.keras.losses.BinaryCrossentropy(), \n",
        "    metrics=METRICS\n",
        "    )\n",
        "\n",
        "tf.keras.utils.plot_model(model=classifier_model, show_shapes=True, dpi=60)"
      ],
      "execution_count": null,
      "outputs": [
        {
          "output_type": "execute_result",
          "data": {
            "image/png": "[encoded data removed]",
            "text/plain": [
              "<IPython.core.display.Image object>"
            ]
          },
          "metadata": {
            "tags": []
          },
          "execution_count": 22
        }
      ]
    },
    {
      "cell_type": "markdown",
      "metadata": {
        "id": "H6XKaUuaxqlk"
      },
      "source": [
        "###Train"
      ]
    },
    {
      "cell_type": "code",
      "metadata": {
        "colab": {
          "base_uri": "https://localhost:8080/"
        },
        "id": "5m2m1rm9mpns",
        "outputId": "c75ecc90-bcb3-461e-9fec-f5b8546a5fb7"
      },
      "source": [
        "#@title Load Model weights if available\n",
        "if os.path.exists(checkpoint_root_path) & len(os.listdir(checkpoint_root_path))>0:\n",
        "  print('loading saved weight')\n",
        "  classifier_model.load_weights(model_checkpoint_path)\n",
        "else:\n",
        "  print('No weight to initialize') "
      ],
      "execution_count": null,
      "outputs": [
        {
          "output_type": "stream",
          "text": [
            "No weight to initialize\n"
          ],
          "name": "stdout"
        }
      ]
    },
    {
      "cell_type": "code",
      "metadata": {
        "colab": {
          "base_uri": "https://localhost:8080/"
        },
        "id": "VN83npGrjnwd",
        "outputId": "cd100181-aebb-4a81-b8a5-ed22cec165ef"
      },
      "source": [
        "history = classifier_model.fit(\n",
        "             x=train_ds,\n",
        "             validation_data=val_ds,\n",
        "             epochs=epochs,\n",
        "             callbacks=[es, mcb]\n",
        "             )"
      ],
      "execution_count": null,
      "outputs": [
        {
          "output_type": "stream",
          "text": [
            "Epoch 1/30\n",
            "1217/1217 [==============================] - 127s 76ms/step - loss: 0.1368 - tp: 18079.0000 - fp: 907.0000 - tn: 18888.0000 - fn: 1070.0000 - accuracy: 0.9492 - precision: 0.9522 - recall: 0.9441 - auc: 0.9879 - prc: 0.9879 - val_loss: 0.1920 - val_tp: 3977.0000 - val_fp: 467.0000 - val_tn: 3747.0000 - val_fn: 33.0000 - val_accuracy: 0.9392 - val_precision: 0.8949 - val_recall: 0.9918 - val_auc: 0.9889 - val_prc: 0.9805\n",
            "\n",
            "Epoch 00001: val_loss improved from inf to 0.19201, saving model to /content/drive/MyDrive/Colab Notebooks/clcikbait_detection/dataset/YouTube_clickbait/checkpoints/youtube_clickbait_finetuned_USE_all/youtube_clickbait_finetuned_USE_all_checkpoint\n",
            "Epoch 2/30\n",
            "1217/1217 [==============================] - 109s 87ms/step - loss: 0.0676 - tp: 18676.0000 - fp: 418.0000 - tn: 19377.0000 - fn: 473.0000 - accuracy: 0.9771 - precision: 0.9781 - recall: 0.9753 - auc: 0.9962 - prc: 0.9959 - val_loss: 0.1705 - val_tp: 3976.0000 - val_fp: 383.0000 - val_tn: 3831.0000 - val_fn: 34.0000 - val_accuracy: 0.9493 - val_precision: 0.9121 - val_recall: 0.9915 - val_auc: 0.9892 - val_prc: 0.9808\n",
            "\n",
            "Epoch 00002: val_loss improved from 0.19201 to 0.17047, saving model to /content/drive/MyDrive/Colab Notebooks/clcikbait_detection/dataset/YouTube_clickbait/checkpoints/youtube_clickbait_finetuned_USE_all/youtube_clickbait_finetuned_USE_all_checkpoint\n",
            "Epoch 3/30\n",
            "1217/1217 [==============================] - 86s 70ms/step - loss: 0.0376 - tp: 18903.0000 - fp: 227.0000 - tn: 19568.0000 - fn: 246.0000 - accuracy: 0.9879 - precision: 0.9881 - recall: 0.9872 - auc: 0.9983 - prc: 0.9979 - val_loss: 0.1973 - val_tp: 3964.0000 - val_fp: 375.0000 - val_tn: 3839.0000 - val_fn: 46.0000 - val_accuracy: 0.9488 - val_precision: 0.9136 - val_recall: 0.9885 - val_auc: 0.9852 - val_prc: 0.9742\n",
            "\n",
            "Epoch 00003: val_loss did not improve from 0.17047\n",
            "Epoch 4/30\n",
            "1217/1217 [==============================] - 89s 73ms/step - loss: 0.0217 - tp: 19021.0000 - fp: 128.0000 - tn: 19667.0000 - fn: 128.0000 - accuracy: 0.9934 - precision: 0.9933 - recall: 0.9933 - auc: 0.9990 - prc: 0.9987 - val_loss: 0.1555 - val_tp: 3923.0000 - val_fp: 193.0000 - val_tn: 4021.0000 - val_fn: 87.0000 - val_accuracy: 0.9660 - val_precision: 0.9531 - val_recall: 0.9783 - val_auc: 0.9872 - val_prc: 0.9803\n",
            "\n",
            "Epoch 00004: val_loss improved from 0.17047 to 0.15546, saving model to /content/drive/MyDrive/Colab Notebooks/clcikbait_detection/dataset/YouTube_clickbait/checkpoints/youtube_clickbait_finetuned_USE_all/youtube_clickbait_finetuned_USE_all_checkpoint\n",
            "Epoch 5/30\n",
            "1217/1217 [==============================] - 94s 78ms/step - loss: 0.0142 - tp: 19070.0000 - fp: 99.0000 - tn: 19696.0000 - fn: 79.0000 - accuracy: 0.9954 - precision: 0.9948 - recall: 0.9959 - auc: 0.9995 - prc: 0.9993 - val_loss: 0.1853 - val_tp: 3793.0000 - val_fp: 93.0000 - val_tn: 4121.0000 - val_fn: 217.0000 - val_accuracy: 0.9623 - val_precision: 0.9761 - val_recall: 0.9459 - val_auc: 0.9848 - val_prc: 0.9837\n",
            "\n",
            "Epoch 00005: val_loss did not improve from 0.15546\n",
            "Epoch 6/30\n",
            "1217/1217 [==============================] - 85s 70ms/step - loss: 0.0121 - tp: 19093.0000 - fp: 91.0000 - tn: 19704.0000 - fn: 56.0000 - accuracy: 0.9962 - precision: 0.9953 - recall: 0.9971 - auc: 0.9995 - prc: 0.9992 - val_loss: 0.2189 - val_tp: 3812.0000 - val_fp: 98.0000 - val_tn: 4116.0000 - val_fn: 198.0000 - val_accuracy: 0.9640 - val_precision: 0.9749 - val_recall: 0.9506 - val_auc: 0.9830 - val_prc: 0.9815\n",
            "\n",
            "Epoch 00006: val_loss did not improve from 0.15546\n",
            "Epoch 7/30\n",
            "1217/1217 [==============================] - 91s 75ms/step - loss: 0.0098 - tp: 19106.0000 - fp: 70.0000 - tn: 19725.0000 - fn: 43.0000 - accuracy: 0.9971 - precision: 0.9963 - recall: 0.9978 - auc: 0.9995 - prc: 0.9993 - val_loss: 0.2247 - val_tp: 3835.0000 - val_fp: 125.0000 - val_tn: 4089.0000 - val_fn: 175.0000 - val_accuracy: 0.9635 - val_precision: 0.9684 - val_recall: 0.9564 - val_auc: 0.9816 - val_prc: 0.9768\n",
            "\n",
            "Epoch 00007: val_loss did not improve from 0.15546\n",
            "Epoch 8/30\n",
            "1217/1217 [==============================] - 85s 70ms/step - loss: 0.0090 - tp: 19101.0000 - fp: 68.0000 - tn: 19727.0000 - fn: 48.0000 - accuracy: 0.9970 - precision: 0.9965 - recall: 0.9975 - auc: 0.9997 - prc: 0.9995 - val_loss: 0.2855 - val_tp: 3831.0000 - val_fp: 123.0000 - val_tn: 4091.0000 - val_fn: 179.0000 - val_accuracy: 0.9633 - val_precision: 0.9689 - val_recall: 0.9554 - val_auc: 0.9782 - val_prc: 0.9742\n",
            "\n",
            "Epoch 00008: val_loss did not improve from 0.15546\n",
            "Epoch 9/30\n",
            "1217/1217 [==============================] - 86s 71ms/step - loss: 0.0097 - tp: 19107.0000 - fp: 71.0000 - tn: 19724.0000 - fn: 42.0000 - accuracy: 0.9971 - precision: 0.9963 - recall: 0.9978 - auc: 0.9996 - prc: 0.9994 - val_loss: 0.3439 - val_tp: 3939.0000 - val_fp: 358.0000 - val_tn: 3856.0000 - val_fn: 71.0000 - val_accuracy: 0.9478 - val_precision: 0.9167 - val_recall: 0.9823 - val_auc: 0.9746 - val_prc: 0.9560\n",
            "Restoring model weights from the end of the best epoch.\n",
            "\n",
            "Epoch 00009: val_loss did not improve from 0.15546\n",
            "Epoch 00009: early stopping\n"
          ],
          "name": "stdout"
        }
      ]
    },
    {
      "cell_type": "code",
      "metadata": {
        "id": "Qq21bsBY5zci"
      },
      "source": [
        "# Save model weights\n",
        "classifier_model.save_weights(model_checkpoint_path)"
      ],
      "execution_count": null,
      "outputs": []
    },
    {
      "cell_type": "markdown",
      "metadata": {
        "id": "KGm28Sny7Wbg"
      },
      "source": [
        "#Plot train history"
      ]
    },
    {
      "cell_type": "code",
      "metadata": {
        "id": "de9jdjsl83rU",
        "colab": {
          "base_uri": "https://localhost:8080/",
          "height": 621
        },
        "outputId": "666646e4-40f5-4393-ee66-36c86695da35"
      },
      "source": [
        "vh.display_training_curves(history.history['accuracy'], history.history['val_accuracy'], 'accuracy', 211)\n",
        "vh.display_training_curves(history.history['loss'], history.history['val_loss'], 'loss', 212)"
      ],
      "execution_count": 24,
      "outputs": [
        {
          "output_type": "display_data",
          "data": {
            "image/png": "[encoded data removed]",
            "text/plain": [
              "<Figure size 720x720 with 2 Axes>"
            ]
          },
          "metadata": {
            "tags": []
          }
        }
      ]
    },
    {
      "cell_type": "code",
      "metadata": {
        "id": "bMtvCGsZ89PT",
        "colab": {
          "base_uri": "https://localhost:8080/",
          "height": 621
        },
        "outputId": "ac70837d-a988-4aea-a357-35fb8d5cda56"
      },
      "source": [
        "vh.display_training_curves(history.history['recall'], history.history['val_recall'], 'recall', 211)\n",
        "vh.display_training_curves(history.history['precision'], history.history['val_precision'], 'precision', 212)"
      ],
      "execution_count": 25,
      "outputs": [
        {
          "output_type": "display_data",
          "data": {
            "image/png": "[encoded data removed]",
            "text/plain": [
              "<Figure size 720x720 with 2 Axes>"
            ]
          },
          "metadata": {
            "tags": []
          }
        }
      ]
    },
    {
      "cell_type": "markdown",
      "metadata": {
        "id": "u3EcfqHpnb7M"
      },
      "source": [
        "# Model Inference\n",
        "We have trained the classifier, now let's use the trained model to infer the test dataset. Beside the test dataset, we also have benchmark dataset that we would also to see the eefectiveness of our model over benchmark dataset on predicting the clickbait's."
      ]
    },
    {
      "cell_type": "markdown",
      "metadata": {
        "id": "wUbL6y3Qnowd"
      },
      "source": [
        "##Model Evaluation"
      ]
    },
    {
      "cell_type": "markdown",
      "metadata": {
        "id": "V3DsGFsKnteT"
      },
      "source": [
        "###Evaluate Classifier on Test set"
      ]
    },
    {
      "cell_type": "code",
      "metadata": {
        "id": "f3RkZKpanwB6",
        "colab": {
          "base_uri": "https://localhost:8080/"
        },
        "outputId": "e0759498-45c3-48a9-e7cb-46c96c59c8a7"
      },
      "source": [
        "results_test_set = classifier_model.evaluate(test_ds)\n",
        "\n",
        "for name, value in zip(classifier_model.metrics_names, results_test_set):\n",
        "  print(name, ': ', value)\n",
        "print()"
      ],
      "execution_count": 26,
      "outputs": [
        {
          "output_type": "stream",
          "text": [
            "60/60 [==============================] - 3s 37ms/step - loss: 0.1833 - tp: 870.0000 - fp: 50.0000 - tn: 973.0000 - fn: 27.0000 - accuracy: 0.9599 - precision: 0.9457 - recall: 0.9699 - auc: 0.9834 - prc: 0.9757\n",
            "loss :  0.18327696621418\n",
            "tp :  870.0\n",
            "fp :  50.0\n",
            "tn :  973.0\n",
            "fn :  27.0\n",
            "accuracy :  0.9598958492279053\n",
            "precision :  0.945652186870575\n",
            "recall :  0.9698996543884277\n",
            "auc :  0.983377993106842\n",
            "prc :  0.9756954312324524\n",
            "\n"
          ],
          "name": "stdout"
        }
      ]
    },
    {
      "cell_type": "markdown",
      "metadata": {
        "id": "36FvI_Jfnzm4"
      },
      "source": [
        "### Evaluate Classifier on Benchmarking set"
      ]
    },
    {
      "cell_type": "code",
      "metadata": {
        "id": "sksFha2Jn2ax",
        "colab": {
          "base_uri": "https://localhost:8080/"
        },
        "outputId": "e0375f1d-ce8b-452a-eb58-951c6bdad102"
      },
      "source": [
        "results_benchmarking_set = classifier_model.evaluate(benchmark_ds)\n",
        "\n",
        "for name, value in zip(classifier_model.metrics_names, results_benchmarking_set):\n",
        "  print(name, ': ', value)\n",
        "print()"
      ],
      "execution_count": 27,
      "outputs": [
        {
          "output_type": "stream",
          "text": [
            "5/5 [==============================] - 2s 193ms/step - loss: 0.7199 - tp: 76.0000 - fp: 5.0000 - tn: 61.0000 - fn: 18.0000 - accuracy: 0.8562 - precision: 0.9383 - recall: 0.8085 - auc: 0.9250 - prc: 0.9487\n",
            "loss :  0.7198833227157593\n",
            "tp :  76.0\n",
            "fp :  5.0\n",
            "tn :  61.0\n",
            "fn :  18.0\n",
            "accuracy :  0.856249988079071\n",
            "precision :  0.9382715821266174\n",
            "recall :  0.8085106611251831\n",
            "auc :  0.9249678254127502\n",
            "prc :  0.9487262964248657\n",
            "\n"
          ],
          "name": "stdout"
        }
      ]
    },
    {
      "cell_type": "markdown",
      "metadata": {
        "id": "yC6LVHAyn-hs"
      },
      "source": [
        "##Export Model for inference"
      ]
    },
    {
      "cell_type": "code",
      "metadata": {
        "id": "DHOU2aiyoCKy",
        "colab": {
          "base_uri": "https://localhost:8080/"
        },
        "outputId": "74b108ce-b645-4df4-8f7b-bdc1f56c0d4f"
      },
      "source": [
        "classifier_model.save(saved_model_path, include_optimizer=False)"
      ],
      "execution_count": 28,
      "outputs": [
        {
          "output_type": "stream",
          "text": [
            "WARNING:absl:Function `_wrapped_model` contains input name(s) USE_embedding_input with unsupported characters which will be renamed to use_embedding_input in the SavedModel.\n"
          ],
          "name": "stderr"
        }
      ]
    },
    {
      "cell_type": "markdown",
      "metadata": {
        "id": "Qoh5oCeBoFSB"
      },
      "source": [
        "##Model prediction"
      ]
    },
    {
      "cell_type": "code",
      "metadata": {
        "id": "oHG0fmpQoHuJ"
      },
      "source": [
        "saved_classifier = keras.models.load_model(saved_model_path)"
      ],
      "execution_count": 29,
      "outputs": []
    },
    {
      "cell_type": "markdown",
      "metadata": {
        "id": "q2_erN4OoLL5"
      },
      "source": [
        "### Prediction for Test set"
      ]
    },
    {
      "cell_type": "code",
      "metadata": {
        "id": "4qZegAuroQHP",
        "colab": {
          "base_uri": "https://localhost:8080/",
          "height": 588
        },
        "outputId": "90e3eb33-ae6e-42a9-fa6c-7cb30fdef47f"
      },
      "source": [
        "predict_on_test_dataset(saved_classifier, test_ds, BATCH_SIZE=BATCH_SIZE)"
      ],
      "execution_count": 30,
      "outputs": [
        {
          "output_type": "stream",
          "text": [
            "Accuracy: 0.959896\n",
            "Precision: 0.945652\n",
            "Recall: 0.969900\n",
            "F1 score: 0.957622\n",
            "ROC AUC: 0.960512\n",
            "[[973  50]\n",
            " [ 27 870]]\n",
            "Non clickbaits Detected (True Negatives):  973\n",
            "Non-Clickbaits Detected as Clickbaits (False Positives):  50\n",
            "Clickbaits Detected as Non-clickbaits (False Negatives):  27\n",
            "Clickbaits Detected (True Positives):  870\n",
            "Total Non-clickbaits:  1023\n",
            "Total Clickbaits:  897\n",
            "\n"
          ],
          "name": "stdout"
        },
        {
          "output_type": "display_data",
          "data": {
            "image/png": "[encoded data removed]",
            "text/plain": [
              "<Figure size 360x360 with 2 Axes>"
            ]
          },
          "metadata": {
            "tags": [],
            "needs_background": "light"
          }
        }
      ]
    },
    {
      "cell_type": "markdown",
      "metadata": {
        "id": "Ldte4xEboU8H"
      },
      "source": [
        "### Prediction for Benchmarking set"
      ]
    },
    {
      "cell_type": "code",
      "metadata": {
        "id": "H2V6xTcFoWbm",
        "colab": {
          "base_uri": "https://localhost:8080/",
          "height": 588
        },
        "outputId": "2b6380e2-cbd5-4d21-ae98-b76db1647e28"
      },
      "source": [
        "predict_on_test_dataset(saved_classifier, benchmark_ds, BATCH_SIZE=BATCH_SIZE)"
      ],
      "execution_count": 31,
      "outputs": [
        {
          "output_type": "stream",
          "text": [
            "Accuracy: 0.856250\n",
            "Precision: 0.938272\n",
            "Recall: 0.808511\n",
            "F1 score: 0.868571\n",
            "ROC AUC: 0.866377\n",
            "[[61  5]\n",
            " [18 76]]\n",
            "Non clickbaits Detected (True Negatives):  61\n",
            "Non-Clickbaits Detected as Clickbaits (False Positives):  5\n",
            "Clickbaits Detected as Non-clickbaits (False Negatives):  18\n",
            "Clickbaits Detected (True Positives):  76\n",
            "Total Non-clickbaits:  66\n",
            "Total Clickbaits:  94\n",
            "\n"
          ],
          "name": "stdout"
        },
        {
          "output_type": "display_data",
          "data": {
            "image/png": "[encoded data removed]",
            "text/plain": [
              "<Figure size 360x360 with 2 Axes>"
            ]
          },
          "metadata": {
            "tags": [],
            "needs_background": "light"
          }
        }
      ]
    }
  ]
}