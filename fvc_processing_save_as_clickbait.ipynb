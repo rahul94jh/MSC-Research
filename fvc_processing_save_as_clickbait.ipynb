{
  "nbformat": 4,
  "nbformat_minor": 0,
  "metadata": {
    "colab": {
      "name": "fvc_processing_save_as_clickbait.ipynb",
      "provenance": [],
      "collapsed_sections": [
        "_mBVmtvpYXW1",
        "LyndnmJpc4BM",
        "qc79mLXpYnhA",
        "ZEph3703h04P",
        "JmOos-Vmh4Bv",
        "ltI8YmwiouJg",
        "QywZSz_Mp85f",
        "tM_icqfK3lbp"
      ],
      "authorship_tag": "ABX9TyO+u8GhH7uYbAN9K3w3/Ruo",
      "include_colab_link": true
    },
    "kernelspec": {
      "name": "python3",
      "display_name": "Python 3"
    },
    "language_info": {
      "name": "python"
    }
  },
  "cells": [
    {
      "cell_type": "markdown",
      "metadata": {
        "id": "view-in-github",
        "colab_type": "text"
      },
      "source": [
        "<a href=\"https://colab.research.google.com/github/rahul94jh/MSC-Research/blob/main/fvc_processing_save_as_clickbait.ipynb\" target=\"_parent\"><img src=\"https://colab.research.google.com/assets/colab-badge.svg\" alt=\"Open In Colab\"/></a>"
      ]
    },
    {
      "cell_type": "markdown",
      "metadata": {
        "id": "qXEzdl0NXkpf"
      },
      "source": [
        "# Setup"
      ]
    },
    {
      "cell_type": "code",
      "metadata": {
        "colab": {
          "base_uri": "https://localhost:8080/"
        },
        "id": "SeB6GsV_Xy2e",
        "outputId": "8f3478dc-6db4-4509-99b1-42c6d9ab5371"
      },
      "source": [
        "from google.colab import drive\n",
        "drive.mount('/content/drive')"
      ],
      "execution_count": null,
      "outputs": [
        {
          "output_type": "stream",
          "text": [
            "Drive already mounted at /content/drive; to attempt to forcibly remount, call drive.mount(\"/content/drive\", force_remount=True).\n"
          ],
          "name": "stdout"
        }
      ]
    },
    {
      "cell_type": "markdown",
      "metadata": {
        "id": "Jo6V-yC3Xr7c"
      },
      "source": [
        "We would load dataset from github directly into pandas dataframe\n",
        "\n",
        "github repo - https://github.com/MKLab-ITI/fake-video-corpus\n",
        "fvc_dup.csv - https://github.com/MKLab-ITI/fake-video-corpus/blob/master/FVC_dup.csv "
      ]
    },
    {
      "cell_type": "code",
      "metadata": {
        "id": "WhZt4VOpXYtz"
      },
      "source": [
        "!cd '/content/drive/MyDrive/Colab Notebooks/clcikbait_detection'"
      ],
      "execution_count": null,
      "outputs": []
    },
    {
      "cell_type": "code",
      "metadata": {
        "colab": {
          "base_uri": "https://localhost:8080/"
        },
        "id": "ohV0DloIX-4S",
        "outputId": "19d6ac33-e374-461c-d043-99d1d4361954"
      },
      "source": [
        "!pip install jsonlines"
      ],
      "execution_count": null,
      "outputs": [
        {
          "output_type": "stream",
          "text": [
            "Requirement already satisfied: jsonlines in /usr/local/lib/python3.7/dist-packages (2.0.0)\n"
          ],
          "name": "stdout"
        }
      ]
    },
    {
      "cell_type": "code",
      "metadata": {
        "id": "-psBKURXYC_a"
      },
      "source": [
        "#https://developers.google.com/maps/documentation/javascript/get-api-key\n",
        "#https://console.cloud.google.com/apis/api/youtube.googleapis.com/overview?project=decisive-octane-311811\n",
        "#https://console.cloud.google.com/apis/api/youtube.googleapis.com/credentials?project=decisive-octane-311811\n",
        "\n",
        "api_key = 'Your_API_Key'"
      ],
      "execution_count": null,
      "outputs": []
    },
    {
      "cell_type": "markdown",
      "metadata": {
        "id": "_mBVmtvpYXW1"
      },
      "source": [
        "#Imports"
      ]
    },
    {
      "cell_type": "code",
      "metadata": {
        "colab": {
          "base_uri": "https://localhost:8080/"
        },
        "id": "rrqWSVvdYUvZ",
        "outputId": "94f01123-26ea-410a-b7c3-827003c4a0c2"
      },
      "source": [
        "import os, math\n",
        "import numpy as np\n",
        "import pandas as pd\n",
        "import requests\n",
        "import shutil\n",
        "from pathlib import Path\n",
        "import jsonlines\n",
        "from urllib.parse import urlparse, parse_qs\n",
        "import json\n",
        "import ast\n",
        "import re\n",
        "\n",
        "from matplotlib import pyplot as plt\n",
        "import tensorflow as tf\n",
        "print(\"Tensorflow version \" + tf.__version__)\n",
        "AUTO = tf.data.experimental.AUTOTUNE # used in tf.data.Dataset API"
      ],
      "execution_count": null,
      "outputs": [
        {
          "output_type": "stream",
          "text": [
            "Tensorflow version 2.5.0\n"
          ],
          "name": "stdout"
        }
      ]
    },
    {
      "cell_type": "markdown",
      "metadata": {
        "id": "LyndnmJpc4BM"
      },
      "source": [
        "# Scripts"
      ]
    },
    {
      "cell_type": "code",
      "metadata": {
        "id": "zL62Cuayc3DD"
      },
      "source": [
        "def save_df(df, path, save_index=False):\n",
        "  df.to_csv(path, index=save_index)\n",
        "\n",
        "def get_raw_data():\n",
        "  local_path = '/content/drive/MyDrive/Colab Notebooks/clcikbait_detection/dataset/FVC_CORPUS/fvc_raw_corpus.csv'\n",
        "  remote_path = 'https://raw.githubusercontent.com/MKLab-ITI/fake-video-corpus/master/FVC_dup.csv'\n",
        "  if os.path.exists(local_path):\n",
        "    df = pd.read_csv(local_path)\n",
        "  else:\n",
        "    df = pd.read_csv(remote_path)\n",
        "  # save local copy \n",
        "  df = df.sample(frac=1)\n",
        "  save_df(df, '/content/drive/MyDrive/Colab Notebooks/clcikbait_detection/dataset/FVC_CORPUS/fvc_raw_corpus.csv')\n",
        "\n",
        "  return df\n",
        "\n",
        "def match_youtube_url(url):\n",
        "    url = url.lower() \n",
        "    return int(bool(re.match(\"https*://www[.]{1}youtube[.]{1}com[/]{1}\\w+\",url)))\n",
        "\n",
        "def match_facebook_url(url):\n",
        "    url = url.lower() \n",
        "    return int(bool(re.match(\"https*://www[.]{1}facebook[.]{1}com[/]{1}\\w+\",url)))\n",
        "\n",
        "def extract_video_metadata(urls):\n",
        "  metadata_list=[]\n",
        "  for url in urls:\n",
        "    url_data = urlparse(url)\n",
        "    query = parse_qs(url_data.query)\n",
        "    video_id = query[\"v\"][0] \n",
        "    youtube_api_url = f'https://www.googleapis.com/youtube/v3/videos?part=snippet&id={video_id}&key={api_key}'\n",
        "    r = requests.get(youtube_api_url, stream = True)      \n",
        "    if r.status_code == 200:\n",
        "       r.raw.decode_content = True\n",
        "       data = r.json()\n",
        "       if len(data['items'])>0:\n",
        "         metadata_list.append(json.dumps(r.json(), ensure_ascii=False))\n",
        "    else:\n",
        "      print(f'failled..{r.status_code}')\n",
        "  return np.array(metadata_list)\n",
        "\n",
        "def write_json_data(path, data):\n",
        "    with open(path,'w') as f:\n",
        "        f.writelines(\"%s\\n\" % line for line in data)\n",
        "\n",
        "def preprocess_string(text):\n",
        "    text_cleaned = re.sub(r\"http\\S+\", \"\", text, flags=re.IGNORECASE|re.MULTILINE)  # remove any url in the text\n",
        "    text_cleaned = re.sub(r\"\\w+@\\w{1,}\\.\\w{1,}\",\"\", text_cleaned, flags=re.IGNORECASE|re.MULTILINE) # remove emails from text\n",
        "    text_cleaned = re.sub(r'[^a-z\\s]+',' ',text_cleaned,flags=re.IGNORECASE|re.MULTILINE) # remove non alphabetics char\n",
        "    text_cleaned = re.sub(r'(\\s+)',' ',text_cleaned, flags=re.IGNORECASE|re.MULTILINE)  # remove spaces\n",
        "\n",
        "    text_cleaned = text_cleaned.lstrip()\n",
        "    text_cleaned = text_cleaned.rstrip()\n",
        "    text_cleaned = text_cleaned.lower() \n",
        "\n",
        "    return text_cleaned \n",
        "\n",
        "def extract_list_data(row, root, column_name, sub_column='', clean_text=True):\n",
        "  items = row[root][0]\n",
        "  if len(sub_column)>0:\n",
        "    if sub_column in items[column_name]:\n",
        "      text = items[column_name][sub_column]\n",
        "    else:\n",
        "      text='NA'\n",
        "  else:\n",
        "    text = items[column_name]\n",
        "  \n",
        "  if clean_text:\n",
        "      text = preprocess_string(text)\n",
        "\n",
        "  return text\n",
        "\n",
        "def extract_from_dict(row, column, subcolumn):\n",
        "  return row[column][subcolumn]\n",
        "\n",
        "\n",
        "def download_save_image(df):\n",
        "  df_new = df.copy(deep=True)\n",
        "\n",
        "  for i in range(len(df_new)):\n",
        "    row = df_new.iloc[i]\n",
        "\n",
        "    id = row['id']  \n",
        "    url = row['thumbnail_320_180'] \n",
        "    is_fake = row['is_fake'] \n",
        "\n",
        "\n",
        "    filename = f'{id}' + '_' + url.split(\"/\")[-1]      \n",
        "\n",
        "    if is_fake:      \n",
        "        image_path = os.path.join(clickbaitImage_dir,filename) \n",
        "    else:\n",
        "        image_path = os.path.join(nonclickbaitsImage_dir,filename) \n",
        "\n",
        "     \n",
        "    if not os.path.exists(image_path):                       \n",
        "            r = requests.get(url, stream = True)             \n",
        "            \n",
        "            if r.status_code == 200:                         \n",
        "                r.raw.decode_content = True\n",
        "\n",
        "                with open(image_path,'wb') as f:\n",
        "                    shutil.copyfileobj(r.raw, f)             \n",
        "\n",
        "                print(i, ': success')\n",
        "\n",
        "                df_new.loc[(df_new['id'] == id), 'thumbnail_320_180_path'] = image_path        \n",
        "\n",
        "            else:\n",
        "                print(i, ': failed')\n",
        "\n",
        "                df_new.loc[(df_new['id'] == id), 'thumbnail_320_180_path'] = '?'                  \n",
        "\n",
        "    else:\n",
        "        df_new.loc[(df_new['id'] == id), 'thumbnail_320_180_path'] = image_path \n",
        "        print('file exist', image_path)\n",
        "\n",
        "  return df_new \n"
      ],
      "execution_count": null,
      "outputs": []
    },
    {
      "cell_type": "markdown",
      "metadata": {
        "id": "qc79mLXpYnhA"
      },
      "source": [
        "#Load Data"
      ]
    },
    {
      "cell_type": "code",
      "metadata": {
        "colab": {
          "base_uri": "https://localhost:8080/"
        },
        "id": "a85IDlIFYoqh",
        "outputId": "099d2d65-ef42-4015-a9af-2e4cd0d2d44b"
      },
      "source": [
        "df_raw = get_raw_data()\n",
        "df_raw.info()\n"
      ],
      "execution_count": null,
      "outputs": [
        {
          "output_type": "stream",
          "text": [
            "<class 'pandas.core.frame.DataFrame'>\n",
            "Int64Index: 5199 entries, 2205 to 1712\n",
            "Data columns (total 3 columns):\n",
            " #   Column      Non-Null Count  Dtype \n",
            "---  ------      --------------  ----- \n",
            " 0   cascade_id  5199 non-null   object\n",
            " 1   video_url   5199 non-null   object\n",
            " 2   label       5199 non-null   object\n",
            "dtypes: object(3)\n",
            "memory usage: 162.5+ KB\n"
          ],
          "name": "stdout"
        }
      ]
    },
    {
      "cell_type": "code",
      "metadata": {
        "colab": {
          "base_uri": "https://localhost:8080/"
        },
        "id": "XR-voAF5bG1s",
        "outputId": "bcd5025d-629f-44e8-a61b-84f7d6ac871c"
      },
      "source": [
        "df_raw.sample(10)"
      ],
      "execution_count": null,
      "outputs": [
        {
          "output_type": "execute_result",
          "data": {
            "text/html": [
              "<div>\n",
              "<style scoped>\n",
              "    .dataframe tbody tr th:only-of-type {\n",
              "        vertical-align: middle;\n",
              "    }\n",
              "\n",
              "    .dataframe tbody tr th {\n",
              "        vertical-align: top;\n",
              "    }\n",
              "\n",
              "    .dataframe thead th {\n",
              "        text-align: right;\n",
              "    }\n",
              "</style>\n",
              "<table border=\"1\" class=\"dataframe\">\n",
              "  <thead>\n",
              "    <tr style=\"text-align: right;\">\n",
              "      <th></th>\n",
              "      <th>cascade_id</th>\n",
              "      <th>video_url</th>\n",
              "      <th>label</th>\n",
              "    </tr>\n",
              "  </thead>\n",
              "  <tbody>\n",
              "    <tr>\n",
              "      <th>572</th>\n",
              "      <td>r172</td>\n",
              "      <td>https://www.youtube.com/watch?v=t_P7emQGz6A</td>\n",
              "      <td>real</td>\n",
              "    </tr>\n",
              "    <tr>\n",
              "      <th>670</th>\n",
              "      <td>f93</td>\n",
              "      <td>https://www.facebook.com/hcvideos/videos/46205...</td>\n",
              "      <td>fake</td>\n",
              "    </tr>\n",
              "    <tr>\n",
              "      <th>2756</th>\n",
              "      <td>f96</td>\n",
              "      <td>https://www.youtube.com/watch?v=JioGUnk8p6I</td>\n",
              "      <td>fake</td>\n",
              "    </tr>\n",
              "    <tr>\n",
              "      <th>809</th>\n",
              "      <td>r5</td>\n",
              "      <td>https://www.youtube.com/watch?v=Qr8uqmskQm8</td>\n",
              "      <td>real</td>\n",
              "    </tr>\n",
              "    <tr>\n",
              "      <th>3875</th>\n",
              "      <td>r33</td>\n",
              "      <td>https://www.youtube.com/watch?v=QZtgXKWv59M</td>\n",
              "      <td>real</td>\n",
              "    </tr>\n",
              "    <tr>\n",
              "      <th>1176</th>\n",
              "      <td>f54</td>\n",
              "      <td>https://www.youtube.com/watch?v=p5OOxLoth0U</td>\n",
              "      <td>debunked</td>\n",
              "    </tr>\n",
              "    <tr>\n",
              "      <th>794</th>\n",
              "      <td>r27</td>\n",
              "      <td>https://www.youtube.com/watch?v=zme8S9sym3E</td>\n",
              "      <td>real</td>\n",
              "    </tr>\n",
              "    <tr>\n",
              "      <th>4900</th>\n",
              "      <td>r21</td>\n",
              "      <td>https://www.facebook.com/MQFofficial/videos/17...</td>\n",
              "      <td>real</td>\n",
              "    </tr>\n",
              "    <tr>\n",
              "      <th>4077</th>\n",
              "      <td>f54</td>\n",
              "      <td>https://www.youtube.com/watch?v=NhkGkGELAg0</td>\n",
              "      <td>fake</td>\n",
              "    </tr>\n",
              "    <tr>\n",
              "      <th>3781</th>\n",
              "      <td>r165</td>\n",
              "      <td>https://www.facebook.com/colima.digitall/video...</td>\n",
              "      <td>real</td>\n",
              "    </tr>\n",
              "  </tbody>\n",
              "</table>\n",
              "</div>"
            ],
            "text/plain": [
              "     cascade_id                                          video_url     label\n",
              "572        r172        https://www.youtube.com/watch?v=t_P7emQGz6A      real\n",
              "670         f93  https://www.facebook.com/hcvideos/videos/46205...      fake\n",
              "2756        f96        https://www.youtube.com/watch?v=JioGUnk8p6I      fake\n",
              "809          r5        https://www.youtube.com/watch?v=Qr8uqmskQm8      real\n",
              "3875        r33        https://www.youtube.com/watch?v=QZtgXKWv59M      real\n",
              "1176        f54        https://www.youtube.com/watch?v=p5OOxLoth0U  debunked\n",
              "794         r27        https://www.youtube.com/watch?v=zme8S9sym3E      real\n",
              "4900        r21  https://www.facebook.com/MQFofficial/videos/17...      real\n",
              "4077        f54        https://www.youtube.com/watch?v=NhkGkGELAg0      fake\n",
              "3781       r165  https://www.facebook.com/colima.digitall/video...      real"
            ]
          },
          "metadata": {
            "tags": []
          },
          "execution_count": 216
        }
      ]
    },
    {
      "cell_type": "markdown",
      "metadata": {
        "id": "UFhPkpbCbVQF"
      },
      "source": [
        "# Preprocessing"
      ]
    },
    {
      "cell_type": "markdown",
      "metadata": {
        "id": "ZEph3703h04P"
      },
      "source": [
        "### General"
      ]
    },
    {
      "cell_type": "markdown",
      "metadata": {
        "id": "Px727X05bY53"
      },
      "source": [
        "The video url contains url other than of youtube as well, here we will focus only on fake video on youtube hence we would be filtering out the video url for youtube and discarding others using the regular expression string match. The below link is the visualization for the regex we would be using.\n",
        "\n",
        "https://regexper.com/#https*%3A%5B%2F%2F%5Dwww%5B.%5D%7B1%7Dyoutube%5B.%5D%7B1%7Dcom%5B%2F%5D%7B1%7D%5Cw%2B "
      ]
    },
    {
      "cell_type": "code",
      "metadata": {
        "colab": {
          "base_uri": "https://localhost:8080/",
          "height": 359
        },
        "id": "O6LrUqjlbk4m",
        "outputId": "e00b5527-6dfc-4809-cd85-3537cf7e2e86"
      },
      "source": [
        "df_raw['is_youtube_link'] = df_raw['video_url'].apply(lambda x : match_youtube_url(x))\n",
        "df_raw['is_facebook_link'] = df_raw['video_url'].apply(lambda x : match_facebook_url(x))\n",
        "\n",
        "df_raw.sample(10)"
      ],
      "execution_count": null,
      "outputs": [
        {
          "output_type": "execute_result",
          "data": {
            "text/html": [
              "<div>\n",
              "<style scoped>\n",
              "    .dataframe tbody tr th:only-of-type {\n",
              "        vertical-align: middle;\n",
              "    }\n",
              "\n",
              "    .dataframe tbody tr th {\n",
              "        vertical-align: top;\n",
              "    }\n",
              "\n",
              "    .dataframe thead th {\n",
              "        text-align: right;\n",
              "    }\n",
              "</style>\n",
              "<table border=\"1\" class=\"dataframe\">\n",
              "  <thead>\n",
              "    <tr style=\"text-align: right;\">\n",
              "      <th></th>\n",
              "      <th>cascade_id</th>\n",
              "      <th>video_url</th>\n",
              "      <th>label</th>\n",
              "      <th>is_youtube_link</th>\n",
              "      <th>is_facebook_link</th>\n",
              "    </tr>\n",
              "  </thead>\n",
              "  <tbody>\n",
              "    <tr>\n",
              "      <th>4088</th>\n",
              "      <td>r117</td>\n",
              "      <td>https://www.facebook.com/novostiATO/videos/850...</td>\n",
              "      <td>real</td>\n",
              "      <td>0</td>\n",
              "      <td>1</td>\n",
              "    </tr>\n",
              "    <tr>\n",
              "      <th>2808</th>\n",
              "      <td>f166</td>\n",
              "      <td>https://www.facebook.com/UnionDesPagesScientif...</td>\n",
              "      <td>fake</td>\n",
              "      <td>0</td>\n",
              "      <td>1</td>\n",
              "    </tr>\n",
              "    <tr>\n",
              "      <th>3795</th>\n",
              "      <td>f93</td>\n",
              "      <td>https://www.facebook.com/OfficialPandaNetwork/...</td>\n",
              "      <td>uncertain</td>\n",
              "      <td>0</td>\n",
              "      <td>1</td>\n",
              "    </tr>\n",
              "    <tr>\n",
              "      <th>738</th>\n",
              "      <td>r46</td>\n",
              "      <td>https://www.youtube.com/watch?v=fnv6zdrS8PM</td>\n",
              "      <td>real</td>\n",
              "      <td>1</td>\n",
              "      <td>0</td>\n",
              "    </tr>\n",
              "    <tr>\n",
              "      <th>2774</th>\n",
              "      <td>f155</td>\n",
              "      <td>https://www.facebook.com/www.KalashnikovCorpor...</td>\n",
              "      <td>fake</td>\n",
              "      <td>0</td>\n",
              "      <td>1</td>\n",
              "    </tr>\n",
              "    <tr>\n",
              "      <th>215</th>\n",
              "      <td>r107</td>\n",
              "      <td>https://www.facebook.com/macropolisqr/videos/1...</td>\n",
              "      <td>real</td>\n",
              "      <td>0</td>\n",
              "      <td>1</td>\n",
              "    </tr>\n",
              "    <tr>\n",
              "      <th>4131</th>\n",
              "      <td>f155</td>\n",
              "      <td>https://www.youtube.com/watch?v=ORWluunJ_84</td>\n",
              "      <td>fake</td>\n",
              "      <td>1</td>\n",
              "      <td>0</td>\n",
              "    </tr>\n",
              "    <tr>\n",
              "      <th>4225</th>\n",
              "      <td>f93</td>\n",
              "      <td>https://www.youtube.com/watch?v=j7nRiQh9Ew8</td>\n",
              "      <td>fake</td>\n",
              "      <td>1</td>\n",
              "      <td>0</td>\n",
              "    </tr>\n",
              "    <tr>\n",
              "      <th>3083</th>\n",
              "      <td>f97</td>\n",
              "      <td>https://www.youtube.com/watch?v=d-0rM0ZwJfA</td>\n",
              "      <td>fake</td>\n",
              "      <td>1</td>\n",
              "      <td>0</td>\n",
              "    </tr>\n",
              "    <tr>\n",
              "      <th>848</th>\n",
              "      <td>f84</td>\n",
              "      <td>https://www.youtube.com/watch?v=_W_t4KYcblA</td>\n",
              "      <td>fake</td>\n",
              "      <td>1</td>\n",
              "      <td>0</td>\n",
              "    </tr>\n",
              "  </tbody>\n",
              "</table>\n",
              "</div>"
            ],
            "text/plain": [
              "     cascade_id  ... is_facebook_link\n",
              "4088       r117  ...                1\n",
              "2808       f166  ...                1\n",
              "3795        f93  ...                1\n",
              "738         r46  ...                0\n",
              "2774       f155  ...                1\n",
              "215        r107  ...                1\n",
              "4131       f155  ...                0\n",
              "4225        f93  ...                0\n",
              "3083        f97  ...                0\n",
              "848         f84  ...                0\n",
              "\n",
              "[10 rows x 5 columns]"
            ]
          },
          "metadata": {
            "tags": []
          },
          "execution_count": 217
        }
      ]
    },
    {
      "cell_type": "code",
      "metadata": {
        "colab": {
          "base_uri": "https://localhost:8080/"
        },
        "id": "xJUbdU3xb4Jm",
        "outputId": "fce36896-5fcf-4ec5-aee3-3a4498e0cbe1"
      },
      "source": [
        "df_raw.is_youtube_link.value_counts()"
      ],
      "execution_count": null,
      "outputs": [
        {
          "output_type": "execute_result",
          "data": {
            "text/plain": [
              "1    3028\n",
              "0    2171\n",
              "Name: is_youtube_link, dtype: int64"
            ]
          },
          "metadata": {
            "tags": []
          },
          "execution_count": 218
        }
      ]
    },
    {
      "cell_type": "code",
      "metadata": {
        "colab": {
          "base_uri": "https://localhost:8080/"
        },
        "id": "KjvKMxLacGkm",
        "outputId": "da7851da-d662-46ae-a37d-cf9727be2b6e"
      },
      "source": [
        "df_raw.is_facebook_link.value_counts()"
      ],
      "execution_count": null,
      "outputs": [
        {
          "output_type": "execute_result",
          "data": {
            "text/plain": [
              "0    3169\n",
              "1    2030\n",
              "Name: is_facebook_link, dtype: int64"
            ]
          },
          "metadata": {
            "tags": []
          },
          "execution_count": 219
        }
      ]
    },
    {
      "cell_type": "code",
      "metadata": {
        "id": "XhlbhKmgcvVy"
      },
      "source": [
        "# Though we wouldn't use facebook related rows but its always good to save each form of data\n",
        "save_df(df_raw, '/content/drive/MyDrive/Colab Notebooks/clcikbait_detection/dataset/FVC_CORPUS/fvc_raw_pre_1.csv')"
      ],
      "execution_count": null,
      "outputs": []
    },
    {
      "cell_type": "code",
      "metadata": {
        "colab": {
          "base_uri": "https://localhost:8080/"
        },
        "id": "xhbenCgod0A_",
        "outputId": "d9f12a15-276d-4d6c-e8c7-fcb1ddf13cd8"
      },
      "source": [
        "# Filter for YouTube only rows\n",
        "df_filtered = df_raw.loc[(df_raw.loc[:,'is_youtube_link']==1),['video_url', 'label']]\n",
        "df_filtered.info()"
      ],
      "execution_count": null,
      "outputs": [
        {
          "output_type": "stream",
          "text": [
            "<class 'pandas.core.frame.DataFrame'>\n",
            "Int64Index: 3028 entries, 545 to 1712\n",
            "Data columns (total 2 columns):\n",
            " #   Column     Non-Null Count  Dtype \n",
            "---  ------     --------------  ----- \n",
            " 0   video_url  3028 non-null   object\n",
            " 1   label      3028 non-null   object\n",
            "dtypes: object(2)\n",
            "memory usage: 71.0+ KB\n"
          ],
          "name": "stdout"
        }
      ]
    },
    {
      "cell_type": "code",
      "metadata": {
        "colab": {
          "base_uri": "https://localhost:8080/"
        },
        "id": "q3C6kX3CeWzL",
        "outputId": "399b1693-9fa0-475a-b894-80f76efd87a8"
      },
      "source": [
        "df_filtered.label.value_counts()"
      ],
      "execution_count": null,
      "outputs": [
        {
          "output_type": "execute_result",
          "data": {
            "text/plain": [
              "fake         1679\n",
              "real         1015\n",
              "uncertain     207\n",
              "debunked       70\n",
              "parody         57\n",
              "Name: label, dtype: int64"
            ]
          },
          "metadata": {
            "tags": []
          },
          "execution_count": 222
        }
      ]
    },
    {
      "cell_type": "code",
      "metadata": {
        "colab": {
          "base_uri": "https://localhost:8080/"
        },
        "id": "DajdAIlaeyMM",
        "outputId": "607a01e5-feb7-4049-917c-27f2a06873b4"
      },
      "source": [
        "# We are only interested in rows with label fake or real\n",
        "df_filtered = df_filtered.loc[(df_filtered['label'].isin(['fake','real']))]\n",
        "df_filtered.info()"
      ],
      "execution_count": null,
      "outputs": [
        {
          "output_type": "stream",
          "text": [
            "<class 'pandas.core.frame.DataFrame'>\n",
            "Int64Index: 2694 entries, 545 to 1712\n",
            "Data columns (total 2 columns):\n",
            " #   Column     Non-Null Count  Dtype \n",
            "---  ------     --------------  ----- \n",
            " 0   video_url  2694 non-null   object\n",
            " 1   label      2694 non-null   object\n",
            "dtypes: object(2)\n",
            "memory usage: 63.1+ KB\n"
          ],
          "name": "stdout"
        }
      ]
    },
    {
      "cell_type": "code",
      "metadata": {
        "colab": {
          "base_uri": "https://localhost:8080/"
        },
        "id": "Amq6Vz8Bg6at",
        "outputId": "2ea83cb2-1207-4074-e34e-e0f2fcc5f96d"
      },
      "source": [
        "# Convert label to numeric value -> fake is 1 and real is 0\n",
        "df_filtered.label = df_filtered.label.astype('category') \n",
        "df_filtered.label = df_filtered.label.cat.codes\n",
        "df_filtered.label.value_counts()"
      ],
      "execution_count": null,
      "outputs": [
        {
          "output_type": "execute_result",
          "data": {
            "text/plain": [
              "0    1679\n",
              "1    1015\n",
              "Name: label, dtype: int64"
            ]
          },
          "metadata": {
            "tags": []
          },
          "execution_count": 224
        }
      ]
    },
    {
      "cell_type": "code",
      "metadata": {
        "colab": {
          "base_uri": "https://localhost:8080/",
          "height": 204
        },
        "id": "C91BOO1phs_i",
        "outputId": "26e956ff-4b43-4029-85e0-fe637c0b1d9f"
      },
      "source": [
        "#Shuffle the dataframe for randomness\n",
        "df_filtered_new = df_filtered.sample(frac=1).reset_index(drop=True)\n",
        "df_filtered_new.head()"
      ],
      "execution_count": null,
      "outputs": [
        {
          "output_type": "execute_result",
          "data": {
            "text/html": [
              "<div>\n",
              "<style scoped>\n",
              "    .dataframe tbody tr th:only-of-type {\n",
              "        vertical-align: middle;\n",
              "    }\n",
              "\n",
              "    .dataframe tbody tr th {\n",
              "        vertical-align: top;\n",
              "    }\n",
              "\n",
              "    .dataframe thead th {\n",
              "        text-align: right;\n",
              "    }\n",
              "</style>\n",
              "<table border=\"1\" class=\"dataframe\">\n",
              "  <thead>\n",
              "    <tr style=\"text-align: right;\">\n",
              "      <th></th>\n",
              "      <th>video_url</th>\n",
              "      <th>label</th>\n",
              "    </tr>\n",
              "  </thead>\n",
              "  <tbody>\n",
              "    <tr>\n",
              "      <th>0</th>\n",
              "      <td>https://www.youtube.com/watch?v=FG1LGKieTxY</td>\n",
              "      <td>1</td>\n",
              "    </tr>\n",
              "    <tr>\n",
              "      <th>1</th>\n",
              "      <td>https://www.youtube.com/watch?v=PdfwDNjMruY</td>\n",
              "      <td>0</td>\n",
              "    </tr>\n",
              "    <tr>\n",
              "      <th>2</th>\n",
              "      <td>https://www.youtube.com/watch?v=DtTNkeXG9Pc</td>\n",
              "      <td>1</td>\n",
              "    </tr>\n",
              "    <tr>\n",
              "      <th>3</th>\n",
              "      <td>https://www.youtube.com/watch?v=8-WacNYXZHU</td>\n",
              "      <td>0</td>\n",
              "    </tr>\n",
              "    <tr>\n",
              "      <th>4</th>\n",
              "      <td>https://www.youtube.com/watch?v=Q_aoEvZcxr0</td>\n",
              "      <td>1</td>\n",
              "    </tr>\n",
              "  </tbody>\n",
              "</table>\n",
              "</div>"
            ],
            "text/plain": [
              "                                     video_url  label\n",
              "0  https://www.youtube.com/watch?v=FG1LGKieTxY      1\n",
              "1  https://www.youtube.com/watch?v=PdfwDNjMruY      0\n",
              "2  https://www.youtube.com/watch?v=DtTNkeXG9Pc      1\n",
              "3  https://www.youtube.com/watch?v=8-WacNYXZHU      0\n",
              "4  https://www.youtube.com/watch?v=Q_aoEvZcxr0      1"
            ]
          },
          "metadata": {
            "tags": []
          },
          "execution_count": 225
        }
      ]
    },
    {
      "cell_type": "code",
      "metadata": {
        "id": "7yXIrnTafQA7"
      },
      "source": [
        "save_df(df_filtered, '/content/drive/MyDrive/Colab Notebooks/clcikbait_detection/dataset/FVC_CORPUS/fvc_youtube_only.csv')"
      ],
      "execution_count": null,
      "outputs": []
    },
    {
      "cell_type": "markdown",
      "metadata": {
        "id": "JmOos-Vmh4Bv"
      },
      "source": [
        "### Download Metdata using youtube data api\n",
        "\n",
        "\n"
      ]
    },
    {
      "cell_type": "code",
      "metadata": {
        "colab": {
          "base_uri": "https://localhost:8080/"
        },
        "id": "N1sblrK4jr-a",
        "outputId": "6c48d113-3430-44bb-ed61-8a141196f5be"
      },
      "source": [
        "fakes = np.array(df_filtered.loc[(df_filtered.label==0), ['video_url']]).reshape(-1)\n",
        "reals = np.array(df_filtered.loc[(df_filtered.label==1), ['video_url']]).reshape(-1)\n",
        "\n",
        "df_filtered.shape, fakes.shape, reals.shape"
      ],
      "execution_count": null,
      "outputs": [
        {
          "output_type": "execute_result",
          "data": {
            "text/plain": [
              "((2694, 2), (1679,), (1015,))"
            ]
          },
          "metadata": {
            "tags": []
          },
          "execution_count": 227
        }
      ]
    },
    {
      "cell_type": "code",
      "metadata": {
        "id": "7CJU1Wkaj5rl"
      },
      "source": [
        "# YouTube api returns json data for each video, hence create two files to copy json data\n",
        "fvc_fakes_metadata = Path('/content/drive/MyDrive/Colab Notebooks/clcikbait_detection/dataset/FVC_CORPUS/fvc_fakes_metadata.json')\n",
        "fvc_reals_metadata = Path('/content/drive/MyDrive/Colab Notebooks/clcikbait_detection/dataset/FVC_CORPUS/fvc_reals_metadata.json')\n",
        "\n",
        "fvc_fakes_metadata.touch(exist_ok=True)\n",
        "fvc_reals_metadata.touch(exist_ok=True)"
      ],
      "execution_count": null,
      "outputs": []
    },
    {
      "cell_type": "markdown",
      "metadata": {
        "id": "wdWvexpqiDC6"
      },
      "source": [
        "We would be using YouTube data api v3 for fetching the metadata of videos from video url such as video title, descriptions, thumbnails e.t.c. Get the api key, follow below links for obtaining api key. Learn more about YouTube data api from below official websites\n",
        "\n",
        "https://developers.google.com/youtube/v3/docs/?apix=true \n",
        "\n",
        "https://developers.google.com/maps/documentation/javascript/get-api-key\n",
        "https://console.cloud.google.com/marketplace/product/google/youtube.googleapis.com?q=search&referrer=search&project=decisive-octane-311811"
      ]
    },
    {
      "cell_type": "code",
      "metadata": {
        "id": "N-Ar0XFQh-Qr"
      },
      "source": [
        "# Download metadata for fake videos from YouTube\n",
        "fake_videos_metadata = extract_video_metadata(fakes)"
      ],
      "execution_count": null,
      "outputs": []
    },
    {
      "cell_type": "code",
      "metadata": {
        "id": "Fk9SzTRQl2au"
      },
      "source": [
        "# # Download metadata for real videos from YouTube\n",
        "real_videos_metadata = extract_video_metadata(reals)"
      ],
      "execution_count": null,
      "outputs": []
    },
    {
      "cell_type": "code",
      "metadata": {
        "colab": {
          "base_uri": "https://localhost:8080/"
        },
        "id": "RpOsTVEGl4RP",
        "outputId": "e6e6a22f-0115-4a83-bf1a-4e90905b998a"
      },
      "source": [
        "# We had almost 2600 videos URL's but we can see that the metedata for only around 1800 videos we could fetch. \n",
        "fake_videos_metadata.shape, real_videos_metadata.shape"
      ],
      "execution_count": null,
      "outputs": [
        {
          "output_type": "execute_result",
          "data": {
            "text/plain": [
              "((1104,), (705,))"
            ]
          },
          "metadata": {
            "tags": []
          },
          "execution_count": 238
        }
      ]
    },
    {
      "cell_type": "code",
      "metadata": {
        "id": "UMFmUucgk_pL"
      },
      "source": [
        "# Let's write the downloaded data to our local json file\n",
        "write_json_data(fvc_fakes_metadata, fake_videos_metadata)\n",
        "write_json_data(fvc_reals_metadata, real_videos_metadata)"
      ],
      "execution_count": null,
      "outputs": []
    },
    {
      "cell_type": "markdown",
      "metadata": {
        "id": "ltI8YmwiouJg"
      },
      "source": [
        "### Convert metadata to csv from JSON"
      ]
    },
    {
      "cell_type": "code",
      "metadata": {
        "colab": {
          "base_uri": "https://localhost:8080/"
        },
        "id": "cS_ci9Idowpz",
        "outputId": "eea64f9d-57f8-438e-f132-cacef060b9d3"
      },
      "source": [
        "fake_data_dict_array = []\n",
        "real_data_dict_array = []\n",
        "with jsonlines.open(fvc_fakes_metadata) as reader:\n",
        "    for obj in reader:\n",
        "      fake_data_dict_array.append(obj)\n",
        "\n",
        "with jsonlines.open(fvc_reals_metadata) as reader:\n",
        "    for obj in reader:\n",
        "      real_data_dict_array.append(obj)\n",
        "\n",
        "len(real_data_dict_array), len(fake_data_dict_array)"
      ],
      "execution_count": null,
      "outputs": [
        {
          "output_type": "execute_result",
          "data": {
            "text/plain": [
              "(705, 1104)"
            ]
          },
          "metadata": {
            "tags": []
          },
          "execution_count": 240
        }
      ]
    },
    {
      "cell_type": "code",
      "metadata": {
        "colab": {
          "base_uri": "https://localhost:8080/",
          "height": 35
        },
        "id": "goSK_qFavGI7",
        "outputId": "d17de98d-7942-4d90-a6ac-94c24fadb54b"
      },
      "source": [
        "fake_data_dict_array[0]['items'][0]['snippet']['title']"
      ],
      "execution_count": null,
      "outputs": [
        {
          "output_type": "execute_result",
          "data": {
            "application/vnd.google.colaboratory.intrinsic+json": {
              "type": "string"
            },
            "text/plain": [
              "'UFO spotted in Sao Paulo?'"
            ]
          },
          "metadata": {
            "tags": []
          },
          "execution_count": 274
        }
      ]
    },
    {
      "cell_type": "code",
      "metadata": {
        "colab": {
          "base_uri": "https://localhost:8080/"
        },
        "id": "HEnYEr4epErs",
        "outputId": "56eaab34-db59-495c-84d9-e9233cdadad6"
      },
      "source": [
        "df_real_metadata = pd.DataFrame.from_dict(real_data_dict_array)\n",
        "df_fake_metadata = pd.DataFrame.from_dict(fake_data_dict_array)\n",
        "df_fake_metadata.shape, df_real_metadata.shape"
      ],
      "execution_count": null,
      "outputs": [
        {
          "output_type": "execute_result",
          "data": {
            "text/plain": [
              "((1104, 4), (705, 4))"
            ]
          },
          "metadata": {
            "tags": []
          },
          "execution_count": 241
        }
      ]
    },
    {
      "cell_type": "code",
      "metadata": {
        "colab": {
          "base_uri": "https://localhost:8080/"
        },
        "id": "8_XwDlpWpLn6",
        "outputId": "bdd209b0-ce6b-40f0-9dff-cb56498a96d2"
      },
      "source": [
        "df_real_metadata['is_fake'] = 0\n",
        "df_fake_metadata['is_fake'] = 1\n",
        "\n",
        "FVC_df = pd.concat([df_real_metadata, df_fake_metadata], ignore_index=True)\n",
        "FVC_df.info()"
      ],
      "execution_count": null,
      "outputs": [
        {
          "output_type": "stream",
          "text": [
            "<class 'pandas.core.frame.DataFrame'>\n",
            "RangeIndex: 1809 entries, 0 to 1808\n",
            "Data columns (total 5 columns):\n",
            " #   Column    Non-Null Count  Dtype \n",
            "---  ------    --------------  ----- \n",
            " 0   kind      1809 non-null   object\n",
            " 1   etag      1809 non-null   object\n",
            " 2   items     1809 non-null   object\n",
            " 3   pageInfo  1809 non-null   object\n",
            " 4   is_fake   1809 non-null   int64 \n",
            "dtypes: int64(1), object(4)\n",
            "memory usage: 70.8+ KB\n"
          ],
          "name": "stdout"
        }
      ]
    },
    {
      "cell_type": "code",
      "metadata": {
        "colab": {
          "base_uri": "https://localhost:8080/",
          "height": 359
        },
        "id": "HgayeFBmpYuI",
        "outputId": "2872b0cf-c2b0-4885-e427-86a613049c2f"
      },
      "source": [
        "FVC_df = FVC_df.sample(frac=1).reset_index(drop=True)\n",
        "FVC_df.head(10)"
      ],
      "execution_count": null,
      "outputs": [
        {
          "output_type": "execute_result",
          "data": {
            "text/html": [
              "<div>\n",
              "<style scoped>\n",
              "    .dataframe tbody tr th:only-of-type {\n",
              "        vertical-align: middle;\n",
              "    }\n",
              "\n",
              "    .dataframe tbody tr th {\n",
              "        vertical-align: top;\n",
              "    }\n",
              "\n",
              "    .dataframe thead th {\n",
              "        text-align: right;\n",
              "    }\n",
              "</style>\n",
              "<table border=\"1\" class=\"dataframe\">\n",
              "  <thead>\n",
              "    <tr style=\"text-align: right;\">\n",
              "      <th></th>\n",
              "      <th>kind</th>\n",
              "      <th>etag</th>\n",
              "      <th>items</th>\n",
              "      <th>pageInfo</th>\n",
              "      <th>is_fake</th>\n",
              "    </tr>\n",
              "  </thead>\n",
              "  <tbody>\n",
              "    <tr>\n",
              "      <th>0</th>\n",
              "      <td>youtube#videoListResponse</td>\n",
              "      <td>qXgJ4GBHFacYL_ilki8XHQgzkOk</td>\n",
              "      <td>[{'kind': 'youtube#video', 'etag': '1RbaajChwA...</td>\n",
              "      <td>{'totalResults': 1, 'resultsPerPage': 1}</td>\n",
              "      <td>1</td>\n",
              "    </tr>\n",
              "    <tr>\n",
              "      <th>1</th>\n",
              "      <td>youtube#videoListResponse</td>\n",
              "      <td>3FlLC8kAQ4aQyVGMYGDHRuZnEdg</td>\n",
              "      <td>[{'kind': 'youtube#video', 'etag': 'tz2Gg6j9Y7...</td>\n",
              "      <td>{'totalResults': 1, 'resultsPerPage': 1}</td>\n",
              "      <td>0</td>\n",
              "    </tr>\n",
              "    <tr>\n",
              "      <th>2</th>\n",
              "      <td>youtube#videoListResponse</td>\n",
              "      <td>jEslIxG66jM1PHPxNMmu6NpvgjE</td>\n",
              "      <td>[{'kind': 'youtube#video', 'etag': 'fBwrp0mb9X...</td>\n",
              "      <td>{'totalResults': 1, 'resultsPerPage': 1}</td>\n",
              "      <td>0</td>\n",
              "    </tr>\n",
              "    <tr>\n",
              "      <th>3</th>\n",
              "      <td>youtube#videoListResponse</td>\n",
              "      <td>pQfbko7mQ6iZQtaP9VR5y4TsYKQ</td>\n",
              "      <td>[{'kind': 'youtube#video', 'etag': 'DOyfwLNM3Q...</td>\n",
              "      <td>{'totalResults': 1, 'resultsPerPage': 1}</td>\n",
              "      <td>0</td>\n",
              "    </tr>\n",
              "    <tr>\n",
              "      <th>4</th>\n",
              "      <td>youtube#videoListResponse</td>\n",
              "      <td>QiBMyZmJ0o-nVpipkGx8xI3L71E</td>\n",
              "      <td>[{'kind': 'youtube#video', 'etag': 'cexpvnjrro...</td>\n",
              "      <td>{'totalResults': 1, 'resultsPerPage': 1}</td>\n",
              "      <td>1</td>\n",
              "    </tr>\n",
              "    <tr>\n",
              "      <th>5</th>\n",
              "      <td>youtube#videoListResponse</td>\n",
              "      <td>jSJ8lpLoKXIevhjnmIpbXgUQ5eY</td>\n",
              "      <td>[{'kind': 'youtube#video', 'etag': 'uz__8uwli0...</td>\n",
              "      <td>{'totalResults': 1, 'resultsPerPage': 1}</td>\n",
              "      <td>1</td>\n",
              "    </tr>\n",
              "    <tr>\n",
              "      <th>6</th>\n",
              "      <td>youtube#videoListResponse</td>\n",
              "      <td>PzYpIje8-UZFcekvBZUOycQ_x08</td>\n",
              "      <td>[{'kind': 'youtube#video', 'etag': 'yUYj1Zpzvz...</td>\n",
              "      <td>{'totalResults': 1, 'resultsPerPage': 1}</td>\n",
              "      <td>1</td>\n",
              "    </tr>\n",
              "    <tr>\n",
              "      <th>7</th>\n",
              "      <td>youtube#videoListResponse</td>\n",
              "      <td>hbBn2rPVmN7_xx7SCwvVpUhgKN0</td>\n",
              "      <td>[{'kind': 'youtube#video', 'etag': '7afUx5wz64...</td>\n",
              "      <td>{'totalResults': 1, 'resultsPerPage': 1}</td>\n",
              "      <td>0</td>\n",
              "    </tr>\n",
              "    <tr>\n",
              "      <th>8</th>\n",
              "      <td>youtube#videoListResponse</td>\n",
              "      <td>wzblsK3hSVc8KQBvasjnKWtt9rs</td>\n",
              "      <td>[{'kind': 'youtube#video', 'etag': '1AZpRHx_dt...</td>\n",
              "      <td>{'totalResults': 1, 'resultsPerPage': 1}</td>\n",
              "      <td>1</td>\n",
              "    </tr>\n",
              "    <tr>\n",
              "      <th>9</th>\n",
              "      <td>youtube#videoListResponse</td>\n",
              "      <td>v48iBYTbiDPWDHMOZ0SJOsNX8PI</td>\n",
              "      <td>[{'kind': 'youtube#video', 'etag': 'lIQYJ8SuPY...</td>\n",
              "      <td>{'totalResults': 1, 'resultsPerPage': 1}</td>\n",
              "      <td>0</td>\n",
              "    </tr>\n",
              "  </tbody>\n",
              "</table>\n",
              "</div>"
            ],
            "text/plain": [
              "                        kind  ... is_fake\n",
              "0  youtube#videoListResponse  ...       1\n",
              "1  youtube#videoListResponse  ...       0\n",
              "2  youtube#videoListResponse  ...       0\n",
              "3  youtube#videoListResponse  ...       0\n",
              "4  youtube#videoListResponse  ...       1\n",
              "5  youtube#videoListResponse  ...       1\n",
              "6  youtube#videoListResponse  ...       1\n",
              "7  youtube#videoListResponse  ...       0\n",
              "8  youtube#videoListResponse  ...       1\n",
              "9  youtube#videoListResponse  ...       0\n",
              "\n",
              "[10 rows x 5 columns]"
            ]
          },
          "metadata": {
            "tags": []
          },
          "execution_count": 243
        }
      ]
    },
    {
      "cell_type": "code",
      "metadata": {
        "id": "9t_Qdo2ppa5M"
      },
      "source": [
        "save_df(FVC_df, '/content/drive/MyDrive/Colab Notebooks/clcikbait_detection/dataset/FVC_CORPUS/fvc_with_metadata_raw.csv')"
      ],
      "execution_count": null,
      "outputs": []
    },
    {
      "cell_type": "markdown",
      "metadata": {
        "id": "QywZSz_Mp85f"
      },
      "source": [
        "## Preprocess FVC metadata"
      ]
    },
    {
      "cell_type": "code",
      "metadata": {
        "colab": {
          "base_uri": "https://localhost:8080/",
          "height": 204
        },
        "id": "aFdfTKiUp_-S",
        "outputId": "c0a49a98-1606-4ece-ac36-216910b2e4f3"
      },
      "source": [
        "FVC_metadata_df = pd.read_csv('/content/drive/MyDrive/Colab Notebooks/clcikbait_detection/dataset/FVC_CORPUS/fvc_with_metadata_raw.csv')\n",
        "FVC_metadata_df = FVC_df.loc[:,['items','is_fake']]\n",
        "FVC_metadata_df.head()"
      ],
      "execution_count": null,
      "outputs": [
        {
          "output_type": "execute_result",
          "data": {
            "text/html": [
              "<div>\n",
              "<style scoped>\n",
              "    .dataframe tbody tr th:only-of-type {\n",
              "        vertical-align: middle;\n",
              "    }\n",
              "\n",
              "    .dataframe tbody tr th {\n",
              "        vertical-align: top;\n",
              "    }\n",
              "\n",
              "    .dataframe thead th {\n",
              "        text-align: right;\n",
              "    }\n",
              "</style>\n",
              "<table border=\"1\" class=\"dataframe\">\n",
              "  <thead>\n",
              "    <tr style=\"text-align: right;\">\n",
              "      <th></th>\n",
              "      <th>items</th>\n",
              "      <th>is_fake</th>\n",
              "    </tr>\n",
              "  </thead>\n",
              "  <tbody>\n",
              "    <tr>\n",
              "      <th>0</th>\n",
              "      <td>[{'kind': 'youtube#video', 'etag': '1RbaajChwA...</td>\n",
              "      <td>1</td>\n",
              "    </tr>\n",
              "    <tr>\n",
              "      <th>1</th>\n",
              "      <td>[{'kind': 'youtube#video', 'etag': 'tz2Gg6j9Y7...</td>\n",
              "      <td>0</td>\n",
              "    </tr>\n",
              "    <tr>\n",
              "      <th>2</th>\n",
              "      <td>[{'kind': 'youtube#video', 'etag': 'fBwrp0mb9X...</td>\n",
              "      <td>0</td>\n",
              "    </tr>\n",
              "    <tr>\n",
              "      <th>3</th>\n",
              "      <td>[{'kind': 'youtube#video', 'etag': 'DOyfwLNM3Q...</td>\n",
              "      <td>0</td>\n",
              "    </tr>\n",
              "    <tr>\n",
              "      <th>4</th>\n",
              "      <td>[{'kind': 'youtube#video', 'etag': 'cexpvnjrro...</td>\n",
              "      <td>1</td>\n",
              "    </tr>\n",
              "  </tbody>\n",
              "</table>\n",
              "</div>"
            ],
            "text/plain": [
              "                                               items  is_fake\n",
              "0  [{'kind': 'youtube#video', 'etag': '1RbaajChwA...        1\n",
              "1  [{'kind': 'youtube#video', 'etag': 'tz2Gg6j9Y7...        0\n",
              "2  [{'kind': 'youtube#video', 'etag': 'fBwrp0mb9X...        0\n",
              "3  [{'kind': 'youtube#video', 'etag': 'DOyfwLNM3Q...        0\n",
              "4  [{'kind': 'youtube#video', 'etag': 'cexpvnjrro...        1"
            ]
          },
          "metadata": {
            "tags": []
          },
          "execution_count": 332
        }
      ]
    },
    {
      "cell_type": "code",
      "metadata": {
        "id": "6MJW-dQsriYI"
      },
      "source": [
        "FVC_metadata_df['id'] = FVC_metadata_df.apply(lambda x : extract_list_data(x,'items','id', clean_text=False),axis=1)\n",
        "FVC_metadata_df['title'] = FVC_metadata_df.apply(lambda x : extract_list_data(x,'items','snippet','title'), axis=1)\n",
        "FVC_metadata_df['description'] = FVC_metadata_df.apply(lambda x : extract_list_data(x,'items','snippet','description'), axis=1)\n",
        "FVC_metadata_df['tags'] = FVC_metadata_df.apply(lambda x : extract_list_data(x,'items','snippet','tags', clean_text=False), axis=1)\n",
        "FVC_metadata_df['thumbnails'] = FVC_metadata_df.apply(lambda x : extract_list_data(x,'items','snippet','thumbnails', clean_text=False), axis=1)\n",
        "FVC_metadata_df['thumbnail_320_180'] = FVC_metadata_df.loc[:,'thumbnails'].apply(lambda x : extract_from_dict(x,'medium','url'))\n",
        "FVC_metadata_df['thumbnail_120_90'] = FVC_metadata_df.loc[:,'thumbnails'].apply(lambda x : extract_from_dict(x,'default','url'))\n",
        "FVC_metadata_df['thumbnail_480_360'] = FVC_metadata_df.loc[:,'thumbnails'].apply(lambda x : extract_from_dict(x,'high','url'))\n",
        "FVC_metadata_df = FVC_metadata_df.drop(['items','thumbnails'], axis=1)"
      ],
      "execution_count": null,
      "outputs": []
    },
    {
      "cell_type": "code",
      "metadata": {
        "colab": {
          "base_uri": "https://localhost:8080/"
        },
        "id": "tT0ampyt1xj1",
        "outputId": "4cb4e5bb-3fc0-4d8b-be92-5a280c291c4f"
      },
      "source": [
        "# Remove rows where both title and description are not present\n",
        "FVC_metadata_df = FVC_metadata_df.loc[~((FVC_metadata_df.description == '') & (FVC_metadata_df.title == ''))]\n",
        "FVC_metadata_df.shape"
      ],
      "execution_count": null,
      "outputs": [
        {
          "output_type": "execute_result",
          "data": {
            "text/plain": [
              "(1589, 8)"
            ]
          },
          "metadata": {
            "tags": []
          },
          "execution_count": 334
        }
      ]
    },
    {
      "cell_type": "code",
      "metadata": {
        "id": "OsIbK8va0c3H"
      },
      "source": [
        "save_df(FVC_metadata_df, '/content/drive/MyDrive/Colab Notebooks/clcikbait_detection/dataset/FVC_CORPUS/fvc_with_metadata_processed.csv')"
      ],
      "execution_count": null,
      "outputs": []
    },
    {
      "cell_type": "markdown",
      "metadata": {
        "id": "tM_icqfK3lbp"
      },
      "source": [
        "## Download and map thumbnails"
      ]
    },
    {
      "cell_type": "code",
      "metadata": {
        "id": "HfcUJdzY3mZT"
      },
      "source": [
        "FVC_filtered = pd.read_csv('/content/drive/MyDrive/Colab Notebooks/clcikbait_detection/dataset/FVC_CORPUS/fvc_with_metadata_processed.csv')"
      ],
      "execution_count": null,
      "outputs": []
    },
    {
      "cell_type": "code",
      "metadata": {
        "id": "-23op5FZ34nU"
      },
      "source": [
        "clickbaitImage_dir = '/content/drive/MyDrive/Colab Notebooks/clcikbait_detection/dataset/FVC_CORPUS/thumbnails/clickbaits'\n",
        "nonclickbaitsImage_dir = '/content/drive/MyDrive/Colab Notebooks/clcikbait_detection/dataset/FVC_CORPUS/thumbnails/nonclickbaits'\n",
        "\n",
        "if not os.path.exists(clickbaitImage_dir):\n",
        "    os.makedirs(clickbaitImage_dir)\n",
        "\n",
        "if not os.path.exists(nonclickbaitsImage_dir):\n",
        "    os.makedirs(nonclickbaitsImage_dir)"
      ],
      "execution_count": null,
      "outputs": []
    },
    {
      "cell_type": "code",
      "metadata": {
        "colab": {
          "base_uri": "https://localhost:8080/"
        },
        "id": "2DfnTfZu5Rn1",
        "outputId": "87188bd7-29ab-4eb3-d82a-b226c44236cd"
      },
      "source": [
        "#Download thumbnails and map the downloaded file path\n",
        "FVC_filtered_mapped = download_save_image(FVC_filtered)"
      ],
      "execution_count": null,
      "outputs": [
        {
          "output_type": "stream",
          "text": [
            "0 : success\n",
            "1 : success\n",
            "2 : success\n",
            "3 : success\n",
            "4 : success\n",
            "5 : success\n",
            "6 : success\n",
            "7 : success\n",
            "8 : success\n",
            "9 : success\n",
            "10 : success\n",
            "11 : success\n",
            "12 : success\n",
            "13 : success\n",
            "14 : success\n",
            "15 : success\n",
            "16 : success\n",
            "17 : success\n",
            "18 : success\n",
            "19 : success\n",
            "20 : success\n",
            "21 : success\n",
            "22 : success\n",
            "23 : success\n",
            "24 : success\n",
            "25 : success\n",
            "26 : success\n",
            "27 : success\n",
            "28 : success\n",
            "29 : success\n",
            "30 : success\n",
            "31 : success\n",
            "32 : success\n",
            "33 : success\n",
            "34 : success\n",
            "35 : success\n",
            "36 : success\n",
            "37 : success\n",
            "38 : success\n",
            "39 : success\n",
            "40 : success\n",
            "41 : success\n",
            "42 : success\n",
            "43 : success\n",
            "44 : success\n",
            "45 : success\n",
            "46 : success\n",
            "47 : success\n",
            "48 : success\n",
            "49 : success\n",
            "50 : success\n",
            "51 : success\n",
            "52 : success\n",
            "53 : success\n",
            "54 : success\n",
            "55 : success\n",
            "56 : success\n",
            "57 : success\n",
            "58 : success\n",
            "59 : success\n",
            "60 : success\n",
            "61 : success\n",
            "62 : success\n",
            "63 : success\n",
            "64 : success\n",
            "65 : success\n",
            "66 : success\n",
            "67 : success\n",
            "68 : success\n",
            "69 : success\n",
            "70 : success\n",
            "71 : success\n",
            "72 : success\n",
            "73 : success\n",
            "74 : success\n",
            "75 : success\n",
            "76 : success\n",
            "77 : success\n",
            "78 : success\n",
            "79 : success\n",
            "80 : success\n",
            "81 : success\n",
            "82 : success\n",
            "83 : success\n",
            "84 : success\n",
            "85 : success\n",
            "86 : success\n",
            "87 : success\n",
            "88 : success\n",
            "89 : success\n",
            "90 : success\n",
            "91 : success\n",
            "92 : success\n",
            "93 : success\n",
            "94 : success\n",
            "95 : success\n",
            "96 : success\n",
            "97 : success\n",
            "98 : success\n",
            "99 : success\n",
            "100 : success\n",
            "101 : success\n",
            "102 : success\n",
            "103 : success\n",
            "104 : success\n",
            "105 : success\n",
            "106 : success\n",
            "107 : success\n",
            "108 : success\n",
            "109 : success\n",
            "110 : success\n",
            "111 : success\n",
            "112 : success\n",
            "113 : success\n",
            "114 : success\n",
            "115 : success\n",
            "116 : success\n",
            "117 : success\n",
            "118 : success\n",
            "119 : success\n",
            "120 : success\n",
            "121 : success\n",
            "122 : success\n",
            "123 : success\n",
            "124 : success\n",
            "125 : success\n",
            "126 : success\n",
            "127 : success\n",
            "128 : success\n",
            "129 : success\n",
            "130 : success\n",
            "131 : success\n",
            "132 : success\n",
            "133 : success\n",
            "134 : success\n",
            "135 : success\n",
            "136 : success\n",
            "137 : success\n",
            "138 : success\n",
            "139 : success\n",
            "140 : success\n",
            "141 : success\n",
            "142 : success\n",
            "143 : success\n",
            "144 : success\n",
            "145 : success\n",
            "146 : success\n",
            "147 : success\n",
            "148 : success\n",
            "149 : success\n",
            "150 : success\n",
            "151 : success\n",
            "152 : success\n",
            "153 : success\n",
            "154 : success\n",
            "155 : success\n",
            "156 : success\n",
            "157 : success\n",
            "158 : success\n",
            "159 : success\n",
            "160 : success\n",
            "161 : success\n",
            "162 : success\n",
            "163 : success\n",
            "164 : success\n",
            "165 : success\n",
            "166 : success\n",
            "167 : success\n",
            "168 : success\n",
            "169 : success\n",
            "170 : success\n",
            "171 : success\n",
            "172 : success\n",
            "173 : success\n",
            "174 : success\n",
            "175 : success\n",
            "176 : success\n",
            "177 : success\n",
            "178 : success\n",
            "179 : success\n",
            "180 : success\n",
            "181 : success\n",
            "182 : success\n",
            "183 : success\n",
            "184 : success\n",
            "185 : success\n",
            "186 : success\n",
            "187 : success\n",
            "188 : success\n",
            "189 : success\n",
            "190 : success\n",
            "191 : success\n",
            "192 : success\n",
            "193 : success\n",
            "194 : success\n",
            "195 : success\n",
            "196 : success\n",
            "197 : success\n",
            "198 : success\n",
            "199 : success\n",
            "200 : success\n",
            "201 : success\n",
            "202 : success\n",
            "203 : success\n",
            "204 : success\n",
            "205 : success\n",
            "206 : success\n",
            "207 : success\n",
            "208 : success\n",
            "209 : success\n",
            "210 : success\n",
            "211 : success\n",
            "212 : success\n",
            "213 : success\n",
            "214 : success\n",
            "215 : success\n",
            "216 : success\n",
            "217 : success\n",
            "218 : success\n",
            "219 : success\n",
            "220 : success\n",
            "221 : success\n",
            "222 : success\n",
            "223 : success\n",
            "224 : success\n",
            "225 : success\n",
            "226 : success\n",
            "227 : success\n",
            "228 : success\n",
            "229 : success\n",
            "230 : success\n",
            "231 : success\n",
            "232 : success\n",
            "233 : success\n",
            "234 : success\n",
            "235 : success\n",
            "236 : success\n",
            "237 : success\n",
            "238 : success\n",
            "239 : success\n",
            "240 : success\n",
            "241 : success\n",
            "242 : success\n",
            "243 : success\n",
            "244 : success\n",
            "245 : success\n",
            "246 : success\n",
            "247 : success\n",
            "248 : success\n",
            "249 : success\n",
            "250 : success\n",
            "251 : success\n",
            "252 : success\n",
            "253 : success\n",
            "254 : success\n",
            "255 : success\n",
            "256 : success\n",
            "257 : success\n",
            "258 : success\n",
            "259 : success\n",
            "260 : success\n",
            "261 : success\n",
            "262 : success\n",
            "263 : success\n",
            "264 : success\n",
            "265 : success\n",
            "266 : success\n",
            "267 : success\n",
            "268 : success\n",
            "269 : success\n",
            "270 : success\n",
            "271 : success\n",
            "272 : success\n",
            "273 : success\n",
            "274 : success\n",
            "275 : success\n",
            "276 : success\n",
            "277 : success\n",
            "278 : success\n",
            "279 : success\n",
            "280 : success\n",
            "281 : success\n",
            "282 : success\n",
            "283 : success\n",
            "284 : success\n",
            "285 : success\n",
            "286 : success\n",
            "287 : success\n",
            "288 : success\n",
            "289 : success\n",
            "290 : success\n",
            "291 : success\n",
            "292 : success\n",
            "293 : success\n",
            "294 : success\n",
            "295 : success\n",
            "296 : success\n",
            "297 : success\n",
            "298 : success\n",
            "299 : success\n",
            "300 : success\n",
            "301 : success\n",
            "302 : success\n",
            "303 : success\n",
            "304 : success\n",
            "305 : success\n",
            "306 : success\n",
            "307 : success\n",
            "308 : success\n",
            "309 : success\n",
            "310 : success\n",
            "311 : success\n",
            "312 : success\n",
            "313 : success\n",
            "314 : success\n",
            "315 : success\n",
            "316 : success\n",
            "317 : success\n",
            "318 : success\n",
            "319 : success\n",
            "320 : success\n",
            "321 : success\n",
            "322 : success\n",
            "323 : success\n",
            "324 : success\n",
            "325 : success\n",
            "326 : success\n",
            "327 : success\n",
            "328 : success\n",
            "329 : success\n",
            "330 : success\n",
            "331 : success\n",
            "332 : success\n",
            "333 : success\n",
            "334 : success\n",
            "335 : success\n",
            "336 : success\n",
            "337 : success\n",
            "338 : success\n",
            "339 : success\n",
            "340 : success\n",
            "341 : success\n",
            "342 : success\n",
            "343 : success\n",
            "344 : success\n",
            "345 : success\n",
            "346 : success\n",
            "347 : success\n",
            "348 : success\n",
            "349 : success\n",
            "350 : success\n",
            "351 : success\n",
            "352 : success\n",
            "353 : success\n",
            "354 : success\n",
            "355 : success\n",
            "356 : success\n",
            "357 : success\n",
            "358 : success\n",
            "359 : success\n",
            "360 : success\n",
            "361 : success\n",
            "362 : success\n",
            "363 : success\n",
            "364 : success\n",
            "365 : success\n",
            "366 : success\n",
            "367 : success\n",
            "368 : success\n",
            "369 : success\n",
            "370 : success\n",
            "371 : success\n",
            "372 : success\n",
            "373 : success\n",
            "374 : success\n",
            "375 : success\n",
            "376 : success\n",
            "377 : success\n",
            "378 : success\n",
            "379 : success\n",
            "380 : success\n",
            "381 : success\n",
            "382 : success\n",
            "383 : success\n",
            "384 : success\n",
            "385 : success\n",
            "386 : success\n",
            "387 : success\n",
            "388 : success\n",
            "389 : success\n",
            "390 : success\n",
            "391 : success\n",
            "392 : success\n",
            "393 : success\n",
            "394 : success\n",
            "395 : success\n",
            "396 : success\n",
            "397 : success\n",
            "398 : success\n",
            "399 : success\n",
            "400 : success\n",
            "401 : success\n",
            "402 : success\n",
            "403 : success\n",
            "404 : success\n",
            "405 : success\n",
            "406 : success\n",
            "407 : success\n",
            "408 : success\n",
            "409 : success\n",
            "410 : success\n",
            "411 : success\n",
            "412 : success\n",
            "413 : success\n",
            "414 : success\n",
            "415 : success\n",
            "416 : success\n",
            "417 : success\n",
            "418 : success\n",
            "419 : success\n",
            "420 : success\n",
            "421 : success\n",
            "422 : success\n",
            "423 : success\n",
            "424 : success\n",
            "425 : success\n",
            "426 : success\n",
            "427 : success\n",
            "428 : success\n",
            "429 : success\n",
            "430 : success\n",
            "431 : success\n",
            "432 : success\n",
            "433 : success\n",
            "434 : success\n",
            "435 : success\n",
            "436 : success\n",
            "437 : success\n",
            "438 : success\n",
            "439 : success\n",
            "440 : success\n",
            "441 : success\n",
            "442 : success\n",
            "443 : success\n",
            "444 : success\n",
            "445 : success\n",
            "446 : success\n",
            "447 : success\n",
            "448 : success\n",
            "449 : success\n",
            "450 : success\n",
            "451 : success\n",
            "452 : success\n",
            "453 : success\n",
            "454 : success\n",
            "455 : success\n",
            "456 : success\n",
            "457 : success\n",
            "458 : success\n",
            "459 : success\n",
            "460 : success\n",
            "461 : success\n",
            "462 : success\n",
            "463 : success\n",
            "464 : success\n",
            "465 : success\n",
            "466 : success\n",
            "467 : success\n",
            "468 : success\n",
            "469 : success\n",
            "470 : success\n",
            "471 : success\n",
            "472 : success\n",
            "473 : success\n",
            "474 : success\n",
            "475 : success\n",
            "476 : success\n",
            "477 : success\n",
            "478 : success\n",
            "479 : success\n",
            "480 : success\n",
            "481 : success\n",
            "482 : success\n",
            "483 : success\n",
            "484 : success\n",
            "485 : success\n",
            "486 : success\n",
            "487 : success\n",
            "488 : success\n",
            "489 : success\n",
            "490 : success\n",
            "491 : success\n",
            "492 : success\n",
            "493 : success\n",
            "494 : success\n",
            "495 : success\n",
            "496 : success\n",
            "497 : success\n",
            "498 : success\n",
            "499 : success\n",
            "500 : success\n",
            "501 : success\n",
            "502 : success\n",
            "503 : success\n",
            "504 : success\n",
            "505 : success\n",
            "506 : success\n",
            "507 : success\n",
            "508 : success\n",
            "509 : success\n",
            "510 : success\n",
            "511 : success\n",
            "512 : success\n",
            "513 : success\n",
            "514 : success\n",
            "515 : success\n",
            "516 : success\n",
            "517 : success\n",
            "518 : success\n",
            "519 : success\n",
            "520 : success\n",
            "521 : success\n",
            "522 : success\n",
            "523 : success\n",
            "524 : success\n",
            "525 : success\n",
            "526 : success\n",
            "527 : success\n",
            "528 : success\n",
            "529 : success\n",
            "530 : success\n",
            "531 : success\n",
            "532 : success\n",
            "533 : success\n",
            "534 : success\n",
            "535 : success\n",
            "536 : success\n",
            "537 : success\n",
            "538 : success\n",
            "539 : success\n",
            "540 : success\n",
            "541 : success\n",
            "542 : success\n",
            "543 : success\n",
            "544 : success\n",
            "545 : success\n",
            "546 : success\n",
            "547 : success\n",
            "548 : success\n",
            "549 : success\n",
            "550 : success\n",
            "551 : success\n",
            "552 : success\n",
            "553 : success\n",
            "554 : success\n",
            "555 : success\n",
            "556 : success\n",
            "557 : success\n",
            "558 : success\n",
            "559 : success\n",
            "560 : success\n",
            "561 : success\n",
            "562 : success\n",
            "563 : success\n",
            "564 : success\n",
            "565 : success\n",
            "566 : success\n",
            "567 : success\n",
            "568 : success\n",
            "569 : success\n",
            "570 : success\n",
            "571 : success\n",
            "572 : success\n",
            "573 : success\n",
            "574 : success\n",
            "575 : success\n",
            "576 : success\n",
            "577 : success\n",
            "578 : success\n",
            "579 : success\n",
            "580 : success\n",
            "581 : success\n",
            "582 : success\n",
            "583 : success\n",
            "584 : success\n",
            "585 : success\n",
            "586 : success\n",
            "587 : success\n",
            "588 : success\n",
            "589 : success\n",
            "590 : success\n",
            "591 : success\n",
            "592 : success\n",
            "593 : success\n",
            "594 : success\n",
            "595 : success\n",
            "596 : success\n",
            "597 : success\n",
            "598 : success\n",
            "599 : success\n",
            "600 : success\n",
            "601 : success\n",
            "602 : success\n",
            "603 : success\n",
            "604 : success\n",
            "605 : success\n",
            "606 : success\n",
            "607 : success\n",
            "608 : success\n",
            "609 : success\n",
            "610 : success\n",
            "611 : success\n",
            "612 : success\n",
            "613 : success\n",
            "614 : success\n",
            "615 : success\n",
            "616 : success\n",
            "617 : success\n",
            "618 : success\n",
            "619 : success\n",
            "620 : success\n",
            "621 : success\n",
            "622 : success\n",
            "623 : success\n",
            "624 : success\n",
            "625 : success\n",
            "626 : success\n",
            "627 : success\n",
            "628 : success\n",
            "629 : success\n",
            "630 : success\n",
            "631 : success\n",
            "632 : success\n",
            "633 : success\n",
            "634 : success\n",
            "635 : success\n",
            "636 : success\n",
            "637 : success\n",
            "638 : success\n",
            "639 : success\n",
            "640 : success\n",
            "641 : success\n",
            "642 : success\n",
            "643 : success\n",
            "644 : success\n",
            "645 : success\n",
            "646 : success\n",
            "647 : success\n",
            "648 : success\n",
            "649 : success\n",
            "650 : success\n",
            "651 : success\n",
            "652 : success\n",
            "653 : success\n",
            "654 : success\n",
            "655 : success\n",
            "656 : success\n",
            "657 : success\n",
            "658 : success\n",
            "659 : success\n",
            "660 : success\n",
            "661 : success\n",
            "662 : success\n",
            "663 : success\n",
            "664 : success\n",
            "665 : success\n",
            "666 : success\n",
            "667 : success\n",
            "668 : success\n",
            "669 : success\n",
            "670 : success\n",
            "671 : success\n",
            "672 : success\n",
            "673 : success\n",
            "674 : success\n",
            "675 : success\n",
            "676 : success\n",
            "677 : success\n",
            "678 : success\n",
            "679 : success\n",
            "680 : success\n",
            "681 : success\n",
            "682 : success\n",
            "683 : success\n",
            "684 : success\n",
            "685 : success\n",
            "686 : success\n",
            "687 : success\n",
            "688 : success\n",
            "689 : success\n",
            "690 : success\n",
            "691 : success\n",
            "692 : success\n",
            "693 : success\n",
            "694 : success\n",
            "695 : success\n",
            "696 : success\n",
            "697 : success\n",
            "698 : success\n",
            "699 : success\n",
            "700 : success\n",
            "701 : success\n",
            "702 : success\n",
            "703 : success\n",
            "704 : success\n",
            "705 : success\n",
            "706 : success\n",
            "707 : success\n",
            "708 : success\n",
            "709 : success\n",
            "710 : success\n",
            "711 : success\n",
            "712 : success\n",
            "713 : success\n",
            "714 : success\n",
            "715 : success\n",
            "716 : success\n",
            "717 : success\n",
            "718 : success\n",
            "719 : success\n",
            "720 : success\n",
            "721 : success\n",
            "722 : success\n",
            "723 : success\n",
            "724 : success\n",
            "725 : success\n",
            "726 : success\n",
            "727 : success\n",
            "728 : success\n",
            "729 : success\n",
            "730 : success\n",
            "731 : success\n",
            "732 : success\n",
            "733 : success\n",
            "734 : success\n",
            "735 : success\n",
            "736 : success\n",
            "737 : success\n",
            "738 : success\n",
            "739 : success\n",
            "740 : success\n",
            "741 : success\n",
            "742 : success\n",
            "743 : success\n",
            "744 : success\n",
            "745 : success\n",
            "746 : success\n",
            "747 : success\n",
            "748 : success\n",
            "749 : success\n",
            "750 : success\n",
            "751 : success\n",
            "752 : success\n",
            "753 : success\n",
            "754 : success\n",
            "755 : success\n",
            "756 : success\n",
            "file exist /content/drive/MyDrive/Colab Notebooks/clcikbait_detection/dataset/FVC_CORPUS/thumbnails/clickbaits/CkLI6Qb4drI_mqdefault.jpg\n",
            "758 : success\n",
            "759 : success\n",
            "760 : success\n",
            "761 : success\n",
            "762 : success\n",
            "763 : success\n",
            "764 : success\n",
            "765 : success\n",
            "766 : success\n",
            "767 : success\n",
            "768 : success\n",
            "769 : success\n",
            "770 : success\n",
            "771 : success\n",
            "772 : success\n",
            "773 : success\n",
            "774 : success\n",
            "775 : success\n",
            "776 : success\n",
            "777 : success\n",
            "778 : success\n",
            "779 : success\n",
            "780 : success\n",
            "781 : success\n",
            "782 : success\n",
            "783 : success\n",
            "784 : success\n",
            "785 : success\n",
            "786 : success\n",
            "787 : success\n",
            "788 : success\n",
            "789 : success\n",
            "790 : success\n",
            "791 : success\n",
            "792 : success\n",
            "793 : success\n",
            "794 : success\n",
            "795 : success\n",
            "796 : success\n",
            "797 : success\n",
            "798 : success\n",
            "799 : success\n",
            "800 : success\n",
            "801 : success\n",
            "802 : success\n",
            "803 : success\n",
            "804 : success\n",
            "805 : success\n",
            "806 : success\n",
            "807 : success\n",
            "808 : success\n",
            "809 : success\n",
            "810 : success\n",
            "811 : success\n",
            "812 : success\n",
            "813 : success\n",
            "814 : success\n",
            "815 : success\n",
            "816 : success\n",
            "817 : success\n",
            "818 : success\n",
            "819 : success\n",
            "820 : success\n",
            "821 : success\n",
            "822 : success\n",
            "823 : success\n",
            "824 : success\n",
            "825 : success\n",
            "826 : success\n",
            "827 : success\n",
            "828 : success\n",
            "829 : success\n",
            "830 : success\n",
            "831 : success\n",
            "832 : success\n",
            "833 : success\n",
            "834 : success\n",
            "835 : success\n",
            "836 : success\n",
            "837 : success\n",
            "838 : success\n",
            "839 : success\n",
            "840 : success\n",
            "841 : success\n",
            "842 : success\n",
            "843 : success\n",
            "844 : success\n",
            "845 : success\n",
            "846 : success\n",
            "847 : success\n",
            "848 : success\n",
            "849 : success\n",
            "850 : success\n",
            "851 : success\n",
            "852 : success\n",
            "853 : success\n",
            "854 : success\n",
            "855 : success\n",
            "856 : success\n",
            "857 : success\n",
            "858 : success\n",
            "859 : success\n",
            "860 : success\n",
            "861 : success\n",
            "862 : success\n",
            "863 : success\n",
            "864 : success\n",
            "865 : success\n",
            "866 : success\n",
            "867 : success\n",
            "868 : success\n",
            "869 : success\n",
            "870 : success\n",
            "871 : success\n",
            "872 : success\n",
            "873 : success\n",
            "874 : success\n",
            "875 : success\n",
            "876 : success\n",
            "877 : success\n",
            "878 : success\n",
            "879 : success\n",
            "880 : success\n",
            "881 : success\n",
            "882 : success\n",
            "883 : success\n",
            "884 : success\n",
            "885 : success\n",
            "886 : success\n",
            "887 : success\n",
            "888 : success\n",
            "889 : success\n",
            "890 : success\n",
            "891 : success\n",
            "892 : success\n",
            "893 : success\n",
            "894 : success\n",
            "895 : success\n",
            "896 : success\n",
            "897 : success\n",
            "898 : success\n",
            "899 : success\n",
            "900 : success\n",
            "901 : success\n",
            "902 : success\n",
            "903 : success\n",
            "904 : success\n",
            "905 : success\n",
            "906 : success\n",
            "907 : success\n",
            "908 : success\n",
            "909 : success\n",
            "910 : success\n",
            "911 : success\n",
            "912 : success\n",
            "913 : success\n",
            "914 : success\n",
            "915 : success\n",
            "916 : success\n",
            "917 : success\n",
            "918 : success\n",
            "919 : success\n",
            "920 : success\n",
            "921 : success\n",
            "922 : success\n",
            "923 : success\n",
            "924 : success\n",
            "925 : success\n",
            "926 : success\n",
            "927 : success\n",
            "928 : success\n",
            "929 : success\n",
            "930 : success\n",
            "931 : success\n",
            "932 : success\n",
            "933 : success\n",
            "934 : success\n",
            "935 : success\n",
            "936 : success\n",
            "937 : success\n",
            "938 : success\n",
            "939 : success\n",
            "940 : success\n",
            "941 : success\n",
            "942 : success\n",
            "943 : success\n",
            "944 : success\n",
            "945 : success\n",
            "946 : success\n",
            "947 : success\n",
            "948 : success\n",
            "949 : success\n",
            "950 : success\n",
            "951 : success\n",
            "952 : success\n",
            "953 : success\n",
            "954 : success\n",
            "955 : success\n",
            "956 : success\n",
            "957 : success\n",
            "958 : success\n",
            "959 : success\n",
            "960 : success\n",
            "961 : success\n",
            "962 : success\n",
            "963 : success\n",
            "964 : success\n",
            "965 : success\n",
            "966 : success\n",
            "967 : success\n",
            "968 : success\n",
            "969 : success\n",
            "970 : success\n",
            "971 : success\n",
            "972 : success\n",
            "973 : success\n",
            "974 : success\n",
            "975 : success\n",
            "976 : success\n",
            "977 : success\n",
            "978 : success\n",
            "979 : success\n",
            "980 : success\n",
            "981 : success\n",
            "982 : success\n",
            "983 : success\n",
            "984 : success\n",
            "985 : success\n",
            "986 : success\n",
            "987 : success\n",
            "988 : success\n",
            "989 : success\n",
            "990 : success\n",
            "991 : success\n",
            "992 : success\n",
            "993 : success\n",
            "994 : success\n",
            "995 : success\n",
            "996 : success\n",
            "997 : success\n",
            "998 : success\n",
            "999 : success\n",
            "1000 : success\n",
            "1001 : success\n",
            "1002 : success\n",
            "1003 : success\n",
            "1004 : success\n",
            "1005 : success\n",
            "1006 : success\n",
            "1007 : success\n",
            "1008 : success\n",
            "1009 : success\n",
            "1010 : success\n",
            "1011 : success\n",
            "1012 : success\n",
            "1013 : success\n",
            "1014 : success\n",
            "1015 : success\n",
            "1016 : success\n",
            "1017 : success\n",
            "1018 : success\n",
            "1019 : success\n",
            "1020 : success\n",
            "1021 : success\n",
            "1022 : success\n",
            "1023 : success\n",
            "1024 : success\n",
            "1025 : success\n",
            "1026 : success\n",
            "1027 : success\n",
            "1028 : success\n",
            "1029 : success\n",
            "1030 : success\n",
            "1031 : success\n",
            "1032 : success\n",
            "1033 : success\n",
            "1034 : success\n",
            "1035 : success\n",
            "1036 : success\n",
            "1037 : success\n",
            "1038 : success\n",
            "1039 : success\n",
            "1040 : success\n",
            "1041 : success\n",
            "1042 : success\n",
            "1043 : success\n",
            "1044 : success\n",
            "1045 : success\n",
            "1046 : success\n",
            "1047 : success\n",
            "1048 : success\n",
            "1049 : success\n",
            "1050 : success\n",
            "1051 : success\n",
            "1052 : success\n",
            "1053 : success\n",
            "1054 : success\n",
            "1055 : success\n",
            "1056 : success\n",
            "1057 : success\n",
            "1058 : success\n",
            "1059 : success\n",
            "1060 : success\n",
            "1061 : success\n",
            "1062 : success\n",
            "1063 : success\n",
            "1064 : success\n",
            "1065 : success\n",
            "1066 : success\n",
            "1067 : success\n",
            "1068 : success\n",
            "1069 : success\n",
            "1070 : success\n",
            "1071 : success\n",
            "1072 : success\n",
            "1073 : success\n",
            "1074 : success\n",
            "1075 : success\n",
            "1076 : success\n",
            "1077 : success\n",
            "1078 : success\n",
            "1079 : success\n",
            "1080 : success\n",
            "1081 : success\n",
            "1082 : success\n",
            "1083 : success\n",
            "1084 : success\n",
            "1085 : success\n",
            "1086 : success\n",
            "1087 : success\n",
            "1088 : success\n",
            "1089 : success\n",
            "1090 : success\n",
            "1091 : success\n",
            "1092 : success\n",
            "1093 : success\n",
            "1094 : success\n",
            "1095 : success\n",
            "1096 : success\n",
            "1097 : success\n",
            "1098 : success\n",
            "1099 : success\n",
            "1100 : success\n",
            "1101 : success\n",
            "1102 : success\n",
            "1103 : success\n",
            "1104 : success\n",
            "1105 : success\n",
            "1106 : success\n",
            "1107 : success\n",
            "1108 : success\n",
            "1109 : success\n",
            "1110 : success\n",
            "1111 : success\n",
            "1112 : success\n",
            "1113 : success\n",
            "1114 : success\n",
            "1115 : success\n",
            "1116 : success\n",
            "1117 : success\n",
            "1118 : success\n",
            "1119 : success\n",
            "1120 : success\n",
            "1121 : success\n",
            "1122 : success\n",
            "1123 : success\n",
            "1124 : success\n",
            "1125 : success\n",
            "1126 : success\n",
            "1127 : success\n",
            "1128 : success\n",
            "1129 : success\n",
            "1130 : success\n",
            "1131 : success\n",
            "1132 : success\n",
            "1133 : success\n",
            "1134 : success\n",
            "1135 : success\n",
            "1136 : success\n",
            "1137 : success\n",
            "1138 : success\n",
            "1139 : success\n",
            "1140 : success\n",
            "1141 : success\n",
            "1142 : success\n",
            "1143 : success\n",
            "1144 : success\n",
            "1145 : success\n",
            "1146 : success\n",
            "1147 : success\n",
            "1148 : success\n",
            "1149 : success\n",
            "1150 : success\n",
            "1151 : success\n",
            "1152 : success\n",
            "1153 : success\n",
            "1154 : success\n",
            "1155 : success\n",
            "1156 : success\n",
            "1157 : success\n",
            "1158 : success\n",
            "1159 : success\n",
            "1160 : success\n",
            "1161 : success\n",
            "1162 : success\n",
            "1163 : success\n",
            "1164 : success\n",
            "1165 : success\n",
            "1166 : success\n",
            "1167 : success\n",
            "1168 : success\n",
            "1169 : success\n",
            "1170 : success\n",
            "1171 : success\n",
            "1172 : success\n",
            "1173 : success\n",
            "1174 : success\n",
            "1175 : success\n",
            "1176 : success\n",
            "1177 : success\n",
            "1178 : success\n",
            "1179 : success\n",
            "1180 : success\n",
            "1181 : success\n",
            "1182 : success\n",
            "1183 : success\n",
            "1184 : success\n",
            "1185 : success\n",
            "1186 : success\n",
            "1187 : success\n",
            "1188 : success\n",
            "1189 : success\n",
            "1190 : success\n",
            "1191 : success\n",
            "1192 : success\n",
            "1193 : success\n",
            "1194 : success\n",
            "1195 : success\n",
            "1196 : success\n",
            "1197 : success\n",
            "1198 : success\n",
            "1199 : success\n",
            "1200 : success\n",
            "1201 : success\n",
            "1202 : success\n",
            "1203 : success\n",
            "1204 : success\n",
            "1205 : success\n",
            "1206 : success\n",
            "1207 : success\n",
            "1208 : success\n",
            "1209 : success\n",
            "1210 : success\n",
            "1211 : success\n",
            "1212 : success\n",
            "1213 : success\n",
            "1214 : success\n",
            "1215 : success\n",
            "1216 : success\n",
            "1217 : success\n",
            "1218 : success\n",
            "1219 : success\n",
            "1220 : success\n",
            "1221 : success\n",
            "1222 : success\n",
            "1223 : success\n",
            "1224 : success\n",
            "1225 : success\n",
            "1226 : success\n",
            "1227 : success\n",
            "1228 : success\n",
            "1229 : success\n",
            "1230 : success\n",
            "1231 : success\n",
            "1232 : success\n",
            "1233 : success\n",
            "1234 : success\n",
            "1235 : success\n",
            "1236 : success\n",
            "1237 : success\n",
            "1238 : success\n",
            "1239 : success\n",
            "1240 : success\n",
            "1241 : success\n",
            "1242 : success\n",
            "1243 : success\n",
            "1244 : success\n",
            "1245 : success\n",
            "1246 : success\n",
            "1247 : success\n",
            "1248 : success\n",
            "1249 : success\n",
            "1250 : success\n",
            "1251 : success\n",
            "1252 : success\n",
            "1253 : success\n",
            "1254 : success\n",
            "1255 : success\n",
            "1256 : success\n",
            "1257 : success\n",
            "1258 : success\n",
            "1259 : success\n",
            "1260 : success\n",
            "1261 : success\n",
            "1262 : success\n",
            "1263 : success\n",
            "1264 : success\n",
            "1265 : success\n",
            "1266 : success\n",
            "1267 : success\n",
            "1268 : success\n",
            "1269 : success\n",
            "1270 : success\n",
            "1271 : success\n",
            "1272 : success\n",
            "1273 : success\n",
            "1274 : success\n",
            "1275 : success\n",
            "1276 : success\n",
            "1277 : success\n",
            "1278 : success\n",
            "1279 : success\n",
            "1280 : success\n",
            "1281 : success\n",
            "1282 : success\n",
            "1283 : success\n",
            "1284 : success\n",
            "1285 : success\n",
            "1286 : success\n",
            "1287 : success\n",
            "1288 : success\n",
            "1289 : success\n",
            "1290 : success\n",
            "1291 : success\n",
            "1292 : success\n",
            "1293 : success\n",
            "1294 : success\n",
            "1295 : success\n",
            "1296 : success\n",
            "1297 : success\n",
            "1298 : success\n",
            "1299 : success\n",
            "1300 : success\n",
            "1301 : success\n",
            "1302 : success\n",
            "1303 : success\n",
            "1304 : success\n",
            "1305 : success\n",
            "1306 : success\n",
            "1307 : success\n",
            "1308 : success\n",
            "1309 : success\n",
            "1310 : success\n",
            "1311 : success\n",
            "1312 : success\n",
            "1313 : success\n",
            "1314 : success\n",
            "1315 : success\n",
            "1316 : success\n",
            "1317 : success\n",
            "1318 : success\n",
            "1319 : success\n",
            "1320 : success\n",
            "1321 : success\n",
            "1322 : success\n",
            "1323 : success\n",
            "1324 : success\n",
            "1325 : success\n",
            "1326 : success\n",
            "1327 : success\n",
            "1328 : success\n",
            "1329 : success\n",
            "1330 : success\n",
            "1331 : success\n",
            "1332 : success\n",
            "1333 : success\n",
            "1334 : success\n",
            "1335 : success\n",
            "1336 : success\n",
            "1337 : success\n",
            "1338 : success\n",
            "1339 : success\n",
            "1340 : success\n",
            "1341 : success\n",
            "1342 : success\n",
            "1343 : success\n",
            "1344 : success\n",
            "1345 : success\n",
            "1346 : success\n",
            "1347 : success\n",
            "1348 : success\n",
            "1349 : success\n",
            "1350 : success\n",
            "1351 : success\n",
            "1352 : success\n",
            "1353 : success\n",
            "1354 : success\n",
            "1355 : success\n",
            "1356 : success\n",
            "1357 : success\n",
            "1358 : success\n",
            "1359 : success\n",
            "1360 : success\n",
            "1361 : success\n",
            "1362 : success\n",
            "1363 : success\n",
            "1364 : success\n",
            "1365 : success\n",
            "1366 : success\n",
            "1367 : success\n",
            "1368 : success\n",
            "1369 : success\n",
            "1370 : success\n",
            "1371 : success\n",
            "1372 : success\n",
            "1373 : success\n",
            "1374 : success\n",
            "1375 : success\n",
            "1376 : success\n",
            "1377 : success\n",
            "1378 : success\n",
            "1379 : success\n",
            "1380 : success\n",
            "1381 : success\n",
            "1382 : success\n",
            "1383 : success\n",
            "1384 : success\n",
            "1385 : success\n",
            "1386 : success\n",
            "1387 : success\n",
            "1388 : success\n",
            "1389 : success\n",
            "1390 : success\n",
            "1391 : success\n",
            "1392 : success\n",
            "1393 : success\n",
            "1394 : success\n",
            "1395 : success\n",
            "1396 : success\n",
            "1397 : success\n",
            "1398 : success\n",
            "1399 : success\n",
            "1400 : success\n",
            "1401 : success\n",
            "1402 : success\n",
            "1403 : success\n",
            "1404 : success\n",
            "1405 : success\n",
            "1406 : success\n",
            "1407 : success\n",
            "1408 : success\n",
            "1409 : success\n",
            "1410 : success\n",
            "1411 : success\n",
            "1412 : success\n",
            "1413 : success\n",
            "1414 : success\n",
            "1415 : success\n",
            "1416 : success\n",
            "1417 : success\n",
            "1418 : success\n",
            "1419 : success\n",
            "1420 : success\n",
            "1421 : success\n",
            "1422 : success\n",
            "1423 : success\n",
            "1424 : success\n",
            "1425 : success\n",
            "1426 : success\n",
            "1427 : success\n",
            "1428 : success\n",
            "1429 : success\n",
            "1430 : success\n",
            "1431 : success\n",
            "1432 : success\n",
            "1433 : success\n",
            "1434 : success\n",
            "1435 : success\n",
            "1436 : success\n",
            "1437 : success\n",
            "1438 : success\n",
            "1439 : success\n",
            "1440 : success\n",
            "1441 : success\n",
            "1442 : success\n",
            "1443 : success\n",
            "1444 : success\n",
            "1445 : success\n",
            "1446 : success\n",
            "1447 : success\n",
            "1448 : success\n",
            "1449 : success\n",
            "1450 : success\n",
            "1451 : success\n",
            "1452 : success\n",
            "1453 : success\n",
            "1454 : success\n",
            "1455 : success\n",
            "1456 : success\n",
            "1457 : success\n",
            "1458 : success\n",
            "1459 : success\n",
            "1460 : success\n",
            "1461 : success\n",
            "1462 : success\n",
            "1463 : success\n",
            "1464 : success\n",
            "1465 : success\n",
            "1466 : success\n",
            "1467 : success\n",
            "1468 : success\n",
            "1469 : success\n",
            "1470 : success\n",
            "1471 : success\n",
            "1472 : success\n",
            "1473 : success\n",
            "1474 : success\n",
            "1475 : success\n",
            "1476 : success\n",
            "1477 : success\n",
            "1478 : success\n",
            "1479 : success\n",
            "1480 : success\n",
            "1481 : success\n",
            "1482 : success\n",
            "1483 : success\n",
            "1484 : success\n",
            "1485 : success\n",
            "1486 : success\n",
            "1487 : success\n",
            "1488 : success\n",
            "1489 : success\n",
            "1490 : success\n",
            "1491 : success\n",
            "1492 : success\n",
            "1493 : success\n",
            "1494 : success\n",
            "1495 : success\n",
            "1496 : success\n",
            "1497 : success\n",
            "1498 : success\n",
            "1499 : success\n",
            "1500 : success\n",
            "1501 : success\n",
            "1502 : success\n",
            "1503 : success\n",
            "1504 : success\n",
            "1505 : success\n",
            "1506 : success\n",
            "1507 : success\n",
            "1508 : success\n",
            "1509 : success\n",
            "1510 : success\n",
            "1511 : success\n",
            "1512 : success\n",
            "1513 : success\n",
            "1514 : success\n",
            "1515 : success\n",
            "1516 : success\n",
            "1517 : success\n",
            "1518 : success\n",
            "1519 : success\n",
            "1520 : success\n",
            "1521 : success\n",
            "1522 : success\n",
            "1523 : success\n",
            "1524 : success\n",
            "1525 : success\n",
            "1526 : success\n",
            "1527 : success\n",
            "1528 : success\n",
            "1529 : success\n",
            "1530 : success\n",
            "1531 : success\n",
            "1532 : success\n",
            "1533 : success\n",
            "1534 : success\n",
            "1535 : success\n",
            "1536 : success\n",
            "1537 : success\n",
            "1538 : success\n",
            "1539 : success\n",
            "1540 : success\n",
            "1541 : success\n",
            "1542 : success\n",
            "1543 : success\n",
            "1544 : success\n",
            "1545 : success\n",
            "1546 : success\n",
            "1547 : success\n",
            "1548 : success\n",
            "1549 : success\n",
            "1550 : success\n",
            "1551 : success\n",
            "1552 : success\n",
            "1553 : success\n",
            "1554 : success\n",
            "1555 : success\n",
            "1556 : success\n",
            "1557 : success\n",
            "1558 : success\n",
            "1559 : success\n",
            "1560 : success\n",
            "1561 : success\n",
            "1562 : success\n",
            "1563 : success\n",
            "1564 : success\n",
            "1565 : success\n",
            "1566 : success\n",
            "1567 : success\n",
            "1568 : success\n",
            "1569 : success\n",
            "1570 : success\n",
            "1571 : success\n",
            "1572 : success\n",
            "1573 : success\n",
            "1574 : success\n",
            "1575 : success\n",
            "1576 : success\n",
            "1577 : success\n",
            "1578 : success\n",
            "1579 : success\n",
            "1580 : success\n",
            "1581 : success\n",
            "1582 : success\n",
            "1583 : success\n",
            "1584 : success\n",
            "1585 : success\n",
            "1586 : success\n",
            "1587 : success\n",
            "1588 : success\n"
          ],
          "name": "stdout"
        }
      ]
    },
    {
      "cell_type": "code",
      "metadata": {
        "colab": {
          "base_uri": "https://localhost:8080/"
        },
        "id": "X_CoNwyD701H",
        "outputId": "698bcb5d-827e-451c-b5ad-7400fe20a2eb"
      },
      "source": [
        "FVC_filtered_mapped = FVC_filtered_mapped.rename(columns = {'is_fake': 'is_clickbait'}, inplace = False)"
      ],
      "execution_count": null,
      "outputs": [
        {
          "output_type": "execute_result",
          "data": {
            "text/plain": [
              "Index(['is_clickbait', 'id', 'title', 'description', 'tags',\n",
              "       'thumbnail_320_180', 'thumbnail_120_90', 'thumbnail_480_360',\n",
              "       'thumbnail_320_180_path'],\n",
              "      dtype='object')"
            ]
          },
          "metadata": {
            "tags": []
          },
          "execution_count": 347
        }
      ]
    },
    {
      "cell_type": "code",
      "metadata": {
        "id": "ParjmvuY8BbQ"
      },
      "source": [
        "save_df(FVC_filtered_mapped, '/content/drive/MyDrive/Colab Notebooks/clcikbait_detection/dataset/FVC_CORPUS/fvc_with_metadata_processed.csv')"
      ],
      "execution_count": null,
      "outputs": []
    },
    {
      "cell_type": "markdown",
      "metadata": {
        "id": "gZJnBT3X9VbB"
      },
      "source": [
        "## Prepare dataset for clickbait detection"
      ]
    },
    {
      "cell_type": "code",
      "metadata": {
        "id": "Kgtf2_ux9Zmu"
      },
      "source": [
        "FVC_clickbait_df = pd.read_csv('/content/drive/MyDrive/Colab Notebooks/clcikbait_detection/dataset/FVC_CORPUS/fvc_with_metadata_processed.csv')"
      ],
      "execution_count": null,
      "outputs": []
    },
    {
      "cell_type": "code",
      "metadata": {
        "colab": {
          "base_uri": "https://localhost:8080/"
        },
        "id": "coMLk0KD9Buy",
        "outputId": "a2a31da8-a0c9-4df9-e91a-f52724b2040a"
      },
      "source": [
        "FVC_clickbait_df = FVC_clickbait_df.drop(['id','tags','thumbnail_120_90','thumbnail_320_180', 'thumbnail_480_360'],axis=1)\n",
        "FVC_clickbait_df.columns"
      ],
      "execution_count": null,
      "outputs": [
        {
          "output_type": "execute_result",
          "data": {
            "text/plain": [
              "Index(['is_clickbait', 'title', 'description', 'thumbnail_320_180_path'], dtype='object')"
            ]
          },
          "metadata": {
            "tags": []
          },
          "execution_count": 351
        }
      ]
    },
    {
      "cell_type": "code",
      "metadata": {
        "colab": {
          "base_uri": "https://localhost:8080/",
          "height": 49
        },
        "id": "ndiMRMud9PU1",
        "outputId": "4a45adf0-83d6-4aeb-9847-2a6b9a7af806"
      },
      "source": [
        "# check for bad data\n",
        "FVC_clickbait_df.loc[FVC_clickbait_df['thumbnail_320_180_path']=='?']"
      ],
      "execution_count": null,
      "outputs": [
        {
          "output_type": "execute_result",
          "data": {
            "text/html": [
              "<div>\n",
              "<style scoped>\n",
              "    .dataframe tbody tr th:only-of-type {\n",
              "        vertical-align: middle;\n",
              "    }\n",
              "\n",
              "    .dataframe tbody tr th {\n",
              "        vertical-align: top;\n",
              "    }\n",
              "\n",
              "    .dataframe thead th {\n",
              "        text-align: right;\n",
              "    }\n",
              "</style>\n",
              "<table border=\"1\" class=\"dataframe\">\n",
              "  <thead>\n",
              "    <tr style=\"text-align: right;\">\n",
              "      <th></th>\n",
              "      <th>is_clickbait</th>\n",
              "      <th>title</th>\n",
              "      <th>description</th>\n",
              "      <th>thumbnail_320_180_path</th>\n",
              "    </tr>\n",
              "  </thead>\n",
              "  <tbody>\n",
              "  </tbody>\n",
              "</table>\n",
              "</div>"
            ],
            "text/plain": [
              "Empty DataFrame\n",
              "Columns: [is_clickbait, title, description, thumbnail_320_180_path]\n",
              "Index: []"
            ]
          },
          "metadata": {
            "tags": []
          },
          "execution_count": 357
        }
      ]
    },
    {
      "cell_type": "code",
      "metadata": {
        "id": "_b_NFaII-Ime"
      },
      "source": [
        "FVC_clickbait_df = FVC_clickbait_df.fillna('NA')"
      ],
      "execution_count": null,
      "outputs": []
    },
    {
      "cell_type": "code",
      "metadata": {
        "id": "eZYTmhsQ-L7h"
      },
      "source": [
        "def get_combined_text(row):\n",
        "  if row['title'] != 'NA' and row['description'] !='NA' :\n",
        "    return row['title']+' '+row['description']\n",
        "  elif row['title'] != 'NA':\n",
        "    return row['title']\n",
        "  else:\n",
        "    return row['description']"
      ],
      "execution_count": null,
      "outputs": []
    },
    {
      "cell_type": "code",
      "metadata": {
        "colab": {
          "base_uri": "https://localhost:8080/"
        },
        "id": "er6P0s3W-WfT",
        "outputId": "332f49b9-2c66-4e04-ee70-6c2a0cf4b486"
      },
      "source": [
        "FVC_clickbait_df['text'] = FVC_clickbait_df.apply(lambda x: get_combined_text(x), axis=1)\n",
        "FVC_clickbait_df.info()"
      ],
      "execution_count": null,
      "outputs": [
        {
          "output_type": "stream",
          "text": [
            "<class 'pandas.core.frame.DataFrame'>\n",
            "RangeIndex: 1589 entries, 0 to 1588\n",
            "Data columns (total 5 columns):\n",
            " #   Column                  Non-Null Count  Dtype \n",
            "---  ------                  --------------  ----- \n",
            " 0   is_clickbait            1589 non-null   int64 \n",
            " 1   title                   1589 non-null   object\n",
            " 2   description             1589 non-null   object\n",
            " 3   thumbnail_320_180_path  1589 non-null   object\n",
            " 4   text                    1589 non-null   object\n",
            "dtypes: int64(1), object(4)\n",
            "memory usage: 62.2+ KB\n"
          ],
          "name": "stdout"
        }
      ]
    },
    {
      "cell_type": "code",
      "metadata": {
        "colab": {
          "base_uri": "https://localhost:8080/"
        },
        "id": "Av7Lib48-gDN",
        "outputId": "904d34ba-b5e3-4e6e-d93b-2daf2898a84d"
      },
      "source": [
        "FVC_clickbait_df = FVC_clickbait_df.drop(['title','description'], axis=1)\n",
        "FVC_clickbait_df.columns"
      ],
      "execution_count": null,
      "outputs": [
        {
          "output_type": "execute_result",
          "data": {
            "text/plain": [
              "Index(['is_clickbait', 'thumbnail_320_180_path', 'text'], dtype='object')"
            ]
          },
          "metadata": {
            "tags": []
          },
          "execution_count": 362
        }
      ]
    },
    {
      "cell_type": "code",
      "metadata": {
        "colab": {
          "base_uri": "https://localhost:8080/"
        },
        "id": "uMh_AgRnBE3x",
        "outputId": "4a6e29cd-7824-4326-a54a-f1fbeeb75a2f"
      },
      "source": [
        "FVC_clickbait_df.is_clickbait.value_counts()"
      ],
      "execution_count": null,
      "outputs": [
        {
          "output_type": "execute_result",
          "data": {
            "text/plain": [
              "1    930\n",
              "0    659\n",
              "Name: is_clickbait, dtype: int64"
            ]
          },
          "metadata": {
            "tags": []
          },
          "execution_count": 377
        }
      ]
    },
    {
      "cell_type": "code",
      "metadata": {
        "colab": {
          "base_uri": "https://localhost:8080/"
        },
        "id": "d13jxKKGBr0o",
        "outputId": "10ef790d-d15f-4ccd-823c-921300d2809f"
      },
      "source": [
        "FVC_clickbait_df = FVC_clickbait_df.sample(frac=1)\n",
        "FVC_clickbait_df.shape"
      ],
      "execution_count": null,
      "outputs": [
        {
          "output_type": "execute_result",
          "data": {
            "text/plain": [
              "(1589, 3)"
            ]
          },
          "metadata": {
            "tags": []
          },
          "execution_count": 378
        }
      ]
    },
    {
      "cell_type": "code",
      "metadata": {
        "id": "hZvkfcjNBKGi"
      },
      "source": [
        "save_df(FVC_clickbait_df, '/content/drive/MyDrive/Colab Notebooks/clcikbait_detection/dataset/FVC_CORPUS/FVC_clickbait.csv')"
      ],
      "execution_count": null,
      "outputs": []
    }
  ]
}