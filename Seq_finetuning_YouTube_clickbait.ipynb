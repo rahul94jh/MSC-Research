{
  "nbformat": 4,
  "nbformat_minor": 0,
  "metadata": {
    "colab": {
      "name": "Seq_finetuning_YouTube_clickbait.ipynb",
      "provenance": [],
      "collapsed_sections": [
        "KMTn9bhktYps",
        "cDzVIeTqtgHF",
        "HKcowprstl0r",
        "HWD2vnekDCr6",
        "fe8RMZlBoEVg",
        "Pvp9_oivD_QD",
        "HyRKSP2zwYyo",
        "dexXAe2b0LQl",
        "CsCwE3RZSi3e",
        "JB9jLSmmxlRX",
        "H6XKaUuaxqlk",
        "KGm28Sny7Wbg"
      ],
      "mount_file_id": "1Ax9uSKbn5h9-dyAMy-X-5XQwWBo8gzR3",
      "authorship_tag": "ABX9TyM/z+lI0wHCqu3unqPdjHJm",
      "include_colab_link": true
    },
    "kernelspec": {
      "name": "python3",
      "display_name": "Python 3"
    },
    "language_info": {
      "name": "python"
    },
    "accelerator": "GPU"
  },
  "cells": [
    {
      "cell_type": "markdown",
      "metadata": {
        "id": "view-in-github",
        "colab_type": "text"
      },
      "source": [
        "<a href=\"https://colab.research.google.com/github/rahul94jh/MSC-Research/blob/main/Seq_finetuning_YouTube_clickbait.ipynb\" target=\"_parent\"><img src=\"https://colab.research.google.com/assets/colab-badge.svg\" alt=\"Open In Colab\"/></a>"
      ]
    },
    {
      "cell_type": "markdown",
      "metadata": {
        "id": "KMTn9bhktYps"
      },
      "source": [
        "#Setup"
      ]
    },
    {
      "cell_type": "code",
      "metadata": {
        "colab": {
          "base_uri": "https://localhost:8080/"
        },
        "id": "aXthlH4rRNk8",
        "outputId": "ba7f2243-3a2b-46b8-b281-5b1d816cfb00"
      },
      "source": [
        "from google.colab import drive\n",
        "drive.mount('/content/drive')"
      ],
      "execution_count": 1,
      "outputs": [
        {
          "output_type": "stream",
          "text": [
            "Mounted at /content/drive\n"
          ],
          "name": "stdout"
        }
      ]
    },
    {
      "cell_type": "code",
      "metadata": {
        "colab": {
          "base_uri": "https://localhost:8080/"
        },
        "id": "U7pZ99IQqhKo",
        "outputId": "7407eeb1-5ce6-4ca7-82c9-66033a34b4b7"
      },
      "source": [
        "#Check GPU, if assigned k8 then factory reset couple of times until we get Tesla GPU\n",
        "!nvidia-smi"
      ],
      "execution_count": 2,
      "outputs": [
        {
          "output_type": "stream",
          "text": [
            "Mon Jul 19 07:48:03 2021       \n",
            "+-----------------------------------------------------------------------------+\n",
            "| NVIDIA-SMI 470.42.01    Driver Version: 460.32.03    CUDA Version: 11.2     |\n",
            "|-------------------------------+----------------------+----------------------+\n",
            "| GPU  Name        Persistence-M| Bus-Id        Disp.A | Volatile Uncorr. ECC |\n",
            "| Fan  Temp  Perf  Pwr:Usage/Cap|         Memory-Usage | GPU-Util  Compute M. |\n",
            "|                               |                      |               MIG M. |\n",
            "|===============================+======================+======================|\n",
            "|   0  Tesla T4            Off  | 00000000:00:04.0 Off |                    0 |\n",
            "| N/A   41C    P8     9W /  70W |      0MiB / 15109MiB |      0%      Default |\n",
            "|                               |                      |                  N/A |\n",
            "+-------------------------------+----------------------+----------------------+\n",
            "                                                                               \n",
            "+-----------------------------------------------------------------------------+\n",
            "| Processes:                                                                  |\n",
            "|  GPU   GI   CI        PID   Type   Process name                  GPU Memory |\n",
            "|        ID   ID                                                   Usage      |\n",
            "|=============================================================================|\n",
            "|  No running processes found                                                 |\n",
            "+-----------------------------------------------------------------------------+\n"
          ],
          "name": "stdout"
        }
      ]
    },
    {
      "cell_type": "code",
      "metadata": {
        "colab": {
          "base_uri": "https://localhost:8080/"
        },
        "id": "73DTOjAUnKJO",
        "outputId": "570f17c1-64a2-4946-ea31-b8934c5af153"
      },
      "source": [
        "!pip install -q tensorflow-text\n",
        "!pip install -q tf-models-official"
      ],
      "execution_count": 3,
      "outputs": [
        {
          "output_type": "stream",
          "text": [
            "\u001b[K     |████████████████████████████████| 4.3MB 8.1MB/s \n",
            "\u001b[K     |████████████████████████████████| 1.6MB 9.4MB/s \n",
            "\u001b[K     |████████████████████████████████| 645kB 41.5MB/s \n",
            "\u001b[K     |████████████████████████████████| 358kB 60.3MB/s \n",
            "\u001b[K     |████████████████████████████████| 102kB 14.6MB/s \n",
            "\u001b[K     |████████████████████████████████| 1.2MB 37.9MB/s \n",
            "\u001b[K     |████████████████████████████████| 51kB 8.8MB/s \n",
            "\u001b[K     |████████████████████████████████| 215kB 53.5MB/s \n",
            "\u001b[K     |████████████████████████████████| 37.2MB 74kB/s \n",
            "\u001b[K     |████████████████████████████████| 61kB 9.3MB/s \n",
            "\u001b[K     |████████████████████████████████| 686kB 53.7MB/s \n",
            "\u001b[?25h  Building wheel for py-cpuinfo (setup.py) ... \u001b[?25l\u001b[?25hdone\n",
            "  Building wheel for seqeval (setup.py) ... \u001b[?25l\u001b[?25hdone\n"
          ],
          "name": "stdout"
        }
      ]
    },
    {
      "cell_type": "markdown",
      "metadata": {
        "id": "cDzVIeTqtgHF"
      },
      "source": [
        "#Imports"
      ]
    },
    {
      "cell_type": "code",
      "metadata": {
        "id": "4Q_MKLxE-7yz",
        "colab": {
          "base_uri": "https://localhost:8080/"
        },
        "outputId": "b314c403-8fcc-4fb1-e9ea-cb63572765dd"
      },
      "source": [
        "import os, math\n",
        "import numpy as np\n",
        "import pandas as pd\n",
        "import requests\n",
        "import shutil\n",
        "import re\n",
        "from pathlib import Path\n",
        "import random\n",
        "import matplotlib as mpl\n",
        "from matplotlib import pyplot as plt\n",
        "import seaborn as sns\n",
        "\n",
        "from sklearn.metrics.pairwise import cosine_similarity\n",
        "from sklearn.metrics import roc_auc_score\n",
        "from sklearn.metrics import confusion_matrix\n",
        "from sklearn.metrics import accuracy_score\n",
        "from sklearn.metrics import precision_score\n",
        "from sklearn.metrics import recall_score\n",
        "from sklearn.metrics import f1_score\n",
        "from sklearn.metrics import cohen_kappa_score\n",
        "\n",
        "\n",
        "import tensorflow as tf\n",
        "import tensorflow_hub as hub\n",
        "import tensorflow_text as text\n",
        "import tensorflow_addons as tfa\n",
        "from tensorflow import keras\n",
        "from tensorflow.keras import layers\n",
        "from official.nlp.data import classifier_data_lib\n",
        "from official.nlp.bert import tokenization\n",
        "from official.nlp import optimization\n",
        "\n",
        "\n",
        "from tensorflow import keras\n",
        "from official.nlp import optimization  # to create AdamW optmizer\n",
        "AUTO = tf.data.experimental.AUTOTUNE # used in tf.data.Dataset API\n",
        "\n",
        "tf.get_logger().setLevel('ERROR')\n",
        "\n",
        "import sys\n",
        "\n",
        "#Import custom script\n",
        "sys.path.append('/content/drive/MyDrive/Colab Notebooks/clcikbait_detection/scripts')\n",
        "from tf_dataset_helpers import read_tfrec_data\n",
        "import model_helpers as mh\n",
        "import visualization_helpers as vh"
      ],
      "execution_count": 4,
      "outputs": [
        {
          "output_type": "stream",
          "text": [
            "/usr/local/lib/python3.7/dist-packages/tensorflow/python/keras/optimizer_v2/optimizer_v2.py:375: UserWarning: The `lr` argument is deprecated, use `learning_rate` instead.\n",
            "  \"The `lr` argument is deprecated, use `learning_rate` instead.\")\n"
          ],
          "name": "stderr"
        }
      ]
    },
    {
      "cell_type": "code",
      "metadata": {
        "colab": {
          "base_uri": "https://localhost:8080/"
        },
        "id": "5RE9WE8LtUhd",
        "outputId": "b0b7cf94-86be-4428-9357-6f8507c54e60"
      },
      "source": [
        "print(\"TF Version: \", tf.__version__)\n",
        "print(\"Eager mode: \", tf.executing_eagerly())\n",
        "print(\"Hub version: \", hub.__version__)\n",
        "print(\"GPU is\", \"available\" if tf.config.experimental.list_physical_devices(\"GPU\") else \"NOT AVAILABLE\")"
      ],
      "execution_count": 5,
      "outputs": [
        {
          "output_type": "stream",
          "text": [
            "TF Version:  2.5.0\n",
            "Eager mode:  True\n",
            "Hub version:  0.12.0\n",
            "GPU is available\n"
          ],
          "name": "stdout"
        }
      ]
    },
    {
      "cell_type": "markdown",
      "metadata": {
        "id": "HKcowprstl0r"
      },
      "source": [
        "#Configs"
      ]
    },
    {
      "cell_type": "markdown",
      "metadata": {
        "id": "fe8RMZlBoEVg"
      },
      "source": [
        "##General config"
      ]
    },
    {
      "cell_type": "code",
      "metadata": {
        "id": "v9DLhbQrtnGd"
      },
      "source": [
        "tfrec_trainVal_files_path = '/content/drive/MyDrive/Colab Notebooks/clcikbait_detection/dataset/YouTube_clickbait/tfrec_data/train_val/'\n",
        "tfrec_test_files_path = '/content/drive/MyDrive/Colab Notebooks/clcikbait_detection/dataset/YouTube_clickbait/tfrec_data/test/'\n",
        "stop_clickbait_tfrecFiles_path = '/content/drive/MyDrive/Colab Notebooks/clcikbait_detection/dataset/Stop_clickbait/tfrec_data/'\n",
        "\n",
        "model_root_path = '/content/drive/MyDrive/Colab Notebooks/clcikbait_detection/dataset/YouTube_clickbait/saved_models'\n",
        "saved_model_name = f'youtube_clickbait_finetuned_SEQ'\n",
        "saved_model_path = os.path.join(model_root_path, saved_model_name )\n",
        "\n",
        "checkpoint_root_path = '/content/drive/MyDrive/Colab Notebooks/clcikbait_detection/dataset/YouTube_clickbait/checkpoints'\n",
        "model_checkpoint_path = os.path.join(checkpoint_root_path, f'youtube_clickbait_finetuned_SEQ_checkpoint' )\n",
        "\n",
        "MAX_LEN = 128\n",
        "VOCAB_SIZE = 10000\n",
        "BATCH_SIZE = 32  \n",
        "# Label categories\n",
        "label_list = [0,1]\n",
        "\n",
        "init_lr = 2e-3\n",
        "\n",
        "epochs = 10"
      ],
      "execution_count": 92,
      "outputs": []
    },
    {
      "cell_type": "markdown",
      "metadata": {
        "id": "Pvp9_oivD_QD"
      },
      "source": [
        "#Scripts"
      ]
    },
    {
      "cell_type": "code",
      "metadata": {
        "id": "7e62N59Ttk60",
        "cellView": "form"
      },
      "source": [
        "#@title \"Utilities [TF Dataset]\"\n",
        "def read_tfrecord(example):\n",
        "    features = {\n",
        "        \"class\": tf.io.FixedLenFeature([], tf.int64),   # shape [] means scalar\n",
        "        \"text\": tf.io.FixedLenFeature([], tf.string),\n",
        "        \"label\": tf.io.FixedLenFeature([], tf.string)  # one bytestring\n",
        "    }\n",
        "    # decode the TFRecord\n",
        "    example = tf.io.parse_single_example(example, features)\n",
        "    \n",
        "    \n",
        "    class_num = example['class']\n",
        "    text = example['text']\n",
        "    label  = example['label']\n",
        "    return text, class_num, label\n",
        "\n",
        "def load_dataset(filenames):\n",
        "  option_no_order = tf.data.Options()\n",
        "  option_no_order.experimental_deterministic = False\n",
        "\n",
        "  dataset = tf.data.TFRecordDataset(filenames, num_parallel_reads=AUTO)\n",
        "  dataset = dataset.with_options(option_no_order)\n",
        "  dataset = dataset.map(read_tfrecord, num_parallel_calls=AUTO)\n",
        "  return dataset\n",
        "\n",
        "def get_batched_dataset(dataset, train=False):\n",
        "  if train:\n",
        "    dataset = dataset.shuffle(num_train_examples)\n",
        "  dataset = dataset.batch(BATCH_SIZE, drop_remainder=True)\n",
        "  dataset = dataset.cache().prefetch(AUTO) # prefetch next batch while training (autotune prefetch buffer size)\n",
        "  return dataset"
      ],
      "execution_count": 71,
      "outputs": []
    },
    {
      "cell_type": "code",
      "metadata": {
        "cellView": "form",
        "id": "fZM5N7Lh2PFH"
      },
      "source": [
        "#@title \"Utilities [Create Model Definition]\"\n",
        "def create_model(encoder):\n",
        "  inputs = keras.Input(shape=(None,), dtype=\"string\")\n",
        "  x = encoder(inputs)\n",
        "  x = layers.Embedding(input_dim=len(encoder.get_vocabulary()), output_dim=128, mask_zero=True)(x)\n",
        "  x = layers.Bidirectional(layers.LSTM(64, return_sequences=True))(x)\n",
        "  x = layers.Bidirectional(layers.LSTM(32))(x)\n",
        "  x = layers.BatchNormalization()(x)\n",
        "  x = layers.Dense(64, activation='relu')(x)\n",
        "  x = layers.Dropout(0.2)(x)\n",
        "  outputs = layers.Dense(1, activation='sigmoid', name='classifier' )(x)\n",
        "  model = keras.Model(inputs, outputs)\n",
        "  return model"
      ],
      "execution_count": 72,
      "outputs": []
    },
    {
      "cell_type": "code",
      "metadata": {
        "id": "maZRzNq8zhiW",
        "cellView": "form"
      },
      "source": [
        "#@title \"Utilities [Model prediction]\"\n",
        "def get_metrics(y_test, y_pred):\n",
        "    # accuracy: (tp + tn) / (p + n)\n",
        "    accuracy = accuracy_score(y_test, y_pred)\n",
        "    print('Accuracy: %f' % accuracy)\n",
        "    # precision tp / (tp + fp)\n",
        "    precision = precision_score(y_test, y_pred)\n",
        "    print('Precision: %f' % precision)\n",
        "    # recall: tp / (tp + fn)\n",
        "    recall = recall_score(y_test, y_pred)\n",
        "    print('Recall: %f' % recall)\n",
        "    # f1: 2 tp / (2 tp + fp + fn)\n",
        "    f1 = f1_score(y_test, y_pred)\n",
        "    print('F1 score: %f' % f1)\n",
        "    # ROC AUC\n",
        "    auc = roc_auc_score(y_test, y_pred)\n",
        "    print('ROC AUC: %f' % auc)\n",
        "    # confusion matrix\n",
        "    matrix = confusion_matrix(y_test, y_pred)\n",
        "    print(matrix)\n",
        "\n",
        "def predict_on_test_dataset(model, test_data, BATCH_SIZE=32):\n",
        "  y_true=[]\n",
        "  \n",
        "  for text_feat, labels in test_data:\n",
        "    for i in range(BATCH_SIZE):\n",
        "      y_true.append(labels[i].numpy())\n",
        "\n",
        "\n",
        "  predicted_scores  = model.predict(test_data)\n",
        "  y_pred = (predicted_scores > 0.5).astype(\"int32\")\n",
        "  y_pred = y_pred.reshape(-1)\n",
        "  get_metrics(y_true, y_pred)\n",
        "  vh.plot_cm(y_true, predicted_scores)\n",
        "  print()"
      ],
      "execution_count": 73,
      "outputs": []
    },
    {
      "cell_type": "code",
      "metadata": {
        "id": "Dqg_9QR7hfk_",
        "cellView": "form"
      },
      "source": [
        "#@title \"Utilities [Visualization]\"\n",
        "def plot_graphs(history, metric):\n",
        "  plt.plot(history.history[metric])\n",
        "  plt.plot(history.history['val_'+metric], '')\n",
        "  plt.xlabel(\"Epochs\")\n",
        "  plt.ylabel(metric)\n",
        "  plt.legend([metric, 'val_'+metric])"
      ],
      "execution_count": 74,
      "outputs": []
    },
    {
      "cell_type": "markdown",
      "metadata": {
        "id": "HyRKSP2zwYyo"
      },
      "source": [
        "#Read TFRecord data"
      ]
    },
    {
      "cell_type": "code",
      "metadata": {
        "colab": {
          "base_uri": "https://localhost:8080/"
        },
        "id": "sFYhIMQxwy6k",
        "outputId": "1389a3f5-82cf-496f-b316-55fa3861b041"
      },
      "source": [
        "#@title  \"Load files & Split\"\n",
        "#instantiate read_data utility\n",
        "read_YouTube_data = read_tfrec_data(tfrec_trainVal_files_path, VALIDATION_SPLIT=0.2, TESTING_SPLIT=0.0, MODE=1)\n",
        "\n",
        "read_stop_clickbait_data = read_tfrec_data(stop_clickbait_tfrecFiles_path, VALIDATION_SPLIT=0.2, TESTING_SPLIT=0.0, MODE=1)\n",
        "\n",
        "# splitting data files between training, validation and test\n",
        "YouTube_filenames, YouTube_training_filenames, YouTube_validation_filenames, YouTube_testing_filenames = read_YouTube_data.get_tfrec_files()\n",
        "\n",
        "stop_clickbait_filenames, stop_clickbait_training_filenames,stop_clickbait_validation_filenames, stop_clickbait_testing_filenames = read_stop_clickbait_data.get_tfrec_files()\n",
        "\n",
        "filenames = YouTube_filenames + stop_clickbait_filenames\n",
        "training_filenames = YouTube_training_filenames + stop_clickbait_training_filenames\n",
        "validation_filenames = YouTube_validation_filenames + stop_clickbait_validation_filenames\n",
        "\n",
        "random.shuffle(filenames)\n",
        "random.shuffle(training_filenames)\n",
        "random.shuffle(validation_filenames)\n",
        "\n",
        "#len(filenames), len(training_filenames), len(validation_filenames)\n",
        "\n",
        "num_train_examples = 974 * len(YouTube_training_filenames) + 500 * len(stop_clickbait_training_filenames)\n",
        "num_total_examples = 974 * len(YouTube_filenames) + 500 * len(stop_clickbait_filenames)\n",
        "\n",
        "validation_steps = int(num_total_examples  // len(filenames) * len(validation_filenames)) // BATCH_SIZE\n",
        "steps_per_epoch = int(num_total_examples  // len(filenames) * len(training_filenames)) // BATCH_SIZE\n",
        "\n",
        "num_train_steps = steps_per_epoch * epochs\n",
        "num_warmup_steps = num_train_steps // 10\n",
        "\n",
        "print(\"With a batch size of {}, there will be {} batches per training epoch and {} batch(es) per validation run.\".format(BATCH_SIZE, steps_per_epoch, validation_steps))\n",
        "\n"
      ],
      "execution_count": 75,
      "outputs": [
        {
          "output_type": "stream",
          "text": [
            "Pattern matches 14 data files. Splitting dataset into 12 training files , 2 validation files and 0 test files\n",
            "Pattern matches 64 data files. Splitting dataset into 52 training files , 12 validation files and 0 test files\n",
            "With a batch size of 32, there will be 1170 batches per training epoch and 255 batch(es) per validation run.\n"
          ],
          "name": "stdout"
        }
      ]
    },
    {
      "cell_type": "code",
      "metadata": {
        "colab": {
          "base_uri": "https://localhost:8080/"
        },
        "id": "EnFB1lF5p65f",
        "outputId": "71d4fa27-ff74-4d0d-cc01-a37e6ab0dcc6"
      },
      "source": [
        "#instantiate read_data utility for test set\n",
        "read_test_data = read_tfrec_data(tfrec_test_files_path, VALIDATION_SPLIT=0.0, TESTING_SPLIT=0.0, MODE=1)\n",
        "\n",
        "# splitting data files between training, validation and test\n",
        "testing_filenames, _, _,_ = read_test_data.get_tfrec_files()\n",
        "len(testing_filenames)"
      ],
      "execution_count": 76,
      "outputs": [
        {
          "output_type": "stream",
          "text": [
            "Pattern matches 2 data files. Splitting dataset into 2 training files , 0 validation files and 0 test files\n"
          ],
          "name": "stdout"
        },
        {
          "output_type": "execute_result",
          "data": {
            "text/plain": [
              "2"
            ]
          },
          "metadata": {
            "tags": []
          },
          "execution_count": 76
        }
      ]
    },
    {
      "cell_type": "markdown",
      "metadata": {
        "id": "dexXAe2b0LQl"
      },
      "source": [
        "#Load TFRecord into TF Dataset"
      ]
    },
    {
      "cell_type": "code",
      "metadata": {
        "id": "5a2YkXiW0Osa"
      },
      "source": [
        "# create the datasets\n",
        "with tf.device('/cpu:0'):\n",
        "  train_ds = load_dataset(training_filenames)\n",
        "  val_ds = load_dataset(validation_filenames)\n",
        "  test_ds = load_dataset(testing_filenames)"
      ],
      "execution_count": 77,
      "outputs": []
    },
    {
      "cell_type": "code",
      "metadata": {
        "colab": {
          "base_uri": "https://localhost:8080/"
        },
        "id": "81QxcdL40xMi",
        "outputId": "aabf3c6a-70f6-4454-c2d0-8d6bab622cc6"
      },
      "source": [
        "for i,(text, class_num, label) in enumerate(train_ds.take(10)):\n",
        "  print(f\"text : {text.numpy()}, class : {class_num.numpy()}, label : {label.numpy()}\")"
      ],
      "execution_count": 78,
      "outputs": [
        {
          "output_type": "stream",
          "text": [
            "text : b'movies in minutes final destination trailer spoof of the next final destination special thanks to dtrix district link for the beat used in this video check out my nd channel twitter facebook website also thanks for the cameos ytf victor king kevjumba', class : 0, label : b'nonclickbaits'\n",
            "text : b'repo prank come join me on facebook instagram and instagram romanatwood song available here even for us this was a awkward video to make but a lot of fun join us on fb prankster dennis roady', class : 1, label : b'clickbaits'\n",
            "text : b'world s hardest prop hunt ever garry s mod let s go for likes subscribe for more videos check out more videos over here q a series challenge series check out my friends jelly slogoman on my channel i play a bunch of amazing games such as happy wheels gta and minecraft check out my socialmedia twitter instagram facebook outro song can t stop won t stop mighty high download on itunes intro song nu disco televisor neon monstercat release', class : 1, label : b'clickbaits'\n",
            "text : b'epic superbowl experience thank you for stopping by the channel if you enjoyed join the bruh bruh family by clicking here d join the fun snapchat youngsimbahhh twitter instagram merch for business and bookings please email keep grindin my friends', class : 1, label : b'clickbaits'\n",
            "text : b'the best burger ever this burger s got everything meat bun the red stuff see more like us on follow us on follow us on cast mike trapp zac oyama katie marovitch grant o brien ally beardsley crew director ryan anthony martin writer mike trapp producer shane crown production coordinator francesca mclafferty director of photography alex pollini st ac chris marius jones nd ac dit matt stevens gaffer heath gresham key grip jake reeder sound mixer danny carpenter for botown sound hmu denise valentine production designer arae webner president of original content sam reich vice president of production spencer griffin executive in charge of production sam sparks supervising producer alex edge production legal karen segall production accountant shay parsons production accountant chetera bell production intern kristie lee post production supervisor melissa balan post production coordinator marissa high licensing and programming coordinator theodora hart programming assistant caroline langella editor sam geer visual effects graphics tj gonzalez head assistant editor post prod systems engineer mark chernausek assistant editors spencer kombol andrew primavera', class : 0, label : b'nonclickbaits'\n",
            "text : b'reacting to a trickshotting class presentation my dad left me if you re reading this leave a like faze rain merch vlog channel use code rainn for off on original video connect with me twitter instagram facebook snapchat nordansnap livestream use code rainn the best xbox playstation controllers need an energy drink that s healthy rain xbl picture pack my mouse keyboard etc music by as always keep it real', class : 1, label : b'clickbaits'\n",
            "text : b'supply drop openings crazy hitmarker leave a like if you enjoyed watch me live at twitter instagram my stream my faze shirt use code rug for off kontrol freeks i use the ultra use code rug for off scufs i prefer the hybrids d', class : 1, label : b'clickbaits'\n",
            "text : b'pov sick day ch bonus footage like us on feel what it feels like to feel like crap see more follow us on follow us on', class : 0, label : b'nonclickbaits'\n",
            "text : b'the tyler oakley show the eye candy episode with tom daley and scott eastwood arguably the best looking episode to date tyler guesses celebrity abs with olympic diver tom daley and deep dives into scott eastwood s instagram tune in for more episodes every monday watch tom daley follow scott eastwood subscribe follow become a fan', class : 0, label : b'nonclickbaits'\n",
            "text : b'boomers vs millennials inspired by the new movie going in style andy zenor came up with a new game to prove which generation is the smartest going in style is in theaters starting april th', class : 0, label : b'nonclickbaits'\n"
          ],
          "name": "stdout"
        }
      ]
    },
    {
      "cell_type": "code",
      "metadata": {
        "id": "Y9EYaEqFQKM5"
      },
      "source": [
        "with tf.device('/cpu:0'):\n",
        "  train_ds = train_ds.map(lambda text, class_num, label:(text, class_num))\n",
        "  val_ds = val_ds.map(lambda text, class_num, label:(text, class_num))\n",
        "  test_ds = test_ds.map(lambda text, class_num, label:(text, class_num))"
      ],
      "execution_count": 79,
      "outputs": []
    },
    {
      "cell_type": "code",
      "metadata": {
        "id": "H0bLxBS1wTum"
      },
      "source": [
        "# Create text encoder and adapt it on train dataset\n",
        "encoder = tf.keras.layers.experimental.preprocessing.TextVectorization(\n",
        "    max_tokens=VOCAB_SIZE, output_sequence_length=MAX_LEN)\n",
        "encoder.adapt(train_ds.map(lambda text, label: text))"
      ],
      "execution_count": 80,
      "outputs": []
    },
    {
      "cell_type": "code",
      "metadata": {
        "colab": {
          "base_uri": "https://localhost:8080/"
        },
        "id": "X434LWgMwiIG",
        "outputId": "d8a63454-25fa-4c67-aa46-c51d90adb65a"
      },
      "source": [
        "#Let's see the first 20 vocabulary\n",
        "vocab = np.array(encoder.get_vocabulary())\n",
        "vocab[:20]"
      ],
      "execution_count": 81,
      "outputs": [
        {
          "output_type": "execute_result",
          "data": {
            "text/plain": [
              "array(['', '[UNK]', 'the', 'to', 'and', 'a', 'of', 'on', 'you', 'in',\n",
              "       'for', 'my', 's', 'twitter', 'is', 'i', 'follow', 'that', 'this',\n",
              "       'instagram'], dtype='<U24')"
            ]
          },
          "metadata": {
            "tags": []
          },
          "execution_count": 81
        }
      ]
    },
    {
      "cell_type": "code",
      "metadata": {
        "id": "RYCy7RJVfZWN"
      },
      "source": [
        "with tf.device('/cpu:0'):\n",
        "  train_ds = get_batched_dataset(train_ds, train=True)\n",
        "  val_ds = get_batched_dataset(val_ds)\n",
        "  test_ds = get_batched_dataset(test_ds)"
      ],
      "execution_count": 82,
      "outputs": []
    },
    {
      "cell_type": "markdown",
      "metadata": {
        "id": "m4mlvS-W4TDx"
      },
      "source": [
        "#Modeling"
      ]
    },
    {
      "cell_type": "code",
      "metadata": {
        "colab": {
          "base_uri": "https://localhost:8080/"
        },
        "id": "waCLqUaWSbQY",
        "outputId": "dc94afca-5861-4f7a-e25c-09face989d83"
      },
      "source": [
        "# train data spec\n",
        "train_ds.element_spec"
      ],
      "execution_count": 93,
      "outputs": [
        {
          "output_type": "execute_result",
          "data": {
            "text/plain": [
              "(TensorSpec(shape=(32,), dtype=tf.string, name=None),\n",
              " TensorSpec(shape=(32,), dtype=tf.int64, name=None))"
            ]
          },
          "metadata": {
            "tags": []
          },
          "execution_count": 93
        }
      ]
    },
    {
      "cell_type": "markdown",
      "metadata": {
        "id": "CsCwE3RZSi3e"
      },
      "source": [
        "##Build classifier"
      ]
    },
    {
      "cell_type": "code",
      "metadata": {
        "colab": {
          "base_uri": "https://localhost:8080/"
        },
        "id": "sHVKiVfzSkSl",
        "outputId": "bda79cb5-34ab-4660-ab7d-fc688aa42c7a"
      },
      "source": [
        "classifier_model = create_model_new(encoder)\n",
        "classifier_model.summary()"
      ],
      "execution_count": 94,
      "outputs": [
        {
          "output_type": "stream",
          "text": [
            "Model: \"model_4\"\n",
            "_________________________________________________________________\n",
            "Layer (type)                 Output Shape              Param #   \n",
            "=================================================================\n",
            "input_9 (InputLayer)         [(None, None)]            0         \n",
            "_________________________________________________________________\n",
            "text_vectorization_2 (TextVe (None, 128)               0         \n",
            "_________________________________________________________________\n",
            "embedding_7 (Embedding)      (None, 128, 128)          1280000   \n",
            "_________________________________________________________________\n",
            "bidirectional_12 (Bidirectio (None, 128, 128)          98816     \n",
            "_________________________________________________________________\n",
            "bidirectional_13 (Bidirectio (None, 64)                41216     \n",
            "_________________________________________________________________\n",
            "batch_normalization_3 (Batch (None, 64)                256       \n",
            "_________________________________________________________________\n",
            "dense_5 (Dense)              (None, 64)                4160      \n",
            "_________________________________________________________________\n",
            "dropout_7 (Dropout)          (None, 64)                0         \n",
            "_________________________________________________________________\n",
            "classifier (Dense)           (None, 1)                 65        \n",
            "=================================================================\n",
            "Total params: 1,424,513\n",
            "Trainable params: 1,424,385\n",
            "Non-trainable params: 128\n",
            "_________________________________________________________________\n"
          ],
          "name": "stdout"
        }
      ]
    },
    {
      "cell_type": "markdown",
      "metadata": {
        "id": "t-l3hSAZjmAR"
      },
      "source": [
        "##Train classifier model"
      ]
    },
    {
      "cell_type": "markdown",
      "metadata": {
        "id": "JB9jLSmmxlRX"
      },
      "source": [
        "###Compile model"
      ]
    },
    {
      "cell_type": "code",
      "metadata": {
        "colab": {
          "base_uri": "https://localhost:8080/",
          "height": 616
        },
        "id": "jT4HWvMbweSY",
        "outputId": "f82dcf13-5469-4744-98a5-125be48614d2"
      },
      "source": [
        "es = tf.keras.callbacks.EarlyStopping(\n",
        "          monitor='val_loss', \n",
        "          verbose=1, \n",
        "          patience=5, \n",
        "          mode='min', \n",
        "          restore_best_weights=True\n",
        "          )\n",
        "\n",
        "mcb = tf.keras.callbacks.ModelCheckpoint (\n",
        "         filepath=model_checkpoint_path,\n",
        "         save_weights_only=True,\n",
        "         monitor='val_prc',\n",
        "         mode='max',\n",
        "         verbose=1,\n",
        "         save_best_only=True\n",
        "        )\n",
        "\n",
        "METRICS = [\n",
        "             keras.metrics.TruePositives(name='tp'),\n",
        "             keras.metrics.FalsePositives(name='fp'),\n",
        "             keras.metrics.TrueNegatives(name='tn'),\n",
        "             keras.metrics.FalseNegatives(name='fn'), \n",
        "             keras.metrics.BinaryAccuracy(name='accuracy'),\n",
        "             keras.metrics.Precision(name='precision'),\n",
        "             keras.metrics.Recall(name='recall'),\n",
        "             keras.metrics.AUC(name='auc'),\n",
        "             keras.metrics.AUC(name='prc', curve='PR'), # precision-recall curve\n",
        "          ]\n",
        "\n",
        "optimizer = optimization.create_optimizer(\n",
        "      init_lr=init_lr,\n",
        "      num_train_steps=num_train_steps,\n",
        "      num_warmup_steps=num_warmup_steps,\n",
        "      optimizer_type='adamw'\n",
        "      )\n",
        "\n",
        "classifier_model.compile(\n",
        "    optimizer=optimizer,\n",
        "    loss=tf.keras.losses.BinaryCrossentropy(), \n",
        "    metrics=METRICS\n",
        "    )\n",
        "\n",
        "tf.keras.utils.plot_model(model=classifier_model, show_shapes=True, dpi=60)"
      ],
      "execution_count": 95,
      "outputs": [
        {
          "output_type": "execute_result",
          "data": {
            "image/png": "[encoded data removed]",
            "text/plain": [
              "<IPython.core.display.Image object>"
            ]
          },
          "metadata": {
            "tags": []
          },
          "execution_count": 95
        }
      ]
    },
    {
      "cell_type": "code",
      "metadata": {
        "colab": {
          "base_uri": "https://localhost:8080/"
        },
        "id": "V5l3Vge8wibl",
        "outputId": "968b42ed-6280-4d53-b91e-0005d72fe458"
      },
      "source": [
        "#@title Load weights if available\n",
        "if os.path.exists(model_checkpoint_path):\n",
        "  print('loading saved weight')\n",
        "  classifier_model.load_weights(model_checkpoint_path)\n",
        "else:\n",
        "  print('No weight to initialize')"
      ],
      "execution_count": 96,
      "outputs": [
        {
          "output_type": "stream",
          "text": [
            "No weight to initialize\n"
          ],
          "name": "stdout"
        }
      ]
    },
    {
      "cell_type": "markdown",
      "metadata": {
        "id": "H6XKaUuaxqlk"
      },
      "source": [
        "###Train"
      ]
    },
    {
      "cell_type": "code",
      "metadata": {
        "colab": {
          "base_uri": "https://localhost:8080/"
        },
        "id": "VN83npGrjnwd",
        "outputId": "7f9d690f-4d6f-4d04-f380-32693397f932"
      },
      "source": [
        "history = classifier_model.fit(\n",
        "             x=train_ds,\n",
        "             validation_data=val_ds,\n",
        "             epochs=epochs,\n",
        "             validation_steps=100,\n",
        "             callbacks=[es, mcb]\n",
        "             )"
      ],
      "execution_count": 97,
      "outputs": [
        {
          "output_type": "stream",
          "text": [
            "Epoch 1/10\n",
            "1176/1176 [==============================] - 83s 58ms/step - loss: 0.1830 - tp: 17083.0000 - fp: 1483.0000 - tn: 17758.0000 - fn: 1308.0000 - accuracy: 0.9258 - precision: 0.9201 - recall: 0.9289 - auc: 0.9795 - prc: 0.9786 - val_loss: 0.0855 - val_tp: 1429.0000 - val_fp: 26.0000 - val_tn: 1683.0000 - val_fn: 62.0000 - val_accuracy: 0.9725 - val_precision: 0.9821 - val_recall: 0.9584 - val_auc: 0.9941 - val_prc: 0.9934\n",
            "\n",
            "Epoch 00001: val_prc improved from -inf to 0.99339, saving model to /content/drive/MyDrive/Colab Notebooks/clcikbait_detection/dataset/YouTube_clickbait/checkpoints/youtube_clickbait_finetuned_SEQ_checkpoint\n",
            "Epoch 2/10\n",
            "1176/1176 [==============================] - 64s 54ms/step - loss: 0.0554 - tp: 18041.0000 - fp: 384.0000 - tn: 18857.0000 - fn: 350.0000 - accuracy: 0.9805 - precision: 0.9792 - recall: 0.9810 - auc: 0.9973 - prc: 0.9968 - val_loss: 0.0824 - val_tp: 1451.0000 - val_fp: 45.0000 - val_tn: 1664.0000 - val_fn: 40.0000 - val_accuracy: 0.9734 - val_precision: 0.9699 - val_recall: 0.9732 - val_auc: 0.9931 - val_prc: 0.9917\n",
            "\n",
            "Epoch 00002: val_prc did not improve from 0.99339\n",
            "Epoch 3/10\n",
            "1176/1176 [==============================] - 63s 54ms/step - loss: 0.0188 - tp: 18277.0000 - fp: 138.0000 - tn: 19103.0000 - fn: 114.0000 - accuracy: 0.9933 - precision: 0.9925 - recall: 0.9938 - auc: 0.9995 - prc: 0.9994 - val_loss: 0.1154 - val_tp: 1447.0000 - val_fp: 40.0000 - val_tn: 1669.0000 - val_fn: 44.0000 - val_accuracy: 0.9737 - val_precision: 0.9731 - val_recall: 0.9705 - val_auc: 0.9894 - val_prc: 0.9869\n",
            "\n",
            "Epoch 00003: val_prc did not improve from 0.99339\n",
            "Epoch 4/10\n",
            "1176/1176 [==============================] - 63s 54ms/step - loss: 0.0070 - tp: 18359.0000 - fp: 45.0000 - tn: 19196.0000 - fn: 32.0000 - accuracy: 0.9980 - precision: 0.9976 - recall: 0.9983 - auc: 0.9998 - prc: 0.9998 - val_loss: 0.1426 - val_tp: 1448.0000 - val_fp: 38.0000 - val_tn: 1671.0000 - val_fn: 43.0000 - val_accuracy: 0.9747 - val_precision: 0.9744 - val_recall: 0.9712 - val_auc: 0.9875 - val_prc: 0.9831\n",
            "\n",
            "Epoch 00004: val_prc did not improve from 0.99339\n",
            "Epoch 5/10\n",
            "1176/1176 [==============================] - 63s 53ms/step - loss: 0.0020 - tp: 18384.0000 - fp: 17.0000 - tn: 19224.0000 - fn: 7.0000 - accuracy: 0.9994 - precision: 0.9991 - recall: 0.9996 - auc: 1.0000 - prc: 0.9999 - val_loss: 0.1632 - val_tp: 1460.0000 - val_fp: 50.0000 - val_tn: 1659.0000 - val_fn: 31.0000 - val_accuracy: 0.9747 - val_precision: 0.9669 - val_recall: 0.9792 - val_auc: 0.9854 - val_prc: 0.9780\n",
            "\n",
            "Epoch 00005: val_prc did not improve from 0.99339\n",
            "Epoch 6/10\n",
            "1176/1176 [==============================] - 63s 53ms/step - loss: 0.0012 - tp: 18390.0000 - fp: 6.0000 - tn: 19235.0000 - fn: 1.0000 - accuracy: 0.9998 - precision: 0.9997 - recall: 0.9999 - auc: 0.9999 - prc: 0.9999 - val_loss: 0.1631 - val_tp: 1459.0000 - val_fp: 50.0000 - val_tn: 1660.0000 - val_fn: 31.0000 - val_accuracy: 0.9747 - val_precision: 0.9669 - val_recall: 0.9792 - val_auc: 0.9854 - val_prc: 0.9780\n",
            "\n",
            "Epoch 00006: val_prc did not improve from 0.99339\n",
            "Epoch 7/10\n",
            "1176/1176 [==============================] - 63s 54ms/step - loss: 0.0013 - tp: 18388.0000 - fp: 6.0000 - tn: 19235.0000 - fn: 3.0000 - accuracy: 0.9998 - precision: 0.9997 - recall: 0.9998 - auc: 1.0000 - prc: 0.9999 - val_loss: 0.1631 - val_tp: 1460.0000 - val_fp: 50.0000 - val_tn: 1659.0000 - val_fn: 31.0000 - val_accuracy: 0.9747 - val_precision: 0.9669 - val_recall: 0.9792 - val_auc: 0.9854 - val_prc: 0.9780\n",
            "Restoring model weights from the end of the best epoch.\n",
            "\n",
            "Epoch 00007: val_prc did not improve from 0.99339\n",
            "Epoch 00007: early stopping\n"
          ],
          "name": "stdout"
        }
      ]
    },
    {
      "cell_type": "code",
      "metadata": {
        "id": "Qq21bsBY5zci"
      },
      "source": [
        "# Save model weights\n",
        "classifier_model.save_weights(model_checkpoint_path)"
      ],
      "execution_count": 98,
      "outputs": []
    },
    {
      "cell_type": "markdown",
      "metadata": {
        "id": "KGm28Sny7Wbg"
      },
      "source": [
        "#Plot train history"
      ]
    },
    {
      "cell_type": "code",
      "metadata": {
        "colab": {
          "base_uri": "https://localhost:8080/",
          "height": 621
        },
        "id": "de9jdjsl83rU",
        "outputId": "f3f06aba-745a-4dad-b86c-347ac844e3a8"
      },
      "source": [
        "vh.display_training_curves(history.history['accuracy'], history.history['val_accuracy'], 'accuracy', 211)\n",
        "vh.display_training_curves(history.history['loss'], history.history['val_loss'], 'loss', 212)"
      ],
      "execution_count": 99,
      "outputs": [
        {
          "output_type": "display_data",
          "data": {
            "image/png": "[encoded data removed]",
            "text/plain": [
              "<Figure size 720x720 with 2 Axes>"
            ]
          },
          "metadata": {
            "tags": []
          }
        }
      ]
    },
    {
      "cell_type": "code",
      "metadata": {
        "colab": {
          "base_uri": "https://localhost:8080/",
          "height": 621
        },
        "id": "bMtvCGsZ89PT",
        "outputId": "50708153-cf5c-44be-f799-1d5e0ff3f60a"
      },
      "source": [
        "vh.display_training_curves(history.history['recall'], history.history['val_recall'], 'recall', 211)\n",
        "vh.display_training_curves(history.history['precision'], history.history['val_precision'], 'precision', 212)"
      ],
      "execution_count": 100,
      "outputs": [
        {
          "output_type": "display_data",
          "data": {
            "image/png": "[encoded data removed]",
            "text/plain": [
              "<Figure size 720x720 with 2 Axes>"
            ]
          },
          "metadata": {
            "tags": []
          }
        }
      ]
    },
    {
      "cell_type": "markdown",
      "metadata": {
        "id": "il2faBB5uhbz"
      },
      "source": [
        "#Evaluate model"
      ]
    },
    {
      "cell_type": "code",
      "metadata": {
        "colab": {
          "base_uri": "https://localhost:8080/"
        },
        "id": "82Q5YKoQulNX",
        "outputId": "f9427849-2903-4b0a-8a87-5aa9921d6e5f"
      },
      "source": [
        "results = classifier_model.evaluate(test_ds)\n",
        "\n",
        "for name, value in zip(classifier_model.metrics_names, results):\n",
        "  print(name, ': ', value)\n",
        "print()"
      ],
      "execution_count": 101,
      "outputs": [
        {
          "output_type": "stream",
          "text": [
            "60/60 [==============================] - 2s 28ms/step - loss: 0.0779 - tp: 875.0000 - fp: 19.0000 - tn: 1004.0000 - fn: 22.0000 - accuracy: 0.9786 - precision: 0.9787 - recall: 0.9755 - auc: 0.9940 - prc: 0.9929\n",
            "loss :  0.07792922109365463\n",
            "tp :  875.0\n",
            "fp :  19.0\n",
            "tn :  1004.0\n",
            "fn :  22.0\n",
            "accuracy :  0.9786458611488342\n",
            "precision :  0.9787471890449524\n",
            "recall :  0.9754738211631775\n",
            "auc :  0.9939873218536377\n",
            "prc :  0.9929027557373047\n",
            "\n"
          ],
          "name": "stdout"
        }
      ]
    },
    {
      "cell_type": "markdown",
      "metadata": {
        "id": "0hyxBLmuwTsg"
      },
      "source": [
        "#Export for inference"
      ]
    },
    {
      "cell_type": "code",
      "metadata": {
        "id": "EJ8OWWr6tPvX",
        "colab": {
          "base_uri": "https://localhost:8080/"
        },
        "outputId": "4953d10a-d8a0-45dc-f79a-127c82a6b964"
      },
      "source": [
        "classifier_model.save(saved_model_path, include_optimizer=False)"
      ],
      "execution_count": 102,
      "outputs": [
        {
          "output_type": "stream",
          "text": [
            "WARNING:absl:Found untraced functions such as lstm_cell_37_layer_call_and_return_conditional_losses, lstm_cell_37_layer_call_fn, lstm_cell_38_layer_call_and_return_conditional_losses, lstm_cell_38_layer_call_fn, lstm_cell_40_layer_call_and_return_conditional_losses while saving (showing 5 of 20). These functions will not be directly callable after loading.\n"
          ],
          "name": "stderr"
        }
      ]
    },
    {
      "cell_type": "markdown",
      "metadata": {
        "id": "4dJBXqiE9rlP"
      },
      "source": [
        "#Model prediction"
      ]
    },
    {
      "cell_type": "code",
      "metadata": {
        "id": "5ObHbCj0NVgo"
      },
      "source": [
        "saved_classifier = keras.models.load_model(saved_model_path)"
      ],
      "execution_count": 103,
      "outputs": []
    },
    {
      "cell_type": "code",
      "metadata": {
        "colab": {
          "base_uri": "https://localhost:8080/",
          "height": 588
        },
        "id": "QOxoz5tb9ty3",
        "outputId": "3c6fd750-f325-4ea7-ba97-3ca03f38ae66"
      },
      "source": [
        "predict_on_test_dataset(saved_classifier, test_ds, BATCH_SIZE=BATCH_SIZE)"
      ],
      "execution_count": 104,
      "outputs": [
        {
          "output_type": "stream",
          "text": [
            "Accuracy: 0.978646\n",
            "Precision: 0.978747\n",
            "Recall: 0.975474\n",
            "F1 score: 0.977108\n",
            "ROC AUC: 0.978450\n",
            "[[1004   19]\n",
            " [  22  875]]\n",
            "Non clickbaits Detected (True Negatives):  1004\n",
            "Non-Clickbaits Detected as Clickbaits (False Positives):  19\n",
            "Clickbaits Detected as Non-clickbaits (False Negatives):  22\n",
            "Clickbaits Detected (True Positives):  875\n",
            "Total Non-clickbaits:  1023\n",
            "Total Clickbaits:  897\n",
            "\n"
          ],
          "name": "stdout"
        },
        {
          "output_type": "display_data",
          "data": {
            "image/png": "[encoded data removed]",
            "text/plain": [
              "<Figure size 360x360 with 2 Axes>"
            ]
          },
          "metadata": {
            "tags": [],
            "needs_background": "light"
          }
        }
      ]
    }
  ]
}