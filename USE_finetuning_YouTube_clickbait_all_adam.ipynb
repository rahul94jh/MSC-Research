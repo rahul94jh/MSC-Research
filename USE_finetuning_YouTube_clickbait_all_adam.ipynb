{
  "nbformat": 4,
  "nbformat_minor": 0,
  "metadata": {
    "colab": {
      "name": "USE_finetuning_YouTube_clickbait_all.ipynb",
      "provenance": [],
      "collapsed_sections": [
        "KMTn9bhktYps",
        "cDzVIeTqtgHF",
        "HKcowprstl0r",
        "HWD2vnekDCr6",
        "fe8RMZlBoEVg",
        "HyRKSP2zwYyo",
        "dexXAe2b0LQl",
        "CsCwE3RZSi3e",
        "yC6LVHAyn-hs",
        "q2_erN4OoLL5"
      ],
      "mount_file_id": "1lcHESYBH9Am8tgTInSSWgKKt91tPEWJ3",
      "authorship_tag": "ABX9TyPE8BVahPylqD0fNyzANdTn",
      "include_colab_link": true
    },
    "kernelspec": {
      "name": "python3",
      "display_name": "Python 3"
    },
    "language_info": {
      "name": "python"
    },
    "accelerator": "GPU"
  },
  "cells": [
    {
      "cell_type": "markdown",
      "metadata": {
        "id": "view-in-github",
        "colab_type": "text"
      },
      "source": [
        "<a href=\"https://colab.research.google.com/github/rahul94jh/MSC-Research/blob/main/USE_finetuning_YouTube_clickbait_all_adam.ipynb\" target=\"_parent\"><img src=\"https://colab.research.google.com/assets/colab-badge.svg\" alt=\"Open In Colab\"/></a>"
      ]
    },
    {
      "cell_type": "markdown",
      "metadata": {
        "id": "KMTn9bhktYps"
      },
      "source": [
        "#Setup"
      ]
    },
    {
      "cell_type": "code",
      "metadata": {
        "colab": {
          "base_uri": "https://localhost:8080/"
        },
        "id": "aXthlH4rRNk8",
        "outputId": "f2e07fe4-312b-45b3-f116-03f7f450d473"
      },
      "source": [
        "from google.colab import drive\n",
        "drive.mount('/content/drive')"
      ],
      "execution_count": null,
      "outputs": [
        {
          "output_type": "stream",
          "text": [
            "Drive already mounted at /content/drive; to attempt to forcibly remount, call drive.mount(\"/content/drive\", force_remount=True).\n"
          ],
          "name": "stdout"
        }
      ]
    },
    {
      "cell_type": "code",
      "metadata": {
        "colab": {
          "base_uri": "https://localhost:8080/"
        },
        "id": "U7pZ99IQqhKo",
        "outputId": "c0894122-1eda-44d6-cbbc-d07b4e918408"
      },
      "source": [
        "#Check GPU, if assigned k8 then factory reset couple of times until we get Tesla GPU\n",
        "!nvidia-smi"
      ],
      "execution_count": null,
      "outputs": [
        {
          "output_type": "stream",
          "text": [
            "Thu Jul 22 07:23:55 2021       \n",
            "+-----------------------------------------------------------------------------+\n",
            "| NVIDIA-SMI 470.42.01    Driver Version: 460.32.03    CUDA Version: 11.2     |\n",
            "|-------------------------------+----------------------+----------------------+\n",
            "| GPU  Name        Persistence-M| Bus-Id        Disp.A | Volatile Uncorr. ECC |\n",
            "| Fan  Temp  Perf  Pwr:Usage/Cap|         Memory-Usage | GPU-Util  Compute M. |\n",
            "|                               |                      |               MIG M. |\n",
            "|===============================+======================+======================|\n",
            "|   0  Tesla K80           Off  | 00000000:00:04.0 Off |                    0 |\n",
            "| N/A   73C    P8    35W / 149W |      0MiB / 11441MiB |      0%      Default |\n",
            "|                               |                      |                  N/A |\n",
            "+-------------------------------+----------------------+----------------------+\n",
            "                                                                               \n",
            "+-----------------------------------------------------------------------------+\n",
            "| Processes:                                                                  |\n",
            "|  GPU   GI   CI        PID   Type   Process name                  GPU Memory |\n",
            "|        ID   ID                                                   Usage      |\n",
            "|=============================================================================|\n",
            "|  No running processes found                                                 |\n",
            "+-----------------------------------------------------------------------------+\n"
          ],
          "name": "stdout"
        }
      ]
    },
    {
      "cell_type": "code",
      "metadata": {
        "colab": {
          "base_uri": "https://localhost:8080/"
        },
        "id": "73DTOjAUnKJO",
        "outputId": "a5da6101-52bf-46ab-b534-be3d821a8055"
      },
      "source": [
        "!pip install -q tensorflow-text\n",
        "!pip install -q tf-models-official"
      ],
      "execution_count": null,
      "outputs": [
        {
          "output_type": "stream",
          "text": [
            "\u001b[K     |████████████████████████████████| 4.3 MB 11.1 MB/s \n",
            "\u001b[K     |████████████████████████████████| 1.6 MB 14.5 MB/s \n",
            "\u001b[K     |████████████████████████████████| 636 kB 41.8 MB/s \n",
            "\u001b[K     |████████████████████████████████| 99 kB 7.2 MB/s \n",
            "\u001b[K     |████████████████████████████████| 211 kB 50.8 MB/s \n",
            "\u001b[K     |████████████████████████████████| 679 kB 43.8 MB/s \n",
            "\u001b[K     |████████████████████████████████| 1.2 MB 40.9 MB/s \n",
            "\u001b[K     |████████████████████████████████| 54 kB 2.6 MB/s \n",
            "\u001b[K     |████████████████████████████████| 352 kB 51.5 MB/s \n",
            "\u001b[K     |████████████████████████████████| 43 kB 1.8 MB/s \n",
            "\u001b[K     |████████████████████████████████| 37.1 MB 44 kB/s \n",
            "\u001b[?25h  Building wheel for py-cpuinfo (setup.py) ... \u001b[?25l\u001b[?25hdone\n",
            "  Building wheel for seqeval (setup.py) ... \u001b[?25l\u001b[?25hdone\n"
          ],
          "name": "stdout"
        }
      ]
    },
    {
      "cell_type": "markdown",
      "metadata": {
        "id": "cDzVIeTqtgHF"
      },
      "source": [
        "#Imports"
      ]
    },
    {
      "cell_type": "code",
      "metadata": {
        "id": "4Q_MKLxE-7yz",
        "colab": {
          "base_uri": "https://localhost:8080/"
        },
        "outputId": "f57a8241-252a-4226-d3bd-20b6092de390"
      },
      "source": [
        "import os, math\n",
        "import numpy as np\n",
        "import pandas as pd\n",
        "import requests\n",
        "import shutil\n",
        "import re\n",
        "from pathlib import Path\n",
        "import random\n",
        "import matplotlib as mpl\n",
        "from matplotlib import pyplot as plt\n",
        "import seaborn as sns\n",
        "\n",
        "from sklearn.metrics.pairwise import cosine_similarity\n",
        "from sklearn.metrics import roc_auc_score\n",
        "from sklearn.metrics import confusion_matrix\n",
        "from sklearn.metrics import accuracy_score\n",
        "from sklearn.metrics import precision_score\n",
        "from sklearn.metrics import recall_score\n",
        "from sklearn.metrics import f1_score\n",
        "from sklearn.metrics import cohen_kappa_score\n",
        "\n",
        "\n",
        "\n",
        "import tensorflow as tf\n",
        "import tensorflow_hub as hub\n",
        "import tensorflow_text as text\n",
        "import tensorflow_addons as tfa\n",
        "from tensorflow import keras\n",
        "from tensorflow.keras import layers\n",
        "from official.nlp.data import classifier_data_lib\n",
        "from official.nlp.bert import tokenization\n",
        "from official.nlp import optimization\n",
        "from keras.callbacks import ReduceLROnPlateau\n",
        "from tensorflow.keras.callbacks import LearningRateScheduler\n",
        "from tensorflow.keras.optimizers import SGD\n",
        "\n",
        "\n",
        "from tensorflow import keras\n",
        "from official.nlp import optimization  # to create AdamW optmizer\n",
        "AUTO = tf.data.experimental.AUTOTUNE # used in tf.data.Dataset API\n",
        "\n",
        "tf.get_logger().setLevel('ERROR')\n",
        "\n",
        "import sys\n",
        "\n",
        "#Import custom script\n",
        "sys.path.append('/content/drive/MyDrive/Colab Notebooks/clcikbait_detection/scripts')\n",
        "from tf_dataset_helpers import read_tfrec_data\n",
        "import model_helpers as mh\n",
        "import visualization_helpers as vh"
      ],
      "execution_count": null,
      "outputs": [
        {
          "output_type": "stream",
          "text": [
            "/usr/local/lib/python3.7/dist-packages/tensorflow/python/keras/optimizer_v2/optimizer_v2.py:375: UserWarning: The `lr` argument is deprecated, use `learning_rate` instead.\n",
            "  \"The `lr` argument is deprecated, use `learning_rate` instead.\")\n"
          ],
          "name": "stderr"
        }
      ]
    },
    {
      "cell_type": "code",
      "metadata": {
        "colab": {
          "base_uri": "https://localhost:8080/"
        },
        "id": "5RE9WE8LtUhd",
        "outputId": "82414116-9a7a-48a0-f2c5-09769b8ad7b2"
      },
      "source": [
        "print(\"TF Version: \", tf.__version__)\n",
        "print(\"Eager mode: \", tf.executing_eagerly())\n",
        "print(\"Hub version: \", hub.__version__)\n",
        "print(\"GPU is\", \"available\" if tf.config.experimental.list_physical_devices(\"GPU\") else \"NOT AVAILABLE\")"
      ],
      "execution_count": null,
      "outputs": [
        {
          "output_type": "stream",
          "text": [
            "TF Version:  2.5.0\n",
            "Eager mode:  True\n",
            "Hub version:  0.12.0\n",
            "GPU is available\n"
          ],
          "name": "stdout"
        }
      ]
    },
    {
      "cell_type": "markdown",
      "metadata": {
        "id": "HKcowprstl0r"
      },
      "source": [
        "#Configs"
      ]
    },
    {
      "cell_type": "markdown",
      "metadata": {
        "id": "HWD2vnekDCr6"
      },
      "source": [
        "##Sentence encoder configs"
      ]
    },
    {
      "cell_type": "code",
      "metadata": {
        "id": "GTNn3LRp7DfR"
      },
      "source": [
        "encoder = hub.load('https://tfhub.dev/google/universal-sentence-encoder/4')\n",
        "USE_layer = hub.KerasLayer(\n",
        "    encoder,\n",
        "    input_shape=[],\n",
        "    dtype=tf.string, \n",
        "    trainable=True, name='USE_embedding')"
      ],
      "execution_count": null,
      "outputs": []
    },
    {
      "cell_type": "markdown",
      "metadata": {
        "id": "fe8RMZlBoEVg"
      },
      "source": [
        "##General config"
      ]
    },
    {
      "cell_type": "code",
      "metadata": {
        "id": "v9DLhbQrtnGd"
      },
      "source": [
        "tfrec_trainVal_files_path = '/content/drive/MyDrive/Colab Notebooks/clcikbait_detection/dataset/YouTube_clickbait/tfrec_data/train_val/'\n",
        "tfrec_test_files_path = '/content/drive/MyDrive/Colab Notebooks/clcikbait_detection/dataset/YouTube_clickbait/tfrec_data/test/'\n",
        "stop_clickbait_tfrecFiles_path = '/content/drive/MyDrive/Colab Notebooks/clcikbait_detection/dataset/Stop_clickbait/tfrec_data/'\n",
        "fvc_clickbait_tfrecFiles_path = '/content/drive/MyDrive/Colab Notebooks/clcikbait_detection/dataset/FVC_CORPUS/tfrec_data/'\n",
        "tfrec_benchmark_files_path = '/content/drive/MyDrive/Colab Notebooks/clcikbait_detection/dataset/invid_fake_video_v2/tfrec_data/'\n",
        "\n",
        "model_root_path = '/content/drive/MyDrive/Colab Notebooks/clcikbait_detection/dataset/YouTube_clickbait/saved_models'\n",
        "saved_model_name = f'youtube_clickbait_finetuned_USE_all'\n",
        "saved_model_path = os.path.join(model_root_path, saved_model_name )\n",
        "\n",
        "checkpoint_root_path = '/content/drive/MyDrive/Colab Notebooks/clcikbait_detection/dataset/YouTube_clickbait/checkpoints/youtube_clickbait_finetuned_USE_all'\n",
        "if not os.path.exists(checkpoint_root_path):\n",
        "    os.makedirs(checkpoint_root_path)\n",
        "model_checkpoint_path = os.path.join(checkpoint_root_path, f'youtube_clickbait_finetuned_USE_all_checkpoint' )\n",
        "\n",
        "\n",
        "BATCH_SIZE = 32  \n",
        "# Label categories\n",
        "label_list = [0,1]\n",
        "\n",
        "init_lr = 1e-3\n",
        "\n",
        "epochs = 30"
      ],
      "execution_count": null,
      "outputs": []
    },
    {
      "cell_type": "markdown",
      "metadata": {
        "id": "Pvp9_oivD_QD"
      },
      "source": [
        "#Scripts"
      ]
    },
    {
      "cell_type": "code",
      "metadata": {
        "id": "7e62N59Ttk60",
        "cellView": "form"
      },
      "source": [
        "#@title \"Utilities [TF Dataset]\"\n",
        "def read_tfrecord(example):\n",
        "    features = {\n",
        "        \"class\": tf.io.FixedLenFeature([], tf.int64),   # shape [] means scalar\n",
        "        \"text\": tf.io.FixedLenFeature([], tf.string),\n",
        "        \"label\": tf.io.FixedLenFeature([], tf.string)  # one bytestring\n",
        "    }\n",
        "    # decode the TFRecord\n",
        "    example = tf.io.parse_single_example(example, features)\n",
        "    \n",
        "    \n",
        "    class_num = example['class']\n",
        "    text = example['text']\n",
        "    label  = example['label']\n",
        "    return text, class_num, label\n",
        "\n",
        "def load_dataset(filenames):\n",
        "  option_no_order = tf.data.Options()\n",
        "  option_no_order.experimental_deterministic = False\n",
        "\n",
        "  dataset = tf.data.TFRecordDataset(filenames, num_parallel_reads=AUTO)\n",
        "  dataset = dataset.with_options(option_no_order)\n",
        "  dataset = dataset.map(read_tfrecord, num_parallel_calls=AUTO)\n",
        "  return dataset\n",
        "\n",
        "def get_batched_dataset(dataset, train=False):\n",
        "  if train:\n",
        "    dataset = dataset.shuffle(num_train_examples)\n",
        "  dataset = dataset.batch(BATCH_SIZE, drop_remainder=True)\n",
        "  dataset = dataset.cache().prefetch(AUTO) # prefetch next batch while training (autotune prefetch buffer size)\n",
        "  return dataset"
      ],
      "execution_count": null,
      "outputs": []
    },
    {
      "cell_type": "code",
      "metadata": {
        "id": "ADXfSXSIWGpt",
        "cellView": "form"
      },
      "source": [
        "#@title \"Utilities [Create Model Definition]\"\n",
        "def create_model():\n",
        "\n",
        " model = tf.keras.models.Sequential()\n",
        " model.add(USE_layer)\n",
        " model.add(tf.keras.layers.Dropout(0.2))\n",
        " model.add(tf.keras.layers.Dense(128, activation='relu'))\n",
        " model.add(tf.keras.layers.BatchNormalization())\n",
        " model.add(tf.keras.layers.Dropout(0.2))\n",
        " model.add(tf.keras.layers.Dense(1, activation='sigmoid'))\n",
        " return model"
      ],
      "execution_count": null,
      "outputs": []
    },
    {
      "cell_type": "code",
      "metadata": {
        "id": "maZRzNq8zhiW",
        "cellView": "form"
      },
      "source": [
        "#@title \"Utilities [Model prediction]\"\n",
        "def get_metrics(y_test, y_pred):\n",
        "    # accuracy: (tp + tn) / (p + n)\n",
        "    accuracy = accuracy_score(y_test, y_pred)\n",
        "    print('Accuracy: %f' % accuracy)\n",
        "    # precision tp / (tp + fp)\n",
        "    precision = precision_score(y_test, y_pred)\n",
        "    print('Precision: %f' % precision)\n",
        "    # recall: tp / (tp + fn)\n",
        "    recall = recall_score(y_test, y_pred)\n",
        "    print('Recall: %f' % recall)\n",
        "    # f1: 2 tp / (2 tp + fp + fn)\n",
        "    f1 = f1_score(y_test, y_pred)\n",
        "    print('F1 score: %f' % f1)\n",
        "    # ROC AUC\n",
        "    auc = roc_auc_score(y_test, y_pred)\n",
        "    print('ROC AUC: %f' % auc)\n",
        "    # confusion matrix\n",
        "    matrix = confusion_matrix(y_test, y_pred)\n",
        "    print(matrix)\n",
        "\n",
        "def predict_on_test_dataset(model, test_data, BATCH_SIZE=32):\n",
        "  y_true=[]\n",
        "  \n",
        "  for text_feat, labels in test_data:\n",
        "    for i in range(BATCH_SIZE):\n",
        "      y_true.append(labels[i].numpy())\n",
        "\n",
        "\n",
        "  predicted_scores  = model.predict(test_data)\n",
        "  y_pred = (predicted_scores > 0.5).astype(\"int32\")\n",
        "  y_pred = y_pred.reshape(-1)\n",
        "  get_metrics(y_true, y_pred)\n",
        "  vh.plot_cm(y_true, predicted_scores)\n",
        "  print()"
      ],
      "execution_count": null,
      "outputs": []
    },
    {
      "cell_type": "code",
      "metadata": {
        "id": "Dqg_9QR7hfk_",
        "cellView": "form"
      },
      "source": [
        "#@title \"Utilities [Visualization]\"\n",
        "def plot_graphs(history, metric):\n",
        "  plt.plot(history.history[metric])\n",
        "  plt.plot(history.history['val_'+metric], '')\n",
        "  plt.xlabel(\"Epochs\")\n",
        "  plt.ylabel(metric)\n",
        "  plt.legend([metric, 'val_'+metric])"
      ],
      "execution_count": null,
      "outputs": []
    },
    {
      "cell_type": "code",
      "metadata": {
        "cellView": "form",
        "id": "zwICLvt03qG3"
      },
      "source": [
        "#@title \"Utilities [Gradient function]\"\n",
        "#https://keras.io/examples/vision/gradient_centralization/#implement-gradient-centralization\n",
        "from tensorflow.keras.optimizers import RMSprop\n",
        "class GCRMSprop(RMSprop):\n",
        "    def get_gradients(self, loss, params):\n",
        "        # We here just provide a modified get_gradients() function since we are\n",
        "        # trying to just compute the centralized gradients.\n",
        "\n",
        "        grads = []\n",
        "        gradients = super().get_gradients()\n",
        "        for grad in gradients:\n",
        "            grad_len = len(grad.shape)\n",
        "            if grad_len > 1:\n",
        "                axis = list(range(grad_len - 1))\n",
        "                grad -= tf.reduce_mean(grad, axis=axis, keep_dims=True)\n",
        "            grads.append(grad)\n",
        "\n",
        "        return grads"
      ],
      "execution_count": null,
      "outputs": []
    },
    {
      "cell_type": "code",
      "metadata": {
        "id": "c1mlb3xZMdnu"
      },
      "source": [
        "class LearningRateDecay:\n",
        "\tdef plot(self, epochs, title=\"Learning Rate Schedule\"):\n",
        "\t\t# compute the set of learning rates for each corresponding\n",
        "\t\t# epoch\n",
        "\t\tlrs = [self(i) for i in epochs]\n",
        "\t\t# the learning rate schedule\n",
        "\t\tplt.style.use(\"ggplot\")\n",
        "\t\tplt.figure()\n",
        "\t\tplt.plot(epochs, lrs)\n",
        "\t\tplt.title(title)\n",
        "\t\tplt.xlabel(\"Epoch #\")\n",
        "\t\tplt.ylabel(\"Learning Rate\")\n",
        "\n",
        "class StepDecay(LearningRateDecay):\n",
        "\tdef __init__(self, initAlpha=0.01, factor=0.25, dropEvery=10):\n",
        "\t\t# store the base initial learning rate, drop factor, and\n",
        "\t\t# epochs to drop every\n",
        "\t\tself.initAlpha = initAlpha\n",
        "\t\tself.factor = factor\n",
        "\t\tself.dropEvery = dropEvery\n",
        "\tdef __call__(self, epoch):\n",
        "\t\t# compute the learning rate for the current epoch\n",
        "\t\texp = np.floor((1 + epoch) / self.dropEvery)\n",
        "\t\talpha = self.initAlpha * (self.factor ** exp)\n",
        "\t\t# return the learning rate\n",
        "\t\treturn float(alpha)\n",
        "\n",
        "class PolynomialDecay(LearningRateDecay):\n",
        "\tdef __init__(self, maxEpochs=100, initAlpha=0.01, power=1.0):\n",
        "\t\t# store the maximum number of epochs, base learning rate,\n",
        "\t\t# and power of the polynomial\n",
        "\t\tself.maxEpochs = maxEpochs\n",
        "\t\tself.initAlpha = initAlpha\n",
        "\t\tself.power = power\n",
        "\tdef __call__(self, epoch):\n",
        "\t\t# compute the new learning rate based on polynomial decay\n",
        "\t\tdecay = (1 - (epoch / float(self.maxEpochs))) ** self.power\n",
        "\t\talpha = self.initAlpha * decay\n",
        "\t\t# return the new learning rate\n",
        "\t\treturn float(alpha)"
      ],
      "execution_count": null,
      "outputs": []
    },
    {
      "cell_type": "markdown",
      "metadata": {
        "id": "HyRKSP2zwYyo"
      },
      "source": [
        "#Read TFRecord data"
      ]
    },
    {
      "cell_type": "code",
      "metadata": {
        "colab": {
          "base_uri": "https://localhost:8080/"
        },
        "id": "sFYhIMQxwy6k",
        "outputId": "b833465a-38e9-4605-bb8d-09ad3d60bb3a"
      },
      "source": [
        "#@title  \"Load files & Split into Train and Val\"\n",
        "\n",
        "# read tfrec files from disk storage\n",
        "read_YouTube_data = read_tfrec_data(tfrec_trainVal_files_path, VALIDATION_SPLIT=0.2, TESTING_SPLIT=0.0, MODE=1)\n",
        "\n",
        "read_stop_clickbait_data = read_tfrec_data(stop_clickbait_tfrecFiles_path, VALIDATION_SPLIT=0.2, TESTING_SPLIT=0.0, MODE=1)\n",
        "\n",
        "read_fvc_clickbait_data = read_tfrec_data(fvc_clickbait_tfrecFiles_path, VALIDATION_SPLIT=0.2, TESTING_SPLIT=0.0, MODE=1)\n",
        "\n",
        "# splitting data files between training, validation and test\n",
        "YouTube_filenames, YouTube_training_filenames, YouTube_validation_filenames, YouTube_testing_filenames = read_YouTube_data.get_tfrec_files()\n",
        "\n",
        "stop_clickbait_filenames, stop_clickbait_training_filenames,stop_clickbait_validation_filenames, stop_clickbait_testing_filenames = read_stop_clickbait_data.get_tfrec_files()\n",
        "\n",
        "fvc_filenames, fvc_training_filenames, fvc_validation_filenames, fvc_testing_filenames = read_fvc_clickbait_data.get_tfrec_files()\n",
        "\n",
        "\n",
        "filenames = YouTube_filenames + stop_clickbait_filenames + fvc_filenames\n",
        "training_filenames = YouTube_training_filenames + stop_clickbait_training_filenames + fvc_training_filenames\n",
        "validation_filenames = YouTube_validation_filenames + stop_clickbait_validation_filenames + fvc_validation_filenames\n",
        "\n",
        "random.shuffle(filenames)\n",
        "random.shuffle(training_filenames)\n",
        "random.shuffle(validation_filenames)\n",
        "\n",
        "print(f'Length FileNames : {len(filenames)} Length Training FileNames : {len(training_filenames)} Length Validation FileNames : {len(validation_filenames)}')\n",
        "\n",
        "num_train_examples = 974 * len(YouTube_training_filenames) + 500 * len(stop_clickbait_training_filenames) + 100 * len(fvc_training_filenames)\n",
        "num_total_examples = 974 * len(YouTube_filenames) + 500 * len(stop_clickbait_filenames) + 100 * len(fvc_filenames)\n",
        "\n",
        "validation_steps = int(num_total_examples  // len(filenames) * len(validation_filenames)) // BATCH_SIZE\n",
        "steps_per_epoch = int(num_total_examples  // len(filenames) * len(training_filenames)) // BATCH_SIZE\n",
        "\n",
        "num_train_steps = steps_per_epoch * epochs\n",
        "num_warmup_steps = num_train_steps // 10\n",
        "\n",
        "print(\"With a batch size of {}, there will be {} batches per training epoch and {} batch(es) per validation run.\".format(BATCH_SIZE, steps_per_epoch, validation_steps))\n",
        "\n"
      ],
      "execution_count": null,
      "outputs": [
        {
          "output_type": "stream",
          "text": [
            "Pattern matches 14 data files. Splitting dataset into 12 training files , 2 validation files and 0 test files\n",
            "Pattern matches 64 data files. Splitting dataset into 52 training files , 12 validation files and 0 test files\n",
            "Pattern matches 16 data files. Splitting dataset into 13 training files , 3 validation files and 0 test files\n",
            "Length FileNames : 94 Length Training FileNames : 77 Length Validation FileNames : 17\n",
            "With a batch size of 32, there will be 1207 batches per training epoch and 266 batch(es) per validation run.\n"
          ],
          "name": "stdout"
        }
      ]
    },
    {
      "cell_type": "code",
      "metadata": {
        "colab": {
          "base_uri": "https://localhost:8080/"
        },
        "id": "EnFB1lF5p65f",
        "outputId": "7525f6d1-25ba-487a-f515-611bcaf7ccd4"
      },
      "source": [
        "#@title  \"Load Test and Benchmarking files\"\n",
        "read_test_data = read_tfrec_data(tfrec_test_files_path, VALIDATION_SPLIT=0.0, TESTING_SPLIT=0.0, MODE=1) # Used only for testing\n",
        "read_benchmark_data = read_tfrec_data(tfrec_benchmark_files_path, VALIDATION_SPLIT=0.0, TESTING_SPLIT=0.0, MODE=1) # Used only for benchmarking\n",
        "\n",
        "\n",
        "testing_filenames, _, _,_ = read_test_data.get_tfrec_files()\n",
        "benchmarking_filenames, _, _,_ = read_benchmark_data.get_tfrec_files()\n",
        "\n",
        "len(testing_filenames), len(benchmarking_filenames)"
      ],
      "execution_count": null,
      "outputs": [
        {
          "output_type": "stream",
          "text": [
            "Pattern matches 2 data files. Splitting dataset into 2 training files , 0 validation files and 0 test files\n",
            "Pattern matches 4 data files. Splitting dataset into 4 training files , 0 validation files and 0 test files\n"
          ],
          "name": "stdout"
        },
        {
          "output_type": "execute_result",
          "data": {
            "text/plain": [
              "(2, 4)"
            ]
          },
          "metadata": {
            "tags": []
          },
          "execution_count": 15
        }
      ]
    },
    {
      "cell_type": "markdown",
      "metadata": {
        "id": "dexXAe2b0LQl"
      },
      "source": [
        "#Load TFRecord into TF Dataset"
      ]
    },
    {
      "cell_type": "code",
      "metadata": {
        "id": "5a2YkXiW0Osa"
      },
      "source": [
        "# create the TF datasets\n",
        "with tf.device('/cpu:0'):\n",
        "  train_ds = load_dataset(training_filenames)\n",
        "  val_ds = load_dataset(validation_filenames)\n",
        "  test_ds = load_dataset(testing_filenames)\n",
        "  benchmark_ds = load_dataset(benchmarking_filenames)"
      ],
      "execution_count": null,
      "outputs": []
    },
    {
      "cell_type": "code",
      "metadata": {
        "colab": {
          "base_uri": "https://localhost:8080/"
        },
        "id": "81QxcdL40xMi",
        "outputId": "0f11e489-dc9f-422e-9c23-f6dbe438698e"
      },
      "source": [
        "for i,(text, class_num, label) in enumerate(train_ds.take(10)):\n",
        "  print(f\"text : {text.numpy()}, class : {class_num.numpy()}, label : {label.numpy()}\")"
      ],
      "execution_count": null,
      "outputs": [
        {
          "output_type": "stream",
          "text": [
            "text : b'pan dulce is the most delicious thing you need to try', class : 1, label : b'clickbaits'\n",
            "text : b'u s sees a smaller g m in the future than g m does', class : 0, label : b'nonclickbaits'\n",
            "text : b'which zodiac should you date based on your favourite game of thrones house', class : 1, label : b'clickbaits'\n",
            "text : b'lessons i learned from south indian movies', class : 1, label : b'clickbaits'\n",
            "text : b'oral sex horror stories that ll make you gag', class : 1, label : b'clickbaits'\n",
            "text : b'which dead grey s anatomy character are you', class : 1, label : b'clickbaits'\n",
            "text : b'jennifer lawrence wrote a refreshingly honest essay on the hollywood gender pay gap', class : 1, label : b'clickbaits'\n",
            "text : b'demi lovato did a nude no makeup unretouched photo shoot and it s everything', class : 1, label : b'clickbaits'\n",
            "text : b'these five questions will determine why you re still single', class : 1, label : b'clickbaits'\n",
            "text : b'how to get rid of gift cards you ll never use', class : 1, label : b'clickbaits'\n"
          ],
          "name": "stdout"
        }
      ]
    },
    {
      "cell_type": "code",
      "metadata": {
        "id": "Y9EYaEqFQKM5"
      },
      "source": [
        "# We need only Text and numeric Label from the dataset\n",
        "with tf.device('/cpu:0'):\n",
        "  train_ds = train_ds.map(lambda text, class_num, label:(text, class_num))\n",
        "  val_ds = val_ds.map(lambda text, class_num, label:(text, class_num))\n",
        "  test_ds = test_ds.map(lambda text, class_num, label:(text, class_num))\n",
        "  benchmark_ds = benchmark_ds.map(lambda text, class_num, label:(text, class_num))"
      ],
      "execution_count": null,
      "outputs": []
    },
    {
      "cell_type": "code",
      "metadata": {
        "colab": {
          "base_uri": "https://localhost:8080/"
        },
        "id": "cRpJwphml5xA",
        "outputId": "69cbe737-b48f-40d7-f6d7-86a524ba5b7a"
      },
      "source": [
        "train_ds.element_spec, val_ds.element_spec, test_ds.element_spec, benchmark_ds.element_spec"
      ],
      "execution_count": null,
      "outputs": [
        {
          "output_type": "execute_result",
          "data": {
            "text/plain": [
              "((TensorSpec(shape=(), dtype=tf.string, name=None),\n",
              "  TensorSpec(shape=(), dtype=tf.int64, name=None)),\n",
              " (TensorSpec(shape=(), dtype=tf.string, name=None),\n",
              "  TensorSpec(shape=(), dtype=tf.int64, name=None)),\n",
              " (TensorSpec(shape=(), dtype=tf.string, name=None),\n",
              "  TensorSpec(shape=(), dtype=tf.int64, name=None)),\n",
              " (TensorSpec(shape=(), dtype=tf.string, name=None),\n",
              "  TensorSpec(shape=(), dtype=tf.int64, name=None)))"
            ]
          },
          "metadata": {
            "tags": []
          },
          "execution_count": 19
        }
      ]
    },
    {
      "cell_type": "code",
      "metadata": {
        "id": "RYCy7RJVfZWN"
      },
      "source": [
        "with tf.device('/cpu:0'):\n",
        "  train_ds = get_batched_dataset(train_ds, train=True)\n",
        "  val_ds = get_batched_dataset(val_ds)\n",
        "  test_ds = get_batched_dataset(test_ds)\n",
        "  benchmark_ds = get_batched_dataset(benchmark_ds)"
      ],
      "execution_count": null,
      "outputs": []
    },
    {
      "cell_type": "markdown",
      "metadata": {
        "id": "m4mlvS-W4TDx"
      },
      "source": [
        "#Modeling"
      ]
    },
    {
      "cell_type": "markdown",
      "metadata": {
        "id": "CsCwE3RZSi3e"
      },
      "source": [
        "##Build classifier"
      ]
    },
    {
      "cell_type": "code",
      "metadata": {
        "colab": {
          "base_uri": "https://localhost:8080/"
        },
        "id": "sHVKiVfzSkSl",
        "outputId": "c0c02e77-fadc-47d3-af87-bcfe54ee8baf"
      },
      "source": [
        "classifier_model = create_model()\n",
        "classifier_model.summary()"
      ],
      "execution_count": null,
      "outputs": [
        {
          "output_type": "stream",
          "text": [
            "Model: \"sequential\"\n",
            "_________________________________________________________________\n",
            "Layer (type)                 Output Shape              Param #   \n",
            "=================================================================\n",
            "USE_embedding (KerasLayer)   (None, 512)               256797824 \n",
            "_________________________________________________________________\n",
            "dropout (Dropout)            (None, 512)               0         \n",
            "_________________________________________________________________\n",
            "dense (Dense)                (None, 128)               65664     \n",
            "_________________________________________________________________\n",
            "batch_normalization (BatchNo (None, 128)               512       \n",
            "_________________________________________________________________\n",
            "dropout_1 (Dropout)          (None, 128)               0         \n",
            "_________________________________________________________________\n",
            "dense_1 (Dense)              (None, 1)                 129       \n",
            "=================================================================\n",
            "Total params: 256,864,129\n",
            "Trainable params: 256,863,873\n",
            "Non-trainable params: 256\n",
            "_________________________________________________________________\n"
          ],
          "name": "stdout"
        }
      ]
    },
    {
      "cell_type": "markdown",
      "metadata": {
        "id": "t-l3hSAZjmAR"
      },
      "source": [
        "##Train classifier model"
      ]
    },
    {
      "cell_type": "markdown",
      "metadata": {
        "id": "JB9jLSmmxlRX"
      },
      "source": [
        "###Compile model"
      ]
    },
    {
      "cell_type": "code",
      "metadata": {
        "colab": {
          "base_uri": "https://localhost:8080/",
          "height": 478
        },
        "id": "jT4HWvMbweSY",
        "outputId": "27beb366-3f18-4f27-a04e-ac1bf319f320"
      },
      "source": [
        "es = tf.keras.callbacks.EarlyStopping(\n",
        "          monitor='val_loss', \n",
        "          verbose=1, \n",
        "          patience=5, \n",
        "          mode='min', \n",
        "          restore_best_weights=True\n",
        "          )\n",
        "\n",
        "mcb = tf.keras.callbacks.ModelCheckpoint (\n",
        "         filepath=model_checkpoint_path,\n",
        "         save_weights_only=True,\n",
        "         monitor='val_loss',\n",
        "         mode='min',\n",
        "         verbose=1,\n",
        "         save_best_only=True\n",
        "        )\n",
        "\n",
        "METRICS = [\n",
        "             keras.metrics.TruePositives(name='tp'),\n",
        "             keras.metrics.FalsePositives(name='fp'),\n",
        "             keras.metrics.TrueNegatives(name='tn'),\n",
        "             keras.metrics.FalseNegatives(name='fn'), \n",
        "             keras.metrics.BinaryAccuracy(name='accuracy'),\n",
        "             keras.metrics.Precision(name='precision'),\n",
        "             keras.metrics.Recall(name='recall'),\n",
        "             keras.metrics.AUC(name='auc'),\n",
        "             keras.metrics.AUC(name='prc', curve='PR'), # precision-recall curve\n",
        "          ]\n",
        "\n",
        "#optimizer = optimization.create_optimizer(\n",
        "#      init_lr=init_lr,\n",
        "#      num_train_steps=num_train_steps,\n",
        "#      num_warmup_steps=num_warmup_steps,\n",
        "#      optimizer_type='adamw'\n",
        "#      )\n",
        "\n",
        "lr_schedule = tf.keras.optimizers.schedules.ExponentialDecay(\n",
        "    init_lr,\n",
        "    decay_steps=num_train_steps,\n",
        "    decay_rate=0.96,\n",
        "    staircase=True)\n",
        "\n",
        "optimizer=tf.keras.optimizers.Adam(learning_rate=lr_schedule)\n",
        "\n",
        "classifier_model.compile(\n",
        "    optimizer=optimizer,\n",
        "    loss=tf.keras.losses.BinaryCrossentropy(), \n",
        "    metrics=METRICS\n",
        "    )\n",
        "\n",
        "tf.keras.utils.plot_model(model=classifier_model, show_shapes=True, dpi=60)"
      ],
      "execution_count": null,
      "outputs": [
        {
          "output_type": "execute_result",
          "data": {
            "image/png": "[encoded data removed]",
            "text/plain": [
              "<IPython.core.display.Image object>"
            ]
          },
          "metadata": {
            "tags": []
          },
          "execution_count": 22
        }
      ]
    },
    {
      "cell_type": "markdown",
      "metadata": {
        "id": "H6XKaUuaxqlk"
      },
      "source": [
        "###Train"
      ]
    },
    {
      "cell_type": "code",
      "metadata": {
        "colab": {
          "base_uri": "https://localhost:8080/"
        },
        "id": "5m2m1rm9mpns",
        "outputId": "c75ecc90-bcb3-461e-9fec-f5b8546a5fb7"
      },
      "source": [
        "#@title Load Model weights if available\n",
        "#if os.path.exists(checkpoint_root_path) & len(os.listdir(checkpoint_root_path))>0:\n",
        "#  print('loading saved weight')\n",
        "#  classifier_model.load_weights(model_checkpoint_path)\n",
        "#else:\n",
        "#  print('No weight to initialize') "
      ],
      "execution_count": null,
      "outputs": [
        {
          "output_type": "stream",
          "text": [
            "No weight to initialize\n"
          ],
          "name": "stdout"
        }
      ]
    },
    {
      "cell_type": "code",
      "metadata": {
        "colab": {
          "base_uri": "https://localhost:8080/"
        },
        "id": "VN83npGrjnwd",
        "outputId": "9304b7c1-ada5-44bf-c515-c4cb0e5bc79b"
      },
      "source": [
        "history = classifier_model.fit(\n",
        "             x=train_ds,\n",
        "             validation_data=val_ds,\n",
        "             epochs=epochs,\n",
        "             callbacks=[es, mcb]\n",
        "             )"
      ],
      "execution_count": null,
      "outputs": [
        {
          "output_type": "stream",
          "text": [
            "Epoch 1/30\n",
            "1217/1217 [==============================] - 336s 248ms/step - loss: 0.1285 - tp: 18161.0000 - fp: 885.0000 - tn: 18907.0000 - fn: 991.0000 - accuracy: 0.9518 - precision: 0.9535 - recall: 0.9483 - auc: 0.9893 - prc: 0.9889 - val_loss: 0.0805 - val_tp: 3934.0000 - val_fp: 164.0000 - val_tn: 4051.0000 - val_fn: 75.0000 - val_accuracy: 0.9709 - val_precision: 0.9600 - val_recall: 0.9813 - val_auc: 0.9963 - val_prc: 0.9960\n",
            "\n",
            "Epoch 00001: val_loss improved from inf to 0.08047, saving model to /content/drive/MyDrive/Colab Notebooks/clcikbait_detection/dataset/YouTube_clickbait/checkpoints/youtube_clickbait_finetuned_USE_all/youtube_clickbait_finetuned_USE_all_checkpoint\n",
            "Epoch 2/30\n",
            "1217/1217 [==============================] - 305s 250ms/step - loss: 0.0213 - tp: 19024.0000 - fp: 141.0000 - tn: 19651.0000 - fn: 128.0000 - accuracy: 0.9931 - precision: 0.9926 - recall: 0.9933 - auc: 0.9994 - prc: 0.9992 - val_loss: 0.0948 - val_tp: 3852.0000 - val_fp: 82.0000 - val_tn: 4133.0000 - val_fn: 157.0000 - val_accuracy: 0.9709 - val_precision: 0.9792 - val_recall: 0.9608 - val_auc: 0.9935 - val_prc: 0.9935\n",
            "\n",
            "Epoch 00002: val_loss did not improve from 0.08047\n",
            "Epoch 3/30\n",
            "1217/1217 [==============================] - 298s 245ms/step - loss: 0.0082 - tp: 19108.0000 - fp: 58.0000 - tn: 19734.0000 - fn: 44.0000 - accuracy: 0.9974 - precision: 0.9970 - recall: 0.9977 - auc: 0.9998 - prc: 0.9997 - val_loss: 0.1076 - val_tp: 3860.0000 - val_fp: 109.0000 - val_tn: 4106.0000 - val_fn: 149.0000 - val_accuracy: 0.9686 - val_precision: 0.9725 - val_recall: 0.9628 - val_auc: 0.9923 - val_prc: 0.9908\n",
            "\n",
            "Epoch 00003: val_loss did not improve from 0.08047\n",
            "Epoch 4/30\n",
            "1217/1217 [==============================] - 297s 244ms/step - loss: 0.0076 - tp: 19112.0000 - fp: 52.0000 - tn: 19740.0000 - fn: 40.0000 - accuracy: 0.9976 - precision: 0.9973 - recall: 0.9979 - auc: 0.9999 - prc: 0.9999 - val_loss: 0.1422 - val_tp: 3818.0000 - val_fp: 75.0000 - val_tn: 4140.0000 - val_fn: 191.0000 - val_accuracy: 0.9677 - val_precision: 0.9807 - val_recall: 0.9524 - val_auc: 0.9888 - val_prc: 0.9889\n",
            "\n",
            "Epoch 00004: val_loss did not improve from 0.08047\n",
            "Epoch 5/30\n",
            "1217/1217 [==============================] - 297s 244ms/step - loss: 0.0075 - tp: 19108.0000 - fp: 50.0000 - tn: 19742.0000 - fn: 44.0000 - accuracy: 0.9976 - precision: 0.9974 - recall: 0.9977 - auc: 0.9998 - prc: 0.9997 - val_loss: 1.3313 - val_tp: 1366.0000 - val_fp: 2.0000 - val_tn: 4213.0000 - val_fn: 2643.0000 - val_accuracy: 0.6784 - val_precision: 0.9985 - val_recall: 0.3407 - val_auc: 0.9098 - val_prc: 0.9387\n",
            "\n",
            "Epoch 00005: val_loss did not improve from 0.08047\n",
            "Epoch 6/30\n",
            "1217/1217 [==============================] - 296s 243ms/step - loss: 0.0056 - tp: 19124.0000 - fp: 34.0000 - tn: 19758.0000 - fn: 28.0000 - accuracy: 0.9984 - precision: 0.9982 - recall: 0.9985 - auc: 0.9998 - prc: 0.9997 - val_loss: 0.2937 - val_tp: 3281.0000 - val_fp: 15.0000 - val_tn: 4200.0000 - val_fn: 728.0000 - val_accuracy: 0.9097 - val_precision: 0.9954 - val_recall: 0.8184 - val_auc: 0.9860 - val_prc: 0.9888\n",
            "Restoring model weights from the end of the best epoch.\n",
            "\n",
            "Epoch 00006: val_loss did not improve from 0.08047\n",
            "Epoch 00006: early stopping\n"
          ],
          "name": "stdout"
        }
      ]
    },
    {
      "cell_type": "code",
      "metadata": {
        "id": "Qq21bsBY5zci"
      },
      "source": [
        "# Save model weights\n",
        "classifier_model.save_weights(model_checkpoint_path)"
      ],
      "execution_count": null,
      "outputs": []
    },
    {
      "cell_type": "markdown",
      "metadata": {
        "id": "KGm28Sny7Wbg"
      },
      "source": [
        "#Plot train history"
      ]
    },
    {
      "cell_type": "code",
      "metadata": {
        "id": "de9jdjsl83rU",
        "colab": {
          "base_uri": "https://localhost:8080/",
          "height": 621
        },
        "outputId": "cd1b1943-fbc6-42eb-d95e-08e5f3c58566"
      },
      "source": [
        "vh.display_training_curves(history.history['accuracy'], history.history['val_accuracy'], 'accuracy', 211)\n",
        "vh.display_training_curves(history.history['loss'], history.history['val_loss'], 'loss', 212)"
      ],
      "execution_count": null,
      "outputs": [
        {
          "output_type": "display_data",
          "data": {
            "image/png": "[encoded data removed]",
            "text/plain": [
              "<Figure size 720x720 with 2 Axes>"
            ]
          },
          "metadata": {
            "tags": []
          }
        }
      ]
    },
    {
      "cell_type": "code",
      "metadata": {
        "id": "bMtvCGsZ89PT",
        "colab": {
          "base_uri": "https://localhost:8080/",
          "height": 621
        },
        "outputId": "5f64289b-8902-4ce3-dea6-64d6e2fa561f"
      },
      "source": [
        "vh.display_training_curves(history.history['recall'], history.history['val_recall'], 'recall', 211)\n",
        "vh.display_training_curves(history.history['precision'], history.history['val_precision'], 'precision', 212)"
      ],
      "execution_count": null,
      "outputs": [
        {
          "output_type": "display_data",
          "data": {
            "image/png": "[encoded data removed]",
            "text/plain": [
              "<Figure size 720x720 with 2 Axes>"
            ]
          },
          "metadata": {
            "tags": []
          }
        }
      ]
    },
    {
      "cell_type": "markdown",
      "metadata": {
        "id": "u3EcfqHpnb7M"
      },
      "source": [
        "# Model Inference\n",
        "We have trained the classifier, now let's use the trained model to infer the test dataset. Beside the test dataset, we also have benchmark dataset that we would also to see the eefectiveness of our model over benchmark dataset on predicting the clickbait's."
      ]
    },
    {
      "cell_type": "markdown",
      "metadata": {
        "id": "wUbL6y3Qnowd"
      },
      "source": [
        "##Model Evaluation"
      ]
    },
    {
      "cell_type": "markdown",
      "metadata": {
        "id": "V3DsGFsKnteT"
      },
      "source": [
        "###Evaluate Classifier on Test set"
      ]
    },
    {
      "cell_type": "code",
      "metadata": {
        "id": "f3RkZKpanwB6",
        "colab": {
          "base_uri": "https://localhost:8080/"
        },
        "outputId": "4b5e8a44-0c42-46e7-fbc3-807038e51efa"
      },
      "source": [
        "results_test_set = classifier_model.evaluate(test_ds)\n",
        "\n",
        "for name, value in zip(classifier_model.metrics_names, results_test_set):\n",
        "  print(name, ': ', value)\n",
        "print()"
      ],
      "execution_count": null,
      "outputs": [
        {
          "output_type": "stream",
          "text": [
            "60/60 [==============================] - 4s 50ms/step - loss: 0.0815 - tp: 887.0000 - fp: 45.0000 - tn: 978.0000 - fn: 10.0000 - accuracy: 0.9714 - precision: 0.9517 - recall: 0.9889 - auc: 0.9963 - prc: 0.9951\n",
            "loss :  0.0814959779381752\n",
            "tp :  887.0\n",
            "fp :  45.0\n",
            "tn :  978.0\n",
            "fn :  10.0\n",
            "accuracy :  0.9713541865348816\n",
            "precision :  0.9517167210578918\n",
            "recall :  0.9888517260551453\n",
            "auc :  0.9963007569313049\n",
            "prc :  0.9951176643371582\n",
            "\n"
          ],
          "name": "stdout"
        }
      ]
    },
    {
      "cell_type": "markdown",
      "metadata": {
        "id": "36FvI_Jfnzm4"
      },
      "source": [
        "### Evaluate Classifier on Benchmarking set"
      ]
    },
    {
      "cell_type": "code",
      "metadata": {
        "id": "sksFha2Jn2ax",
        "colab": {
          "base_uri": "https://localhost:8080/"
        },
        "outputId": "a842872f-85a3-4410-e4ba-fe87751f1ea1"
      },
      "source": [
        "results_benchmarking_set = classifier_model.evaluate(benchmark_ds)\n",
        "\n",
        "for name, value in zip(classifier_model.metrics_names, results_benchmarking_set):\n",
        "  print(name, ': ', value)\n",
        "print()"
      ],
      "execution_count": null,
      "outputs": [
        {
          "output_type": "stream",
          "text": [
            "5/5 [==============================] - 2s 190ms/step - loss: 0.4419 - tp: 71.0000 - fp: 6.0000 - tn: 60.0000 - fn: 23.0000 - accuracy: 0.8188 - precision: 0.9221 - recall: 0.7553 - auc: 0.9262 - prc: 0.9497\n",
            "loss :  0.44185367226600647\n",
            "tp :  71.0\n",
            "fp :  6.0\n",
            "tn :  60.0\n",
            "fn :  23.0\n",
            "accuracy :  0.8187500238418579\n",
            "precision :  0.9220778942108154\n",
            "recall :  0.7553191781044006\n",
            "auc :  0.9261767268180847\n",
            "prc :  0.9496660232543945\n",
            "\n"
          ],
          "name": "stdout"
        }
      ]
    },
    {
      "cell_type": "markdown",
      "metadata": {
        "id": "yC6LVHAyn-hs"
      },
      "source": [
        "##Export Model for inference"
      ]
    },
    {
      "cell_type": "code",
      "metadata": {
        "id": "DHOU2aiyoCKy",
        "colab": {
          "base_uri": "https://localhost:8080/"
        },
        "outputId": "9b2f0a73-b112-4afe-9081-87e4438b5390"
      },
      "source": [
        "classifier_model.save(saved_model_path, include_optimizer=False)"
      ],
      "execution_count": null,
      "outputs": [
        {
          "output_type": "stream",
          "text": [
            "WARNING:absl:Function `_wrapped_model` contains input name(s) USE_embedding_input with unsupported characters which will be renamed to use_embedding_input in the SavedModel.\n"
          ],
          "name": "stderr"
        }
      ]
    },
    {
      "cell_type": "markdown",
      "metadata": {
        "id": "Qoh5oCeBoFSB"
      },
      "source": [
        "##Model prediction"
      ]
    },
    {
      "cell_type": "code",
      "metadata": {
        "id": "oHG0fmpQoHuJ"
      },
      "source": [
        "saved_classifier = keras.models.load_model(saved_model_path)"
      ],
      "execution_count": 32,
      "outputs": []
    },
    {
      "cell_type": "markdown",
      "metadata": {
        "id": "q2_erN4OoLL5"
      },
      "source": [
        "### Prediction for Test set"
      ]
    },
    {
      "cell_type": "code",
      "metadata": {
        "id": "4qZegAuroQHP",
        "colab": {
          "base_uri": "https://localhost:8080/",
          "height": 588
        },
        "outputId": "bff8c52c-a50c-432e-a9e3-d2bdd0cc8eb4"
      },
      "source": [
        "predict_on_test_dataset(saved_classifier, test_ds, BATCH_SIZE=BATCH_SIZE)"
      ],
      "execution_count": 33,
      "outputs": [
        {
          "output_type": "stream",
          "text": [
            "Accuracy: 0.971354\n",
            "Precision: 0.951717\n",
            "Recall: 0.988852\n",
            "F1 score: 0.969929\n",
            "ROC AUC: 0.972432\n",
            "[[978  45]\n",
            " [ 10 887]]\n",
            "Non clickbaits Detected (True Negatives):  978\n",
            "Non-Clickbaits Detected as Clickbaits (False Positives):  45\n",
            "Clickbaits Detected as Non-clickbaits (False Negatives):  10\n",
            "Clickbaits Detected (True Positives):  887\n",
            "Total Non-clickbaits:  1023\n",
            "Total Clickbaits:  897\n",
            "\n"
          ],
          "name": "stdout"
        },
        {
          "output_type": "display_data",
          "data": {
            "image/png": "[encoded data removed]",
            "text/plain": [
              "<Figure size 360x360 with 2 Axes>"
            ]
          },
          "metadata": {
            "tags": [],
            "needs_background": "light"
          }
        }
      ]
    },
    {
      "cell_type": "markdown",
      "metadata": {
        "id": "Ldte4xEboU8H"
      },
      "source": [
        "### Prediction for Benchmarking set"
      ]
    },
    {
      "cell_type": "code",
      "metadata": {
        "id": "H2V6xTcFoWbm",
        "colab": {
          "base_uri": "https://localhost:8080/",
          "height": 588
        },
        "outputId": "abea1973-c26d-41b5-868d-de938cdab4db"
      },
      "source": [
        "predict_on_test_dataset(saved_classifier, benchmark_ds, BATCH_SIZE=BATCH_SIZE)"
      ],
      "execution_count": 34,
      "outputs": [
        {
          "output_type": "stream",
          "text": [
            "Accuracy: 0.818750\n",
            "Precision: 0.922078\n",
            "Recall: 0.755319\n",
            "F1 score: 0.830409\n",
            "ROC AUC: 0.832205\n",
            "[[60  6]\n",
            " [23 71]]\n",
            "Non clickbaits Detected (True Negatives):  60\n",
            "Non-Clickbaits Detected as Clickbaits (False Positives):  6\n",
            "Clickbaits Detected as Non-clickbaits (False Negatives):  23\n",
            "Clickbaits Detected (True Positives):  71\n",
            "Total Non-clickbaits:  66\n",
            "Total Clickbaits:  94\n",
            "\n"
          ],
          "name": "stdout"
        },
        {
          "output_type": "display_data",
          "data": {
            "image/png": "[encoded data removed]",
            "text/plain": [
              "<Figure size 360x360 with 2 Axes>"
            ]
          },
          "metadata": {
            "tags": [],
            "needs_background": "light"
          }
        }
      ]
    }
  ]
}