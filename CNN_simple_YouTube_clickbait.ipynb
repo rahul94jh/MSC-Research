{
  "nbformat": 4,
  "nbformat_minor": 0,
  "metadata": {
    "colab": {
      "name": "CNN_simple_YouTube_clickbait.ipynb",
      "provenance": [],
      "collapsed_sections": [
        "50PR9zjEwcVQ",
        "w0BIYkkawhPR",
        "ZmiEjc087coQ",
        "NwjkRbascLjJ",
        "LYty87ruwmRY",
        "A11N_4sEeWrp",
        "N-ixCHW2jrw3",
        "bt6wvqYnjxsg",
        "FpxDaJjwpT5e",
        "gncX_diltvTN",
        "Rj-5ITult6Ow"
      ],
      "include_colab_link": true
    },
    "kernelspec": {
      "name": "python3",
      "display_name": "Python 3"
    },
    "language_info": {
      "name": "python"
    },
    "accelerator": "TPU"
  },
  "cells": [
    {
      "cell_type": "markdown",
      "metadata": {
        "id": "view-in-github",
        "colab_type": "text"
      },
      "source": [
        "<a href=\"https://colab.research.google.com/github/rahul94jh/MSC-Research/blob/main/CNN_simple_YouTube_clickbait.ipynb\" target=\"_parent\"><img src=\"https://colab.research.google.com/assets/colab-badge.svg\" alt=\"Open In Colab\"/></a>"
      ]
    },
    {
      "cell_type": "markdown",
      "metadata": {
        "id": "50PR9zjEwcVQ"
      },
      "source": [
        "#Setup"
      ]
    },
    {
      "cell_type": "code",
      "metadata": {
        "colab": {
          "base_uri": "https://localhost:8080/"
        },
        "id": "04axv8qzwff4",
        "outputId": "3fb5c59c-6d17-499e-b0f2-9ecdad498230"
      },
      "source": [
        "from google.colab import drive\n",
        "drive.mount('/content/drive')"
      ],
      "execution_count": 1,
      "outputs": [
        {
          "output_type": "stream",
          "text": [
            "Mounted at /content/drive\n"
          ],
          "name": "stdout"
        }
      ]
    },
    {
      "cell_type": "code",
      "metadata": {
        "colab": {
          "base_uri": "https://localhost:8080/"
        },
        "id": "bIP82XC7TbTq",
        "outputId": "ca602da4-812f-4972-e0c6-0b64050a9956"
      },
      "source": [
        "!pip install -U tensorflow-addons"
      ],
      "execution_count": 2,
      "outputs": [
        {
          "output_type": "stream",
          "text": [
            "Collecting tensorflow-addons\n",
            "  Downloading tensorflow_addons-0.13.0-cp37-cp37m-manylinux2010_x86_64.whl (679 kB)\n",
            "\u001b[K     |████████████████████████████████| 679 kB 5.2 MB/s \n",
            "\u001b[?25hRequirement already satisfied: typeguard>=2.7 in /usr/local/lib/python3.7/dist-packages (from tensorflow-addons) (2.7.1)\n",
            "Installing collected packages: tensorflow-addons\n",
            "Successfully installed tensorflow-addons-0.13.0\n"
          ],
          "name": "stdout"
        }
      ]
    },
    {
      "cell_type": "code",
      "metadata": {
        "colab": {
          "base_uri": "https://localhost:8080/"
        },
        "id": "9NxNpokcn9Qw",
        "outputId": "4c614b95-7a54-4db5-e04b-ead3ab1ea733"
      },
      "source": [
        "#! pip install tensorflow --upgrade"
      ],
      "execution_count": null,
      "outputs": [
        {
          "output_type": "stream",
          "text": [
            "Requirement already satisfied: tensorflow in /usr/local/lib/python3.7/dist-packages (2.5.0)\n",
            "Collecting tensorflow\n",
            "  Downloading tensorflow-2.6.0-cp37-cp37m-manylinux2010_x86_64.whl (458.3 MB)\n",
            "\u001b[K     |████████████████████████████████| 458.3 MB 10 kB/s \n",
            "\u001b[?25hRequirement already satisfied: wrapt~=1.12.1 in /usr/local/lib/python3.7/dist-packages (from tensorflow) (1.12.1)\n",
            "Requirement already satisfied: gast==0.4.0 in /usr/local/lib/python3.7/dist-packages (from tensorflow) (0.4.0)\n",
            "Requirement already satisfied: keras-preprocessing~=1.1.2 in /usr/local/lib/python3.7/dist-packages (from tensorflow) (1.1.2)\n",
            "Requirement already satisfied: flatbuffers~=1.12.0 in /usr/local/lib/python3.7/dist-packages (from tensorflow) (1.12)\n",
            "Collecting clang~=5.0\n",
            "  Downloading clang-5.0.tar.gz (30 kB)\n",
            "Requirement already satisfied: opt-einsum~=3.3.0 in /usr/local/lib/python3.7/dist-packages (from tensorflow) (3.3.0)\n",
            "Requirement already satisfied: google-pasta~=0.2 in /usr/local/lib/python3.7/dist-packages (from tensorflow) (0.2.0)\n",
            "Requirement already satisfied: six~=1.15.0 in /usr/local/lib/python3.7/dist-packages (from tensorflow) (1.15.0)\n",
            "Collecting tensorboard~=2.6\n",
            "  Downloading tensorboard-2.6.0-py3-none-any.whl (5.6 MB)\n",
            "\u001b[K     |████████████████████████████████| 5.6 MB 39.4 MB/s \n",
            "\u001b[?25hRequirement already satisfied: astunparse~=1.6.3 in /usr/local/lib/python3.7/dist-packages (from tensorflow) (1.6.3)\n",
            "Requirement already satisfied: protobuf>=3.9.2 in /usr/local/lib/python3.7/dist-packages (from tensorflow) (3.17.3)\n",
            "Requirement already satisfied: numpy~=1.19.2 in /usr/local/lib/python3.7/dist-packages (from tensorflow) (1.19.5)\n",
            "Requirement already satisfied: termcolor~=1.1.0 in /usr/local/lib/python3.7/dist-packages (from tensorflow) (1.1.0)\n",
            "Collecting tensorflow-estimator~=2.6\n",
            "  Downloading tensorflow_estimator-2.6.0-py2.py3-none-any.whl (462 kB)\n",
            "\u001b[K     |████████████████████████████████| 462 kB 49.7 MB/s \n",
            "\u001b[?25hRequirement already satisfied: h5py~=3.1.0 in /usr/local/lib/python3.7/dist-packages (from tensorflow) (3.1.0)\n",
            "Requirement already satisfied: absl-py~=0.10 in /usr/local/lib/python3.7/dist-packages (from tensorflow) (0.12.0)\n",
            "Requirement already satisfied: typing-extensions~=3.7.4 in /usr/local/lib/python3.7/dist-packages (from tensorflow) (3.7.4.3)\n",
            "Collecting grpcio<2.0,>=1.37.0\n",
            "  Downloading grpcio-1.39.0-cp37-cp37m-manylinux2014_x86_64.whl (4.3 MB)\n",
            "\u001b[K     |████████████████████████████████| 4.3 MB 13.8 MB/s \n",
            "\u001b[?25hRequirement already satisfied: wheel~=0.35 in /usr/local/lib/python3.7/dist-packages (from tensorflow) (0.37.0)\n",
            "Collecting keras~=2.6\n",
            "  Downloading keras-2.6.0-py2.py3-none-any.whl (1.3 MB)\n",
            "\u001b[K     |████████████████████████████████| 1.3 MB 35.4 MB/s \n",
            "\u001b[?25hRequirement already satisfied: cached-property in /usr/local/lib/python3.7/dist-packages (from h5py~=3.1.0->tensorflow) (1.5.2)\n",
            "Requirement already satisfied: markdown>=2.6.8 in /usr/local/lib/python3.7/dist-packages (from tensorboard~=2.6->tensorflow) (3.3.4)\n",
            "Requirement already satisfied: requests<3,>=2.21.0 in /usr/local/lib/python3.7/dist-packages (from tensorboard~=2.6->tensorflow) (2.23.0)\n",
            "Requirement already satisfied: tensorboard-data-server<0.7.0,>=0.6.0 in /usr/local/lib/python3.7/dist-packages (from tensorboard~=2.6->tensorflow) (0.6.1)\n",
            "Requirement already satisfied: tensorboard-plugin-wit>=1.6.0 in /usr/local/lib/python3.7/dist-packages (from tensorboard~=2.6->tensorflow) (1.8.0)\n",
            "Requirement already satisfied: setuptools>=41.0.0 in /usr/local/lib/python3.7/dist-packages (from tensorboard~=2.6->tensorflow) (57.2.0)\n",
            "Requirement already satisfied: google-auth-oauthlib<0.5,>=0.4.1 in /usr/local/lib/python3.7/dist-packages (from tensorboard~=2.6->tensorflow) (0.4.5)\n",
            "Requirement already satisfied: google-auth<2,>=1.6.3 in /usr/local/lib/python3.7/dist-packages (from tensorboard~=2.6->tensorflow) (1.34.0)\n",
            "Requirement already satisfied: werkzeug>=0.11.15 in /usr/local/lib/python3.7/dist-packages (from tensorboard~=2.6->tensorflow) (1.0.1)\n",
            "Requirement already satisfied: cachetools<5.0,>=2.0.0 in /usr/local/lib/python3.7/dist-packages (from google-auth<2,>=1.6.3->tensorboard~=2.6->tensorflow) (4.2.2)\n",
            "Requirement already satisfied: pyasn1-modules>=0.2.1 in /usr/local/lib/python3.7/dist-packages (from google-auth<2,>=1.6.3->tensorboard~=2.6->tensorflow) (0.2.8)\n",
            "Requirement already satisfied: rsa<5,>=3.1.4 in /usr/local/lib/python3.7/dist-packages (from google-auth<2,>=1.6.3->tensorboard~=2.6->tensorflow) (4.7.2)\n",
            "Requirement already satisfied: requests-oauthlib>=0.7.0 in /usr/local/lib/python3.7/dist-packages (from google-auth-oauthlib<0.5,>=0.4.1->tensorboard~=2.6->tensorflow) (1.3.0)\n",
            "Requirement already satisfied: importlib-metadata in /usr/local/lib/python3.7/dist-packages (from markdown>=2.6.8->tensorboard~=2.6->tensorflow) (4.6.3)\n",
            "Requirement already satisfied: pyasn1<0.5.0,>=0.4.6 in /usr/local/lib/python3.7/dist-packages (from pyasn1-modules>=0.2.1->google-auth<2,>=1.6.3->tensorboard~=2.6->tensorflow) (0.4.8)\n",
            "Requirement already satisfied: idna<3,>=2.5 in /usr/local/lib/python3.7/dist-packages (from requests<3,>=2.21.0->tensorboard~=2.6->tensorflow) (2.10)\n",
            "Requirement already satisfied: certifi>=2017.4.17 in /usr/local/lib/python3.7/dist-packages (from requests<3,>=2.21.0->tensorboard~=2.6->tensorflow) (2021.5.30)\n",
            "Requirement already satisfied: urllib3!=1.25.0,!=1.25.1,<1.26,>=1.21.1 in /usr/local/lib/python3.7/dist-packages (from requests<3,>=2.21.0->tensorboard~=2.6->tensorflow) (1.24.3)\n",
            "Requirement already satisfied: chardet<4,>=3.0.2 in /usr/local/lib/python3.7/dist-packages (from requests<3,>=2.21.0->tensorboard~=2.6->tensorflow) (3.0.4)\n",
            "Requirement already satisfied: oauthlib>=3.0.0 in /usr/local/lib/python3.7/dist-packages (from requests-oauthlib>=0.7.0->google-auth-oauthlib<0.5,>=0.4.1->tensorboard~=2.6->tensorflow) (3.1.1)\n",
            "Requirement already satisfied: zipp>=0.5 in /usr/local/lib/python3.7/dist-packages (from importlib-metadata->markdown>=2.6.8->tensorboard~=2.6->tensorflow) (3.5.0)\n",
            "Building wheels for collected packages: clang\n",
            "  Building wheel for clang (setup.py) ... \u001b[?25l\u001b[?25hdone\n",
            "  Created wheel for clang: filename=clang-5.0-py3-none-any.whl size=30692 sha256=82edceee3fa59b9dad72d8a426dec9dd21ce4c8de61eafa1598dcdcc74a7751c\n",
            "  Stored in directory: /root/.cache/pip/wheels/98/91/04/971b4c587cf47ae952b108949b46926f426c02832d120a082a\n",
            "Successfully built clang\n",
            "Installing collected packages: grpcio, tensorflow-estimator, tensorboard, keras, clang, tensorflow\n",
            "  Attempting uninstall: grpcio\n",
            "    Found existing installation: grpcio 1.34.1\n",
            "    Uninstalling grpcio-1.34.1:\n",
            "      Successfully uninstalled grpcio-1.34.1\n",
            "  Attempting uninstall: tensorflow-estimator\n",
            "    Found existing installation: tensorflow-estimator 2.5.0\n",
            "    Uninstalling tensorflow-estimator-2.5.0:\n",
            "      Successfully uninstalled tensorflow-estimator-2.5.0\n",
            "  Attempting uninstall: tensorboard\n",
            "    Found existing installation: tensorboard 2.5.0\n",
            "    Uninstalling tensorboard-2.5.0:\n",
            "      Successfully uninstalled tensorboard-2.5.0\n",
            "  Attempting uninstall: keras\n",
            "    Found existing installation: Keras 2.4.3\n",
            "    Uninstalling Keras-2.4.3:\n",
            "      Successfully uninstalled Keras-2.4.3\n",
            "  Attempting uninstall: tensorflow\n",
            "    Found existing installation: tensorflow 2.5.0\n",
            "    Uninstalling tensorflow-2.5.0:\n",
            "      Successfully uninstalled tensorflow-2.5.0\n",
            "Successfully installed clang-5.0 grpcio-1.39.0 keras-2.6.0 tensorboard-2.6.0 tensorflow-2.6.0 tensorflow-estimator-2.6.0\n"
          ],
          "name": "stdout"
        }
      ]
    },
    {
      "cell_type": "markdown",
      "metadata": {
        "id": "w0BIYkkawhPR"
      },
      "source": [
        "#Imports"
      ]
    },
    {
      "cell_type": "code",
      "metadata": {
        "id": "mmKGHSnritX8",
        "colab": {
          "base_uri": "https://localhost:8080/"
        },
        "outputId": "6b11a617-17f8-4e1d-ebc0-6c039ec135f4"
      },
      "source": [
        "import os, sys, math\n",
        "import numpy as np\n",
        "import random\n",
        "import pandas as pd\n",
        "from matplotlib import pyplot as plt\n",
        "\n",
        "\n",
        "from sklearn.metrics.pairwise import cosine_similarity\n",
        "from sklearn.metrics import roc_auc_score\n",
        "from sklearn.metrics import confusion_matrix\n",
        "from sklearn.metrics import accuracy_score\n",
        "from sklearn.metrics import precision_score\n",
        "from sklearn.metrics import recall_score\n",
        "from sklearn.metrics import f1_score\n",
        "from sklearn.metrics import cohen_kappa_score\n",
        "\n",
        "\n",
        "\n",
        "import tensorflow as tf\n",
        "from tensorflow import keras\n",
        "from tensorflow.keras import layers\n",
        "from tensorflow.keras.models import Sequential\n",
        "import tensorflow_addons as tfa   # for optimizer\n",
        "import keras.backend as K\n",
        "import tensorflow_hub as hub\n",
        "from tensorflow import keras\n",
        "from keras.callbacks import ReduceLROnPlateau\n",
        "from tensorflow.keras.callbacks import LearningRateScheduler\n",
        "from tensorflow.keras.optimizers import SGD\n",
        "\n",
        "AUTO = tf.data.experimental.AUTOTUNE # used in tf.data.Dataset API\n",
        "\n",
        "tf.get_logger().setLevel('ERROR')\n",
        "\n",
        "import sys\n",
        "\n",
        "#Import custom script\n",
        "sys.path.append('/content/drive/MyDrive/Colab Notebooks/clcikbait_detection/scripts')\n",
        "from tf_dataset_helpers import read_tfrec_data\n",
        "import model_helpers as mh\n",
        "import visualization_helpers as vh"
      ],
      "execution_count": 2,
      "outputs": [
        {
          "output_type": "stream",
          "text": [
            "/usr/local/lib/python3.7/dist-packages/tensorflow/python/keras/optimizer_v2/optimizer_v2.py:375: UserWarning: The `lr` argument is deprecated, use `learning_rate` instead.\n",
            "  \"The `lr` argument is deprecated, use `learning_rate` instead.\")\n"
          ],
          "name": "stderr"
        }
      ]
    },
    {
      "cell_type": "markdown",
      "metadata": {
        "id": "ZmiEjc087coQ"
      },
      "source": [
        "#Configurations"
      ]
    },
    {
      "cell_type": "code",
      "metadata": {
        "id": "VrJC9-njb95M"
      },
      "source": [
        "TARGET_SIZE = [180, 180]\n",
        "CLASSES = ['nonclickbaits', 'clickbaits'] \n",
        "NUM_CLASSES = 2\n",
        "BATCH_SIZE = 32  # On Colab/GPU, a higher batch size does not help and sometimes does not fit on the GPU (OOM)\n",
        "WIDTH = 180\n",
        "HEIGHT = 180\n",
        "CHANNELS = 3\n",
        "INPUT_SHAPE = (WIDTH, HEIGHT, CHANNELS)\n",
        "\n",
        "\n",
        "label_list = [0,1]\n",
        "init_lr = 1e-4\n",
        "epochs=1"
      ],
      "execution_count": 20,
      "outputs": []
    },
    {
      "cell_type": "code",
      "metadata": {
        "id": "gziZDcZ27fC3"
      },
      "source": [
        "tfrec_trainVal_files_path = '/content/drive/MyDrive/Colab Notebooks/clcikbait_detection/dataset/YouTube_clickbait/tfrec_data/train_val/'\n",
        "tfrec_test_files_path = '/content/drive/MyDrive/Colab Notebooks/clcikbait_detection/dataset/YouTube_clickbait/tfrec_data/test/'\n",
        "fvc_clickbait_tfrecFiles_path = '/content/drive/MyDrive/Colab Notebooks/clcikbait_detection/dataset/FVC_CORPUS/tfrec_data/'\n",
        "tfrec_benchmark_files_path = '/content/drive/MyDrive/Colab Notebooks/clcikbait_detection/dataset/invid_fake_video_v2/tfrec_data/'\n",
        "\n",
        "model_root_path = '/content/drive/MyDrive/Colab Notebooks/clcikbait_detection/models/image_models'\n",
        "saved_model_name = f'youtube_clickbait_simple_CNN'\n",
        "saved_model_path = os.path.join(model_root_path, saved_model_name )\n",
        "\n",
        "checkpoint_root_path = '/content/drive/MyDrive/Colab Notebooks/clcikbait_detection/dataset/YouTube_clickbait/checkpoints/youtube_clickbait_simple_CNN'\n",
        "if not os.path.exists(checkpoint_root_path):\n",
        "    os.makedirs(checkpoint_root_path)\n",
        "model_checkpoint_path = os.path.join(checkpoint_root_path, f'youtube_clickbait_simple_CNN_checkpoint' )"
      ],
      "execution_count": 5,
      "outputs": []
    },
    {
      "cell_type": "markdown",
      "metadata": {
        "id": "NwjkRbascLjJ"
      },
      "source": [
        "#Scripts"
      ]
    },
    {
      "cell_type": "code",
      "metadata": {
        "id": "T91mKur_cK_9"
      },
      "source": [
        "def read_tfrecord(example): \n",
        "    features = {\n",
        "        \"class\": tf.io.FixedLenFeature([], tf.int64),   # shape [] means scalar\n",
        "        \"image\": tf.io.FixedLenFeature([], tf.string),\n",
        "        \"label\": tf.io.FixedLenFeature([], tf.string),  # one bytestring\n",
        "    }\n",
        "    # decode the TFRecord\n",
        "    example = tf.io.parse_single_example(example, features)\n",
        "    image = tf.image.decode_jpeg(example['image'], channels=3)\n",
        "    image = tf.image.convert_image_dtype(image, tf.float32)\n",
        "    image = tf.reshape(image, [*TARGET_SIZE, 3])\n",
        "    \n",
        "    class_num = example['class']\n",
        "    label  = example['label']\n",
        "    return image, class_num, label\n",
        "\n",
        "def load_dataset(filenames):\n",
        "  option_no_order = tf.data.Options()\n",
        "  option_no_order.experimental_deterministic = False\n",
        "\n",
        "  dataset = tf.data.TFRecordDataset(filenames, num_parallel_reads=AUTO)\n",
        "  dataset = dataset.with_options(option_no_order)\n",
        "  dataset = dataset.map(read_tfrecord, num_parallel_calls=AUTO)\n",
        "  dataset = dataset.map(lambda image, class_num, label: (image, class_num))\n",
        "  return dataset\n",
        "\n",
        "def get_batched_dataset(dataset, train=False):\n",
        "  if train:\n",
        "    dataset = dataset.shuffle(num_train_examples)\n",
        "  dataset = dataset.batch(BATCH_SIZE, drop_remainder=True)\n",
        "  dataset = dataset.cache().prefetch(AUTO) # prefetch next batch while training (autotune prefetch buffer size)\n",
        "  return dataset"
      ],
      "execution_count": 6,
      "outputs": []
    },
    {
      "cell_type": "code",
      "metadata": {
        "id": "uqyiCLemj_JH"
      },
      "source": [
        "def create_model(input_shape, num_classes):\n",
        "    inputs = keras.Input(shape=input_shape)\n",
        "    # Entry block\n",
        "    x = layers.Conv2D(32, 3, strides=2, padding=\"same\", activation=\"relu\")(inputs)\n",
        "    x = layers.BatchNormalization()(x)\n",
        "\n",
        "    x = layers.Conv2D(64, 3, padding=\"same\", activation=\"relu\")(x)\n",
        "    x = layers.BatchNormalization()(x)\n",
        "\n",
        "    x = layers.Conv2D(128, 3, padding=\"same\", activation=\"relu\")(x)\n",
        "    x = layers.BatchNormalization()(x)\n",
        "\n",
        "    x = layers.GlobalAveragePooling2D()(x)\n",
        "    if num_classes == 2:\n",
        "        activation = \"sigmoid\"\n",
        "        units = 1\n",
        "    else:\n",
        "        activation = \"softmax\"\n",
        "        units = num_classes\n",
        "\n",
        "    x = layers.Dropout(0.5)(x)\n",
        "    outputs = layers.Dense(units, activation=activation)(x)\n",
        "    return keras.Model(inputs, outputs)"
      ],
      "execution_count": 7,
      "outputs": []
    },
    {
      "cell_type": "markdown",
      "metadata": {
        "id": "LYty87ruwmRY"
      },
      "source": [
        "#Read TFRecord data"
      ]
    },
    {
      "cell_type": "code",
      "metadata": {
        "colab": {
          "base_uri": "https://localhost:8080/"
        },
        "id": "-imBKPBbwnu_",
        "outputId": "42041c25-7cb8-42ce-e757-6052af69a57a"
      },
      "source": [
        "\n",
        "read_YouTube_data = read_tfrec_data(tfrec_trainVal_files_path, VALIDATION_SPLIT=0.2, TESTING_SPLIT=0.0, MODE=0)\n",
        "\n",
        "read_fvc_clickbait_data = read_tfrec_data(fvc_clickbait_tfrecFiles_path, VALIDATION_SPLIT=0.2, TESTING_SPLIT=0.0, MODE=0)\n",
        "\n",
        "# splitting data files between training, validation and test\n",
        "YouTube_filenames, YouTube_training_filenames, YouTube_validation_filenames, YouTube_testing_filenames = read_YouTube_data.get_tfrec_files()\n",
        "\n",
        "fvc_filenames, fvc_training_filenames, fvc_validation_filenames, fvc_testing_filenames = read_fvc_clickbait_data.get_tfrec_files()\n",
        "\n",
        "\n",
        "filenames = YouTube_filenames + fvc_filenames\n",
        "training_filenames = YouTube_training_filenames + fvc_training_filenames\n",
        "validation_filenames = YouTube_validation_filenames + fvc_validation_filenames\n",
        "\n",
        "random.shuffle(filenames)\n",
        "random.shuffle(training_filenames)\n",
        "random.shuffle(validation_filenames)\n",
        "\n",
        "print(f'Length FileNames : {len(filenames)} Length Training FileNames : {len(training_filenames)} Length Validation FileNames : {len(validation_filenames)}')\n",
        "\n",
        "num_train_examples = 974 * len(YouTube_training_filenames) + 100 * len(fvc_training_filenames)\n",
        "num_total_examples = 974 * len(YouTube_filenames) + 100 * len(fvc_filenames)\n",
        "\n",
        "validation_steps = int(num_total_examples  // len(filenames) * len(validation_filenames)) // BATCH_SIZE\n",
        "steps_per_epoch = int(num_total_examples  // len(filenames) * len(training_filenames)) // BATCH_SIZE\n",
        "\n",
        "\n",
        "print(\"With a batch size of {}, there will be {} batches per training epoch and {} batch(es) per validation run.\".format(BATCH_SIZE, steps_per_epoch, validation_steps))"
      ],
      "execution_count": 8,
      "outputs": [
        {
          "output_type": "stream",
          "text": [
            "Pattern matches 14 data files. Splitting dataset into 12 training files , 2 validation files and 0 test files\n",
            "Pattern matches 16 data files. Splitting dataset into 13 training files , 3 validation files and 0 test files\n",
            "Length FileNames : 30 Length Training FileNames : 25 Length Validation FileNames : 5\n",
            "With a batch size of 32, there will be 396 batches per training epoch and 79 batch(es) per validation run.\n"
          ],
          "name": "stdout"
        }
      ]
    },
    {
      "cell_type": "code",
      "metadata": {
        "colab": {
          "base_uri": "https://localhost:8080/"
        },
        "id": "3qDq_VGceIiR",
        "outputId": "8617166e-50c8-4706-9d18-967a682b4424"
      },
      "source": [
        "read_test_data = read_tfrec_data(tfrec_test_files_path, VALIDATION_SPLIT=0.0, TESTING_SPLIT=0.0, MODE=0) # Used only for testing\n",
        "read_benchmark_data = read_tfrec_data(tfrec_benchmark_files_path, VALIDATION_SPLIT=0.0, TESTING_SPLIT=0.0, MODE=0) # Used only for benchmarking\n",
        "\n",
        "\n",
        "testing_filenames, _, _,_ = read_test_data.get_tfrec_files()\n",
        "benchmarking_filenames, _, _,_ = read_benchmark_data.get_tfrec_files()\n",
        "\n",
        "len(testing_filenames), len(benchmarking_filenames)"
      ],
      "execution_count": 9,
      "outputs": [
        {
          "output_type": "stream",
          "text": [
            "Pattern matches 2 data files. Splitting dataset into 2 training files , 0 validation files and 0 test files\n",
            "Pattern matches 4 data files. Splitting dataset into 4 training files , 0 validation files and 0 test files\n"
          ],
          "name": "stdout"
        },
        {
          "output_type": "execute_result",
          "data": {
            "text/plain": [
              "(2, 4)"
            ]
          },
          "metadata": {
            "tags": []
          },
          "execution_count": 9
        }
      ]
    },
    {
      "cell_type": "code",
      "metadata": {
        "id": "hDhvfQ6Dqj4C"
      },
      "source": [
        "num_train_steps = steps_per_epoch * epochs\n",
        "num_warmup_steps = num_train_steps // 10"
      ],
      "execution_count": 10,
      "outputs": []
    },
    {
      "cell_type": "markdown",
      "metadata": {
        "id": "A11N_4sEeWrp"
      },
      "source": [
        "#Load TFRecord into TF Dataset"
      ]
    },
    {
      "cell_type": "code",
      "metadata": {
        "id": "y4mFB9F-eYAM"
      },
      "source": [
        "# create the TF datasets\n",
        "with tf.device('/cpu:0'):\n",
        "  train_ds = load_dataset(training_filenames)\n",
        "  val_ds = load_dataset(validation_filenames)\n",
        "  test_ds = load_dataset(testing_filenames)\n",
        "  benchmark_ds = load_dataset(benchmarking_filenames)"
      ],
      "execution_count": 11,
      "outputs": []
    },
    {
      "cell_type": "code",
      "metadata": {
        "id": "ruz4Z9KKhd3w"
      },
      "source": [
        "with tf.device('/cpu:0'):\n",
        "  train_ds = get_batched_dataset(train_ds, train=True)\n",
        "  val_ds = get_batched_dataset(val_ds)\n",
        "  test_ds = get_batched_dataset(test_ds)\n",
        "  benchmark_ds = get_batched_dataset(benchmark_ds)"
      ],
      "execution_count": 12,
      "outputs": []
    },
    {
      "cell_type": "code",
      "metadata": {
        "colab": {
          "base_uri": "https://localhost:8080/"
        },
        "id": "YLIqXPplhAo5",
        "outputId": "02c91d45-1c2c-4198-8dff-2ffe015784f6"
      },
      "source": [
        "for image, class_num in train_ds.take(1):\n",
        "  for i in range(32):\n",
        "    print(f\"Image shape {image[i].shape}, Class={class_num[i]}, Label={CLASSES[class_num[i]]}\")"
      ],
      "execution_count": 13,
      "outputs": [
        {
          "output_type": "stream",
          "text": [
            "Image shape (180, 180, 3), Class=0, Label=nonclickbaits\n",
            "Image shape (180, 180, 3), Class=1, Label=clickbaits\n",
            "Image shape (180, 180, 3), Class=1, Label=clickbaits\n",
            "Image shape (180, 180, 3), Class=1, Label=clickbaits\n",
            "Image shape (180, 180, 3), Class=0, Label=nonclickbaits\n",
            "Image shape (180, 180, 3), Class=1, Label=clickbaits\n",
            "Image shape (180, 180, 3), Class=1, Label=clickbaits\n",
            "Image shape (180, 180, 3), Class=1, Label=clickbaits\n",
            "Image shape (180, 180, 3), Class=0, Label=nonclickbaits\n",
            "Image shape (180, 180, 3), Class=1, Label=clickbaits\n",
            "Image shape (180, 180, 3), Class=0, Label=nonclickbaits\n",
            "Image shape (180, 180, 3), Class=0, Label=nonclickbaits\n",
            "Image shape (180, 180, 3), Class=1, Label=clickbaits\n",
            "Image shape (180, 180, 3), Class=0, Label=nonclickbaits\n",
            "Image shape (180, 180, 3), Class=0, Label=nonclickbaits\n",
            "Image shape (180, 180, 3), Class=0, Label=nonclickbaits\n",
            "Image shape (180, 180, 3), Class=0, Label=nonclickbaits\n",
            "Image shape (180, 180, 3), Class=0, Label=nonclickbaits\n",
            "Image shape (180, 180, 3), Class=0, Label=nonclickbaits\n",
            "Image shape (180, 180, 3), Class=1, Label=clickbaits\n",
            "Image shape (180, 180, 3), Class=1, Label=clickbaits\n",
            "Image shape (180, 180, 3), Class=0, Label=nonclickbaits\n",
            "Image shape (180, 180, 3), Class=0, Label=nonclickbaits\n",
            "Image shape (180, 180, 3), Class=1, Label=clickbaits\n",
            "Image shape (180, 180, 3), Class=1, Label=clickbaits\n",
            "Image shape (180, 180, 3), Class=0, Label=nonclickbaits\n",
            "Image shape (180, 180, 3), Class=1, Label=clickbaits\n",
            "Image shape (180, 180, 3), Class=1, Label=clickbaits\n",
            "Image shape (180, 180, 3), Class=0, Label=nonclickbaits\n",
            "Image shape (180, 180, 3), Class=1, Label=clickbaits\n",
            "Image shape (180, 180, 3), Class=1, Label=clickbaits\n",
            "Image shape (180, 180, 3), Class=1, Label=clickbaits\n"
          ],
          "name": "stdout"
        }
      ]
    },
    {
      "cell_type": "code",
      "metadata": {
        "colab": {
          "base_uri": "https://localhost:8080/"
        },
        "id": "VnaWk9AQjfy1",
        "outputId": "9bf880b5-d514-4ade-cbc7-d1a75083ded3"
      },
      "source": [
        "train_ds.element_spec, val_ds.element_spec, test_ds.element_spec, benchmark_ds.element_spec"
      ],
      "execution_count": 14,
      "outputs": [
        {
          "output_type": "execute_result",
          "data": {
            "text/plain": [
              "((TensorSpec(shape=(32, 180, 180, 3), dtype=tf.float32, name=None),\n",
              "  TensorSpec(shape=(32,), dtype=tf.int64, name=None)),\n",
              " (TensorSpec(shape=(32, 180, 180, 3), dtype=tf.float32, name=None),\n",
              "  TensorSpec(shape=(32,), dtype=tf.int64, name=None)),\n",
              " (TensorSpec(shape=(32, 180, 180, 3), dtype=tf.float32, name=None),\n",
              "  TensorSpec(shape=(32,), dtype=tf.int64, name=None)),\n",
              " (TensorSpec(shape=(32, 180, 180, 3), dtype=tf.float32, name=None),\n",
              "  TensorSpec(shape=(32,), dtype=tf.int64, name=None)))"
            ]
          },
          "metadata": {
            "tags": []
          },
          "execution_count": 14
        }
      ]
    },
    {
      "cell_type": "markdown",
      "metadata": {
        "id": "N-ixCHW2jrw3"
      },
      "source": [
        "#Modeling"
      ]
    },
    {
      "cell_type": "markdown",
      "metadata": {
        "id": "bt6wvqYnjxsg"
      },
      "source": [
        "##Build classifier"
      ]
    },
    {
      "cell_type": "code",
      "metadata": {
        "colab": {
          "base_uri": "https://localhost:8080/"
        },
        "id": "oAeW7iVPj1Ez",
        "outputId": "9fb74f51-7fb6-456e-e7e7-75c42eefb5bf"
      },
      "source": [
        "classifier_model = create_model(INPUT_SHAPE, NUM_CLASSES)\n",
        "classifier_model.summary()"
      ],
      "execution_count": 21,
      "outputs": [
        {
          "output_type": "stream",
          "text": [
            "Model: \"model_1\"\n",
            "_________________________________________________________________\n",
            "Layer (type)                 Output Shape              Param #   \n",
            "=================================================================\n",
            "input_2 (InputLayer)         [(None, 180, 180, 3)]     0         \n",
            "_________________________________________________________________\n",
            "conv2d_3 (Conv2D)            (None, 90, 90, 32)        896       \n",
            "_________________________________________________________________\n",
            "batch_normalization_3 (Batch (None, 90, 90, 32)        128       \n",
            "_________________________________________________________________\n",
            "conv2d_4 (Conv2D)            (None, 90, 90, 64)        18496     \n",
            "_________________________________________________________________\n",
            "batch_normalization_4 (Batch (None, 90, 90, 64)        256       \n",
            "_________________________________________________________________\n",
            "conv2d_5 (Conv2D)            (None, 90, 90, 128)       73856     \n",
            "_________________________________________________________________\n",
            "batch_normalization_5 (Batch (None, 90, 90, 128)       512       \n",
            "_________________________________________________________________\n",
            "global_average_pooling2d_1 ( (None, 128)               0         \n",
            "_________________________________________________________________\n",
            "dropout_1 (Dropout)          (None, 128)               0         \n",
            "_________________________________________________________________\n",
            "dense_1 (Dense)              (None, 1)                 129       \n",
            "=================================================================\n",
            "Total params: 94,273\n",
            "Trainable params: 93,825\n",
            "Non-trainable params: 448\n",
            "_________________________________________________________________\n"
          ],
          "name": "stdout"
        }
      ]
    },
    {
      "cell_type": "markdown",
      "metadata": {
        "id": "PulEmgV4pO3S"
      },
      "source": [
        "#Train classifier model"
      ]
    },
    {
      "cell_type": "markdown",
      "metadata": {
        "id": "FpxDaJjwpT5e"
      },
      "source": [
        "##Compile model"
      ]
    },
    {
      "cell_type": "code",
      "metadata": {
        "colab": {
          "base_uri": "https://localhost:8080/",
          "height": 0
        },
        "id": "oFyE_kWrpQA7",
        "outputId": "3606b63d-e36b-4e2a-b67a-4ad1c62dc481"
      },
      "source": [
        "es = tf.keras.callbacks.EarlyStopping(\n",
        "          monitor='val_loss', \n",
        "          verbose=1, \n",
        "          patience=5, \n",
        "          mode='min', \n",
        "          restore_best_weights=True\n",
        "          )\n",
        "\n",
        "mcb = tf.keras.callbacks.ModelCheckpoint (\n",
        "         filepath=model_checkpoint_path,\n",
        "         save_weights_only=True,\n",
        "         monitor='val_loss',\n",
        "         mode='min',\n",
        "         verbose=1,\n",
        "         save_best_only=True\n",
        "        )\n",
        "\n",
        "METRICS = [\n",
        "             keras.metrics.TruePositives(name='tp'),\n",
        "             keras.metrics.FalsePositives(name='fp'),\n",
        "             keras.metrics.TrueNegatives(name='tn'),\n",
        "             keras.metrics.FalseNegatives(name='fn'), \n",
        "             keras.metrics.BinaryAccuracy(name='accuracy'),\n",
        "             keras.metrics.Precision(name='precision'),\n",
        "             keras.metrics.Recall(name='recall'),\n",
        "             keras.metrics.AUC(name='auc'),\n",
        "             keras.metrics.AUC(name='prc', curve='PR'), # precision-recall curve\n",
        "          ]\n",
        "\n",
        "#optimizer = optimization.create_optimizer(\n",
        "#      init_lr=init_lr,\n",
        "#      num_train_steps=num_train_steps,\n",
        "#      num_warmup_steps=num_warmup_steps,\n",
        "#      optimizer_type='adamw'\n",
        "#      )\n",
        "\n",
        "lr_schedule = tf.keras.optimizers.schedules.ExponentialDecay(\n",
        "    init_lr,\n",
        "    decay_steps=num_train_steps,\n",
        "    decay_rate=0.90,\n",
        "    staircase=False)\n",
        "\n",
        "optimizer=tf.keras.optimizers.RMSprop(learning_rate=lr_schedule)\n",
        "\n",
        "classifier_model.compile(\n",
        "    optimizer=optimizer,\n",
        "    loss=tf.keras.losses.BinaryCrossentropy(), \n",
        "    metrics=METRICS\n",
        "    )\n",
        "\n",
        "tf.keras.utils.plot_model(model=classifier_model, show_shapes=True, dpi=60)"
      ],
      "execution_count": 22,
      "outputs": [
        {
          "output_type": "execute_result",
          "data": {
            "image/png": "[encoded data removed]",
            "text/plain": [
              "<IPython.core.display.Image object>"
            ]
          },
          "metadata": {
            "tags": []
          },
          "execution_count": 22
        }
      ]
    },
    {
      "cell_type": "markdown",
      "metadata": {
        "id": "Uu4UDNvcq2PP"
      },
      "source": [
        "##Train"
      ]
    },
    {
      "cell_type": "code",
      "metadata": {
        "colab": {
          "base_uri": "https://localhost:8080/"
        },
        "id": "dm7Bxed6OMCZ",
        "outputId": "349aadf2-4887-4ce0-9b77-74b514147efe"
      },
      "source": [
        "if os.path.exists(checkpoint_root_path) & len(os.listdir(checkpoint_root_path))>0:\n",
        "  print('loading saved weight')\n",
        "  classifier_model.load_weights(model_checkpoint_path)\n",
        "else:\n",
        "  print('No weight to initialize')"
      ],
      "execution_count": 23,
      "outputs": [
        {
          "output_type": "stream",
          "text": [
            "loading saved weight\n"
          ],
          "name": "stdout"
        }
      ]
    },
    {
      "cell_type": "code",
      "metadata": {
        "colab": {
          "base_uri": "https://localhost:8080/"
        },
        "id": "uGnqCtwJq3Sw",
        "outputId": "a4afe4b2-42ea-4a8c-d8e2-c928a0c83998"
      },
      "source": [
        "history = classifier_model.fit(\n",
        "             x=train_ds,\n",
        "             validation_data=val_ds,\n",
        "             epochs=epochs,\n",
        "             callbacks=[es, mcb]\n",
        "             )"
      ],
      "execution_count": 24,
      "outputs": [
        {
          "output_type": "stream",
          "text": [
            "405/405 [==============================] - 1653s 4s/step - loss: 0.6631 - tp: 3322.0000 - fp: 2389.0000 - tn: 4422.0000 - fn: 2827.0000 - accuracy: 0.5975 - precision: 0.5817 - recall: 0.5403 - auc: 0.6402 - prc: 0.5882 - val_loss: 0.6599 - val_tp: 638.0000 - val_fp: 451.0000 - val_tn: 752.0000 - val_fn: 399.0000 - val_accuracy: 0.6205 - val_precision: 0.5859 - val_recall: 0.6152 - val_auc: 0.6602 - val_prc: 0.5936\n",
            "\n",
            "Epoch 00001: val_loss improved from inf to 0.65994, saving model to /content/drive/MyDrive/Colab Notebooks/clcikbait_detection/dataset/YouTube_clickbait/checkpoints/youtube_clickbait_simple_CNN/youtube_clickbait_simple_CNN_checkpoint\n"
          ],
          "name": "stdout"
        }
      ]
    },
    {
      "cell_type": "markdown",
      "metadata": {
        "id": "gncX_diltvTN"
      },
      "source": [
        "#Plot train history"
      ]
    },
    {
      "cell_type": "code",
      "metadata": {
        "id": "dQcevHpQtwnj",
        "colab": {
          "base_uri": "https://localhost:8080/",
          "height": 621
        },
        "outputId": "b9d5deb4-1a16-4571-bac1-af011f8809fa"
      },
      "source": [
        "vh.display_training_curves(history.history['accuracy'], history.history['val_accuracy'], 'accuracy', 211)\n",
        "vh.display_training_curves(history.history['loss'], history.history['val_loss'], 'loss', 212)\n"
      ],
      "execution_count": 25,
      "outputs": [
        {
          "output_type": "display_data",
          "data": {
            "image/png": "[encoded data removed]",
            "text/plain": [
              "<Figure size 720x720 with 2 Axes>"
            ]
          },
          "metadata": {
            "tags": []
          }
        }
      ]
    },
    {
      "cell_type": "code",
      "metadata": {
        "id": "aoVyTGaJt2sh",
        "colab": {
          "base_uri": "https://localhost:8080/",
          "height": 621
        },
        "outputId": "598a7c6a-fe11-4f02-af21-3208757f6f86"
      },
      "source": [
        "vh.display_training_curves(history.history['recall'], history.history['val_recall'], 'recall', 211)\n",
        "vh.display_training_curves(history.history['precision'], history.history['val_precision'], 'precision', 212)"
      ],
      "execution_count": 26,
      "outputs": [
        {
          "output_type": "display_data",
          "data": {
            "image/png": "[encoded data removed]",
            "text/plain": [
              "<Figure size 720x720 with 2 Axes>"
            ]
          },
          "metadata": {
            "tags": []
          }
        }
      ]
    },
    {
      "cell_type": "markdown",
      "metadata": {
        "id": "Rj-5ITult6Ow"
      },
      "source": [
        "#Model Inference"
      ]
    },
    {
      "cell_type": "markdown",
      "metadata": {
        "id": "fcjnNfd6t-OH"
      },
      "source": [
        "##Evaluate Classifier on Test set"
      ]
    },
    {
      "cell_type": "code",
      "metadata": {
        "id": "nu90d4njt9di",
        "colab": {
          "base_uri": "https://localhost:8080/"
        },
        "outputId": "937ec0ff-f945-4681-fcfa-0ec7f9afc934"
      },
      "source": [
        "results_test_set = classifier_model.evaluate(test_ds)\n",
        "\n",
        "for name, value in zip(classifier_model.metrics_names, results_test_set):\n",
        "  print(name, ': ', value)\n",
        "print()"
      ],
      "execution_count": 27,
      "outputs": [
        {
          "output_type": "stream",
          "text": [
            "60/60 [==============================] - 66s 1s/step - loss: 0.6650 - tp: 561.0000 - fp: 404.0000 - tn: 618.0000 - fn: 337.0000 - accuracy: 0.6141 - precision: 0.5813 - recall: 0.6247 - auc: 0.6497 - prc: 0.5692\n",
            "loss :  0.6650246381759644\n",
            "tp :  561.0\n",
            "fp :  404.0\n",
            "tn :  618.0\n",
            "fn :  337.0\n",
            "accuracy :  0.614062488079071\n",
            "precision :  0.5813471674919128\n",
            "recall :  0.6247215867042542\n",
            "auc :  0.6497151255607605\n",
            "prc :  0.569202721118927\n",
            "\n"
          ],
          "name": "stdout"
        }
      ]
    },
    {
      "cell_type": "code",
      "metadata": {
        "id": "Owfs6Ox4u8vY"
      },
      "source": [
        "test_image, y_true, y_pred, predicted_scores = mh.predict_on_test_vis(classifier_model,test_ds, BATCH_SIZE=BATCH_SIZE, N=30)"
      ],
      "execution_count": null,
      "outputs": []
    },
    {
      "cell_type": "code",
      "metadata": {
        "id": "hoJoa_BEu_ZJ"
      },
      "source": [
        "vh.display_9_images_with_predictions(test_image[30:], y_pred[30:], y_true[30:], CLASSES=CLASSES)"
      ],
      "execution_count": null,
      "outputs": []
    },
    {
      "cell_type": "markdown",
      "metadata": {
        "id": "WlN7mSwauD7F"
      },
      "source": [
        "##Evaluate Classifier on Benchmarking set"
      ]
    },
    {
      "cell_type": "code",
      "metadata": {
        "id": "-hDiyVkwuFBr"
      },
      "source": [
        "results_benchmarking_set = classifier_model.evaluate(benchmark_ds)\n",
        "\n",
        "for name, value in zip(classifier_model.metrics_names, results_benchmarking_set):\n",
        "  print(name, ': ', value)\n",
        "print()"
      ],
      "execution_count": null,
      "outputs": []
    },
    {
      "cell_type": "code",
      "metadata": {
        "id": "7lcE4gI9vOOt"
      },
      "source": [
        "benchmark_image, y_true, y_pred, predicted_scores = mh.predict_on_test_vis(classifier_model,benchmark_ds, BATCH_SIZE=BATCH_SIZE, N=30)"
      ],
      "execution_count": null,
      "outputs": []
    },
    {
      "cell_type": "code",
      "metadata": {
        "id": "W54uPKb7vQMv"
      },
      "source": [
        "vh.display_9_images_with_predictions(benchmark_image[30:], y_pred[30:], y_true[30:], CLASSES=CLASSES)"
      ],
      "execution_count": null,
      "outputs": []
    }
  ]
}