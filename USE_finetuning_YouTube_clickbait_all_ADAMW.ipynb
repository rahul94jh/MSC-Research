{
  "nbformat": 4,
  "nbformat_minor": 0,
  "metadata": {
    "colab": {
      "name": "USE_finetuning_YouTube_clickbait_all.ipynb",
      "provenance": [],
      "collapsed_sections": [
        "KMTn9bhktYps",
        "cDzVIeTqtgHF",
        "HKcowprstl0r",
        "HWD2vnekDCr6",
        "fe8RMZlBoEVg",
        "Pvp9_oivD_QD",
        "HyRKSP2zwYyo",
        "dexXAe2b0LQl",
        "CsCwE3RZSi3e",
        "KGm28Sny7Wbg",
        "u3EcfqHpnb7M",
        "wUbL6y3Qnowd",
        "V3DsGFsKnteT",
        "36FvI_Jfnzm4",
        "yC6LVHAyn-hs",
        "Qoh5oCeBoFSB",
        "q2_erN4OoLL5",
        "Ldte4xEboU8H"
      ],
      "mount_file_id": "1lcHESYBH9Am8tgTInSSWgKKt91tPEWJ3",
      "authorship_tag": "ABX9TyPX52LecLit6BrvPxx0zqO+",
      "include_colab_link": true
    },
    "kernelspec": {
      "name": "python3",
      "display_name": "Python 3"
    },
    "language_info": {
      "name": "python"
    },
    "accelerator": "GPU"
  },
  "cells": [
    {
      "cell_type": "markdown",
      "metadata": {
        "id": "view-in-github",
        "colab_type": "text"
      },
      "source": [
        "<a href=\"https://colab.research.google.com/github/rahul94jh/MSC-Research/blob/main/USE_finetuning_YouTube_clickbait_all_ADAMW.ipynb\" target=\"_parent\"><img src=\"https://colab.research.google.com/assets/colab-badge.svg\" alt=\"Open In Colab\"/></a>"
      ]
    },
    {
      "cell_type": "markdown",
      "metadata": {
        "id": "KMTn9bhktYps"
      },
      "source": [
        "#Setup"
      ]
    },
    {
      "cell_type": "code",
      "metadata": {
        "colab": {
          "base_uri": "https://localhost:8080/"
        },
        "id": "aXthlH4rRNk8",
        "outputId": "770a8a49-f5ad-4b14-c036-aa286c98f69a"
      },
      "source": [
        "from google.colab import drive\n",
        "drive.mount('/content/drive')"
      ],
      "execution_count": 1,
      "outputs": [
        {
          "output_type": "stream",
          "text": [
            "Drive already mounted at /content/drive; to attempt to forcibly remount, call drive.mount(\"/content/drive\", force_remount=True).\n"
          ],
          "name": "stdout"
        }
      ]
    },
    {
      "cell_type": "code",
      "metadata": {
        "colab": {
          "base_uri": "https://localhost:8080/"
        },
        "id": "U7pZ99IQqhKo",
        "outputId": "a45a3981-e7dd-4ebf-f807-11788aa4b15e"
      },
      "source": [
        "#Check GPU, if assigned k8 then factory reset couple of times until we get Tesla GPU\n",
        "!nvidia-smi"
      ],
      "execution_count": 2,
      "outputs": [
        {
          "output_type": "stream",
          "text": [
            "Thu Jul 22 09:25:57 2021       \n",
            "+-----------------------------------------------------------------------------+\n",
            "| NVIDIA-SMI 470.42.01    Driver Version: 460.32.03    CUDA Version: 11.2     |\n",
            "|-------------------------------+----------------------+----------------------+\n",
            "| GPU  Name        Persistence-M| Bus-Id        Disp.A | Volatile Uncorr. ECC |\n",
            "| Fan  Temp  Perf  Pwr:Usage/Cap|         Memory-Usage | GPU-Util  Compute M. |\n",
            "|                               |                      |               MIG M. |\n",
            "|===============================+======================+======================|\n",
            "|   0  Tesla T4            Off  | 00000000:00:04.0 Off |                    0 |\n",
            "| N/A   57C    P8    11W /  70W |      0MiB / 15109MiB |      0%      Default |\n",
            "|                               |                      |                  N/A |\n",
            "+-------------------------------+----------------------+----------------------+\n",
            "                                                                               \n",
            "+-----------------------------------------------------------------------------+\n",
            "| Processes:                                                                  |\n",
            "|  GPU   GI   CI        PID   Type   Process name                  GPU Memory |\n",
            "|        ID   ID                                                   Usage      |\n",
            "|=============================================================================|\n",
            "|  No running processes found                                                 |\n",
            "+-----------------------------------------------------------------------------+\n"
          ],
          "name": "stdout"
        }
      ]
    },
    {
      "cell_type": "code",
      "metadata": {
        "colab": {
          "base_uri": "https://localhost:8080/"
        },
        "id": "73DTOjAUnKJO",
        "outputId": "7031b0b3-8ef0-483f-ccb3-0e950b90b190"
      },
      "source": [
        "!pip install -q tensorflow-text\n",
        "!pip install -q tf-models-official"
      ],
      "execution_count": 3,
      "outputs": [
        {
          "output_type": "stream",
          "text": [
            "\u001b[K     |████████████████████████████████| 4.3 MB 34.1 MB/s \n",
            "\u001b[K     |████████████████████████████████| 1.6 MB 41.3 MB/s \n",
            "\u001b[K     |████████████████████████████████| 37.1 MB 51 kB/s \n",
            "\u001b[K     |████████████████████████████████| 211 kB 57.1 MB/s \n",
            "\u001b[K     |████████████████████████████████| 636 kB 48.2 MB/s \n",
            "\u001b[K     |████████████████████████████████| 352 kB 68.6 MB/s \n",
            "\u001b[K     |████████████████████████████████| 1.2 MB 47.6 MB/s \n",
            "\u001b[K     |████████████████████████████████| 679 kB 56.3 MB/s \n",
            "\u001b[K     |████████████████████████████████| 54 kB 3.6 MB/s \n",
            "\u001b[K     |████████████████████████████████| 43 kB 2.4 MB/s \n",
            "\u001b[K     |████████████████████████████████| 99 kB 12.0 MB/s \n",
            "\u001b[?25h  Building wheel for py-cpuinfo (setup.py) ... \u001b[?25l\u001b[?25hdone\n",
            "  Building wheel for seqeval (setup.py) ... \u001b[?25l\u001b[?25hdone\n"
          ],
          "name": "stdout"
        }
      ]
    },
    {
      "cell_type": "markdown",
      "metadata": {
        "id": "cDzVIeTqtgHF"
      },
      "source": [
        "#Imports"
      ]
    },
    {
      "cell_type": "code",
      "metadata": {
        "id": "4Q_MKLxE-7yz",
        "colab": {
          "base_uri": "https://localhost:8080/"
        },
        "outputId": "2455a5f6-e2af-4b43-ab13-6df72535a356"
      },
      "source": [
        "import os, math\n",
        "import numpy as np\n",
        "import pandas as pd\n",
        "import requests\n",
        "import shutil\n",
        "import re\n",
        "from pathlib import Path\n",
        "import random\n",
        "import matplotlib as mpl\n",
        "from matplotlib import pyplot as plt\n",
        "import seaborn as sns\n",
        "\n",
        "from sklearn.metrics.pairwise import cosine_similarity\n",
        "from sklearn.metrics import roc_auc_score\n",
        "from sklearn.metrics import confusion_matrix\n",
        "from sklearn.metrics import accuracy_score\n",
        "from sklearn.metrics import precision_score\n",
        "from sklearn.metrics import recall_score\n",
        "from sklearn.metrics import f1_score\n",
        "from sklearn.metrics import cohen_kappa_score\n",
        "\n",
        "\n",
        "\n",
        "import tensorflow as tf\n",
        "import tensorflow_hub as hub\n",
        "import tensorflow_text as text\n",
        "import tensorflow_addons as tfa\n",
        "from tensorflow import keras\n",
        "from tensorflow.keras import layers\n",
        "from official.nlp.data import classifier_data_lib\n",
        "from official.nlp.bert import tokenization\n",
        "from official.nlp import optimization\n",
        "from keras.callbacks import ReduceLROnPlateau\n",
        "from tensorflow.keras.callbacks import LearningRateScheduler\n",
        "from tensorflow.keras.optimizers import SGD\n",
        "\n",
        "\n",
        "from tensorflow import keras\n",
        "from official.nlp import optimization  # to create AdamW optmizer\n",
        "AUTO = tf.data.experimental.AUTOTUNE # used in tf.data.Dataset API\n",
        "\n",
        "tf.get_logger().setLevel('ERROR')\n",
        "\n",
        "import sys\n",
        "\n",
        "#Import custom script\n",
        "sys.path.append('/content/drive/MyDrive/Colab Notebooks/clcikbait_detection/scripts')\n",
        "from tf_dataset_helpers import read_tfrec_data\n",
        "import model_helpers as mh\n",
        "import visualization_helpers as vh"
      ],
      "execution_count": 4,
      "outputs": [
        {
          "output_type": "stream",
          "text": [
            "/usr/local/lib/python3.7/dist-packages/tensorflow/python/keras/optimizer_v2/optimizer_v2.py:375: UserWarning: The `lr` argument is deprecated, use `learning_rate` instead.\n",
            "  \"The `lr` argument is deprecated, use `learning_rate` instead.\")\n"
          ],
          "name": "stderr"
        }
      ]
    },
    {
      "cell_type": "code",
      "metadata": {
        "colab": {
          "base_uri": "https://localhost:8080/"
        },
        "id": "5RE9WE8LtUhd",
        "outputId": "5fe9e999-2862-4654-ccf4-389c61092993"
      },
      "source": [
        "print(\"TF Version: \", tf.__version__)\n",
        "print(\"Eager mode: \", tf.executing_eagerly())\n",
        "print(\"Hub version: \", hub.__version__)\n",
        "print(\"GPU is\", \"available\" if tf.config.experimental.list_physical_devices(\"GPU\") else \"NOT AVAILABLE\")"
      ],
      "execution_count": 5,
      "outputs": [
        {
          "output_type": "stream",
          "text": [
            "TF Version:  2.5.0\n",
            "Eager mode:  True\n",
            "Hub version:  0.12.0\n",
            "GPU is available\n"
          ],
          "name": "stdout"
        }
      ]
    },
    {
      "cell_type": "markdown",
      "metadata": {
        "id": "HKcowprstl0r"
      },
      "source": [
        "#Configs"
      ]
    },
    {
      "cell_type": "markdown",
      "metadata": {
        "id": "HWD2vnekDCr6"
      },
      "source": [
        "##Sentence encoder configs"
      ]
    },
    {
      "cell_type": "code",
      "metadata": {
        "id": "GTNn3LRp7DfR"
      },
      "source": [
        "encoder = hub.load('https://tfhub.dev/google/universal-sentence-encoder/4')\n",
        "USE_layer = hub.KerasLayer(\n",
        "    encoder,\n",
        "    input_shape=[],\n",
        "    dtype=tf.string, \n",
        "    trainable=True, name='USE_embedding')"
      ],
      "execution_count": 6,
      "outputs": []
    },
    {
      "cell_type": "markdown",
      "metadata": {
        "id": "fe8RMZlBoEVg"
      },
      "source": [
        "##General config"
      ]
    },
    {
      "cell_type": "code",
      "metadata": {
        "id": "v9DLhbQrtnGd"
      },
      "source": [
        "tfrec_trainVal_files_path = '/content/drive/MyDrive/Colab Notebooks/clcikbait_detection/dataset/YouTube_clickbait/tfrec_data/train_val/'\n",
        "tfrec_test_files_path = '/content/drive/MyDrive/Colab Notebooks/clcikbait_detection/dataset/YouTube_clickbait/tfrec_data/test/'\n",
        "stop_clickbait_tfrecFiles_path = '/content/drive/MyDrive/Colab Notebooks/clcikbait_detection/dataset/Stop_clickbait/tfrec_data/'\n",
        "fvc_clickbait_tfrecFiles_path = '/content/drive/MyDrive/Colab Notebooks/clcikbait_detection/dataset/FVC_CORPUS/tfrec_data/'\n",
        "tfrec_benchmark_files_path = '/content/drive/MyDrive/Colab Notebooks/clcikbait_detection/dataset/invid_fake_video_v2/tfrec_data/'\n",
        "\n",
        "model_root_path = '/content/drive/MyDrive/Colab Notebooks/clcikbait_detection/dataset/YouTube_clickbait/saved_models'\n",
        "saved_model_name = f'youtube_clickbait_finetuned_USE_all'\n",
        "saved_model_path = os.path.join(model_root_path, saved_model_name )\n",
        "\n",
        "checkpoint_root_path = '/content/drive/MyDrive/Colab Notebooks/clcikbait_detection/dataset/YouTube_clickbait/checkpoints/youtube_clickbait_finetuned_USE_all'\n",
        "if not os.path.exists(checkpoint_root_path):\n",
        "    os.makedirs(checkpoint_root_path)\n",
        "model_checkpoint_path = os.path.join(checkpoint_root_path, f'youtube_clickbait_finetuned_USE_all_checkpoint' )\n",
        "\n",
        "\n",
        "BATCH_SIZE = 32  \n",
        "# Label categories\n",
        "label_list = [0,1]\n",
        "\n",
        "init_lr = 1e-4\n",
        "\n",
        "epochs = 30"
      ],
      "execution_count": 7,
      "outputs": []
    },
    {
      "cell_type": "markdown",
      "metadata": {
        "id": "Pvp9_oivD_QD"
      },
      "source": [
        "#Scripts"
      ]
    },
    {
      "cell_type": "code",
      "metadata": {
        "id": "7e62N59Ttk60",
        "cellView": "form"
      },
      "source": [
        "#@title \"Utilities [TF Dataset]\"\n",
        "def read_tfrecord(example):\n",
        "    features = {\n",
        "        \"class\": tf.io.FixedLenFeature([], tf.int64),   # shape [] means scalar\n",
        "        \"text\": tf.io.FixedLenFeature([], tf.string),\n",
        "        \"label\": tf.io.FixedLenFeature([], tf.string)  # one bytestring\n",
        "    }\n",
        "    # decode the TFRecord\n",
        "    example = tf.io.parse_single_example(example, features)\n",
        "    \n",
        "    \n",
        "    class_num = example['class']\n",
        "    text = example['text']\n",
        "    label  = example['label']\n",
        "    return text, class_num, label\n",
        "\n",
        "def load_dataset(filenames):\n",
        "  option_no_order = tf.data.Options()\n",
        "  option_no_order.experimental_deterministic = False\n",
        "\n",
        "  dataset = tf.data.TFRecordDataset(filenames, num_parallel_reads=AUTO)\n",
        "  dataset = dataset.with_options(option_no_order)\n",
        "  dataset = dataset.map(read_tfrecord, num_parallel_calls=AUTO)\n",
        "  return dataset\n",
        "\n",
        "def get_batched_dataset(dataset, train=False):\n",
        "  if train:\n",
        "    dataset = dataset.shuffle(num_train_examples)\n",
        "  dataset = dataset.batch(BATCH_SIZE, drop_remainder=True)\n",
        "  dataset = dataset.cache().prefetch(AUTO) # prefetch next batch while training (autotune prefetch buffer size)\n",
        "  return dataset"
      ],
      "execution_count": 8,
      "outputs": []
    },
    {
      "cell_type": "code",
      "metadata": {
        "id": "ADXfSXSIWGpt",
        "cellView": "form"
      },
      "source": [
        "#@title \"Utilities [Create Model Definition]\"\n",
        "def create_model():\n",
        "\n",
        " model = tf.keras.models.Sequential()\n",
        " model.add(USE_layer)\n",
        " model.add(tf.keras.layers.Dropout(0.2))\n",
        " model.add(tf.keras.layers.Dense(128, activation='relu'))\n",
        " model.add(tf.keras.layers.BatchNormalization())\n",
        " model.add(tf.keras.layers.Dropout(0.2))\n",
        " model.add(tf.keras.layers.Dense(1, activation='sigmoid'))\n",
        " return model"
      ],
      "execution_count": 9,
      "outputs": []
    },
    {
      "cell_type": "code",
      "metadata": {
        "id": "maZRzNq8zhiW",
        "cellView": "form"
      },
      "source": [
        "#@title \"Utilities [Model prediction]\"\n",
        "def get_metrics(y_test, y_pred):\n",
        "    # accuracy: (tp + tn) / (p + n)\n",
        "    accuracy = accuracy_score(y_test, y_pred)\n",
        "    print('Accuracy: %f' % accuracy)\n",
        "    # precision tp / (tp + fp)\n",
        "    precision = precision_score(y_test, y_pred)\n",
        "    print('Precision: %f' % precision)\n",
        "    # recall: tp / (tp + fn)\n",
        "    recall = recall_score(y_test, y_pred)\n",
        "    print('Recall: %f' % recall)\n",
        "    # f1: 2 tp / (2 tp + fp + fn)\n",
        "    f1 = f1_score(y_test, y_pred)\n",
        "    print('F1 score: %f' % f1)\n",
        "    # ROC AUC\n",
        "    auc = roc_auc_score(y_test, y_pred)\n",
        "    print('ROC AUC: %f' % auc)\n",
        "    # confusion matrix\n",
        "    matrix = confusion_matrix(y_test, y_pred)\n",
        "    print(matrix)\n",
        "\n",
        "def predict_on_test_dataset(model, test_data, BATCH_SIZE=32):\n",
        "  y_true=[]\n",
        "  \n",
        "  for text_feat, labels in test_data:\n",
        "    for i in range(BATCH_SIZE):\n",
        "      y_true.append(labels[i].numpy())\n",
        "\n",
        "\n",
        "  predicted_scores  = model.predict(test_data)\n",
        "  y_pred = (predicted_scores > 0.5).astype(\"int32\")\n",
        "  y_pred = y_pred.reshape(-1)\n",
        "  get_metrics(y_true, y_pred)\n",
        "  vh.plot_cm(y_true, predicted_scores)\n",
        "  print()"
      ],
      "execution_count": 10,
      "outputs": []
    },
    {
      "cell_type": "code",
      "metadata": {
        "id": "Dqg_9QR7hfk_",
        "cellView": "form"
      },
      "source": [
        "#@title \"Utilities [Visualization]\"\n",
        "def plot_graphs(history, metric):\n",
        "  plt.plot(history.history[metric])\n",
        "  plt.plot(history.history['val_'+metric], '')\n",
        "  plt.xlabel(\"Epochs\")\n",
        "  plt.ylabel(metric)\n",
        "  plt.legend([metric, 'val_'+metric])"
      ],
      "execution_count": 11,
      "outputs": []
    },
    {
      "cell_type": "code",
      "metadata": {
        "cellView": "form",
        "id": "zwICLvt03qG3"
      },
      "source": [
        "#@title \"Utilities [Gradient function]\"\n",
        "#https://keras.io/examples/vision/gradient_centralization/#implement-gradient-centralization\n",
        "from tensorflow.keras.optimizers import RMSprop\n",
        "class GCRMSprop(RMSprop):\n",
        "    def get_gradients(self, loss, params):\n",
        "        # We here just provide a modified get_gradients() function since we are\n",
        "        # trying to just compute the centralized gradients.\n",
        "\n",
        "        grads = []\n",
        "        gradients = super().get_gradients()\n",
        "        for grad in gradients:\n",
        "            grad_len = len(grad.shape)\n",
        "            if grad_len > 1:\n",
        "                axis = list(range(grad_len - 1))\n",
        "                grad -= tf.reduce_mean(grad, axis=axis, keep_dims=True)\n",
        "            grads.append(grad)\n",
        "\n",
        "        return grads"
      ],
      "execution_count": 12,
      "outputs": []
    },
    {
      "cell_type": "code",
      "metadata": {
        "id": "c1mlb3xZMdnu"
      },
      "source": [
        "class LearningRateDecay:\n",
        "\tdef plot(self, epochs, title=\"Learning Rate Schedule\"):\n",
        "\t\t# compute the set of learning rates for each corresponding\n",
        "\t\t# epoch\n",
        "\t\tlrs = [self(i) for i in epochs]\n",
        "\t\t# the learning rate schedule\n",
        "\t\tplt.style.use(\"ggplot\")\n",
        "\t\tplt.figure()\n",
        "\t\tplt.plot(epochs, lrs)\n",
        "\t\tplt.title(title)\n",
        "\t\tplt.xlabel(\"Epoch #\")\n",
        "\t\tplt.ylabel(\"Learning Rate\")\n",
        "\n",
        "class StepDecay(LearningRateDecay):\n",
        "\tdef __init__(self, initAlpha=0.01, factor=0.25, dropEvery=10):\n",
        "\t\t# store the base initial learning rate, drop factor, and\n",
        "\t\t# epochs to drop every\n",
        "\t\tself.initAlpha = initAlpha\n",
        "\t\tself.factor = factor\n",
        "\t\tself.dropEvery = dropEvery\n",
        "\tdef __call__(self, epoch):\n",
        "\t\t# compute the learning rate for the current epoch\n",
        "\t\texp = np.floor((1 + epoch) / self.dropEvery)\n",
        "\t\talpha = self.initAlpha * (self.factor ** exp)\n",
        "\t\t# return the learning rate\n",
        "\t\treturn float(alpha)\n",
        "\n",
        "class PolynomialDecay(LearningRateDecay):\n",
        "\tdef __init__(self, maxEpochs=100, initAlpha=0.01, power=1.0):\n",
        "\t\t# store the maximum number of epochs, base learning rate,\n",
        "\t\t# and power of the polynomial\n",
        "\t\tself.maxEpochs = maxEpochs\n",
        "\t\tself.initAlpha = initAlpha\n",
        "\t\tself.power = power\n",
        "\tdef __call__(self, epoch):\n",
        "\t\t# compute the new learning rate based on polynomial decay\n",
        "\t\tdecay = (1 - (epoch / float(self.maxEpochs))) ** self.power\n",
        "\t\talpha = self.initAlpha * decay\n",
        "\t\t# return the new learning rate\n",
        "\t\treturn float(alpha)"
      ],
      "execution_count": 13,
      "outputs": []
    },
    {
      "cell_type": "markdown",
      "metadata": {
        "id": "HyRKSP2zwYyo"
      },
      "source": [
        "#Read TFRecord data"
      ]
    },
    {
      "cell_type": "code",
      "metadata": {
        "colab": {
          "base_uri": "https://localhost:8080/"
        },
        "id": "sFYhIMQxwy6k",
        "outputId": "0e62df07-2d7f-4548-9126-8e73b3c16e64"
      },
      "source": [
        "#@title  \"Load files & Split into Train and Val\"\n",
        "\n",
        "# read tfrec files from disk storage\n",
        "read_YouTube_data = read_tfrec_data(tfrec_trainVal_files_path, VALIDATION_SPLIT=0.2, TESTING_SPLIT=0.0, MODE=1)\n",
        "\n",
        "read_stop_clickbait_data = read_tfrec_data(stop_clickbait_tfrecFiles_path, VALIDATION_SPLIT=0.2, TESTING_SPLIT=0.0, MODE=1)\n",
        "\n",
        "read_fvc_clickbait_data = read_tfrec_data(fvc_clickbait_tfrecFiles_path, VALIDATION_SPLIT=0.2, TESTING_SPLIT=0.0, MODE=1)\n",
        "\n",
        "# splitting data files between training, validation and test\n",
        "YouTube_filenames, YouTube_training_filenames, YouTube_validation_filenames, YouTube_testing_filenames = read_YouTube_data.get_tfrec_files()\n",
        "\n",
        "stop_clickbait_filenames, stop_clickbait_training_filenames,stop_clickbait_validation_filenames, stop_clickbait_testing_filenames = read_stop_clickbait_data.get_tfrec_files()\n",
        "\n",
        "fvc_filenames, fvc_training_filenames, fvc_validation_filenames, fvc_testing_filenames = read_fvc_clickbait_data.get_tfrec_files()\n",
        "\n",
        "\n",
        "filenames = YouTube_filenames + stop_clickbait_filenames + fvc_filenames\n",
        "training_filenames = YouTube_training_filenames + stop_clickbait_training_filenames + fvc_training_filenames\n",
        "validation_filenames = YouTube_validation_filenames + stop_clickbait_validation_filenames + fvc_validation_filenames\n",
        "\n",
        "random.shuffle(filenames)\n",
        "random.shuffle(training_filenames)\n",
        "random.shuffle(validation_filenames)\n",
        "\n",
        "print(f'Length FileNames : {len(filenames)} Length Training FileNames : {len(training_filenames)} Length Validation FileNames : {len(validation_filenames)}')\n",
        "\n",
        "num_train_examples = 974 * len(YouTube_training_filenames) + 500 * len(stop_clickbait_training_filenames) + 100 * len(fvc_training_filenames)\n",
        "num_total_examples = 974 * len(YouTube_filenames) + 500 * len(stop_clickbait_filenames) + 100 * len(fvc_filenames)\n",
        "\n",
        "validation_steps = int(num_total_examples  // len(filenames) * len(validation_filenames)) // BATCH_SIZE\n",
        "steps_per_epoch = int(num_total_examples  // len(filenames) * len(training_filenames)) // BATCH_SIZE\n",
        "\n",
        "num_train_steps = steps_per_epoch * epochs\n",
        "num_warmup_steps = num_train_steps // 10\n",
        "\n",
        "print(\"With a batch size of {}, there will be {} batches per training epoch and {} batch(es) per validation run.\".format(BATCH_SIZE, steps_per_epoch, validation_steps))\n",
        "\n"
      ],
      "execution_count": 14,
      "outputs": [
        {
          "output_type": "stream",
          "text": [
            "Pattern matches 14 data files. Splitting dataset into 12 training files , 2 validation files and 0 test files\n",
            "Pattern matches 64 data files. Splitting dataset into 52 training files , 12 validation files and 0 test files\n",
            "Pattern matches 16 data files. Splitting dataset into 13 training files , 3 validation files and 0 test files\n",
            "Length FileNames : 94 Length Training FileNames : 77 Length Validation FileNames : 17\n",
            "With a batch size of 32, there will be 1207 batches per training epoch and 266 batch(es) per validation run.\n"
          ],
          "name": "stdout"
        }
      ]
    },
    {
      "cell_type": "code",
      "metadata": {
        "colab": {
          "base_uri": "https://localhost:8080/"
        },
        "id": "EnFB1lF5p65f",
        "outputId": "4f3c077c-d0c0-4f8e-ea09-a28b2c8c7cd5"
      },
      "source": [
        "#@title  \"Load Test and Benchmarking files\"\n",
        "read_test_data = read_tfrec_data(tfrec_test_files_path, VALIDATION_SPLIT=0.0, TESTING_SPLIT=0.0, MODE=1) # Used only for testing\n",
        "read_benchmark_data = read_tfrec_data(tfrec_benchmark_files_path, VALIDATION_SPLIT=0.0, TESTING_SPLIT=0.0, MODE=1) # Used only for benchmarking\n",
        "\n",
        "\n",
        "testing_filenames, _, _,_ = read_test_data.get_tfrec_files()\n",
        "benchmarking_filenames, _, _,_ = read_benchmark_data.get_tfrec_files()\n",
        "\n",
        "len(testing_filenames), len(benchmarking_filenames)"
      ],
      "execution_count": 15,
      "outputs": [
        {
          "output_type": "stream",
          "text": [
            "Pattern matches 2 data files. Splitting dataset into 2 training files , 0 validation files and 0 test files\n",
            "Pattern matches 4 data files. Splitting dataset into 4 training files , 0 validation files and 0 test files\n"
          ],
          "name": "stdout"
        },
        {
          "output_type": "execute_result",
          "data": {
            "text/plain": [
              "(2, 4)"
            ]
          },
          "metadata": {
            "tags": []
          },
          "execution_count": 15
        }
      ]
    },
    {
      "cell_type": "markdown",
      "metadata": {
        "id": "dexXAe2b0LQl"
      },
      "source": [
        "#Load TFRecord into TF Dataset"
      ]
    },
    {
      "cell_type": "code",
      "metadata": {
        "id": "5a2YkXiW0Osa"
      },
      "source": [
        "# create the TF datasets\n",
        "with tf.device('/cpu:0'):\n",
        "  train_ds = load_dataset(training_filenames)\n",
        "  val_ds = load_dataset(validation_filenames)\n",
        "  test_ds = load_dataset(testing_filenames)\n",
        "  benchmark_ds = load_dataset(benchmarking_filenames)"
      ],
      "execution_count": 16,
      "outputs": []
    },
    {
      "cell_type": "code",
      "metadata": {
        "colab": {
          "base_uri": "https://localhost:8080/"
        },
        "id": "81QxcdL40xMi",
        "outputId": "34171a7d-2701-40d4-edb3-9def3550288d"
      },
      "source": [
        "for i,(text, class_num, label) in enumerate(train_ds.take(10)):\n",
        "  print(f\"text : {text.numpy()}, class : {class_num.numpy()}, label : {label.numpy()}\")"
      ],
      "execution_count": 17,
      "outputs": [
        {
          "output_type": "stream",
          "text": [
            "text : b'the sinister reason weed is illegal surprise nixon had zero chill adamruinseverything watch an all new adam ruins everything on trutv every tuesday c catch up with clips full episodes of adam ruins everything at trutv com adamruinseverything like adam ruins everything on facebook at facebook com trutvadamruinseverything follow adam ruins everything on twitter at twitter com adamruins see more like us on follow us on follow us on', class : 0, label : b'nonclickbaits'\n",
            "text : b'omggggg minecraft video youtubers life with morgz omg we start a minecraft lets play today we have episode of a hilarious new game called youtubers life in this game we try and grow a youtube channel and gain subscribers fast it s not actually real though it gets a bit confusing anyway this game was so fun to play and i had such a laugh growing a channel and starting that minecraft lets play if you want to see the next episode of this epic series then lets smash likes if we hit that you will see part three also i worked so hard on this edit it took me over hours i am so happy with how this video turned out from start to finish and i think it could be one of my most entertaining videos on the channel do you agree tell me in the comment section below enjoy the video be sure to watch till the end yo guys first of all thank you so much for watching it would be great if you could leave a like rating as it motivates me to keep creating content for you all also if you are new then please hit that subscribe button to join teammorgz finally if you have any questions feedback or just general comments then be sure to leave it in the comment section below brand new apparel follow me on twitter follow my apparel twitter follow my twitch add my snapchat morgzhudson cheap fast reliable fifa coins packs use morgz for a discount my gaming chair uk use morgz for a discount my gaming chair us use morgz for a discount cheap reliable games my po box all packages sent will be opened in a video morgz po box dronfield s dp united kingdom business enquiries stay awesome guys d', class : 1, label : b'clickbaits'\n",
            "text : b'the whisper challenge with blake shelton jimmy and blake take turns guessing random names and phrases while wearing noise canceling headphones subscribe now to the tonight show starring jimmy fallon watch the tonight show starring jimmy fallon weeknights c get more jimmy fallon follow jimmy like jimmy get more the tonight show starring jimmy fallon follow the tonight show like the tonight show the tonight show tumblr get more nbc nbc youtube like nbc follow nbc nbc tumblr nbc google the tonight show starring jimmy fallon features hilarious highlights from the show including comedy sketches music parodies celebrity interviews ridiculous games and of course jimmy s thank you notes and hashtags you ll also find behind the scenes videos and other great web exclusives the whisper challenge with blake shelton', class : 0, label : b'nonclickbaits'\n",
            "text : b'this is epic yianni s instagram yianni s channel second channel shop follow me on twitter follow me instagram facebook add me on snapchat comedygamer click here to subscribe website what i use to record my gameplay where i get my controllers deji', class : 1, label : b'clickbaits'\n",
            "text : b'what is uber mashable explains uber and black cars and taxis oh my the latest video in our mashable explains series takes a look at how uber works for both employer and consumer written hosted and edited by yalda mostajeran sources taxi medallions world map from wikipedia uber cars from uber emeril image taxi meter image like us on facebook follow us on twitter follow us on tumblr follow our instagram join our circle on google plus subscribe mashable is the leading independent news site for all things tech social media and internet culture', class : 0, label : b'nonclickbaits'\n",
            "text : b'what is this img some of my favorite images from this week be part of the awesome thanks links scared cat cuddle cat gif asteroids elevator harry potter toilet seat butt heels brass monki shoes brass monki shoes nerdiest ones in one place lol buzz straw brunette illusion geeky christmas stuff worst nativities real life tetris fail sexy cats dog squid kid drift park normal paper snowflake instructions star wars snowflakes img minimal muppets double eye sculpture double dangerfield insane book titles and', class : 0, label : b'nonclickbaits'\n",
            "text : b'new puppy day in the life of sssniperwolf new puppy her name is tatyana from mgs she s a cute little pomeranian puppy tatyana and kaz love each other and play a lot double upload today black ops video in a few hours hit that like button in the face if you think tatyana is adorable and subscribe to join the wolf pack if you haven t already twitter instagram facebook twitch my shirt store business inquires join gamers it s the best way to get games get off quest products use code sss my headset my energy drink use code sss for off your order from gamma my gaming chair use code sss for off your order from gt omega racing my keyboard and mouse channel art by', class : 1, label : b'clickbaits'\n",
            "text : b'samsung galaxy note review samsung galaxy note their best yet galaxy note us galaxy note international galaxy note first impressions stickman tennis iphone plus review wallpaper video gear i use intro track deadmau slow down start over', class : 0, label : b'nonclickbaits'\n",
            "text : b'million dollar ideas in which john shares his first ever million dollar idea and talks about how hank has a new one each day also discussed is john s crippling fatigue parenthood and having a baby although to be fair the yeti is doing the lion s share of the work plus kinkajou thanks to for the baby crying and thanks to for the kinkajou', class : 0, label : b'nonclickbaits'\n",
            "text : b'ultimate year old s gaming setup amazing year old s gaming setup in this video i show you round my gaming setup which includes imac inch gaming monitors xbox one blue yeti microphone gt omega gaming chair razer keyboard apple magic mouse apple keyboard custom gaming pc mini fridge led multi colour lighting extended corsair gaming mouse mat beats headset astro a gaming headphones and more i also do a room tour showing you where i make my videos and all the equipment i use if you would like an updated gaming setup then tell me in the comment section i payed for this by working jobs one of them being youtube i also got a lot of my stuff from christmas and birthdays also sorry for the commentary not being that good in this video i recorded this a while back and a lot has changed in my room since i made this video if you would like a review of anything you saw in this video then tell me in the comment section below i hope you all enjoyed update wow this video is doing well this was actually one of my older and worst videos so it s a bit unlucky that its got so many views and not one of my better vids if this is your first time on my channel please don t judge me by this video take the time to check my more recent ones because i m sure you will enjoy yo guys first of all thank you so much for watching it would be great if you could leave a like rating as it motivates me to keep creating content for you all also if you are new then please hit that subscribe button to join teammorgz finally if you have any questions feedback or just general comments then be sure to leave it in the comment section below buy my apparel follow me on twitter follow my twitch add my snapchat morgzhudson my gaming chair uk use morgz for a discount my gaming chair us use morgz for a discount cheap reliable games donation page my po box all packages sent will be opened in a video morgz po box dronfield s dp united kingdom buisness enquiries stay awesome guys d', class : 1, label : b'clickbaits'\n"
          ],
          "name": "stdout"
        }
      ]
    },
    {
      "cell_type": "code",
      "metadata": {
        "id": "Y9EYaEqFQKM5"
      },
      "source": [
        "# We need only Text and numeric Label from the dataset\n",
        "with tf.device('/cpu:0'):\n",
        "  train_ds = train_ds.map(lambda text, class_num, label:(text, class_num))\n",
        "  val_ds = val_ds.map(lambda text, class_num, label:(text, class_num))\n",
        "  test_ds = test_ds.map(lambda text, class_num, label:(text, class_num))\n",
        "  benchmark_ds = benchmark_ds.map(lambda text, class_num, label:(text, class_num))"
      ],
      "execution_count": 18,
      "outputs": []
    },
    {
      "cell_type": "code",
      "metadata": {
        "colab": {
          "base_uri": "https://localhost:8080/"
        },
        "id": "cRpJwphml5xA",
        "outputId": "c77ec610-6d39-44b1-a1dc-b2c2ed021d8d"
      },
      "source": [
        "train_ds.element_spec, val_ds.element_spec, test_ds.element_spec, benchmark_ds.element_spec"
      ],
      "execution_count": 19,
      "outputs": [
        {
          "output_type": "execute_result",
          "data": {
            "text/plain": [
              "((TensorSpec(shape=(), dtype=tf.string, name=None),\n",
              "  TensorSpec(shape=(), dtype=tf.int64, name=None)),\n",
              " (TensorSpec(shape=(), dtype=tf.string, name=None),\n",
              "  TensorSpec(shape=(), dtype=tf.int64, name=None)),\n",
              " (TensorSpec(shape=(), dtype=tf.string, name=None),\n",
              "  TensorSpec(shape=(), dtype=tf.int64, name=None)),\n",
              " (TensorSpec(shape=(), dtype=tf.string, name=None),\n",
              "  TensorSpec(shape=(), dtype=tf.int64, name=None)))"
            ]
          },
          "metadata": {
            "tags": []
          },
          "execution_count": 19
        }
      ]
    },
    {
      "cell_type": "code",
      "metadata": {
        "id": "RYCy7RJVfZWN"
      },
      "source": [
        "with tf.device('/cpu:0'):\n",
        "  train_ds = get_batched_dataset(train_ds, train=True)\n",
        "  val_ds = get_batched_dataset(val_ds)\n",
        "  test_ds = get_batched_dataset(test_ds)\n",
        "  benchmark_ds = get_batched_dataset(benchmark_ds)"
      ],
      "execution_count": 20,
      "outputs": []
    },
    {
      "cell_type": "markdown",
      "metadata": {
        "id": "m4mlvS-W4TDx"
      },
      "source": [
        "#Modeling"
      ]
    },
    {
      "cell_type": "markdown",
      "metadata": {
        "id": "CsCwE3RZSi3e"
      },
      "source": [
        "##Build classifier"
      ]
    },
    {
      "cell_type": "code",
      "metadata": {
        "colab": {
          "base_uri": "https://localhost:8080/"
        },
        "id": "sHVKiVfzSkSl",
        "outputId": "0079e181-b113-452d-99bc-4d966ff5551f"
      },
      "source": [
        "classifier_model = create_model()\n",
        "classifier_model.summary()"
      ],
      "execution_count": 21,
      "outputs": [
        {
          "output_type": "stream",
          "text": [
            "Model: \"sequential\"\n",
            "_________________________________________________________________\n",
            "Layer (type)                 Output Shape              Param #   \n",
            "=================================================================\n",
            "USE_embedding (KerasLayer)   (None, 512)               256797824 \n",
            "_________________________________________________________________\n",
            "dropout (Dropout)            (None, 512)               0         \n",
            "_________________________________________________________________\n",
            "dense (Dense)                (None, 128)               65664     \n",
            "_________________________________________________________________\n",
            "batch_normalization (BatchNo (None, 128)               512       \n",
            "_________________________________________________________________\n",
            "dropout_1 (Dropout)          (None, 128)               0         \n",
            "_________________________________________________________________\n",
            "dense_1 (Dense)              (None, 1)                 129       \n",
            "=================================================================\n",
            "Total params: 256,864,129\n",
            "Trainable params: 256,863,873\n",
            "Non-trainable params: 256\n",
            "_________________________________________________________________\n"
          ],
          "name": "stdout"
        }
      ]
    },
    {
      "cell_type": "markdown",
      "metadata": {
        "id": "t-l3hSAZjmAR"
      },
      "source": [
        "##Train classifier model"
      ]
    },
    {
      "cell_type": "markdown",
      "metadata": {
        "id": "JB9jLSmmxlRX"
      },
      "source": [
        "###Compile model"
      ]
    },
    {
      "cell_type": "code",
      "metadata": {
        "colab": {
          "base_uri": "https://localhost:8080/",
          "height": 478
        },
        "id": "jT4HWvMbweSY",
        "outputId": "62c1c776-b06c-487e-982c-5acb42df775b"
      },
      "source": [
        "METRICS = [\n",
        "             keras.metrics.TruePositives(name='tp'),\n",
        "             keras.metrics.FalsePositives(name='fp'),\n",
        "             keras.metrics.TrueNegatives(name='tn'),\n",
        "             keras.metrics.FalseNegatives(name='fn'), \n",
        "             keras.metrics.BinaryAccuracy(name='accuracy'),\n",
        "             keras.metrics.Precision(name='precision'),\n",
        "             keras.metrics.Recall(name='recall'),\n",
        "             keras.metrics.AUC(name='auc'),\n",
        "             keras.metrics.AUC(name='prc', curve='PR'), # precision-recall curve\n",
        "          ]\n",
        "\n",
        "\n",
        "es = tf.keras.callbacks.EarlyStopping(\n",
        "          monitor='val_loss', \n",
        "          verbose=1, \n",
        "          patience=5, \n",
        "          mode='min', \n",
        "          restore_best_weights=True\n",
        "          )\n",
        "\n",
        "mcb = tf.keras.callbacks.ModelCheckpoint (\n",
        "         filepath=model_checkpoint_path,\n",
        "         save_weights_only=True,\n",
        "         monitor='val_loss',\n",
        "         mode='min',\n",
        "         verbose=1,\n",
        "         save_best_only=True\n",
        "        )\n",
        "\n",
        "#schedule = None\n",
        "#schedule = PolynomialDecay(maxEpochs=epochs, initAlpha=init_lr, power=1)\n",
        "\n",
        "#lrc = LearningRateScheduler(schedule)\n",
        "\n",
        "\n",
        "optimizer = optimization.create_optimizer(\n",
        "      init_lr=init_lr,\n",
        "      num_train_steps=num_train_steps,\n",
        "      num_warmup_steps=num_warmup_steps,\n",
        "      optimizer_type='adamw'\n",
        "      )\n",
        "\n",
        "\n",
        "#lr_schedule = tf.keras.optimizers.schedules.ExponentialDecay(\n",
        "#    init_lr,\n",
        "#    decay_steps=num_train_steps,\n",
        "#    decay_rate=0.96,\n",
        "#    staircase=True)\n",
        "\n",
        "#optimizer = SGD(lr=init_lr, momentum=0.9,decay = 0.0)\n",
        "\n",
        "classifier_model.compile(\n",
        "    optimizer=optimizer,\n",
        "    loss=tf.keras.losses.BinaryCrossentropy(), \n",
        "    metrics=METRICS\n",
        "    )\n",
        "\n",
        "tf.keras.utils.plot_model(model=classifier_model, show_shapes=True, dpi=60)"
      ],
      "execution_count": 22,
      "outputs": [
        {
          "output_type": "execute_result",
          "data": {
            "image/png": "[encoded data removed]",
            "text/plain": [
              "<IPython.core.display.Image object>"
            ]
          },
          "metadata": {
            "tags": []
          },
          "execution_count": 22
        }
      ]
    },
    {
      "cell_type": "markdown",
      "metadata": {
        "id": "H6XKaUuaxqlk"
      },
      "source": [
        "###Train"
      ]
    },
    {
      "cell_type": "code",
      "metadata": {
        "id": "5m2m1rm9mpns"
      },
      "source": [
        "#@title Load Model weights if available\n",
        "#if os.path.exists(checkpoint_root_path) & len(os.listdir(checkpoint_root_path))>0:\n",
        "#  print('loading saved weight')\n",
        "#  classifier_model.load_weights(model_checkpoint_path)\n",
        "#else:\n",
        "#  print('No weight to initialize') "
      ],
      "execution_count": 23,
      "outputs": []
    },
    {
      "cell_type": "code",
      "metadata": {
        "colab": {
          "base_uri": "https://localhost:8080/"
        },
        "id": "VN83npGrjnwd",
        "outputId": "7af712db-71ec-48c6-9853-46d00f836859"
      },
      "source": [
        "history = classifier_model.fit(\n",
        "             x=train_ds,\n",
        "             validation_data=val_ds,\n",
        "             epochs=epochs,\n",
        "             callbacks=[es, mcb]\n",
        "             )"
      ],
      "execution_count": 24,
      "outputs": [
        {
          "output_type": "stream",
          "text": [
            "Epoch 1/30\n",
            "1217/1217 [==============================] - 270s 202ms/step - loss: 0.4546 - tp: 14844.0000 - fp: 4645.0000 - tn: 15148.0000 - fn: 4307.0000 - accuracy: 0.7701 - precision: 0.7617 - recall: 0.7751 - auc: 0.8653 - prc: 0.8661 - val_loss: 0.1750 - val_tp: 3691.0000 - val_fp: 211.0000 - val_tn: 4004.0000 - val_fn: 318.0000 - val_accuracy: 0.9357 - val_precision: 0.9459 - val_recall: 0.9207 - val_auc: 0.9806 - val_prc: 0.9806\n",
            "\n",
            "Epoch 00001: val_loss improved from inf to 0.17503, saving model to /content/drive/MyDrive/Colab Notebooks/clcikbait_detection/dataset/YouTube_clickbait/checkpoints/youtube_clickbait_finetuned_USE_all/youtube_clickbait_finetuned_USE_all_checkpoint\n",
            "Epoch 2/30\n",
            "1217/1217 [==============================] - 247s 203ms/step - loss: 0.1656 - tp: 17890.0000 - fp: 1156.0000 - tn: 18637.0000 - fn: 1261.0000 - accuracy: 0.9379 - precision: 0.9393 - recall: 0.9342 - auc: 0.9825 - prc: 0.9825 - val_loss: 0.1200 - val_tp: 3767.0000 - val_fp: 129.0000 - val_tn: 4086.0000 - val_fn: 242.0000 - val_accuracy: 0.9549 - val_precision: 0.9669 - val_recall: 0.9396 - val_auc: 0.9911 - val_prc: 0.9904\n",
            "\n",
            "Epoch 00002: val_loss improved from 0.17503 to 0.11996, saving model to /content/drive/MyDrive/Colab Notebooks/clcikbait_detection/dataset/YouTube_clickbait/checkpoints/youtube_clickbait_finetuned_USE_all/youtube_clickbait_finetuned_USE_all_checkpoint\n",
            "Epoch 3/30\n",
            "1217/1217 [==============================] - 247s 203ms/step - loss: 0.1057 - tp: 18345.0000 - fp: 745.0000 - tn: 19048.0000 - fn: 806.0000 - accuracy: 0.9602 - precision: 0.9610 - recall: 0.9579 - auc: 0.9924 - prc: 0.9921 - val_loss: 0.0995 - val_tp: 3862.0000 - val_fp: 137.0000 - val_tn: 4078.0000 - val_fn: 147.0000 - val_accuracy: 0.9655 - val_precision: 0.9657 - val_recall: 0.9633 - val_auc: 0.9936 - val_prc: 0.9925\n",
            "\n",
            "Epoch 00003: val_loss improved from 0.11996 to 0.09953, saving model to /content/drive/MyDrive/Colab Notebooks/clcikbait_detection/dataset/YouTube_clickbait/checkpoints/youtube_clickbait_finetuned_USE_all/youtube_clickbait_finetuned_USE_all_checkpoint\n",
            "Epoch 4/30\n",
            "1217/1217 [==============================] - 249s 205ms/step - loss: 0.0630 - tp: 18695.0000 - fp: 404.0000 - tn: 19389.0000 - fn: 456.0000 - accuracy: 0.9779 - precision: 0.9788 - recall: 0.9762 - auc: 0.9969 - prc: 0.9965 - val_loss: 0.0963 - val_tp: 3853.0000 - val_fp: 94.0000 - val_tn: 4121.0000 - val_fn: 156.0000 - val_accuracy: 0.9696 - val_precision: 0.9762 - val_recall: 0.9611 - val_auc: 0.9934 - val_prc: 0.9925\n",
            "\n",
            "Epoch 00004: val_loss improved from 0.09953 to 0.09631, saving model to /content/drive/MyDrive/Colab Notebooks/clcikbait_detection/dataset/YouTube_clickbait/checkpoints/youtube_clickbait_finetuned_USE_all/youtube_clickbait_finetuned_USE_all_checkpoint\n",
            "Epoch 5/30\n",
            "1217/1217 [==============================] - 245s 202ms/step - loss: 0.0325 - tp: 18940.0000 - fp: 179.0000 - tn: 19614.0000 - fn: 211.0000 - accuracy: 0.9900 - precision: 0.9906 - recall: 0.9890 - auc: 0.9989 - prc: 0.9986 - val_loss: 0.1016 - val_tp: 3872.0000 - val_fp: 99.0000 - val_tn: 4116.0000 - val_fn: 137.0000 - val_accuracy: 0.9713 - val_precision: 0.9751 - val_recall: 0.9658 - val_auc: 0.9919 - val_prc: 0.9901\n",
            "\n",
            "Epoch 00005: val_loss did not improve from 0.09631\n",
            "Epoch 6/30\n",
            "1217/1217 [==============================] - 241s 198ms/step - loss: 0.0161 - tp: 19056.0000 - fp: 93.0000 - tn: 19700.0000 - fn: 95.0000 - accuracy: 0.9952 - precision: 0.9951 - recall: 0.9950 - auc: 0.9995 - prc: 0.9992 - val_loss: 0.1072 - val_tp: 3873.0000 - val_fp: 111.0000 - val_tn: 4104.0000 - val_fn: 136.0000 - val_accuracy: 0.9700 - val_precision: 0.9721 - val_recall: 0.9661 - val_auc: 0.9913 - val_prc: 0.9892\n",
            "\n",
            "Epoch 00006: val_loss did not improve from 0.09631\n",
            "Epoch 7/30\n",
            "1217/1217 [==============================] - 241s 198ms/step - loss: 0.0079 - tp: 19118.0000 - fp: 44.0000 - tn: 19749.0000 - fn: 33.0000 - accuracy: 0.9980 - precision: 0.9977 - recall: 0.9983 - auc: 0.9997 - prc: 0.9995 - val_loss: 0.1218 - val_tp: 3878.0000 - val_fp: 109.0000 - val_tn: 4106.0000 - val_fn: 131.0000 - val_accuracy: 0.9708 - val_precision: 0.9727 - val_recall: 0.9673 - val_auc: 0.9896 - val_prc: 0.9873\n",
            "\n",
            "Epoch 00007: val_loss did not improve from 0.09631\n",
            "Epoch 8/30\n",
            "1217/1217 [==============================] - 241s 198ms/step - loss: 0.0041 - tp: 19135.0000 - fp: 22.0000 - tn: 19771.0000 - fn: 16.0000 - accuracy: 0.9990 - precision: 0.9989 - recall: 0.9992 - auc: 0.9999 - prc: 0.9997 - val_loss: 0.1389 - val_tp: 3851.0000 - val_fp: 88.0000 - val_tn: 4127.0000 - val_fn: 158.0000 - val_accuracy: 0.9701 - val_precision: 0.9777 - val_recall: 0.9606 - val_auc: 0.9888 - val_prc: 0.9875\n",
            "\n",
            "Epoch 00008: val_loss did not improve from 0.09631\n",
            "Epoch 9/30\n",
            "1217/1217 [==============================] - 241s 198ms/step - loss: 0.0024 - tp: 19144.0000 - fp: 16.0000 - tn: 19777.0000 - fn: 7.0000 - accuracy: 0.9994 - precision: 0.9992 - recall: 0.9996 - auc: 0.9999 - prc: 0.9998 - val_loss: 0.1475 - val_tp: 3860.0000 - val_fp: 94.0000 - val_tn: 4121.0000 - val_fn: 149.0000 - val_accuracy: 0.9705 - val_precision: 0.9762 - val_recall: 0.9628 - val_auc: 0.9879 - val_prc: 0.9856\n",
            "Restoring model weights from the end of the best epoch.\n",
            "\n",
            "Epoch 00009: val_loss did not improve from 0.09631\n",
            "Epoch 00009: early stopping\n"
          ],
          "name": "stdout"
        }
      ]
    },
    {
      "cell_type": "markdown",
      "metadata": {
        "id": "KGm28Sny7Wbg"
      },
      "source": [
        "#Plot train history"
      ]
    },
    {
      "cell_type": "code",
      "metadata": {
        "id": "de9jdjsl83rU",
        "colab": {
          "base_uri": "https://localhost:8080/",
          "height": 621
        },
        "outputId": "97d2afc6-ed08-4979-87b0-fc64f6d16f34"
      },
      "source": [
        "vh.display_training_curves(history.history['accuracy'], history.history['val_accuracy'], 'accuracy', 211)\n",
        "vh.display_training_curves(history.history['loss'], history.history['val_loss'], 'loss', 212)"
      ],
      "execution_count": 25,
      "outputs": [
        {
          "output_type": "display_data",
          "data": {
            "image/png": "[encoded data removed]",
            "text/plain": [
              "<Figure size 720x720 with 2 Axes>"
            ]
          },
          "metadata": {
            "tags": []
          }
        }
      ]
    },
    {
      "cell_type": "code",
      "metadata": {
        "id": "bMtvCGsZ89PT",
        "colab": {
          "base_uri": "https://localhost:8080/",
          "height": 621
        },
        "outputId": "5cb8711b-1a92-4a6e-d191-b61102de0e6c"
      },
      "source": [
        "vh.display_training_curves(history.history['recall'], history.history['val_recall'], 'recall', 211)\n",
        "vh.display_training_curves(history.history['precision'], history.history['val_precision'], 'precision', 212)"
      ],
      "execution_count": 26,
      "outputs": [
        {
          "output_type": "display_data",
          "data": {
            "image/png": "[encoded data removed]",
            "text/plain": [
              "<Figure size 720x720 with 2 Axes>"
            ]
          },
          "metadata": {
            "tags": []
          }
        }
      ]
    },
    {
      "cell_type": "markdown",
      "metadata": {
        "id": "u3EcfqHpnb7M"
      },
      "source": [
        "# Model Inference\n",
        "We have trained the classifier, now let's use the trained model to infer the test dataset. Beside the test dataset, we also have benchmark dataset that we would also to see the eefectiveness of our model over benchmark dataset on predicting the clickbait's."
      ]
    },
    {
      "cell_type": "markdown",
      "metadata": {
        "id": "wUbL6y3Qnowd"
      },
      "source": [
        "##Model Evaluation"
      ]
    },
    {
      "cell_type": "markdown",
      "metadata": {
        "id": "V3DsGFsKnteT"
      },
      "source": [
        "###Evaluate Classifier on Test set"
      ]
    },
    {
      "cell_type": "code",
      "metadata": {
        "id": "f3RkZKpanwB6",
        "colab": {
          "base_uri": "https://localhost:8080/"
        },
        "outputId": "31787c5a-69a5-4f18-865c-29359a5682ac"
      },
      "source": [
        "results_test_set = classifier_model.evaluate(test_ds)\n",
        "\n",
        "for name, value in zip(classifier_model.metrics_names, results_test_set):\n",
        "  print(name, ': ', value)\n",
        "print()"
      ],
      "execution_count": 27,
      "outputs": [
        {
          "output_type": "stream",
          "text": [
            "60/60 [==============================] - 3s 31ms/step - loss: 0.0841 - tp: 876.0000 - fp: 32.0000 - tn: 991.0000 - fn: 21.0000 - accuracy: 0.9724 - precision: 0.9648 - recall: 0.9766 - auc: 0.9947 - prc: 0.9938\n",
            "loss :  0.08405651897192001\n",
            "tp :  876.0\n",
            "fp :  32.0\n",
            "tn :  991.0\n",
            "fn :  21.0\n",
            "accuracy :  0.9723958373069763\n",
            "precision :  0.9647576808929443\n",
            "recall :  0.9765886068344116\n",
            "auc :  0.9947331547737122\n",
            "prc :  0.9938437938690186\n",
            "\n"
          ],
          "name": "stdout"
        }
      ]
    },
    {
      "cell_type": "markdown",
      "metadata": {
        "id": "36FvI_Jfnzm4"
      },
      "source": [
        "### Evaluate Classifier on Benchmarking set"
      ]
    },
    {
      "cell_type": "code",
      "metadata": {
        "id": "sksFha2Jn2ax",
        "colab": {
          "base_uri": "https://localhost:8080/"
        },
        "outputId": "038d8f0b-7d79-4e66-c786-251bfcec0bd2"
      },
      "source": [
        "results_benchmarking_set = classifier_model.evaluate(benchmark_ds)\n",
        "\n",
        "for name, value in zip(classifier_model.metrics_names, results_benchmarking_set):\n",
        "  print(name, ': ', value)\n",
        "print()"
      ],
      "execution_count": 33,
      "outputs": [
        {
          "output_type": "stream",
          "text": [
            "5/5 [==============================] - 0s 26ms/step - loss: 1.0086 - tp: 45.0000 - fp: 4.0000 - tn: 62.0000 - fn: 49.0000 - accuracy: 0.6687 - precision: 0.9184 - recall: 0.4787 - auc: 0.8559 - prc: 0.9009\n",
            "loss :  1.0085724592208862\n",
            "tp :  45.0\n",
            "fp :  4.0\n",
            "tn :  62.0\n",
            "fn :  49.0\n",
            "accuracy :  0.668749988079071\n",
            "precision :  0.918367326259613\n",
            "recall :  0.478723406791687\n",
            "auc :  0.855899453163147\n",
            "prc :  0.9008941650390625\n",
            "\n"
          ],
          "name": "stdout"
        }
      ]
    },
    {
      "cell_type": "markdown",
      "metadata": {
        "id": "yC6LVHAyn-hs"
      },
      "source": [
        "##Export Model for inference"
      ]
    },
    {
      "cell_type": "code",
      "metadata": {
        "id": "DHOU2aiyoCKy"
      },
      "source": [
        "#classifier_model.save(saved_model_path, include_optimizer=False)"
      ],
      "execution_count": 29,
      "outputs": []
    },
    {
      "cell_type": "markdown",
      "metadata": {
        "id": "Qoh5oCeBoFSB"
      },
      "source": [
        "##Model prediction"
      ]
    },
    {
      "cell_type": "code",
      "metadata": {
        "id": "oHG0fmpQoHuJ"
      },
      "source": [
        "#saved_classifier = keras.models.load_model(saved_model_path)"
      ],
      "execution_count": 34,
      "outputs": []
    },
    {
      "cell_type": "markdown",
      "metadata": {
        "id": "q2_erN4OoLL5"
      },
      "source": [
        "### Prediction for Test set"
      ]
    },
    {
      "cell_type": "code",
      "metadata": {
        "id": "4qZegAuroQHP",
        "colab": {
          "base_uri": "https://localhost:8080/",
          "height": 588
        },
        "outputId": "d4383baa-00af-4af6-cf8f-f74fe0eb7dfe"
      },
      "source": [
        "predict_on_test_dataset(classifier_model, test_ds, BATCH_SIZE=BATCH_SIZE)"
      ],
      "execution_count": 35,
      "outputs": [
        {
          "output_type": "stream",
          "text": [
            "Accuracy: 0.972396\n",
            "Precision: 0.964758\n",
            "Recall: 0.976589\n",
            "F1 score: 0.970637\n",
            "ROC AUC: 0.972654\n",
            "[[991  32]\n",
            " [ 21 876]]\n",
            "Non clickbaits Detected (True Negatives):  991\n",
            "Non-Clickbaits Detected as Clickbaits (False Positives):  32\n",
            "Clickbaits Detected as Non-clickbaits (False Negatives):  21\n",
            "Clickbaits Detected (True Positives):  876\n",
            "Total Non-clickbaits:  1023\n",
            "Total Clickbaits:  897\n",
            "\n"
          ],
          "name": "stdout"
        },
        {
          "output_type": "display_data",
          "data": {
            "image/png": "[encoded data removed]",
            "text/plain": [
              "<Figure size 360x360 with 2 Axes>"
            ]
          },
          "metadata": {
            "tags": [],
            "needs_background": "light"
          }
        }
      ]
    },
    {
      "cell_type": "markdown",
      "metadata": {
        "id": "Ldte4xEboU8H"
      },
      "source": [
        "### Prediction for Benchmarking set"
      ]
    },
    {
      "cell_type": "code",
      "metadata": {
        "id": "H2V6xTcFoWbm",
        "colab": {
          "base_uri": "https://localhost:8080/",
          "height": 588
        },
        "outputId": "65726829-d489-4a22-b372-d53d00dea86a"
      },
      "source": [
        "predict_on_test_dataset(classifier_model, benchmark_ds, BATCH_SIZE=BATCH_SIZE)"
      ],
      "execution_count": 36,
      "outputs": [
        {
          "output_type": "stream",
          "text": [
            "Accuracy: 0.668750\n",
            "Precision: 0.918367\n",
            "Recall: 0.478723\n",
            "F1 score: 0.629371\n",
            "ROC AUC: 0.709059\n",
            "[[62  4]\n",
            " [49 45]]\n",
            "Non clickbaits Detected (True Negatives):  62\n",
            "Non-Clickbaits Detected as Clickbaits (False Positives):  4\n",
            "Clickbaits Detected as Non-clickbaits (False Negatives):  49\n",
            "Clickbaits Detected (True Positives):  45\n",
            "Total Non-clickbaits:  66\n",
            "Total Clickbaits:  94\n",
            "\n"
          ],
          "name": "stdout"
        },
        {
          "output_type": "display_data",
          "data": {
            "image/png": "[encoded data removed]",
            "text/plain": [
              "<Figure size 360x360 with 2 Axes>"
            ]
          },
          "metadata": {
            "tags": [],
            "needs_background": "light"
          }
        }
      ]
    }
  ]
}