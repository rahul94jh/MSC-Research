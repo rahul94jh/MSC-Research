{
  "nbformat": 4,
  "nbformat_minor": 0,
  "metadata": {
    "colab": {
      "name": "bert_finetuning_YouTube_clickbait.ipynb",
      "provenance": [],
      "collapsed_sections": [
        "KMTn9bhktYps",
        "cDzVIeTqtgHF",
        "HKcowprstl0r",
        "9Czy69V6tjnB",
        "HyRKSP2zwYyo",
        "dexXAe2b0LQl",
        "m4mlvS-W4TDx",
        "Y-C-yuTZILRE"
      ],
      "mount_file_id": "14pGrSQ_S4F9VxEF3XGtl8PJTwhWMqsfc",
      "authorship_tag": "ABX9TyODuvu2WqOwQ6svqFpvk8ts",
      "include_colab_link": true
    },
    "kernelspec": {
      "name": "python3",
      "display_name": "Python 3"
    },
    "language_info": {
      "name": "python"
    },
    "accelerator": "GPU"
  },
  "cells": [
    {
      "cell_type": "markdown",
      "metadata": {
        "id": "view-in-github",
        "colab_type": "text"
      },
      "source": [
        "<a href=\"https://colab.research.google.com/github/rahul94jh/MSC-Research/blob/main/bert_finetuning_YouTube_clickbait.ipynb\" target=\"_parent\"><img src=\"https://colab.research.google.com/assets/colab-badge.svg\" alt=\"Open In Colab\"/></a>"
      ]
    },
    {
      "cell_type": "markdown",
      "metadata": {
        "id": "KMTn9bhktYps"
      },
      "source": [
        "#Setup"
      ]
    },
    {
      "cell_type": "code",
      "metadata": {
        "colab": {
          "base_uri": "https://localhost:8080/"
        },
        "id": "U7pZ99IQqhKo",
        "outputId": "a68ff21b-ecb4-4a03-ef7f-0b5a0ec13bed"
      },
      "source": [
        "#Check GPU, if assigned k8 then factory reset couple of times until we get Tesla GPU\n",
        "!nvidia-smi"
      ],
      "execution_count": null,
      "outputs": [
        {
          "output_type": "stream",
          "text": [
            "Sun Jul  4 14:49:03 2021       \n",
            "+-----------------------------------------------------------------------------+\n",
            "| NVIDIA-SMI 465.27       Driver Version: 460.32.03    CUDA Version: 11.2     |\n",
            "|-------------------------------+----------------------+----------------------+\n",
            "| GPU  Name        Persistence-M| Bus-Id        Disp.A | Volatile Uncorr. ECC |\n",
            "| Fan  Temp  Perf  Pwr:Usage/Cap|         Memory-Usage | GPU-Util  Compute M. |\n",
            "|                               |                      |               MIG M. |\n",
            "|===============================+======================+======================|\n",
            "|   0  Tesla T4            Off  | 00000000:00:04.0 Off |                    0 |\n",
            "| N/A   54C    P8    10W /  70W |      0MiB / 15109MiB |      0%      Default |\n",
            "|                               |                      |                  N/A |\n",
            "+-------------------------------+----------------------+----------------------+\n",
            "                                                                               \n",
            "+-----------------------------------------------------------------------------+\n",
            "| Processes:                                                                  |\n",
            "|  GPU   GI   CI        PID   Type   Process name                  GPU Memory |\n",
            "|        ID   ID                                                   Usage      |\n",
            "|=============================================================================|\n",
            "|  No running processes found                                                 |\n",
            "+-----------------------------------------------------------------------------+\n"
          ],
          "name": "stdout"
        }
      ]
    },
    {
      "cell_type": "code",
      "metadata": {
        "colab": {
          "base_uri": "https://localhost:8080/"
        },
        "id": "73DTOjAUnKJO",
        "outputId": "d6f03a6d-5fa1-48d6-fb49-3aae6ec04cd0"
      },
      "source": [
        "!pip install -q tensorflow-text\n",
        "!pip install -q tf-models-official"
      ],
      "execution_count": null,
      "outputs": [
        {
          "output_type": "stream",
          "text": [
            "\u001b[K     |████████████████████████████████| 4.3MB 8.4MB/s \n",
            "\u001b[K     |████████████████████████████████| 1.6MB 8.6MB/s \n",
            "\u001b[K     |████████████████████████████████| 686kB 47.2MB/s \n",
            "\u001b[K     |████████████████████████████████| 358kB 48.5MB/s \n",
            "\u001b[K     |████████████████████████████████| 215kB 49.1MB/s \n",
            "\u001b[K     |████████████████████████████████| 61kB 9.5MB/s \n",
            "\u001b[K     |████████████████████████████████| 645kB 53.4MB/s \n",
            "\u001b[K     |████████████████████████████████| 38.2MB 79kB/s \n",
            "\u001b[K     |████████████████████████████████| 51kB 8.8MB/s \n",
            "\u001b[K     |████████████████████████████████| 102kB 14.5MB/s \n",
            "\u001b[K     |████████████████████████████████| 1.2MB 43.6MB/s \n",
            "\u001b[?25h  Building wheel for seqeval (setup.py) ... \u001b[?25l\u001b[?25hdone\n",
            "  Building wheel for py-cpuinfo (setup.py) ... \u001b[?25l\u001b[?25hdone\n"
          ],
          "name": "stdout"
        }
      ]
    },
    {
      "cell_type": "markdown",
      "metadata": {
        "id": "cDzVIeTqtgHF"
      },
      "source": [
        "#Imports"
      ]
    },
    {
      "cell_type": "code",
      "metadata": {
        "id": "4Q_MKLxE-7yz",
        "colab": {
          "base_uri": "https://localhost:8080/"
        },
        "outputId": "a5a397c4-ff2a-438d-d1a9-2f51a6325719"
      },
      "source": [
        "import os, math\n",
        "import numpy as np\n",
        "import pandas as pd\n",
        "import requests\n",
        "import shutil\n",
        "import re\n",
        "from pathlib import Path\n",
        "\n",
        "import tensorflow as tf\n",
        "import tensorflow_hub as hub\n",
        "import tensorflow_text as text\n",
        "import tensorflow_addons as tfa\n",
        "from official.nlp.data import classifier_data_lib\n",
        "from official.nlp.bert import tokenization\n",
        "from official.nlp import optimization\n",
        "\n",
        "\n",
        "from tensorflow import keras\n",
        "from official.nlp import optimization  # to create AdamW optmizer\n",
        "AUTO = tf.data.experimental.AUTOTUNE # used in tf.data.Dataset API\n",
        "\n",
        "tf.get_logger().setLevel('ERROR')\n",
        "\n",
        "import sys\n",
        "\n",
        "#Import custom script\n",
        "sys.path.append('/content/drive/MyDrive/Colab Notebooks/clcikbait_detection/scripts')\n",
        "from tf_dataset_helpers import read_tfrec_data\n",
        "import model_helpers as mh\n",
        "import visualization_helpers as vh"
      ],
      "execution_count": null,
      "outputs": [
        {
          "output_type": "stream",
          "text": [
            "/usr/local/lib/python3.7/dist-packages/tensorflow/python/keras/optimizer_v2/optimizer_v2.py:375: UserWarning: The `lr` argument is deprecated, use `learning_rate` instead.\n",
            "  \"The `lr` argument is deprecated, use `learning_rate` instead.\")\n"
          ],
          "name": "stderr"
        }
      ]
    },
    {
      "cell_type": "code",
      "metadata": {
        "colab": {
          "base_uri": "https://localhost:8080/"
        },
        "id": "5RE9WE8LtUhd",
        "outputId": "2b745091-92cf-4ca8-b6c4-48d508a4cc00"
      },
      "source": [
        "print(\"TF Version: \", tf.__version__)\n",
        "print(\"Eager mode: \", tf.executing_eagerly())\n",
        "print(\"Hub version: \", hub.__version__)\n",
        "print(\"GPU is\", \"available\" if tf.config.experimental.list_physical_devices(\"GPU\") else \"NOT AVAILABLE\")"
      ],
      "execution_count": null,
      "outputs": [
        {
          "output_type": "stream",
          "text": [
            "TF Version:  2.5.0\n",
            "Eager mode:  True\n",
            "Hub version:  0.12.0\n",
            "GPU is available\n"
          ],
          "name": "stdout"
        }
      ]
    },
    {
      "cell_type": "markdown",
      "metadata": {
        "id": "HKcowprstl0r"
      },
      "source": [
        "#Configs"
      ]
    },
    {
      "cell_type": "code",
      "metadata": {
        "id": "v9DLhbQrtnGd"
      },
      "source": [
        "tfrec_trainVal_files_path = '/content/drive/MyDrive/Colab Notebooks/clcikbait_detection/dataset/YouTube_clickbait/tfrec_data/train_val/'\n",
        "tfrec_test_files_path = '/content/drive/MyDrive/Colab Notebooks/clcikbait_detection/dataset/YouTube_clickbait/tfrec_data/test/'\n",
        "\n",
        "model_root_path = '/content/drive/MyDrive/Colab Notebooks/clcikbait_detection/dataset/YouTube_clickbait/saved_models'\n",
        "saved_model_name = f'youtube_clickbait_finetuned_{bert_model_name}'\n",
        "saved_model_path = os.path.join(model_root_path, saved_model_name )\n",
        "\n",
        "checkpoint_root_path = '/content/drive/MyDrive/Colab Notebooks/clcikbait_detection/dataset/YouTube_clickbait/saved_models/checkpoints'\n",
        "model_checkpoint_path = os.path.join(checkpoint_root_path, 'my_checkpoint' )\n",
        "\n",
        "stop_clickbait_checkpoint_root_path = '/content/drive/MyDrive/Colab Notebooks/clcikbait_detection/dataset/Stop_clickbait/saved_models/checkpoints'\n",
        "stop_clickbait_model_checkpoint_path = os.path.join(stop_clickbait_checkpoint_root_path, 'my_checkpoint' )\n",
        "\n",
        "\n",
        "BATCH_SIZE = 32  \n",
        "# Label categories\n",
        "label_list = [0,1]\n",
        "# maximum length of (token) input sequences\n",
        "max_seq_len = 128\n",
        "init_lr = 2e-5\n",
        "\n",
        "epochs = 20"
      ],
      "execution_count": null,
      "outputs": []
    },
    {
      "cell_type": "markdown",
      "metadata": {
        "id": "HWD2vnekDCr6"
      },
      "source": [
        "#Bert configs"
      ]
    },
    {
      "cell_type": "code",
      "metadata": {
        "id": "GTNn3LRp7DfR",
        "cellView": "form"
      },
      "source": [
        "#@title \"Model mappings\"\n",
        "bert_model_name = 'bert_en_uncased_L-12_H-768_A-12' \n",
        "\n",
        "map_name_to_handle = {\n",
        "    'bert_en_uncased_L-12_H-768_A-12':\n",
        "        'https://tfhub.dev/tensorflow/bert_en_uncased_L-12_H-768_A-12/4',\n",
        "    'bert_en_cased_L-12_H-768_A-12':\n",
        "        'https://tfhub.dev/tensorflow/bert_en_cased_L-12_H-768_A-12/4'\n",
        "}\n",
        "\n",
        "map_model_to_preprocess = {\n",
        "    'bert_en_uncased_L-12_H-768_A-12':\n",
        "        'https://tfhub.dev/tensorflow/bert_en_uncased_preprocess/3',\n",
        "    'bert_en_cased_L-12_H-768_A-12':\n",
        "        'https://tfhub.dev/tensorflow/bert_en_cased_preprocess/3',\n",
        "}"
      ],
      "execution_count": null,
      "outputs": []
    },
    {
      "cell_type": "code",
      "metadata": {
        "colab": {
          "base_uri": "https://localhost:8080/"
        },
        "id": "DSjQAbWngdd6",
        "cellView": "form",
        "outputId": "ea634fae-0992-40f1-96ee-16779f04940b"
      },
      "source": [
        "#@title \"Bert pretrained model downlaod\"\n",
        "tfhub_handle_encoder = map_name_to_handle[bert_model_name]\n",
        "tfhub_handle_preprocess = map_model_to_preprocess[bert_model_name]\n",
        "\n",
        "print('BERT model selected           :', tfhub_handle_encoder)\n",
        "print('Preprocessing model auto-selected:', tfhub_handle_preprocess)\n",
        "\n",
        "bert_layer = hub.KerasLayer(tfhub_handle_encoder, trainable=True, name='bert_encoder')\n",
        "vocab_file = bert_layer.resolved_object.vocab_file.asset_path.numpy()\n",
        "do_lower_case = bert_layer.resolved_object.do_lower_case.numpy()\n",
        "bert_tokenizer = tokenization.FullTokenizer(vocab_file, do_lower_case)"
      ],
      "execution_count": null,
      "outputs": [
        {
          "output_type": "stream",
          "text": [
            "BERT model selected           : https://tfhub.dev/tensorflow/bert_en_uncased_L-12_H-768_A-12/4\n",
            "Preprocessing model auto-selected: https://tfhub.dev/tensorflow/bert_en_uncased_preprocess/3\n"
          ],
          "name": "stdout"
        }
      ]
    },
    {
      "cell_type": "markdown",
      "metadata": {
        "id": "Pvp9_oivD_QD"
      },
      "source": [
        "#Scripts"
      ]
    },
    {
      "cell_type": "code",
      "metadata": {
        "id": "7e62N59Ttk60",
        "cellView": "form"
      },
      "source": [
        "#@title \"Utilities [TF Dataset]\"\n",
        "def read_tfrecord(example):\n",
        "    features = {\n",
        "        \"class\": tf.io.FixedLenFeature([], tf.int64),   # shape [] means scalar\n",
        "        \"text\": tf.io.FixedLenFeature([], tf.string),\n",
        "        \"label\": tf.io.FixedLenFeature([], tf.string)  # one bytestring\n",
        "    }\n",
        "    # decode the TFRecord\n",
        "    example = tf.io.parse_single_example(example, features)\n",
        "    \n",
        "    \n",
        "    class_num = example['class']\n",
        "    text = example['text']\n",
        "    label  = example['label']\n",
        "    return text, class_num, label\n",
        "\n",
        "def load_dataset(filenames):\n",
        "  option_no_order = tf.data.Options()\n",
        "  option_no_order.experimental_deterministic = False\n",
        "\n",
        "  dataset = tf.data.TFRecordDataset(filenames, num_parallel_reads=AUTO)\n",
        "  dataset = dataset.with_options(option_no_order)\n",
        "  dataset = dataset.map(read_tfrecord, num_parallel_calls=AUTO)\n",
        "  return dataset\n",
        "\n",
        "def get_batched_dataset(dataset, train=False):\n",
        "  if train:\n",
        "    dataset = dataset.shuffle(num_train_examples)\n",
        "    dataset = dataset.repeat()\n",
        "  dataset = dataset.batch(BATCH_SIZE, drop_remainder=True)\n",
        "  dataset = dataset.cache().prefetch(AUTO) # prefetch next batch while training (autotune prefetch buffer size)\n",
        "  return dataset"
      ],
      "execution_count": null,
      "outputs": []
    },
    {
      "cell_type": "code",
      "metadata": {
        "id": "8NzGu2hUKfnA",
        "cellView": "form"
      },
      "source": [
        "#@title \"Utilities [Map bert preprocessing to Dataset]\"\n",
        "def to_feature(text, label, label_list=label_list, max_seq_length=max_seq_len, tokenizer=bert_tokenizer):\n",
        "  example = classifier_data_lib.InputExample(guid=None, text_a=text.numpy(), text_b=None, label=label.numpy())\n",
        "  feature = classifier_data_lib.convert_single_example(0, example, label_list, max_seq_length, tokenizer)\n",
        "\n",
        "  return (feature.input_ids, feature.input_mask, feature.segment_ids, feature.label_id)\n",
        "  \n",
        "def to_feature_map(text, label):\n",
        "  input_ids, input_mask, segment_ids, label_id = tf.py_function(to_feature, inp=[text, label], Tout=[tf.int32,tf.int32, tf.int32, tf.int32 ])\n",
        "  input_ids.set_shape([max_seq_len])\n",
        "  segment_ids.set_shape([max_seq_len])\n",
        "  input_mask.set_shape([max_seq_len])\n",
        "  label_id.set_shape([])\n",
        "\n",
        "  x = {\n",
        "       'input_word_ids': input_ids,\n",
        "       'input_mask': input_mask,\n",
        "       'input_type_ids':segment_ids\n",
        "  }\n",
        "  \n",
        "  return (x, label_id)\n",
        "  "
      ],
      "execution_count": null,
      "outputs": []
    },
    {
      "cell_type": "code",
      "metadata": {
        "id": "ADXfSXSIWGpt"
      },
      "source": [
        "#@title \"Utilities [Create Model Definition]\"\n",
        "def create_model():\n",
        "\n",
        " encoder_inputs = dict(\n",
        "    input_word_ids=tf.keras.layers.Input(shape=(max_seq_len,), dtype=tf.int32, name=\"input_word_ids\"),\n",
        "    input_mask=tf.keras.layers.Input(shape=(max_seq_len,), dtype=tf.int32,  name=\"input_mask\"),\n",
        "    input_type_ids=tf.keras.layers.Input(shape=(max_seq_len,), dtype=tf.int32, name=\"input_type_ids\"),\n",
        ")\n",
        " \n",
        " net = bert_layer(encoder_inputs)['pooled_output']\n",
        "\n",
        " net = tf.keras.layers.Dropout(0.2)(net)\n",
        " net = tf.keras.layers.Dense(384, activation='ReLU', name='dense_384')(net)\n",
        " net = tf.keras.layers.Dropout(0.2)(net)\n",
        " net = tf.keras.layers.Dense(192, activation='ReLU', name='dense_192')(net)\n",
        " net = tf.keras.layers.Dropout(0.4)(net)\n",
        " output = tf.keras.layers.Dense(1, activation='sigmoid', name='classifier')(net)\n",
        "\n",
        " model = tf.keras.Model(\n",
        "     encoder_inputs,\n",
        "     outputs=output,\n",
        "     name='prediction'\n",
        " )\n",
        " return model"
      ],
      "execution_count": null,
      "outputs": []
    },
    {
      "cell_type": "markdown",
      "metadata": {
        "id": "HyRKSP2zwYyo"
      },
      "source": [
        "#Read TFRecord data"
      ]
    },
    {
      "cell_type": "code",
      "metadata": {
        "colab": {
          "base_uri": "https://localhost:8080/"
        },
        "id": "sFYhIMQxwy6k",
        "cellView": "form",
        "outputId": "b2f5d397-a5dc-4a2f-8283-09c8744eaee7"
      },
      "source": [
        "#@title  \"Load files & Split\"\n",
        "#instantiate read_data utility\n",
        "read_data = read_tfrec_data(tfrec_trainVal_files_path, VALIDATION_SPLIT=0.2, TESTING_SPLIT=0.0, MODE=1)\n",
        "\n",
        "# splitting data files between training, validation and test\n",
        "filenames, training_filenames, validation_filenames, testing_filenames = read_data.get_tfrec_files()\n",
        "num_train_examples = 500 * len(training_filenames)\n",
        "\n",
        "len(filenames), len(training_filenames), len(validation_filenames), len(testing_filenames)\n",
        "\n",
        "validation_steps = int(15572  // len(filenames) * len(validation_filenames)) // BATCH_SIZE\n",
        "steps_per_epoch = int(15572  // len(filenames) * len(training_filenames)) // BATCH_SIZE\n",
        "\n",
        "num_train_steps = steps_per_epoch * epochs\n",
        "num_warmup_steps = num_train_steps // 10\n",
        "\n",
        "print(\"With a batch size of {}, there will be {} batches per training epoch and {} batch(es) per validation run.\".format(BATCH_SIZE, steps_per_epoch, validation_steps))\n",
        "\n",
        "#instantiate read_data utility\n",
        "read_data = read_tfrec_data(tfrec_test_files_path, VALIDATION_SPLIT=0.0, TESTING_SPLIT=0.0, MODE=1)\n",
        "\n",
        "# splitting data files between training, validation and test\n",
        "testing_filenames, _, _,_ = read_data.get_tfrec_files()\n",
        "len(testing_filenames)"
      ],
      "execution_count": null,
      "outputs": [
        {
          "output_type": "stream",
          "text": [
            "Pattern matches 14 data files. Splitting dataset into 12 training files , 2 validation files and 0 test files\n",
            "With a batch size of 32, there will be 417 batches per training epoch and 69 batch(es) per validation run.\n",
            "Pattern matches 2 data files. Splitting dataset into 2 training files , 0 validation files and 0 test files\n"
          ],
          "name": "stdout"
        },
        {
          "output_type": "execute_result",
          "data": {
            "text/plain": [
              "2"
            ]
          },
          "metadata": {
            "tags": []
          },
          "execution_count": 33
        }
      ]
    },
    {
      "cell_type": "markdown",
      "metadata": {
        "id": "dexXAe2b0LQl"
      },
      "source": [
        "#Load TFRecord into TF Dataset"
      ]
    },
    {
      "cell_type": "code",
      "metadata": {
        "id": "5a2YkXiW0Osa"
      },
      "source": [
        "# create the datasets\n",
        "with tf.device('/cpu:0'):\n",
        "  train_ds = load_dataset(training_filenames)\n",
        "  val_ds = load_dataset(validation_filenames)\n",
        "  test_ds = load_dataset(testing_filenames)"
      ],
      "execution_count": null,
      "outputs": []
    },
    {
      "cell_type": "code",
      "metadata": {
        "colab": {
          "base_uri": "https://localhost:8080/"
        },
        "id": "81QxcdL40xMi",
        "outputId": "5a7b7a79-dace-4533-8581-10c36261acf3"
      },
      "source": [
        "for i,(text, class_num, label) in enumerate(train_ds.take(10)):\n",
        "  print(f\"text : {text.numpy()}, class : {class_num.numpy()}, label : {label.numpy()}\")"
      ],
      "execution_count": null,
      "outputs": [
        {
          "output_type": "stream",
          "text": [
            "text : b'faze clans most intense game yet leave a like if you enjoyed faze adapt merch snapchat adaptsnaps twitter instagram the faze house rain apex teeqo temperrr blaziken gamma labs discount code adapt scuf discount code adapt watch all my videos', class : 1, label : b'clickbaits'\n",
            "text : b'iphone and plus photo shoot on location in iceland apple s latest iphones are out in the world and the camera is one of their most talked about features so to see what the new devices can really do travel photographer austin mann went to iceland on a week long photography adventure he s been shooting in some incredible places in incredibly difficult conditions he s put both iphone and iphone plus to their ultimate test see more on the verge see more on austin s site subscribe check out our full video catalog visit our playlists like the verge on facebook follow on twitter follow on instagram read more', class : 0, label : b'nonclickbaits'\n",
            "text : b'gta new dlc new super cars release tomorrow more gta online gta new dlc new super cars release tomorrow more gta online help me get subscribers follow me on twitter snapchat laspycrammy follow me on instagram come take a look at some more gta gta online videos i post daily gta v dlc news or anything i think is interesting such as information for grand theft auto', class : 1, label : b'clickbaits'\n",
            "text : b'moto v review moto nd gen my go to smartwatch moto nd gen impressions video gear i use intro track', class : 0, label : b'nonclickbaits'\n",
            "text : b'florida police officer faces charges after shooting a man with his hands in the air police shot the unarmed therapist trying to help his autistic patient after responding to a report of a man with a gun', class : 0, label : b'nonclickbaits'\n",
            "text : b'nuclear chemistry crash course chemistry you can directly support crash course at subscribe for as little as to keep up with everything we re doing also if you can afford to pay a little every month it really helps us to continue producing great content in this episode hank welcomes you to the new age to the new age welcome to the new age here he ll talk about transmutation among elements isotopes calculating half life radioactive decay and spontaneous fission subbable message to crash course from shawn mike sophia and jake thank you for using humor while educating and inspiring table of contents radioactivity transmutation among elements and isotopes calculating half life radioactive decay spontaneous fission want to find crash course elsewhere on the internet facebook twitter tumblr support crashcourse on subbable', class : 0, label : b'nonclickbaits'\n",
            "text : b'my new gaming setup faze house how to join faze pc specs noise reduction noise reduction level optimize fans processor intel core i k ghz quad core cpu cooling advanced air cooling motherboard h chipset motherboard memory gb x gb ddr mhz primary hard drive samsung evo gb ssd read mb s write mb s secondary hard drive tb rpm graphics card nvidia geforce gtx gb graphics card cooling stock gpu cooler power supply watt power supply link to the pc razer contact music by follow me snapchat teeqofaze subscribe my apparel thanks for watching love you guys faze teeqo', class : 1, label : b'clickbaits'\n",
            "text : b'java programming tutorial public private and this facebook github google linkedin reddit support thenewboston twitter', class : 0, label : b'nonclickbaits'\n",
            "text : b'abnormally large airplanes that actually fly top of the biggest and most amazing planes jets and carriers you won t believe subscribe to our channel for copyright matters please contact us at david our social media facebook twitter instagram for more videos and articles visit', class : 1, label : b'clickbaits'\n",
            "text : b'justice neil gorsuch sworn in to supreme court abc news amna nawaz talks with former baltimore mayor stephanie rawlings blake terry moran and maryalice parks about the cases the new justice will face', class : 0, label : b'nonclickbaits'\n"
          ],
          "name": "stdout"
        }
      ]
    },
    {
      "cell_type": "code",
      "metadata": {
        "id": "Y9EYaEqFQKM5"
      },
      "source": [
        "with tf.device('/cpu:0'):\n",
        "  train_ds = train_ds.map(lambda text, class_num, label:(text, class_num))\n",
        "  val_ds = val_ds.map(lambda text, class_num, label:(text, class_num))\n",
        "  test_ds = test_ds.map(lambda text, class_num, label:(text, class_num))"
      ],
      "execution_count": null,
      "outputs": []
    },
    {
      "cell_type": "markdown",
      "metadata": {
        "id": "m4mlvS-W4TDx"
      },
      "source": [
        "#Modeling"
      ]
    },
    {
      "cell_type": "markdown",
      "metadata": {
        "id": "Y-C-yuTZILRE"
      },
      "source": [
        "##Bert preprocessing"
      ]
    },
    {
      "cell_type": "code",
      "metadata": {
        "id": "cVTejAUcINXW"
      },
      "source": [
        "with tf.device('/cpu:0'):\n",
        "  # train\n",
        "  train_data = train_ds.map(to_feature_map, num_parallel_calls=tf.data.experimental.AUTOTUNE)\n",
        "  train_data = get_batched_dataset(train_data, train=True)\n",
        "\n",
        "  # valid\n",
        "  val_data = val_ds.map(to_feature_map, num_parallel_calls=tf.data.experimental.AUTOTUNE)\n",
        "  val_data = get_batched_dataset(val_data)\n",
        "\n",
        "  # test\n",
        "  test_data = test_ds.map(to_feature_map, num_parallel_calls=tf.data.experimental.AUTOTUNE)\n",
        "  test_data = get_batched_dataset(test_data)\n",
        "  "
      ],
      "execution_count": null,
      "outputs": []
    },
    {
      "cell_type": "code",
      "metadata": {
        "colab": {
          "base_uri": "https://localhost:8080/"
        },
        "id": "waCLqUaWSbQY",
        "outputId": "8131e949-fc94-4b19-8a32-c7e69138527b"
      },
      "source": [
        "# train data spec\n",
        "train_data.element_spec"
      ],
      "execution_count": null,
      "outputs": [
        {
          "output_type": "execute_result",
          "data": {
            "text/plain": [
              "({'input_mask': TensorSpec(shape=(32, 128), dtype=tf.int32, name=None),\n",
              "  'input_type_ids': TensorSpec(shape=(32, 128), dtype=tf.int32, name=None),\n",
              "  'input_word_ids': TensorSpec(shape=(32, 128), dtype=tf.int32, name=None)},\n",
              " TensorSpec(shape=(32,), dtype=tf.int32, name=None))"
            ]
          },
          "metadata": {
            "tags": []
          },
          "execution_count": 38
        }
      ]
    },
    {
      "cell_type": "markdown",
      "metadata": {
        "id": "CsCwE3RZSi3e"
      },
      "source": [
        "#Build classifier"
      ]
    },
    {
      "cell_type": "code",
      "metadata": {
        "colab": {
          "base_uri": "https://localhost:8080/"
        },
        "id": "sHVKiVfzSkSl",
        "outputId": "3e4ba64a-7ad2-41ce-ee58-c0f7311072b3"
      },
      "source": [
        "classifier_model = create_model()\n",
        "classifier_model.summary()"
      ],
      "execution_count": null,
      "outputs": [
        {
          "output_type": "stream",
          "text": [
            "Model: \"prediction\"\n",
            "__________________________________________________________________________________________________\n",
            "Layer (type)                    Output Shape         Param #     Connected to                     \n",
            "==================================================================================================\n",
            "input_mask (InputLayer)         [(None, 128)]        0                                            \n",
            "__________________________________________________________________________________________________\n",
            "input_type_ids (InputLayer)     [(None, 128)]        0                                            \n",
            "__________________________________________________________________________________________________\n",
            "input_word_ids (InputLayer)     [(None, 128)]        0                                            \n",
            "__________________________________________________________________________________________________\n",
            "bert_encoder (KerasLayer)       {'pooled_output': (N 109482241   input_mask[0][0]                 \n",
            "                                                                 input_type_ids[0][0]             \n",
            "                                                                 input_word_ids[0][0]             \n",
            "__________________________________________________________________________________________________\n",
            "dropout_4 (Dropout)             (None, 768)          0           bert_encoder[4][13]              \n",
            "__________________________________________________________________________________________________\n",
            "dense_384 (Dense)               (None, 384)          295296      dropout_4[0][0]                  \n",
            "__________________________________________________________________________________________________\n",
            "dropout_5 (Dropout)             (None, 384)          0           dense_384[0][0]                  \n",
            "__________________________________________________________________________________________________\n",
            "dense_192 (Dense)               (None, 192)          73920       dropout_5[0][0]                  \n",
            "__________________________________________________________________________________________________\n",
            "dropout_6 (Dropout)             (None, 192)          0           dense_192[0][0]                  \n",
            "__________________________________________________________________________________________________\n",
            "classifier (Dense)              (None, 1)            193         dropout_6[0][0]                  \n",
            "==================================================================================================\n",
            "Total params: 109,851,650\n",
            "Trainable params: 109,851,649\n",
            "Non-trainable params: 1\n",
            "__________________________________________________________________________________________________\n"
          ],
          "name": "stdout"
        }
      ]
    },
    {
      "cell_type": "code",
      "metadata": {
        "id": "I0DDL0bciiAD",
        "colab": {
          "base_uri": "https://localhost:8080/",
          "height": 381
        },
        "outputId": "078ebb10-08fb-495e-8eff-4c85a4b7c2f4"
      },
      "source": [
        "es = tf.keras.callbacks.EarlyStopping(monitor='val_loss', \n",
        "                                        verbose=1, \n",
        "                                        patience=5, \n",
        "                                        mode='min', \n",
        "                                        restore_best_weights=True)\n",
        "\n",
        "mcb = tf.keras.callbacks.ModelCheckpoint(\n",
        "       filepath=model_checkpoint_path,\n",
        "       save_weights_only=True,\n",
        "       monitor='val_prc',\n",
        "       mode='max',\n",
        "       verbose=1,\n",
        "       save_best_only=True)\n",
        "\n",
        "METRICS = [\n",
        "                keras.metrics.TruePositives(name='tp'),\n",
        "                keras.metrics.FalsePositives(name='fp'),\n",
        "                keras.metrics.TrueNegatives(name='tn'),\n",
        "                keras.metrics.FalseNegatives(name='fn'), \n",
        "                keras.metrics.BinaryAccuracy(name='accuracy'),\n",
        "                keras.metrics.Precision(name='precision'),\n",
        "                keras.metrics.Recall(name='recall'),\n",
        "                keras.metrics.AUC(name='auc'),\n",
        "                keras.metrics.AUC(name='prc', curve='PR'), # precision-recall curve\n",
        "     ]\n",
        "\n",
        "optimizer = optimization.create_optimizer(\n",
        "      init_lr=init_lr,\n",
        "      num_train_steps=num_train_steps,\n",
        "      num_warmup_steps=num_warmup_steps,\n",
        "      optimizer_type='adamw')\n",
        "\n",
        "classifier_model.compile(optimizer=optimizer,\n",
        "              loss=tf.keras.losses.BinaryCrossentropy(), \n",
        "              metrics=METRICS)\n",
        "\n",
        "tf.keras.utils.plot_model(model=classifier_model, show_shapes=True, dpi=60)"
      ],
      "execution_count": null,
      "outputs": [
        {
          "output_type": "execute_result",
          "data": {
            "image/png": "[encoded data removed]",
            "text/plain": [
              "<IPython.core.display.Image object>"
            ]
          },
          "metadata": {
            "tags": []
          },
          "execution_count": 67
        }
      ]
    },
    {
      "cell_type": "code",
      "metadata": {
        "colab": {
          "base_uri": "https://localhost:8080/"
        },
        "id": "tGdyWpHUNQhK",
        "outputId": "0ef667c7-b358-4fd0-bc95-d92679fc7828"
      },
      "source": [
        "#Load weights if available\n",
        "\n",
        "if os.path.exists(checkpoint_root_path):\n",
        "  print('loading self weight')\n",
        "  classifier_model.load_weights(model_checkpoint_path)\n",
        "elif os.path.exists(stop_clickbait_checkpoint_root_path):\n",
        "  print('loading init weight')\n",
        "  classifier_model.load_weights(stop_clickbait_model_checkpoint_path)\n",
        "else:\n",
        "  print('No weight to initialize')"
      ],
      "execution_count": null,
      "outputs": [
        {
          "output_type": "stream",
          "text": [
            "loading init weight\n"
          ],
          "name": "stdout"
        }
      ]
    },
    {
      "cell_type": "markdown",
      "metadata": {
        "id": "t-l3hSAZjmAR"
      },
      "source": [
        "#Train classifier model"
      ]
    },
    {
      "cell_type": "code",
      "metadata": {
        "colab": {
          "base_uri": "https://localhost:8080/"
        },
        "id": "VN83npGrjnwd",
        "outputId": "78f827e3-b70a-4421-9d5c-e30a877b4322"
      },
      "source": [
        "history = classifier_model.fit(\n",
        "      x=train_data,\n",
        "      validation_data=val_data,\n",
        "      steps_per_epoch=steps_per_epoch,\n",
        "      epochs=2,\n",
        "      validation_steps=validation_steps,\n",
        "      callbacks=[es, mcb])"
      ],
      "execution_count": null,
      "outputs": [
        {
          "output_type": "stream",
          "text": [
            "Epoch 1/2\n",
            "417/417 [==============================] - 399s 906ms/step - loss: 0.2122 - tp: 5581.0000 - fp: 652.0000 - tn: 6525.0000 - fn: 586.0000 - accuracy: 0.9072 - precision: 0.8954 - recall: 0.9050 - auc: 0.9717 - prc: 0.9674 - val_loss: 0.0848 - val_tp: 818.0000 - val_fp: 19.0000 - val_tn: 1058.0000 - val_fn: 25.0000 - val_accuracy: 0.9771 - val_precision: 0.9773 - val_recall: 0.9703 - val_auc: 0.9934 - val_prc: 0.9920\n",
            "\n",
            "Epoch 00001: val_prc improved from -inf to 0.99195, saving model to /content/drive/MyDrive/Colab Notebooks/clcikbait_detection/dataset/YouTube_clickbait/saved_models/checkpoints/my_checkpoint\n",
            "Epoch 2/2\n",
            "417/417 [==============================] - 362s 868ms/step - loss: 0.0565 - tp: 6076.0000 - fp: 92.0000 - tn: 7040.0000 - fn: 136.0000 - accuracy: 0.9829 - precision: 0.9851 - recall: 0.9781 - auc: 0.9962 - prc: 0.9956\n"
          ],
          "name": "stdout"
        }
      ]
    },
    {
      "cell_type": "code",
      "metadata": {
        "id": "Qq21bsBY5zci"
      },
      "source": [
        "# Save model weights\n",
        "classifier_model.save_weights(model_checkpoint_path)"
      ],
      "execution_count": null,
      "outputs": []
    },
    {
      "cell_type": "markdown",
      "metadata": {
        "id": "il2faBB5uhbz"
      },
      "source": [
        "#Evaluate model"
      ]
    },
    {
      "cell_type": "code",
      "metadata": {
        "colab": {
          "base_uri": "https://localhost:8080/"
        },
        "id": "82Q5YKoQulNX",
        "outputId": "ffbda2cb-ab15-4fa0-9b3c-410e5a63c928"
      },
      "source": [
        "results = classifier_model.evaluate(test_data)\n",
        "\n",
        "for name, value in zip(classifier_model.metrics_names, results):\n",
        "  print(name, ': ', value)\n",
        "print()"
      ],
      "execution_count": null,
      "outputs": [
        {
          "output_type": "stream",
          "text": [
            "60/60 [==============================] - 20s 316ms/step - loss: 0.0919 - tp: 871.0000 - fp: 24.0000 - tn: 999.0000 - fn: 26.0000 - accuracy: 0.9740 - precision: 0.9732 - recall: 0.9710 - auc: 0.9943 - prc: 0.9924\n",
            "loss :  0.0919196829199791\n",
            "tp :  871.0\n",
            "fp :  24.0\n",
            "tn :  999.0\n",
            "fn :  26.0\n",
            "accuracy :  0.9739583134651184\n",
            "precision :  0.97318434715271\n",
            "recall :  0.9710144996643066\n",
            "auc :  0.9942759871482849\n",
            "prc :  0.9923546314239502\n",
            "\n"
          ],
          "name": "stdout"
        }
      ]
    },
    {
      "cell_type": "markdown",
      "metadata": {
        "id": "0hyxBLmuwTsg"
      },
      "source": [
        "#Export for inference"
      ]
    },
    {
      "cell_type": "code",
      "metadata": {
        "id": "EJ8OWWr6tPvX",
        "colab": {
          "base_uri": "https://localhost:8080/"
        },
        "outputId": "7bae0ddc-49f7-4604-83a5-668609da773e"
      },
      "source": [
        "classifier_model.save(saved_model_path, include_optimizer=False)"
      ],
      "execution_count": null,
      "outputs": [
        {
          "output_type": "stream",
          "text": [
            "WARNING:absl:Found untraced functions such as re_lu_12_layer_call_and_return_conditional_losses, re_lu_12_layer_call_fn, re_lu_13_layer_call_and_return_conditional_losses, re_lu_13_layer_call_fn, re_lu_12_layer_call_fn while saving (showing 5 of 925). These functions will not be directly callable after loading.\n"
          ],
          "name": "stderr"
        }
      ]
    }
  ]
}