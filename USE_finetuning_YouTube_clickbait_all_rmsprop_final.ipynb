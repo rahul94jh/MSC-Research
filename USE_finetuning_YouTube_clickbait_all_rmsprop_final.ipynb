{
  "nbformat": 4,
  "nbformat_minor": 0,
  "metadata": {
    "colab": {
      "name": "USE_finetuning_YouTube_clickbait_all_rmsprop.ipynb",
      "provenance": [],
      "collapsed_sections": [
        "KMTn9bhktYps",
        "cDzVIeTqtgHF",
        "HKcowprstl0r",
        "HWD2vnekDCr6",
        "fe8RMZlBoEVg",
        "Pvp9_oivD_QD",
        "HyRKSP2zwYyo",
        "dexXAe2b0LQl",
        "CsCwE3RZSi3e",
        "JB9jLSmmxlRX",
        "H6XKaUuaxqlk",
        "KGm28Sny7Wbg",
        "V3DsGFsKnteT",
        "36FvI_Jfnzm4",
        "yC6LVHAyn-hs"
      ],
      "include_colab_link": true
    },
    "kernelspec": {
      "name": "python3",
      "display_name": "Python 3"
    },
    "language_info": {
      "name": "python"
    },
    "accelerator": "GPU"
  },
  "cells": [
    {
      "cell_type": "markdown",
      "metadata": {
        "id": "view-in-github",
        "colab_type": "text"
      },
      "source": [
        "<a href=\"https://colab.research.google.com/github/rahul94jh/MSC-Research/blob/main/USE_finetuning_YouTube_clickbait_all_rmsprop_final.ipynb\" target=\"_parent\"><img src=\"https://colab.research.google.com/assets/colab-badge.svg\" alt=\"Open In Colab\"/></a>"
      ]
    },
    {
      "cell_type": "markdown",
      "metadata": {
        "id": "KMTn9bhktYps"
      },
      "source": [
        "#Setup"
      ]
    },
    {
      "cell_type": "code",
      "metadata": {
        "colab": {
          "base_uri": "https://localhost:8080/"
        },
        "id": "aXthlH4rRNk8",
        "outputId": "41964bfa-1d4d-400f-a664-4efecfd7270c"
      },
      "source": [
        "from google.colab import drive\n",
        "drive.mount('/content/drive')"
      ],
      "execution_count": 1,
      "outputs": [
        {
          "output_type": "stream",
          "text": [
            "Mounted at /content/drive\n"
          ],
          "name": "stdout"
        }
      ]
    },
    {
      "cell_type": "code",
      "metadata": {
        "colab": {
          "base_uri": "https://localhost:8080/"
        },
        "id": "U7pZ99IQqhKo",
        "outputId": "9e28405b-b840-4dc6-94d6-bd90bad1c4c8"
      },
      "source": [
        "#Check GPU, if assigned k8 then factory reset couple of times until we get Tesla GPU\n",
        "!nvidia-smi"
      ],
      "execution_count": 2,
      "outputs": [
        {
          "output_type": "stream",
          "text": [
            "Thu Jul 22 11:24:54 2021       \n",
            "+-----------------------------------------------------------------------------+\n",
            "| NVIDIA-SMI 470.42.01    Driver Version: 460.32.03    CUDA Version: 11.2     |\n",
            "|-------------------------------+----------------------+----------------------+\n",
            "| GPU  Name        Persistence-M| Bus-Id        Disp.A | Volatile Uncorr. ECC |\n",
            "| Fan  Temp  Perf  Pwr:Usage/Cap|         Memory-Usage | GPU-Util  Compute M. |\n",
            "|                               |                      |               MIG M. |\n",
            "|===============================+======================+======================|\n",
            "|   0  Tesla T4            Off  | 00000000:00:04.0 Off |                    0 |\n",
            "| N/A   44C    P8    10W /  70W |      0MiB / 15109MiB |      0%      Default |\n",
            "|                               |                      |                  N/A |\n",
            "+-------------------------------+----------------------+----------------------+\n",
            "                                                                               \n",
            "+-----------------------------------------------------------------------------+\n",
            "| Processes:                                                                  |\n",
            "|  GPU   GI   CI        PID   Type   Process name                  GPU Memory |\n",
            "|        ID   ID                                                   Usage      |\n",
            "|=============================================================================|\n",
            "|  No running processes found                                                 |\n",
            "+-----------------------------------------------------------------------------+\n"
          ],
          "name": "stdout"
        }
      ]
    },
    {
      "cell_type": "code",
      "metadata": {
        "colab": {
          "base_uri": "https://localhost:8080/"
        },
        "id": "73DTOjAUnKJO",
        "outputId": "9137a421-815a-4737-dbb2-5a6a054bd953"
      },
      "source": [
        "!pip install -q tensorflow-text\n",
        "!pip install -q tf-models-official"
      ],
      "execution_count": 3,
      "outputs": [
        {
          "output_type": "stream",
          "text": [
            "\u001b[K     |████████████████████████████████| 4.3 MB 8.2 MB/s \n",
            "\u001b[K     |████████████████████████████████| 1.6 MB 7.4 MB/s \n",
            "\u001b[K     |████████████████████████████████| 99 kB 7.4 MB/s \n",
            "\u001b[K     |████████████████████████████████| 54 kB 3.1 MB/s \n",
            "\u001b[K     |████████████████████████████████| 37.1 MB 42 kB/s \n",
            "\u001b[K     |████████████████████████████████| 1.2 MB 53.8 MB/s \n",
            "\u001b[K     |████████████████████████████████| 679 kB 40.3 MB/s \n",
            "\u001b[K     |████████████████████████████████| 43 kB 2.3 MB/s \n",
            "\u001b[K     |████████████████████████████████| 352 kB 50.3 MB/s \n",
            "\u001b[K     |████████████████████████████████| 211 kB 74.4 MB/s \n",
            "\u001b[K     |████████████████████████████████| 636 kB 39.9 MB/s \n",
            "\u001b[?25h  Building wheel for py-cpuinfo (setup.py) ... \u001b[?25l\u001b[?25hdone\n",
            "  Building wheel for seqeval (setup.py) ... \u001b[?25l\u001b[?25hdone\n"
          ],
          "name": "stdout"
        }
      ]
    },
    {
      "cell_type": "markdown",
      "metadata": {
        "id": "cDzVIeTqtgHF"
      },
      "source": [
        "#Imports"
      ]
    },
    {
      "cell_type": "code",
      "metadata": {
        "id": "4Q_MKLxE-7yz"
      },
      "source": [
        "import os, math\n",
        "import numpy as np\n",
        "import pandas as pd\n",
        "import requests\n",
        "import shutil\n",
        "import re\n",
        "from pathlib import Path\n",
        "import random\n",
        "import matplotlib as mpl\n",
        "from matplotlib import pyplot as plt\n",
        "import seaborn as sns\n",
        "\n",
        "from sklearn.metrics.pairwise import cosine_similarity\n",
        "from sklearn.metrics import roc_auc_score\n",
        "from sklearn.metrics import confusion_matrix\n",
        "from sklearn.metrics import accuracy_score\n",
        "from sklearn.metrics import precision_score\n",
        "from sklearn.metrics import recall_score\n",
        "from sklearn.metrics import f1_score\n",
        "from sklearn.metrics import cohen_kappa_score\n",
        "\n",
        "\n",
        "\n",
        "import tensorflow as tf\n",
        "import tensorflow_hub as hub\n",
        "import tensorflow_text as text\n",
        "import tensorflow_addons as tfa\n",
        "from tensorflow import keras\n",
        "from tensorflow.keras import layers\n",
        "from official.nlp.data import classifier_data_lib\n",
        "from official.nlp.bert import tokenization\n",
        "from official.nlp import optimization\n",
        "from keras.callbacks import ReduceLROnPlateau\n",
        "from tensorflow.keras.callbacks import LearningRateScheduler\n",
        "from tensorflow.keras.optimizers import SGD\n",
        "from tensorflow.keras.optimizers import RMSprop\n",
        "\n",
        "\n",
        "from tensorflow import keras\n",
        "from official.nlp import optimization  # to create AdamW optmizer\n",
        "AUTO = tf.data.experimental.AUTOTUNE # used in tf.data.Dataset API\n",
        "\n",
        "tf.get_logger().setLevel('ERROR')\n",
        "\n",
        "import sys\n",
        "\n",
        "#Import custom script\n",
        "sys.path.append('/content/drive/MyDrive/Colab Notebooks/clcikbait_detection/scripts')\n",
        "from tf_dataset_helpers import read_tfrec_data\n",
        "import model_helpers as mh\n",
        "import visualization_helpers as vh"
      ],
      "execution_count": 22,
      "outputs": []
    },
    {
      "cell_type": "code",
      "metadata": {
        "colab": {
          "base_uri": "https://localhost:8080/"
        },
        "id": "5RE9WE8LtUhd",
        "outputId": "ca8f52e9-621c-405e-ad3f-f180c4999a24"
      },
      "source": [
        "print(\"TF Version: \", tf.__version__)\n",
        "print(\"Eager mode: \", tf.executing_eagerly())\n",
        "print(\"Hub version: \", hub.__version__)\n",
        "print(\"GPU is\", \"available\" if tf.config.experimental.list_physical_devices(\"GPU\") else \"NOT AVAILABLE\")"
      ],
      "execution_count": 5,
      "outputs": [
        {
          "output_type": "stream",
          "text": [
            "TF Version:  2.5.0\n",
            "Eager mode:  True\n",
            "Hub version:  0.12.0\n",
            "GPU is available\n"
          ],
          "name": "stdout"
        }
      ]
    },
    {
      "cell_type": "markdown",
      "metadata": {
        "id": "HKcowprstl0r"
      },
      "source": [
        "#Configs"
      ]
    },
    {
      "cell_type": "markdown",
      "metadata": {
        "id": "HWD2vnekDCr6"
      },
      "source": [
        "##Sentence encoder configs"
      ]
    },
    {
      "cell_type": "code",
      "metadata": {
        "id": "GTNn3LRp7DfR"
      },
      "source": [
        "encoder = hub.load('https://tfhub.dev/google/universal-sentence-encoder/4')\n",
        "USE_layer = hub.KerasLayer(\n",
        "    encoder,\n",
        "    input_shape=[],\n",
        "    dtype=tf.string, \n",
        "    trainable=True, name='USE_embedding')"
      ],
      "execution_count": 6,
      "outputs": []
    },
    {
      "cell_type": "markdown",
      "metadata": {
        "id": "fe8RMZlBoEVg"
      },
      "source": [
        "##General config"
      ]
    },
    {
      "cell_type": "code",
      "metadata": {
        "id": "v9DLhbQrtnGd"
      },
      "source": [
        "tfrec_trainVal_files_path = '/content/drive/MyDrive/Colab Notebooks/clcikbait_detection/dataset/YouTube_clickbait/tfrec_data/train_val/'\n",
        "tfrec_test_files_path = '/content/drive/MyDrive/Colab Notebooks/clcikbait_detection/dataset/YouTube_clickbait/tfrec_data/test/'\n",
        "stop_clickbait_tfrecFiles_path = '/content/drive/MyDrive/Colab Notebooks/clcikbait_detection/dataset/Stop_clickbait/tfrec_data/'\n",
        "fvc_clickbait_tfrecFiles_path = '/content/drive/MyDrive/Colab Notebooks/clcikbait_detection/dataset/FVC_CORPUS/tfrec_data/'\n",
        "tfrec_benchmark_files_path = '/content/drive/MyDrive/Colab Notebooks/clcikbait_detection/dataset/invid_fake_video_v2/tfrec_data/'\n",
        "\n",
        "model_root_path = '/content/drive/MyDrive/Colab Notebooks/clcikbait_detection/dataset/YouTube_clickbait/saved_models'\n",
        "saved_model_name = f'youtube_clickbait_finetuned_USE_all'\n",
        "saved_model_path = os.path.join(model_root_path, saved_model_name )\n",
        "\n",
        "checkpoint_root_path = '/content/drive/MyDrive/Colab Notebooks/clcikbait_detection/dataset/YouTube_clickbait/checkpoints/youtube_clickbait_finetuned_USE_all'\n",
        "if not os.path.exists(checkpoint_root_path):\n",
        "    os.makedirs(checkpoint_root_path)\n",
        "model_checkpoint_path = os.path.join(checkpoint_root_path, f'youtube_clickbait_finetuned_USE_all_checkpoint' )\n",
        "\n",
        "\n",
        "BATCH_SIZE = 32  \n",
        "# Label categories\n",
        "label_list = [0,1]\n",
        "\n",
        "init_lr = 1e-2\n",
        "\n",
        "epochs = 30"
      ],
      "execution_count": 7,
      "outputs": []
    },
    {
      "cell_type": "markdown",
      "metadata": {
        "id": "Pvp9_oivD_QD"
      },
      "source": [
        "#Scripts"
      ]
    },
    {
      "cell_type": "code",
      "metadata": {
        "id": "7e62N59Ttk60",
        "cellView": "form"
      },
      "source": [
        "#@title \"Utilities [TF Dataset]\"\n",
        "def read_tfrecord(example):\n",
        "    features = {\n",
        "        \"class\": tf.io.FixedLenFeature([], tf.int64),   # shape [] means scalar\n",
        "        \"text\": tf.io.FixedLenFeature([], tf.string),\n",
        "        \"label\": tf.io.FixedLenFeature([], tf.string)  # one bytestring\n",
        "    }\n",
        "    # decode the TFRecord\n",
        "    example = tf.io.parse_single_example(example, features)\n",
        "    \n",
        "    \n",
        "    class_num = example['class']\n",
        "    text = example['text']\n",
        "    label  = example['label']\n",
        "    return text, class_num, label\n",
        "\n",
        "def load_dataset(filenames):\n",
        "  option_no_order = tf.data.Options()\n",
        "  option_no_order.experimental_deterministic = False\n",
        "\n",
        "  dataset = tf.data.TFRecordDataset(filenames, num_parallel_reads=AUTO)\n",
        "  dataset = dataset.with_options(option_no_order)\n",
        "  dataset = dataset.map(read_tfrecord, num_parallel_calls=AUTO)\n",
        "  return dataset\n",
        "\n",
        "def get_batched_dataset(dataset, train=False):\n",
        "  if train:\n",
        "    dataset = dataset.shuffle(num_train_examples)\n",
        "  dataset = dataset.batch(BATCH_SIZE, drop_remainder=True)\n",
        "  dataset = dataset.cache().prefetch(AUTO) # prefetch next batch while training (autotune prefetch buffer size)\n",
        "  return dataset"
      ],
      "execution_count": 8,
      "outputs": []
    },
    {
      "cell_type": "code",
      "metadata": {
        "id": "ADXfSXSIWGpt",
        "cellView": "form"
      },
      "source": [
        "#@title \"Utilities [Create Model Definition]\"\n",
        "def create_model():\n",
        "\n",
        " model = tf.keras.models.Sequential()\n",
        " model.add(USE_layer)\n",
        " model.add(tf.keras.layers.Dropout(0.2))\n",
        " model.add(tf.keras.layers.Dense(128, activation='relu'))\n",
        " model.add(tf.keras.layers.BatchNormalization())\n",
        " model.add(tf.keras.layers.Dropout(0.2))\n",
        " model.add(tf.keras.layers.Dense(1, activation='sigmoid'))\n",
        " return model"
      ],
      "execution_count": 9,
      "outputs": []
    },
    {
      "cell_type": "code",
      "metadata": {
        "id": "maZRzNq8zhiW",
        "cellView": "form"
      },
      "source": [
        "#@title \"Utilities [Model prediction]\"\n",
        "def get_metrics(y_test, y_pred):\n",
        "    # accuracy: (tp + tn) / (p + n)\n",
        "    accuracy = accuracy_score(y_test, y_pred)\n",
        "    print('Accuracy: %f' % accuracy)\n",
        "    # precision tp / (tp + fp)\n",
        "    precision = precision_score(y_test, y_pred)\n",
        "    print('Precision: %f' % precision)\n",
        "    # recall: tp / (tp + fn)\n",
        "    recall = recall_score(y_test, y_pred)\n",
        "    print('Recall: %f' % recall)\n",
        "    # f1: 2 tp / (2 tp + fp + fn)\n",
        "    f1 = f1_score(y_test, y_pred)\n",
        "    print('F1 score: %f' % f1)\n",
        "    # ROC AUC\n",
        "    auc = roc_auc_score(y_test, y_pred)\n",
        "    print('ROC AUC: %f' % auc)\n",
        "    # confusion matrix\n",
        "    matrix = confusion_matrix(y_test, y_pred)\n",
        "    print(matrix)\n",
        "\n",
        "def predict_on_test_dataset(model, test_data, BATCH_SIZE=32):\n",
        "  y_true=[]\n",
        "  \n",
        "  for text_feat, labels in test_data:\n",
        "    for i in range(BATCH_SIZE):\n",
        "      y_true.append(labels[i].numpy())\n",
        "\n",
        "\n",
        "  predicted_scores  = model.predict(test_data)\n",
        "  y_pred = (predicted_scores > 0.5).astype(\"int32\")\n",
        "  y_pred = y_pred.reshape(-1)\n",
        "  get_metrics(y_true, y_pred)\n",
        "  vh.plot_cm(y_true, predicted_scores)\n",
        "  print()"
      ],
      "execution_count": 10,
      "outputs": []
    },
    {
      "cell_type": "code",
      "metadata": {
        "id": "Dqg_9QR7hfk_",
        "cellView": "form"
      },
      "source": [
        "#@title \"Utilities [Visualization]\"\n",
        "def plot_graphs(history, metric):\n",
        "  plt.plot(history.history[metric])\n",
        "  plt.plot(history.history['val_'+metric], '')\n",
        "  plt.xlabel(\"Epochs\")\n",
        "  plt.ylabel(metric)\n",
        "  plt.legend([metric, 'val_'+metric])"
      ],
      "execution_count": 11,
      "outputs": []
    },
    {
      "cell_type": "code",
      "metadata": {
        "id": "zwICLvt03qG3",
        "cellView": "form"
      },
      "source": [
        "#@title \"Utilities [Gradient function]\"\n",
        "#https://keras.io/examples/vision/gradient_centralization/#implement-gradient-centralization\n",
        "from tensorflow.keras.optimizers import RMSprop\n",
        "class GCRMSprop(RMSprop):\n",
        "    def get_gradients(self, loss, params):\n",
        "        # We here just provide a modified get_gradients() function since we are\n",
        "        # trying to just compute the centralized gradients.\n",
        "\n",
        "        grads = []\n",
        "        gradients = super().get_gradients()\n",
        "        for grad in gradients:\n",
        "            grad_len = len(grad.shape)\n",
        "            if grad_len > 1:\n",
        "                axis = list(range(grad_len - 1))\n",
        "                grad -= tf.reduce_mean(grad, axis=axis, keep_dims=True)\n",
        "            grads.append(grad)\n",
        "\n",
        "        return grads"
      ],
      "execution_count": 12,
      "outputs": []
    },
    {
      "cell_type": "code",
      "metadata": {
        "cellView": "form",
        "id": "Efk_JNd49M5_"
      },
      "source": [
        "#@title \"Utilities [LR Scheduler]\"\n",
        "class LearningRateDecay:\n",
        "\tdef plot(self, epochs, title=\"Learning Rate Schedule\"):\n",
        "\t\t# compute the set of learning rates for each corresponding\n",
        "\t\t# epoch\n",
        "\t\tlrs = [self(i) for i in epochs]\n",
        "\t\t# the learning rate schedule\n",
        "\t\tplt.style.use(\"ggplot\")\n",
        "\t\tplt.figure()\n",
        "\t\tplt.plot(epochs, lrs)\n",
        "\t\tplt.title(title)\n",
        "\t\tplt.xlabel(\"Epoch #\")\n",
        "\t\tplt.ylabel(\"Learning Rate\")\n",
        "\n",
        "class StepDecay(LearningRateDecay):\n",
        "\tdef __init__(self, initAlpha=0.01, factor=0.25, dropEvery=10):\n",
        "\t\t# store the base initial learning rate, drop factor, and\n",
        "\t\t# epochs to drop every\n",
        "\t\tself.initAlpha = initAlpha\n",
        "\t\tself.factor = factor\n",
        "\t\tself.dropEvery = dropEvery\n",
        "\tdef __call__(self, epoch):\n",
        "\t\t# compute the learning rate for the current epoch\n",
        "\t\texp = np.floor((1 + epoch) / self.dropEvery)\n",
        "\t\talpha = self.initAlpha * (self.factor ** exp)\n",
        "\t\t# return the learning rate\n",
        "\t\treturn float(alpha)\n",
        "\n",
        "class PolynomialDecay(LearningRateDecay):\n",
        "\tdef __init__(self, maxEpochs=100, initAlpha=0.01, power=1.0):\n",
        "\t\t# store the maximum number of epochs, base learning rate,\n",
        "\t\t# and power of the polynomial\n",
        "\t\tself.maxEpochs = maxEpochs\n",
        "\t\tself.initAlpha = initAlpha\n",
        "\t\tself.power = power\n",
        "\tdef __call__(self, epoch):\n",
        "\t\t# compute the new learning rate based on polynomial decay\n",
        "\t\tdecay = (1 - (epoch / float(self.maxEpochs))) ** self.power\n",
        "\t\talpha = self.initAlpha * decay\n",
        "\t\t# return the new learning rate\n",
        "\t\treturn float(alpha)"
      ],
      "execution_count": 13,
      "outputs": []
    },
    {
      "cell_type": "markdown",
      "metadata": {
        "id": "HyRKSP2zwYyo"
      },
      "source": [
        "#Read TFRecord data"
      ]
    },
    {
      "cell_type": "code",
      "metadata": {
        "colab": {
          "base_uri": "https://localhost:8080/"
        },
        "id": "sFYhIMQxwy6k",
        "outputId": "a2f7c231-217e-4814-e7e4-324bca413989"
      },
      "source": [
        "#@title  \"Load files & Split into Train and Val\"\n",
        "\n",
        "# read tfrec files from disk storage\n",
        "read_YouTube_data = read_tfrec_data(tfrec_trainVal_files_path, VALIDATION_SPLIT=0.2, TESTING_SPLIT=0.0, MODE=1)\n",
        "\n",
        "read_stop_clickbait_data = read_tfrec_data(stop_clickbait_tfrecFiles_path, VALIDATION_SPLIT=0.2, TESTING_SPLIT=0.0, MODE=1)\n",
        "\n",
        "read_fvc_clickbait_data = read_tfrec_data(fvc_clickbait_tfrecFiles_path, VALIDATION_SPLIT=0.2, TESTING_SPLIT=0.0, MODE=1)\n",
        "\n",
        "# splitting data files between training, validation and test\n",
        "YouTube_filenames, YouTube_training_filenames, YouTube_validation_filenames, YouTube_testing_filenames = read_YouTube_data.get_tfrec_files()\n",
        "\n",
        "stop_clickbait_filenames, stop_clickbait_training_filenames,stop_clickbait_validation_filenames, stop_clickbait_testing_filenames = read_stop_clickbait_data.get_tfrec_files()\n",
        "\n",
        "fvc_filenames, fvc_training_filenames, fvc_validation_filenames, fvc_testing_filenames = read_fvc_clickbait_data.get_tfrec_files()\n",
        "\n",
        "\n",
        "filenames = YouTube_filenames + stop_clickbait_filenames + fvc_filenames\n",
        "training_filenames = YouTube_training_filenames + stop_clickbait_training_filenames + fvc_training_filenames\n",
        "validation_filenames = YouTube_validation_filenames + stop_clickbait_validation_filenames + fvc_validation_filenames\n",
        "\n",
        "random.shuffle(filenames)\n",
        "random.shuffle(training_filenames)\n",
        "random.shuffle(validation_filenames)\n",
        "\n",
        "print(f'Length FileNames : {len(filenames)} Length Training FileNames : {len(training_filenames)} Length Validation FileNames : {len(validation_filenames)}')\n",
        "\n",
        "num_train_examples = 974 * len(YouTube_training_filenames) + 500 * len(stop_clickbait_training_filenames) + 100 * len(fvc_training_filenames)\n",
        "num_total_examples = 974 * len(YouTube_filenames) + 500 * len(stop_clickbait_filenames) + 100 * len(fvc_filenames)\n",
        "\n",
        "validation_steps = int(num_total_examples  // len(filenames) * len(validation_filenames)) // BATCH_SIZE\n",
        "steps_per_epoch = int(num_total_examples  // len(filenames) * len(training_filenames)) // BATCH_SIZE\n",
        "\n",
        "num_train_steps = steps_per_epoch * epochs\n",
        "num_warmup_steps = num_train_steps // 10\n",
        "\n",
        "print(\"With a batch size of {}, there will be {} batches per training epoch and {} batch(es) per validation run.\".format(BATCH_SIZE, steps_per_epoch, validation_steps))\n",
        "\n"
      ],
      "execution_count": 14,
      "outputs": [
        {
          "output_type": "stream",
          "text": [
            "Pattern matches 14 data files. Splitting dataset into 12 training files , 2 validation files and 0 test files\n",
            "Pattern matches 64 data files. Splitting dataset into 52 training files , 12 validation files and 0 test files\n",
            "Pattern matches 16 data files. Splitting dataset into 13 training files , 3 validation files and 0 test files\n",
            "Length FileNames : 94 Length Training FileNames : 77 Length Validation FileNames : 17\n",
            "With a batch size of 32, there will be 1207 batches per training epoch and 266 batch(es) per validation run.\n"
          ],
          "name": "stdout"
        }
      ]
    },
    {
      "cell_type": "code",
      "metadata": {
        "colab": {
          "base_uri": "https://localhost:8080/"
        },
        "id": "EnFB1lF5p65f",
        "outputId": "c1933138-02bc-4ca3-b616-6e0138251b95"
      },
      "source": [
        "#@title  \"Load Test and Benchmarking files\"\n",
        "read_test_data = read_tfrec_data(tfrec_test_files_path, VALIDATION_SPLIT=0.0, TESTING_SPLIT=0.0, MODE=1) # Used only for testing\n",
        "read_benchmark_data = read_tfrec_data(tfrec_benchmark_files_path, VALIDATION_SPLIT=0.0, TESTING_SPLIT=0.0, MODE=1) # Used only for benchmarking\n",
        "\n",
        "\n",
        "testing_filenames, _, _,_ = read_test_data.get_tfrec_files()\n",
        "benchmarking_filenames, _, _,_ = read_benchmark_data.get_tfrec_files()\n",
        "\n",
        "len(testing_filenames), len(benchmarking_filenames)"
      ],
      "execution_count": 15,
      "outputs": [
        {
          "output_type": "stream",
          "text": [
            "Pattern matches 2 data files. Splitting dataset into 2 training files , 0 validation files and 0 test files\n",
            "Pattern matches 4 data files. Splitting dataset into 4 training files , 0 validation files and 0 test files\n"
          ],
          "name": "stdout"
        },
        {
          "output_type": "execute_result",
          "data": {
            "text/plain": [
              "(2, 4)"
            ]
          },
          "metadata": {
            "tags": []
          },
          "execution_count": 15
        }
      ]
    },
    {
      "cell_type": "markdown",
      "metadata": {
        "id": "dexXAe2b0LQl"
      },
      "source": [
        "#Load TFRecord into TF Dataset"
      ]
    },
    {
      "cell_type": "code",
      "metadata": {
        "id": "5a2YkXiW0Osa"
      },
      "source": [
        "# create the TF datasets\n",
        "with tf.device('/cpu:0'):\n",
        "  train_ds = load_dataset(training_filenames)\n",
        "  val_ds = load_dataset(validation_filenames)\n",
        "  test_ds = load_dataset(testing_filenames)\n",
        "  benchmark_ds = load_dataset(benchmarking_filenames)"
      ],
      "execution_count": 16,
      "outputs": []
    },
    {
      "cell_type": "code",
      "metadata": {
        "colab": {
          "base_uri": "https://localhost:8080/"
        },
        "id": "81QxcdL40xMi",
        "outputId": "fa101bb0-1079-4d7f-8a0e-d62786c883ca"
      },
      "source": [
        "for i,(text, class_num, label) in enumerate(train_ds.take(10)):\n",
        "  print(f\"text : {text.numpy()}, class : {class_num.numpy()}, label : {label.numpy()}\")"
      ],
      "execution_count": 17,
      "outputs": [
        {
          "output_type": "stream",
          "text": [
            "text : b'the associated press accidentally linked to an amazing sassy cat video', class : 1, label : b'clickbaits'\n",
            "text : b'leaked online uk home office non disclosure agreement with id card companies', class : 0, label : b'nonclickbaits'\n",
            "text : b'depressingly real struggles of dating in generation text', class : 1, label : b'clickbaits'\n",
            "text : b'cypriot court begins greek air disaster trial', class : 0, label : b'nonclickbaits'\n",
            "text : b'do you actually remember what cereal mascots look like', class : 1, label : b'clickbaits'\n",
            "text : b'london zoological society reports on health of planet earth', class : 0, label : b'nonclickbaits'\n",
            "text : b'why what s up is the most awkward question in existence', class : 1, label : b'clickbaits'\n",
            "text : b'cigarette butts tiny trash that piles up', class : 0, label : b'nonclickbaits'\n",
            "text : b'suicide car bomber kills seven in kohat pakistan', class : 0, label : b'nonclickbaits'\n",
            "text : b'aubrey plaza tried to play with robert de niro s nipples but did not succeed', class : 1, label : b'clickbaits'\n"
          ],
          "name": "stdout"
        }
      ]
    },
    {
      "cell_type": "code",
      "metadata": {
        "id": "Y9EYaEqFQKM5"
      },
      "source": [
        "# We need only Text and numeric Label from the dataset\n",
        "with tf.device('/cpu:0'):\n",
        "  train_ds = train_ds.map(lambda text, class_num, label:(text, class_num))\n",
        "  val_ds = val_ds.map(lambda text, class_num, label:(text, class_num))\n",
        "  test_ds = test_ds.map(lambda text, class_num, label:(text, class_num))\n",
        "  benchmark_ds = benchmark_ds.map(lambda text, class_num, label:(text, class_num))"
      ],
      "execution_count": 18,
      "outputs": []
    },
    {
      "cell_type": "code",
      "metadata": {
        "colab": {
          "base_uri": "https://localhost:8080/"
        },
        "id": "cRpJwphml5xA",
        "outputId": "5580c208-e4d8-48ec-eed6-773ae39311ac"
      },
      "source": [
        "train_ds.element_spec, val_ds.element_spec, test_ds.element_spec, benchmark_ds.element_spec"
      ],
      "execution_count": 19,
      "outputs": [
        {
          "output_type": "execute_result",
          "data": {
            "text/plain": [
              "((TensorSpec(shape=(), dtype=tf.string, name=None),\n",
              "  TensorSpec(shape=(), dtype=tf.int64, name=None)),\n",
              " (TensorSpec(shape=(), dtype=tf.string, name=None),\n",
              "  TensorSpec(shape=(), dtype=tf.int64, name=None)),\n",
              " (TensorSpec(shape=(), dtype=tf.string, name=None),\n",
              "  TensorSpec(shape=(), dtype=tf.int64, name=None)),\n",
              " (TensorSpec(shape=(), dtype=tf.string, name=None),\n",
              "  TensorSpec(shape=(), dtype=tf.int64, name=None)))"
            ]
          },
          "metadata": {
            "tags": []
          },
          "execution_count": 19
        }
      ]
    },
    {
      "cell_type": "code",
      "metadata": {
        "id": "RYCy7RJVfZWN"
      },
      "source": [
        "with tf.device('/cpu:0'):\n",
        "  train_ds = get_batched_dataset(train_ds, train=True)\n",
        "  val_ds = get_batched_dataset(val_ds)\n",
        "  test_ds = get_batched_dataset(test_ds)\n",
        "  benchmark_ds = get_batched_dataset(benchmark_ds)"
      ],
      "execution_count": 20,
      "outputs": []
    },
    {
      "cell_type": "markdown",
      "metadata": {
        "id": "m4mlvS-W4TDx"
      },
      "source": [
        "#Modeling"
      ]
    },
    {
      "cell_type": "markdown",
      "metadata": {
        "id": "CsCwE3RZSi3e"
      },
      "source": [
        "##Build classifier"
      ]
    },
    {
      "cell_type": "code",
      "metadata": {
        "colab": {
          "base_uri": "https://localhost:8080/"
        },
        "id": "sHVKiVfzSkSl",
        "outputId": "b78fb088-2259-4850-8e23-d898c14cf85a"
      },
      "source": [
        "classifier_model = create_model()\n",
        "classifier_model.summary()"
      ],
      "execution_count": 23,
      "outputs": [
        {
          "output_type": "stream",
          "text": [
            "Model: \"sequential_1\"\n",
            "_________________________________________________________________\n",
            "Layer (type)                 Output Shape              Param #   \n",
            "=================================================================\n",
            "USE_embedding (KerasLayer)   (None, 512)               256797824 \n",
            "_________________________________________________________________\n",
            "dropout_2 (Dropout)          (None, 512)               0         \n",
            "_________________________________________________________________\n",
            "dense_2 (Dense)              (None, 128)               65664     \n",
            "_________________________________________________________________\n",
            "batch_normalization_1 (Batch (None, 128)               512       \n",
            "_________________________________________________________________\n",
            "dropout_3 (Dropout)          (None, 128)               0         \n",
            "_________________________________________________________________\n",
            "dense_3 (Dense)              (None, 1)                 129       \n",
            "=================================================================\n",
            "Total params: 256,864,129\n",
            "Trainable params: 256,863,873\n",
            "Non-trainable params: 256\n",
            "_________________________________________________________________\n"
          ],
          "name": "stdout"
        }
      ]
    },
    {
      "cell_type": "markdown",
      "metadata": {
        "id": "t-l3hSAZjmAR"
      },
      "source": [
        "##Train classifier model"
      ]
    },
    {
      "cell_type": "markdown",
      "metadata": {
        "id": "JB9jLSmmxlRX"
      },
      "source": [
        "###Compile model"
      ]
    },
    {
      "cell_type": "code",
      "metadata": {
        "colab": {
          "base_uri": "https://localhost:8080/",
          "height": 478
        },
        "id": "jT4HWvMbweSY",
        "outputId": "01952fc0-8697-4ec0-b036-8d6c30c25df7"
      },
      "source": [
        "es = tf.keras.callbacks.EarlyStopping(\n",
        "          monitor='val_loss', \n",
        "          verbose=1, \n",
        "          patience=5, \n",
        "          mode='min', \n",
        "          restore_best_weights=True\n",
        "          )\n",
        "\n",
        "mcb = tf.keras.callbacks.ModelCheckpoint (\n",
        "         filepath=model_checkpoint_path,\n",
        "         save_weights_only=True,\n",
        "         monitor='val_loss',\n",
        "         mode='min',\n",
        "         verbose=1,\n",
        "         save_best_only=True\n",
        "        )\n",
        "\n",
        "METRICS = [\n",
        "             keras.metrics.TruePositives(name='tp'),\n",
        "             keras.metrics.FalsePositives(name='fp'),\n",
        "             keras.metrics.TrueNegatives(name='tn'),\n",
        "             keras.metrics.FalseNegatives(name='fn'), \n",
        "             keras.metrics.BinaryAccuracy(name='accuracy'),\n",
        "             keras.metrics.Precision(name='precision'),\n",
        "             keras.metrics.Recall(name='recall'),\n",
        "             keras.metrics.AUC(name='auc'),\n",
        "             keras.metrics.AUC(name='prc', curve='PR'), # precision-recall curve\n",
        "          ]\n",
        "\n",
        "#optimizer = optimization.create_optimizer(\n",
        "#      init_lr=init_lr,\n",
        "#      num_train_steps=num_train_steps,\n",
        "#      num_warmup_steps=num_warmup_steps,\n",
        "#      optimizer_type='adamw'\n",
        "#      )\n",
        "\n",
        "lr_schedule = tf.keras.optimizers.schedules.ExponentialDecay(\n",
        "    init_lr,\n",
        "    decay_steps=num_train_steps,\n",
        "    decay_rate=0.90,\n",
        "    staircase=False)\n",
        "\n",
        "optimizer=tf.keras.optimizers.RMSprop(learning_rate=lr_schedule)\n",
        "\n",
        "classifier_model.compile(\n",
        "    optimizer=optimizer,\n",
        "    loss=tf.keras.losses.BinaryCrossentropy(), \n",
        "    metrics=METRICS\n",
        "    )\n",
        "\n",
        "tf.keras.utils.plot_model(model=classifier_model, show_shapes=True, dpi=60)"
      ],
      "execution_count": 26,
      "outputs": [
        {
          "output_type": "execute_result",
          "data": {
            "image/png": "[encoded data removed]",
            "text/plain": [
              "<IPython.core.display.Image object>"
            ]
          },
          "metadata": {
            "tags": []
          },
          "execution_count": 26
        }
      ]
    },
    {
      "cell_type": "markdown",
      "metadata": {
        "id": "H6XKaUuaxqlk"
      },
      "source": [
        "###Train"
      ]
    },
    {
      "cell_type": "code",
      "metadata": {
        "colab": {
          "base_uri": "https://localhost:8080/"
        },
        "id": "5m2m1rm9mpns",
        "cellView": "form",
        "outputId": "191e615a-94be-4895-b194-ac28a8d38191"
      },
      "source": [
        "#@title Load Model weights if available\n",
        "#if os.path.exists(checkpoint_root_path) & len(os.listdir(checkpoint_root_path))>0:\n",
        "#  print('loading saved weight')\n",
        "#  classifier_model.load_weights(model_checkpoint_path)\n",
        "#else:\n",
        "#  print('No weight to initialize') "
      ],
      "execution_count": 22,
      "outputs": [
        {
          "output_type": "stream",
          "text": [
            "No weight to initialize\n"
          ],
          "name": "stdout"
        }
      ]
    },
    {
      "cell_type": "code",
      "metadata": {
        "colab": {
          "base_uri": "https://localhost:8080/"
        },
        "id": "VN83npGrjnwd",
        "outputId": "f3632b7e-a9d2-4983-da8f-8f7b0f7d6d84"
      },
      "source": [
        "history = classifier_model.fit(\n",
        "             x=train_ds,\n",
        "             validation_data=val_ds,\n",
        "             epochs=epochs,\n",
        "             callbacks=[es, mcb]\n",
        "             )"
      ],
      "execution_count": 27,
      "outputs": [
        {
          "output_type": "stream",
          "text": [
            "Epoch 1/30\n",
            "1217/1217 [==============================] - 121s 79ms/step - loss: 0.1810 - tp: 17798.0000 - fp: 1134.0000 - tn: 18660.0000 - fn: 1352.0000 - accuracy: 0.9362 - precision: 0.9401 - recall: 0.9294 - auc: 0.9774 - prc: 0.9765 - val_loss: 0.1158 - val_tp: 3811.0000 - val_fp: 83.0000 - val_tn: 4132.0000 - val_fn: 198.0000 - val_accuracy: 0.9658 - val_precision: 0.9787 - val_recall: 0.9506 - val_auc: 0.9899 - val_prc: 0.9896\n",
            "\n",
            "Epoch 00001: val_loss improved from inf to 0.11580, saving model to /content/drive/MyDrive/Colab Notebooks/clcikbait_detection/dataset/YouTube_clickbait/checkpoints/youtube_clickbait_finetuned_USE_all/youtube_clickbait_finetuned_USE_all_checkpoint\n",
            "Epoch 2/30\n",
            "1217/1217 [==============================] - 92s 76ms/step - loss: 0.0738 - tp: 18780.0000 - fp: 322.0000 - tn: 19472.0000 - fn: 370.0000 - accuracy: 0.9822 - precision: 0.9831 - recall: 0.9807 - auc: 0.9920 - prc: 0.9900 - val_loss: 0.1051 - val_tp: 3849.0000 - val_fp: 101.0000 - val_tn: 4114.0000 - val_fn: 160.0000 - val_accuracy: 0.9683 - val_precision: 0.9744 - val_recall: 0.9601 - val_auc: 0.9898 - val_prc: 0.9894\n",
            "\n",
            "Epoch 00002: val_loss improved from 0.11580 to 0.10508, saving model to /content/drive/MyDrive/Colab Notebooks/clcikbait_detection/dataset/YouTube_clickbait/checkpoints/youtube_clickbait_finetuned_USE_all/youtube_clickbait_finetuned_USE_all_checkpoint\n",
            "Epoch 3/30\n",
            "1217/1217 [==============================] - 102s 84ms/step - loss: 0.0585 - tp: 18847.0000 - fp: 250.0000 - tn: 19544.0000 - fn: 303.0000 - accuracy: 0.9858 - precision: 0.9869 - recall: 0.9842 - auc: 0.9944 - prc: 0.9931 - val_loss: 0.1328 - val_tp: 3821.0000 - val_fp: 124.0000 - val_tn: 4091.0000 - val_fn: 188.0000 - val_accuracy: 0.9621 - val_precision: 0.9686 - val_recall: 0.9531 - val_auc: 0.9871 - val_prc: 0.9862\n",
            "\n",
            "Epoch 00003: val_loss did not improve from 0.10508\n",
            "Epoch 4/30\n",
            "1217/1217 [==============================] - 92s 76ms/step - loss: 0.0501 - tp: 18950.0000 - fp: 211.0000 - tn: 19583.0000 - fn: 200.0000 - accuracy: 0.9894 - precision: 0.9890 - recall: 0.9896 - auc: 0.9950 - prc: 0.9936 - val_loss: 0.1173 - val_tp: 3851.0000 - val_fp: 103.0000 - val_tn: 4112.0000 - val_fn: 158.0000 - val_accuracy: 0.9683 - val_precision: 0.9740 - val_recall: 0.9606 - val_auc: 0.9899 - val_prc: 0.9868\n",
            "\n",
            "Epoch 00004: val_loss did not improve from 0.10508\n",
            "Epoch 5/30\n",
            "1217/1217 [==============================] - 88s 72ms/step - loss: 0.0442 - tp: 18961.0000 - fp: 172.0000 - tn: 19622.0000 - fn: 189.0000 - accuracy: 0.9907 - precision: 0.9910 - recall: 0.9901 - auc: 0.9957 - prc: 0.9944 - val_loss: 0.1037 - val_tp: 3846.0000 - val_fp: 88.0000 - val_tn: 4127.0000 - val_fn: 163.0000 - val_accuracy: 0.9695 - val_precision: 0.9776 - val_recall: 0.9593 - val_auc: 0.9927 - val_prc: 0.9911\n",
            "\n",
            "Epoch 00005: val_loss improved from 0.10508 to 0.10373, saving model to /content/drive/MyDrive/Colab Notebooks/clcikbait_detection/dataset/YouTube_clickbait/checkpoints/youtube_clickbait_finetuned_USE_all/youtube_clickbait_finetuned_USE_all_checkpoint\n",
            "Epoch 6/30\n",
            "1217/1217 [==============================] - 106s 87ms/step - loss: 0.0388 - tp: 18995.0000 - fp: 138.0000 - tn: 19656.0000 - fn: 155.0000 - accuracy: 0.9925 - precision: 0.9928 - recall: 0.9919 - auc: 0.9962 - prc: 0.9953 - val_loss: 0.1462 - val_tp: 3837.0000 - val_fp: 78.0000 - val_tn: 4137.0000 - val_fn: 172.0000 - val_accuracy: 0.9696 - val_precision: 0.9801 - val_recall: 0.9571 - val_auc: 0.9842 - val_prc: 0.9848\n",
            "\n",
            "Epoch 00006: val_loss did not improve from 0.10373\n",
            "Epoch 7/30\n",
            "1217/1217 [==============================] - 89s 73ms/step - loss: 0.0397 - tp: 19008.0000 - fp: 143.0000 - tn: 19651.0000 - fn: 142.0000 - accuracy: 0.9927 - precision: 0.9925 - recall: 0.9926 - auc: 0.9959 - prc: 0.9944 - val_loss: 0.1550 - val_tp: 3831.0000 - val_fp: 92.0000 - val_tn: 4123.0000 - val_fn: 178.0000 - val_accuracy: 0.9672 - val_precision: 0.9765 - val_recall: 0.9556 - val_auc: 0.9834 - val_prc: 0.9848\n",
            "\n",
            "Epoch 00007: val_loss did not improve from 0.10373\n",
            "Epoch 8/30\n",
            "1217/1217 [==============================] - 88s 72ms/step - loss: 0.0359 - tp: 19051.0000 - fp: 135.0000 - tn: 19659.0000 - fn: 99.0000 - accuracy: 0.9940 - precision: 0.9930 - recall: 0.9948 - auc: 0.9959 - prc: 0.9941 - val_loss: 0.1456 - val_tp: 3890.0000 - val_fp: 131.0000 - val_tn: 4084.0000 - val_fn: 119.0000 - val_accuracy: 0.9696 - val_precision: 0.9674 - val_recall: 0.9703 - val_auc: 0.9792 - val_prc: 0.9739\n",
            "\n",
            "Epoch 00008: val_loss did not improve from 0.10373\n",
            "Epoch 9/30\n",
            "1217/1217 [==============================] - 89s 73ms/step - loss: 0.0355 - tp: 19047.0000 - fp: 130.0000 - tn: 19664.0000 - fn: 103.0000 - accuracy: 0.9940 - precision: 0.9932 - recall: 0.9946 - auc: 0.9962 - prc: 0.9944 - val_loss: 0.1690 - val_tp: 3832.0000 - val_fp: 91.0000 - val_tn: 4124.0000 - val_fn: 177.0000 - val_accuracy: 0.9674 - val_precision: 0.9768 - val_recall: 0.9558 - val_auc: 0.9803 - val_prc: 0.9815\n",
            "\n",
            "Epoch 00009: val_loss did not improve from 0.10373\n",
            "Epoch 10/30\n",
            "1217/1217 [==============================] - 88s 73ms/step - loss: 0.0342 - tp: 19045.0000 - fp: 114.0000 - tn: 19680.0000 - fn: 105.0000 - accuracy: 0.9944 - precision: 0.9940 - recall: 0.9945 - auc: 0.9962 - prc: 0.9949 - val_loss: 0.1414 - val_tp: 3864.0000 - val_fp: 100.0000 - val_tn: 4115.0000 - val_fn: 145.0000 - val_accuracy: 0.9702 - val_precision: 0.9748 - val_recall: 0.9638 - val_auc: 0.9815 - val_prc: 0.9797\n",
            "Restoring model weights from the end of the best epoch.\n",
            "\n",
            "Epoch 00010: val_loss did not improve from 0.10373\n",
            "Epoch 00010: early stopping\n"
          ],
          "name": "stdout"
        }
      ]
    },
    {
      "cell_type": "code",
      "metadata": {
        "id": "Qq21bsBY5zci"
      },
      "source": [
        "# Save model weights\n",
        "#classifier_model.save_weights(model_checkpoint_path)"
      ],
      "execution_count": 24,
      "outputs": []
    },
    {
      "cell_type": "markdown",
      "metadata": {
        "id": "KGm28Sny7Wbg"
      },
      "source": [
        "#Plot train history"
      ]
    },
    {
      "cell_type": "code",
      "metadata": {
        "id": "de9jdjsl83rU",
        "colab": {
          "base_uri": "https://localhost:8080/",
          "height": 621
        },
        "outputId": "0d05dcfb-602f-4623-c8a4-1df309cecb05"
      },
      "source": [
        "vh.display_training_curves(history.history['accuracy'], history.history['val_accuracy'], 'accuracy', 211)\n",
        "vh.display_training_curves(history.history['loss'], history.history['val_loss'], 'loss', 212)"
      ],
      "execution_count": 36,
      "outputs": [
        {
          "output_type": "display_data",
          "data": {
            "image/png": "[encoded data removed]",
            "text/plain": [
              "<Figure size 720x720 with 2 Axes>"
            ]
          },
          "metadata": {
            "tags": []
          }
        }
      ]
    },
    {
      "cell_type": "code",
      "metadata": {
        "id": "bMtvCGsZ89PT",
        "colab": {
          "base_uri": "https://localhost:8080/",
          "height": 621
        },
        "outputId": "40f1fe46-80d6-4cb5-e274-c841e5f5b9af"
      },
      "source": [
        "vh.display_training_curves(history.history['recall'], history.history['val_recall'], 'recall', 211)\n",
        "vh.display_training_curves(history.history['precision'], history.history['val_precision'], 'precision', 212)"
      ],
      "execution_count": 37,
      "outputs": [
        {
          "output_type": "display_data",
          "data": {
            "image/png": "[encoded data removed]",
            "text/plain": [
              "<Figure size 720x720 with 2 Axes>"
            ]
          },
          "metadata": {
            "tags": []
          }
        }
      ]
    },
    {
      "cell_type": "markdown",
      "metadata": {
        "id": "u3EcfqHpnb7M"
      },
      "source": [
        "# Model Inference\n",
        "We have trained the classifier, now let's use the trained model to infer the test dataset. Beside the test dataset, we also have benchmark dataset that we would also to see the eefectiveness of our model over benchmark dataset on predicting the clickbait's."
      ]
    },
    {
      "cell_type": "markdown",
      "metadata": {
        "id": "wUbL6y3Qnowd"
      },
      "source": [
        "##Model Evaluation"
      ]
    },
    {
      "cell_type": "markdown",
      "metadata": {
        "id": "V3DsGFsKnteT"
      },
      "source": [
        "###Evaluate Classifier on Test set"
      ]
    },
    {
      "cell_type": "code",
      "metadata": {
        "id": "f3RkZKpanwB6",
        "colab": {
          "base_uri": "https://localhost:8080/"
        },
        "outputId": "44290131-fdea-4d44-846c-fd28471f9ff2"
      },
      "source": [
        "results_test_set = classifier_model.evaluate(test_ds)\n",
        "\n",
        "for name, value in zip(classifier_model.metrics_names, results_test_set):\n",
        "  print(name, ': ', value)\n",
        "print()"
      ],
      "execution_count": 38,
      "outputs": [
        {
          "output_type": "stream",
          "text": [
            "60/60 [==============================] - 1s 24ms/step - loss: 0.1157 - tp: 877.0000 - fp: 39.0000 - tn: 984.0000 - fn: 20.0000 - accuracy: 0.9693 - precision: 0.9574 - recall: 0.9777 - auc: 0.9908 - prc: 0.9852\n",
            "loss :  0.1156805232167244\n",
            "tp :  877.0\n",
            "fp :  39.0\n",
            "tn :  984.0\n",
            "fn :  20.0\n",
            "accuracy :  0.9692708253860474\n",
            "precision :  0.9574235677719116\n",
            "recall :  0.9777034521102905\n",
            "auc :  0.9908143281936646\n",
            "prc :  0.9852361679077148\n",
            "\n"
          ],
          "name": "stdout"
        }
      ]
    },
    {
      "cell_type": "markdown",
      "metadata": {
        "id": "36FvI_Jfnzm4"
      },
      "source": [
        "### Evaluate Classifier on Benchmarking set"
      ]
    },
    {
      "cell_type": "code",
      "metadata": {
        "id": "sksFha2Jn2ax",
        "colab": {
          "base_uri": "https://localhost:8080/"
        },
        "outputId": "e93b2176-c3fd-4782-9ef7-075ff81529b2"
      },
      "source": [
        "results_benchmarking_set = classifier_model.evaluate(benchmark_ds)\n",
        "\n",
        "for name, value in zip(classifier_model.metrics_names, results_benchmarking_set):\n",
        "  print(name, ': ', value)\n",
        "print()"
      ],
      "execution_count": 39,
      "outputs": [
        {
          "output_type": "stream",
          "text": [
            "5/5 [==============================] - 0s 25ms/step - loss: 0.5843 - tp: 62.0000 - fp: 3.0000 - tn: 63.0000 - fn: 32.0000 - accuracy: 0.7812 - precision: 0.9538 - recall: 0.6596 - auc: 0.9559 - prc: 0.9581\n",
            "loss :  0.5843353867530823\n",
            "tp :  62.0\n",
            "fp :  3.0\n",
            "tn :  63.0\n",
            "fn :  32.0\n",
            "accuracy :  0.78125\n",
            "precision :  0.9538461565971375\n",
            "recall :  0.6595744490623474\n",
            "auc :  0.9559155106544495\n",
            "prc :  0.9581376910209656\n",
            "\n"
          ],
          "name": "stdout"
        }
      ]
    },
    {
      "cell_type": "markdown",
      "metadata": {
        "id": "yC6LVHAyn-hs"
      },
      "source": [
        "##Export Model for inference"
      ]
    },
    {
      "cell_type": "code",
      "metadata": {
        "id": "DHOU2aiyoCKy"
      },
      "source": [
        "#classifier_model.save(saved_model_path, include_optimizer=False)"
      ],
      "execution_count": 40,
      "outputs": []
    },
    {
      "cell_type": "markdown",
      "metadata": {
        "id": "Qoh5oCeBoFSB"
      },
      "source": [
        "##Model prediction"
      ]
    },
    {
      "cell_type": "code",
      "metadata": {
        "id": "oHG0fmpQoHuJ"
      },
      "source": [
        "#saved_classifier = keras.models.load_model(saved_model_path)"
      ],
      "execution_count": 41,
      "outputs": []
    },
    {
      "cell_type": "markdown",
      "metadata": {
        "id": "q2_erN4OoLL5"
      },
      "source": [
        "### Prediction for Test set"
      ]
    },
    {
      "cell_type": "code",
      "metadata": {
        "id": "4qZegAuroQHP",
        "colab": {
          "base_uri": "https://localhost:8080/",
          "height": 588
        },
        "outputId": "0b87ee63-6792-4036-990e-b9bb19fcad97"
      },
      "source": [
        "predict_on_test_dataset(classifier_model, test_ds, BATCH_SIZE=BATCH_SIZE)"
      ],
      "execution_count": 42,
      "outputs": [
        {
          "output_type": "stream",
          "text": [
            "Accuracy: 0.969271\n",
            "Precision: 0.957424\n",
            "Recall: 0.977703\n",
            "F1 score: 0.967457\n",
            "ROC AUC: 0.969790\n",
            "[[984  39]\n",
            " [ 20 877]]\n",
            "Non clickbaits Detected (True Negatives):  984\n",
            "Non-Clickbaits Detected as Clickbaits (False Positives):  39\n",
            "Clickbaits Detected as Non-clickbaits (False Negatives):  20\n",
            "Clickbaits Detected (True Positives):  877\n",
            "Total Non-clickbaits:  1023\n",
            "Total Clickbaits:  897\n",
            "\n"
          ],
          "name": "stdout"
        },
        {
          "output_type": "display_data",
          "data": {
            "image/png": "[encoded data removed]",
            "text/plain": [
              "<Figure size 360x360 with 2 Axes>"
            ]
          },
          "metadata": {
            "tags": [],
            "needs_background": "light"
          }
        }
      ]
    },
    {
      "cell_type": "markdown",
      "metadata": {
        "id": "Ldte4xEboU8H"
      },
      "source": [
        "### Prediction for Benchmarking set"
      ]
    },
    {
      "cell_type": "code",
      "metadata": {
        "id": "H2V6xTcFoWbm",
        "colab": {
          "base_uri": "https://localhost:8080/",
          "height": 588
        },
        "outputId": "05977a4a-13a4-4db9-fb2d-8cb25fa18b58"
      },
      "source": [
        "predict_on_test_dataset(classifier_model, benchmark_ds, BATCH_SIZE=BATCH_SIZE)"
      ],
      "execution_count": 43,
      "outputs": [
        {
          "output_type": "stream",
          "text": [
            "Accuracy: 0.781250\n",
            "Precision: 0.953846\n",
            "Recall: 0.659574\n",
            "F1 score: 0.779874\n",
            "ROC AUC: 0.807060\n",
            "[[63  3]\n",
            " [32 62]]\n",
            "Non clickbaits Detected (True Negatives):  63\n",
            "Non-Clickbaits Detected as Clickbaits (False Positives):  3\n",
            "Clickbaits Detected as Non-clickbaits (False Negatives):  32\n",
            "Clickbaits Detected (True Positives):  62\n",
            "Total Non-clickbaits:  66\n",
            "Total Clickbaits:  94\n",
            "\n"
          ],
          "name": "stdout"
        },
        {
          "output_type": "display_data",
          "data": {
            "image/png": "[encoded data removed]",
            "text/plain": [
              "<Figure size 360x360 with 2 Axes>"
            ]
          },
          "metadata": {
            "tags": [],
            "needs_background": "light"
          }
        }
      ]
    }
  ]
}