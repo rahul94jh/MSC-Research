{
  "nbformat": 4,
  "nbformat_minor": 0,
  "metadata": {
    "colab": {
      "name": "bert_finetuning_YouTube_clickbait_domain_adaption_all.ipynb",
      "provenance": [],
      "collapsed_sections": [
        "KMTn9bhktYps",
        "cDzVIeTqtgHF",
        "HWD2vnekDCr6",
        "Pvp9_oivD_QD",
        "HyRKSP2zwYyo",
        "dexXAe2b0LQl",
        "Y-C-yuTZILRE",
        "CsCwE3RZSi3e",
        "KGm28Sny7Wbg",
        "0hyxBLmuwTsg",
        "vL_bcJVrlr1p"
      ],
      "mount_file_id": "1qvE2gWl17bTlw-5T6y8Leo82KRYsoFKk",
      "authorship_tag": "ABX9TyNVAomL+xXm6+8NAmrThH1l",
      "include_colab_link": true
    },
    "kernelspec": {
      "name": "python3",
      "display_name": "Python 3"
    },
    "language_info": {
      "name": "python"
    },
    "accelerator": "GPU"
  },
  "cells": [
    {
      "cell_type": "markdown",
      "metadata": {
        "id": "view-in-github",
        "colab_type": "text"
      },
      "source": [
        "<a href=\"https://colab.research.google.com/github/rahul94jh/MSC-Research/blob/main/bert_finetuning_YouTube_clickbait_domain_adaption_all.ipynb\" target=\"_parent\"><img src=\"https://colab.research.google.com/assets/colab-badge.svg\" alt=\"Open In Colab\"/></a>"
      ]
    },
    {
      "cell_type": "markdown",
      "metadata": {
        "id": "KMTn9bhktYps"
      },
      "source": [
        "#Setup"
      ]
    },
    {
      "cell_type": "code",
      "metadata": {
        "colab": {
          "base_uri": "https://localhost:8080/"
        },
        "id": "U7pZ99IQqhKo",
        "outputId": "1ec0ab8e-5a3d-4b09-a5b6-6a83e2396e67"
      },
      "source": [
        "#Check GPU, if assigned k8 then factory reset couple of times until we get Tesla GPU\n",
        "!nvidia-smi"
      ],
      "execution_count": 1,
      "outputs": [
        {
          "output_type": "stream",
          "text": [
            "Tue Jul 20 07:52:44 2021       \n",
            "+-----------------------------------------------------------------------------+\n",
            "| NVIDIA-SMI 470.42.01    Driver Version: 460.32.03    CUDA Version: 11.2     |\n",
            "|-------------------------------+----------------------+----------------------+\n",
            "| GPU  Name        Persistence-M| Bus-Id        Disp.A | Volatile Uncorr. ECC |\n",
            "| Fan  Temp  Perf  Pwr:Usage/Cap|         Memory-Usage | GPU-Util  Compute M. |\n",
            "|                               |                      |               MIG M. |\n",
            "|===============================+======================+======================|\n",
            "|   0  Tesla T4            Off  | 00000000:00:04.0 Off |                    0 |\n",
            "| N/A   39C    P8     9W /  70W |      0MiB / 15109MiB |      0%      Default |\n",
            "|                               |                      |                  N/A |\n",
            "+-------------------------------+----------------------+----------------------+\n",
            "                                                                               \n",
            "+-----------------------------------------------------------------------------+\n",
            "| Processes:                                                                  |\n",
            "|  GPU   GI   CI        PID   Type   Process name                  GPU Memory |\n",
            "|        ID   ID                                                   Usage      |\n",
            "|=============================================================================|\n",
            "|  No running processes found                                                 |\n",
            "+-----------------------------------------------------------------------------+\n"
          ],
          "name": "stdout"
        }
      ]
    },
    {
      "cell_type": "code",
      "metadata": {
        "colab": {
          "base_uri": "https://localhost:8080/"
        },
        "id": "73DTOjAUnKJO",
        "outputId": "1d485a2a-2e90-45be-e86d-0193949d2324"
      },
      "source": [
        "!pip install -q tensorflow-text\n",
        "!pip install -q tf-models-official"
      ],
      "execution_count": 2,
      "outputs": [
        {
          "output_type": "stream",
          "text": [
            "\u001b[K     |████████████████████████████████| 4.3 MB 32.6 MB/s \n",
            "\u001b[K     |████████████████████████████████| 1.6 MB 35.4 MB/s \n",
            "\u001b[K     |████████████████████████████████| 99 kB 11.2 MB/s \n",
            "\u001b[K     |████████████████████████████████| 54 kB 3.8 MB/s \n",
            "\u001b[K     |████████████████████████████████| 636 kB 66.0 MB/s \n",
            "\u001b[K     |████████████████████████████████| 1.2 MB 67.2 MB/s \n",
            "\u001b[K     |████████████████████████████████| 352 kB 64.6 MB/s \n",
            "\u001b[K     |████████████████████████████████| 679 kB 65.7 MB/s \n",
            "\u001b[K     |████████████████████████████████| 211 kB 66.3 MB/s \n",
            "\u001b[K     |████████████████████████████████| 43 kB 2.2 MB/s \n",
            "\u001b[K     |████████████████████████████████| 37.1 MB 47 kB/s \n",
            "\u001b[?25h  Building wheel for py-cpuinfo (setup.py) ... \u001b[?25l\u001b[?25hdone\n",
            "  Building wheel for seqeval (setup.py) ... \u001b[?25l\u001b[?25hdone\n"
          ],
          "name": "stdout"
        }
      ]
    },
    {
      "cell_type": "markdown",
      "metadata": {
        "id": "cDzVIeTqtgHF"
      },
      "source": [
        "#Imports"
      ]
    },
    {
      "cell_type": "code",
      "metadata": {
        "id": "4Q_MKLxE-7yz",
        "colab": {
          "base_uri": "https://localhost:8080/"
        },
        "outputId": "bd680d31-7519-4917-9b14-4f7900ae5a25"
      },
      "source": [
        "import os, math\n",
        "import numpy as np\n",
        "import pandas as pd\n",
        "import requests\n",
        "import shutil\n",
        "import re\n",
        "from pathlib import Path\n",
        "import random\n",
        "import matplotlib as mpl\n",
        "from matplotlib import pyplot as plt\n",
        "import seaborn as sns\n",
        "\n",
        "from sklearn.metrics.pairwise import cosine_similarity\n",
        "from sklearn.metrics import roc_auc_score\n",
        "from sklearn.metrics import confusion_matrix\n",
        "from sklearn.metrics import accuracy_score\n",
        "from sklearn.metrics import precision_score\n",
        "from sklearn.metrics import recall_score\n",
        "from sklearn.metrics import f1_score\n",
        "from sklearn.metrics import cohen_kappa_score\n",
        "\n",
        "\n",
        "import tensorflow as tf\n",
        "import tensorflow_hub as hub\n",
        "import tensorflow_text as text\n",
        "import tensorflow_addons as tfa\n",
        "from official.nlp.data import classifier_data_lib\n",
        "from official.nlp.bert import tokenization\n",
        "from official.nlp import optimization\n",
        "\n",
        "\n",
        "from tensorflow import keras\n",
        "from official.nlp import optimization  # to create AdamW optmizer\n",
        "AUTO = tf.data.experimental.AUTOTUNE # used in tf.data.Dataset API\n",
        "\n",
        "tf.get_logger().setLevel('ERROR')\n",
        "\n",
        "import sys\n",
        "\n",
        "#Import custom script\n",
        "sys.path.append('/content/drive/MyDrive/Colab Notebooks/clcikbait_detection/scripts')\n",
        "from tf_dataset_helpers import read_tfrec_data\n",
        "import model_helpers as mh\n",
        "import visualization_helpers as vh"
      ],
      "execution_count": 3,
      "outputs": [
        {
          "output_type": "stream",
          "text": [
            "/usr/local/lib/python3.7/dist-packages/tensorflow/python/keras/optimizer_v2/optimizer_v2.py:375: UserWarning: The `lr` argument is deprecated, use `learning_rate` instead.\n",
            "  \"The `lr` argument is deprecated, use `learning_rate` instead.\")\n"
          ],
          "name": "stderr"
        }
      ]
    },
    {
      "cell_type": "code",
      "metadata": {
        "colab": {
          "base_uri": "https://localhost:8080/"
        },
        "id": "5RE9WE8LtUhd",
        "outputId": "e1b91bbc-45bd-4bd4-d703-301c686e65aa"
      },
      "source": [
        "print(\"TF Version: \", tf.__version__)\n",
        "print(\"Eager mode: \", tf.executing_eagerly())\n",
        "print(\"Hub version: \", hub.__version__)\n",
        "print(\"GPU is\", \"available\" if tf.config.experimental.list_physical_devices(\"GPU\") else \"NOT AVAILABLE\")"
      ],
      "execution_count": 4,
      "outputs": [
        {
          "output_type": "stream",
          "text": [
            "TF Version:  2.5.0\n",
            "Eager mode:  True\n",
            "Hub version:  0.12.0\n",
            "GPU is available\n"
          ],
          "name": "stdout"
        }
      ]
    },
    {
      "cell_type": "markdown",
      "metadata": {
        "id": "HKcowprstl0r"
      },
      "source": [
        "#Configs"
      ]
    },
    {
      "cell_type": "markdown",
      "metadata": {
        "id": "HWD2vnekDCr6"
      },
      "source": [
        "##Bert configs"
      ]
    },
    {
      "cell_type": "code",
      "metadata": {
        "id": "GTNn3LRp7DfR",
        "cellView": "form"
      },
      "source": [
        "#@title \"Model mappings\"\n",
        "bert_model_name = 'bert_en_uncased_L-12_H-768_A-12' \n",
        "\n",
        "map_name_to_handle = {\n",
        "    'bert_en_uncased_L-12_H-768_A-12':\n",
        "        'https://tfhub.dev/tensorflow/bert_en_uncased_L-12_H-768_A-12/4',\n",
        "    'bert_en_cased_L-12_H-768_A-12':\n",
        "        'https://tfhub.dev/tensorflow/bert_en_cased_L-12_H-768_A-12/4'\n",
        "}"
      ],
      "execution_count": 5,
      "outputs": []
    },
    {
      "cell_type": "code",
      "metadata": {
        "colab": {
          "base_uri": "https://localhost:8080/"
        },
        "id": "DSjQAbWngdd6",
        "cellView": "form",
        "outputId": "f072a85a-9c2f-4040-a752-2c9bd3439f79"
      },
      "source": [
        "#@title \"Bert pretrained model downlaod\"\n",
        "tfhub_handle_encoder = map_name_to_handle[bert_model_name]\n",
        "\n",
        "print('BERT model selected           :', tfhub_handle_encoder)\n",
        "\n",
        "bert_layer = hub.KerasLayer(tfhub_handle_encoder, trainable=True, name='bert_encoder')\n",
        "vocab_file = bert_layer.resolved_object.vocab_file.asset_path.numpy()\n",
        "do_lower_case = bert_layer.resolved_object.do_lower_case.numpy()\n",
        "bert_tokenizer = tokenization.FullTokenizer(vocab_file, do_lower_case)"
      ],
      "execution_count": 6,
      "outputs": [
        {
          "output_type": "stream",
          "text": [
            "BERT model selected           : https://tfhub.dev/tensorflow/bert_en_uncased_L-12_H-768_A-12/4\n"
          ],
          "name": "stdout"
        }
      ]
    },
    {
      "cell_type": "markdown",
      "metadata": {
        "id": "fe8RMZlBoEVg"
      },
      "source": [
        "##General config"
      ]
    },
    {
      "cell_type": "code",
      "metadata": {
        "id": "v9DLhbQrtnGd"
      },
      "source": [
        "tfrec_trainVal_files_path = '/content/drive/MyDrive/Colab Notebooks/clcikbait_detection/dataset/YouTube_clickbait/tfrec_data/train_val/'\n",
        "tfrec_test_files_path = '/content/drive/MyDrive/Colab Notebooks/clcikbait_detection/dataset/YouTube_clickbait/tfrec_data/test/'\n",
        "stop_clickbait_tfrecFiles_path = '/content/drive/MyDrive/Colab Notebooks/clcikbait_detection/dataset/Stop_clickbait/tfrec_data/'\n",
        "fvc_clickbait_tfrecFiles_path = '/content/drive/MyDrive/Colab Notebooks/clcikbait_detection/dataset/FVC_CORPUS/tfrec_data/'\n",
        "tfrec_benchmark_files_path = '/content/drive/MyDrive/Colab Notebooks/clcikbait_detection/dataset/invid_fake_video_v2/tfrec_data/'\n",
        "\n",
        "model_root_path = '/content/drive/MyDrive/Colab Notebooks/clcikbait_detection/dataset/YouTube_clickbait/saved_models'\n",
        "saved_model_name = f'youtube_clickbait_finetuned_domain_adapted_all_{bert_model_name}'\n",
        "saved_model_name_dense = f'youtube_clickbait_finetuned_domain_adapted_dense_all_{bert_model_name}'\n",
        "saved_model_path = os.path.join(model_root_path, saved_model_name )\n",
        "saved_model_path_dense = os.path.join(model_root_path, saved_model_name_dense )\n",
        "\n",
        "checkpoint_root_path = '/content/drive/MyDrive/Colab Notebooks/clcikbait_detection/dataset/YouTube_clickbait/checkpoints/youtube_clickbait_finetuned_domain_adapted_all'\n",
        "checkpoint_root_path_dense = '/content/drive/MyDrive/Colab Notebooks/clcikbait_detection/dataset/YouTube_clickbait/checkpoints/youtube_clickbait_finetuned_domain_adapted_all'\n",
        "if not os.path.exists(checkpoint_root_path):\n",
        "    os.makedirs(checkpoint_root_path)\n",
        "\n",
        "if not os.path.exists(checkpoint_root_path_dense):\n",
        "    os.makedirs(checkpoint_root_path_dense)\n",
        "\n",
        "model_checkpoint_path = os.path.join(checkpoint_root_path, f'{bert_model_name}_checkpoint' )\n",
        "model_checkpoint_path_dense = os.path.join(checkpoint_root_path_dense, f'{bert_model_name}_checkpoint' )\n",
        "\n",
        "\n",
        "BATCH_SIZE = 64  \n",
        "# Label categories\n",
        "label_list = [0,1]\n",
        "# maximum length of (token) input sequences\n",
        "max_seq_len = 128\n",
        "init_lr = 2e-5\n",
        "\n",
        "epochs = 15"
      ],
      "execution_count": 7,
      "outputs": []
    },
    {
      "cell_type": "markdown",
      "metadata": {
        "id": "Pvp9_oivD_QD"
      },
      "source": [
        "#Scripts"
      ]
    },
    {
      "cell_type": "code",
      "metadata": {
        "id": "7e62N59Ttk60",
        "cellView": "form"
      },
      "source": [
        "#@title \"Utilities [TF Dataset]\"\n",
        "def read_tfrecord(example):\n",
        "    features = {\n",
        "        \"class\": tf.io.FixedLenFeature([], tf.int64),   # shape [] means scalar\n",
        "        \"text\": tf.io.FixedLenFeature([], tf.string),\n",
        "        \"label\": tf.io.FixedLenFeature([], tf.string)  # one bytestring\n",
        "    }\n",
        "    # decode the TFRecord\n",
        "    example = tf.io.parse_single_example(example, features)\n",
        "    \n",
        "    \n",
        "    class_num = example['class']\n",
        "    text = example['text']\n",
        "    label  = example['label']\n",
        "    return text, class_num, label\n",
        "\n",
        "def load_dataset(filenames):\n",
        "  option_no_order = tf.data.Options()\n",
        "  option_no_order.experimental_deterministic = False\n",
        "\n",
        "  dataset = tf.data.TFRecordDataset(filenames, num_parallel_reads=AUTO)\n",
        "  dataset = dataset.with_options(option_no_order)\n",
        "  dataset = dataset.map(read_tfrecord, num_parallel_calls=AUTO)\n",
        "  return dataset\n",
        "\n",
        "def get_batched_dataset(dataset, train=False):\n",
        "  if train:\n",
        "    dataset = dataset.shuffle(num_train_examples)\n",
        "  dataset = dataset.batch(BATCH_SIZE, drop_remainder=True)\n",
        "  dataset = dataset.cache().prefetch(AUTO) # prefetch next batch while training (autotune prefetch buffer size)\n",
        "  return dataset"
      ],
      "execution_count": 8,
      "outputs": []
    },
    {
      "cell_type": "code",
      "metadata": {
        "id": "8NzGu2hUKfnA",
        "cellView": "form"
      },
      "source": [
        "#@title \"Utilities [Map bert preprocessing to Dataset]\"\n",
        "def to_feature(text, label, label_list=label_list, max_seq_length=max_seq_len, tokenizer=bert_tokenizer):\n",
        "  example = classifier_data_lib.InputExample(guid=None, text_a=text.numpy(), text_b=None, label=label.numpy())\n",
        "  feature = classifier_data_lib.convert_single_example(0, example, label_list, max_seq_length, tokenizer)\n",
        "\n",
        "  return (feature.input_ids, feature.input_mask, feature.segment_ids, feature.label_id)\n",
        "  \n",
        "def to_feature_map(text, label):\n",
        "  input_ids, input_mask, segment_ids, label_id = tf.py_function(to_feature, inp=[text, label], Tout=[tf.int32,tf.int32, tf.int32, tf.int32 ])\n",
        "  input_ids.set_shape([max_seq_len])\n",
        "  segment_ids.set_shape([max_seq_len])\n",
        "  input_mask.set_shape([max_seq_len])\n",
        "  label_id.set_shape([])\n",
        "\n",
        "  x = {\n",
        "       'input_word_ids': input_ids,\n",
        "       'input_mask': input_mask,\n",
        "       'input_type_ids':segment_ids\n",
        "  }\n",
        "  \n",
        "  return (x, label_id)\n",
        "  "
      ],
      "execution_count": 9,
      "outputs": []
    },
    {
      "cell_type": "code",
      "metadata": {
        "id": "ADXfSXSIWGpt",
        "cellView": "form"
      },
      "source": [
        "#@title \"Utilities [Create Model Definition]\"\n",
        "def create_model():\n",
        "\n",
        " encoder_inputs = dict(\n",
        "    input_word_ids=tf.keras.layers.Input(shape=(max_seq_len,), dtype=tf.int32, name=\"input_word_ids\"),\n",
        "    input_mask=tf.keras.layers.Input(shape=(max_seq_len,), dtype=tf.int32,  name=\"input_mask\"),\n",
        "    input_type_ids=tf.keras.layers.Input(shape=(max_seq_len,), dtype=tf.int32, name=\"input_type_ids\"),\n",
        ")\n",
        " \n",
        " net = bert_layer(encoder_inputs)['pooled_output']\n",
        " net = tf.keras.layers.Dropout(0.2)(net)\n",
        " #net = tf.keras.layers.Dense(384, activation='ReLU', name='dense_384')(net)\n",
        " #net = tf.keras.layers.Dropout(0.2)(net)\n",
        " output = tf.keras.layers.Dense(1, activation='sigmoid', name='classifier')(net)\n",
        "\n",
        " model = tf.keras.Model(\n",
        "     encoder_inputs,\n",
        "     outputs=output,\n",
        "     name='prediction'\n",
        " )\n",
        " return model\n",
        "\n",
        "def create_dense_model():\n",
        "\n",
        " encoder_inputs = dict(\n",
        "    input_word_ids=tf.keras.layers.Input(shape=(max_seq_len,), dtype=tf.int32, name=\"input_word_ids\"),\n",
        "    input_mask=tf.keras.layers.Input(shape=(max_seq_len,), dtype=tf.int32,  name=\"input_mask\"),\n",
        "    input_type_ids=tf.keras.layers.Input(shape=(max_seq_len,), dtype=tf.int32, name=\"input_type_ids\"),\n",
        ")\n",
        " \n",
        " net = bert_layer(encoder_inputs)['pooled_output']\n",
        " net = tf.keras.layers.Dropout(0.1)(net)\n",
        " net = tf.keras.layers.Dense(384, activation='ReLU', name='dense_384')(net)\n",
        " net = tf.keras.layers.Dropout(0.1)(net)\n",
        " output = tf.keras.layers.Dense(1, activation='sigmoid', name='classifier')(net)\n",
        "\n",
        " model = tf.keras.Model(\n",
        "     encoder_inputs,\n",
        "     outputs=output,\n",
        "     name='prediction'\n",
        " )\n",
        " return model"
      ],
      "execution_count": 10,
      "outputs": []
    },
    {
      "cell_type": "code",
      "metadata": {
        "cellView": "form",
        "id": "maZRzNq8zhiW"
      },
      "source": [
        "#@title \"Utilities [Model prediction]\"\n",
        "def get_metrics(y_test, y_pred):\n",
        "    # accuracy: (tp + tn) / (p + n)\n",
        "    accuracy = accuracy_score(y_test, y_pred)\n",
        "    print('Accuracy: %f' % accuracy)\n",
        "    # precision tp / (tp + fp)\n",
        "    precision = precision_score(y_test, y_pred)\n",
        "    print('Precision: %f' % precision)\n",
        "    # recall: tp / (tp + fn)\n",
        "    recall = recall_score(y_test, y_pred)\n",
        "    print('Recall: %f' % recall)\n",
        "    # f1: 2 tp / (2 tp + fp + fn)\n",
        "    f1 = f1_score(y_test, y_pred)\n",
        "    print('F1 score: %f' % f1)\n",
        "    # ROC AUC\n",
        "    auc = roc_auc_score(y_test, y_pred)\n",
        "    print('ROC AUC: %f' % auc)\n",
        "    # confusion matrix\n",
        "    matrix = confusion_matrix(y_test, y_pred)\n",
        "    print(matrix)\n",
        "\n",
        "def predict_on_test_dataset(model, test_data, BATCH_SIZE=32):\n",
        "  y_true=[]\n",
        "  \n",
        "  for text_feat, labels in test_data:\n",
        "    for i in range(BATCH_SIZE):\n",
        "      y_true.append(labels[i].numpy())\n",
        "\n",
        "\n",
        "  predicted_scores  = model.predict(test_data)\n",
        "  y_pred = (predicted_scores > 0.5).astype(\"int32\")\n",
        "  y_pred = y_pred.reshape(-1)\n",
        "  get_metrics(y_true, y_pred)\n",
        "  vh.plot_cm(y_true, predicted_scores)\n",
        "  print()"
      ],
      "execution_count": 11,
      "outputs": []
    },
    {
      "cell_type": "markdown",
      "metadata": {
        "id": "HyRKSP2zwYyo"
      },
      "source": [
        "#Read TFRecord data"
      ]
    },
    {
      "cell_type": "code",
      "metadata": {
        "colab": {
          "base_uri": "https://localhost:8080/"
        },
        "id": "sFYhIMQxwy6k",
        "cellView": "form",
        "outputId": "c8ee9533-ebca-4613-b2a3-576a3ea61a9f"
      },
      "source": [
        "#@title  \"Load files & Split into Train and Val\"\n",
        "\n",
        "# read tfrec files from disk storage\n",
        "read_YouTube_data = read_tfrec_data(tfrec_trainVal_files_path, VALIDATION_SPLIT=0.2, TESTING_SPLIT=0.0, MODE=1)\n",
        "\n",
        "read_stop_clickbait_data = read_tfrec_data(stop_clickbait_tfrecFiles_path, VALIDATION_SPLIT=0.2, TESTING_SPLIT=0.0, MODE=1)\n",
        "\n",
        "read_fvc_clickbait_data = read_tfrec_data(fvc_clickbait_tfrecFiles_path, VALIDATION_SPLIT=0.2, TESTING_SPLIT=0.0, MODE=1)\n",
        "\n",
        "# splitting data files between training, validation and test\n",
        "YouTube_filenames, YouTube_training_filenames, YouTube_validation_filenames, YouTube_testing_filenames = read_YouTube_data.get_tfrec_files()\n",
        "\n",
        "stop_clickbait_filenames, stop_clickbait_training_filenames,stop_clickbait_validation_filenames, stop_clickbait_testing_filenames = read_stop_clickbait_data.get_tfrec_files()\n",
        "\n",
        "fvc_filenames, fvc_training_filenames, fvc_validation_filenames, fvc_testing_filenames = read_fvc_clickbait_data.get_tfrec_files()\n",
        "\n",
        "\n",
        "filenames = YouTube_filenames + stop_clickbait_filenames + fvc_filenames\n",
        "training_filenames = YouTube_training_filenames + stop_clickbait_training_filenames + fvc_training_filenames\n",
        "validation_filenames = YouTube_validation_filenames + stop_clickbait_validation_filenames + fvc_validation_filenames\n",
        "\n",
        "random.shuffle(filenames)\n",
        "random.shuffle(training_filenames)\n",
        "random.shuffle(validation_filenames)\n",
        "\n",
        "print(f'Length FileNames : {len(filenames)} Length Training FileNames : {len(training_filenames)} Length Validation FileNames : {len(validation_filenames)}')\n",
        "\n",
        "num_train_examples = 974 * len(YouTube_training_filenames) + 500 * len(stop_clickbait_training_filenames) + 100 * len(fvc_training_filenames)\n",
        "num_total_examples = 974 * len(YouTube_filenames) + 500 * len(stop_clickbait_filenames) + 100 * len(fvc_filenames)\n",
        "\n",
        "validation_steps = int(num_total_examples  // len(filenames) * len(validation_filenames)) // BATCH_SIZE\n",
        "steps_per_epoch = int(num_total_examples  // len(filenames) * len(training_filenames)) // BATCH_SIZE\n",
        "\n",
        "num_train_steps = steps_per_epoch * epochs\n",
        "num_warmup_steps = num_train_steps // 10\n",
        "\n",
        "print(\"With a batch size of {}, there will be {} batches per training epoch and {} batch(es) per validation run.\".format(BATCH_SIZE, steps_per_epoch, validation_steps))\n",
        "\n"
      ],
      "execution_count": 12,
      "outputs": [
        {
          "output_type": "stream",
          "text": [
            "Pattern matches 14 data files. Splitting dataset into 12 training files , 2 validation files and 0 test files\n",
            "Pattern matches 64 data files. Splitting dataset into 52 training files , 12 validation files and 0 test files\n",
            "Pattern matches 16 data files. Splitting dataset into 13 training files , 3 validation files and 0 test files\n",
            "Length FileNames : 94 Length Training FileNames : 77 Length Validation FileNames : 17\n",
            "With a batch size of 64, there will be 603 batches per training epoch and 133 batch(es) per validation run.\n"
          ],
          "name": "stdout"
        }
      ]
    },
    {
      "cell_type": "code",
      "metadata": {
        "colab": {
          "base_uri": "https://localhost:8080/"
        },
        "id": "EnFB1lF5p65f",
        "cellView": "form",
        "outputId": "bb6e9822-7281-4f43-ca0e-49833ce4278c"
      },
      "source": [
        "#@title  \"Load Test and Benchmarking files\"\n",
        "read_test_data = read_tfrec_data(tfrec_test_files_path, VALIDATION_SPLIT=0.0, TESTING_SPLIT=0.0, MODE=1) # Used only for testing\n",
        "read_benchmark_data = read_tfrec_data(tfrec_benchmark_files_path, VALIDATION_SPLIT=0.0, TESTING_SPLIT=0.0, MODE=1) # Used only for benchmarking\n",
        "\n",
        "\n",
        "testing_filenames, _, _,_ = read_test_data.get_tfrec_files()\n",
        "benchmarking_filenames, _, _,_ = read_benchmark_data.get_tfrec_files()\n",
        "\n",
        "len(testing_filenames), len(benchmarking_filenames)"
      ],
      "execution_count": 13,
      "outputs": [
        {
          "output_type": "stream",
          "text": [
            "Pattern matches 2 data files. Splitting dataset into 2 training files , 0 validation files and 0 test files\n",
            "Pattern matches 4 data files. Splitting dataset into 4 training files , 0 validation files and 0 test files\n"
          ],
          "name": "stdout"
        },
        {
          "output_type": "execute_result",
          "data": {
            "text/plain": [
              "(2, 4)"
            ]
          },
          "metadata": {
            "tags": []
          },
          "execution_count": 13
        }
      ]
    },
    {
      "cell_type": "markdown",
      "metadata": {
        "id": "dexXAe2b0LQl"
      },
      "source": [
        "#Load TFRecord into TF Dataset"
      ]
    },
    {
      "cell_type": "code",
      "metadata": {
        "id": "5a2YkXiW0Osa"
      },
      "source": [
        "# create the TF datasets\n",
        "with tf.device('/cpu:0'):\n",
        "  train_ds = load_dataset(training_filenames)\n",
        "  val_ds = load_dataset(validation_filenames)\n",
        "  test_ds = load_dataset(testing_filenames)\n",
        "  benchmark_ds = load_dataset(benchmarking_filenames)"
      ],
      "execution_count": 14,
      "outputs": []
    },
    {
      "cell_type": "code",
      "metadata": {
        "colab": {
          "base_uri": "https://localhost:8080/"
        },
        "id": "81QxcdL40xMi",
        "outputId": "ef247bde-51c0-49c6-f252-c16c2eb9dcfc"
      },
      "source": [
        "for i,(text, class_num, label) in enumerate(train_ds.take(10)):\n",
        "  print(f\"text : {text.numpy()}, class : {class_num.numpy()}, label : {label.numpy()}\")"
      ],
      "execution_count": 15,
      "outputs": [
        {
          "output_type": "stream",
          "text": [
            "text : b'the ultimate gaming chill setup faze teeqo cs go competitive faze teeqo shirts subscribe contact mouse pad corsair mm xl mouse steelseries rival sofa aka chill bed follow me snapchat teeqofaze subscribe thanks for watching love you guys faze teeqo', class : 1, label : b'clickbaits'\n",
            "text : b'i was on the news craziest experience ever please drop a like for me being on the news seriously though if it wasn t for you guys i would not be able to do anything that i do today i can t thank you guys enough much love to each and every single one of you btw answering the questions on the spot was pretty tough i forgot to shout faze out love them to death because if it wasn t for them my channel wouldn t have as much exposure as it does now let s keep killing it guys has started out amazing subscribe for daily content official rug apparel add me on snapchat thefazerug follow me on my social media to stay connected twitter instagram facebook snapchat thefazerug add me to see how i live my daily life d po box address faze rug p o box san diego ca use code rug for discounts on these products where i get my background music if you read this far down the description i love you', class : 1, label : b'clickbaits'\n",
            "text : b'the six girls you ll see back home funniest videos pictures of see more let us give thanks for the hometown bar like us on follow us on follow us on', class : 0, label : b'nonclickbaits'\n",
            "text : b'html tutorial laying out the website facebook github google linkedin reddit support thenewboston twitter', class : 0, label : b'nonclickbaits'\n",
            "text : b'roots of a tap dance legend savion glover on this episode of epiphany superstar tap dancer savion glover shares why he loves the art of tap dance and why it s an important art form subscribe to thnkr like thnkr on facebook follow thnkr on twitter or check out our favorite internet things on tumblr epiphany is a series that invites impassioned thought leaders across all disciplines to reveal the innovative the improbable and the unexpected of their worlds the views expressed in this video only represent those of the participants they do not necessarily represent the views or endorsement of radical media llc or any other party involved in the production and distribution of thnkr', class : 0, label : b'nonclickbaits'\n",
            "text : b'animals interrupt sporting events a critical analysis in which john discusses adorable animals interrupting sporting events including such hits as dog pooping on baseball field goalkeeper dog catcher fail pine marten invades swiss soccer match drug dog wants to play anfield cat and squirrel at the us open it s kind of a weird video this is a rip off of hank s video thanks to rosianna for help with the gif making and no it isn t copyright infringement this is the actual and literal definition of fair use', class : 0, label : b'nonclickbaits'\n",
            "text : b'japanese dance tv show crazy funny japanese dance tv show crazy', class : 1, label : b'clickbaits'\n",
            "text : b'html tutorial attribute selectors facebook github google linkedin reddit support thenewboston twitter', class : 0, label : b'nonclickbaits'\n",
            "text : b'second search tip time to see the time in many cities around the world type in time and the name of the city', class : 0, label : b'nonclickbaits'\n",
            "text : b'nintendo switch price and release date announcement nintendo switch price and release date announced watch our nintendo switch reveal stream here follow ign for more ign official app facebook twitter instagram website google', class : 0, label : b'nonclickbaits'\n"
          ],
          "name": "stdout"
        }
      ]
    },
    {
      "cell_type": "code",
      "metadata": {
        "id": "Y9EYaEqFQKM5"
      },
      "source": [
        "# We need only Text and numeric Label from the dataset\n",
        "with tf.device('/cpu:0'):\n",
        "  train_ds = train_ds.map(lambda text, class_num, label:(text, class_num))\n",
        "  val_ds = val_ds.map(lambda text, class_num, label:(text, class_num))\n",
        "  test_ds = test_ds.map(lambda text, class_num, label:(text, class_num))\n",
        "  benchmark_ds = benchmark_ds.map(lambda text, class_num, label:(text, class_num))"
      ],
      "execution_count": 16,
      "outputs": []
    },
    {
      "cell_type": "code",
      "metadata": {
        "colab": {
          "base_uri": "https://localhost:8080/"
        },
        "id": "fxubOVzUibud",
        "outputId": "39d108da-f2bb-4723-8deb-cd09d478d41d"
      },
      "source": [
        "train_ds.element_spec, val_ds.element_spec, test_ds.element_spec, benchmark_ds.element_spec"
      ],
      "execution_count": 17,
      "outputs": [
        {
          "output_type": "execute_result",
          "data": {
            "text/plain": [
              "((TensorSpec(shape=(), dtype=tf.string, name=None),\n",
              "  TensorSpec(shape=(), dtype=tf.int64, name=None)),\n",
              " (TensorSpec(shape=(), dtype=tf.string, name=None),\n",
              "  TensorSpec(shape=(), dtype=tf.int64, name=None)),\n",
              " (TensorSpec(shape=(), dtype=tf.string, name=None),\n",
              "  TensorSpec(shape=(), dtype=tf.int64, name=None)),\n",
              " (TensorSpec(shape=(), dtype=tf.string, name=None),\n",
              "  TensorSpec(shape=(), dtype=tf.int64, name=None)))"
            ]
          },
          "metadata": {
            "tags": []
          },
          "execution_count": 17
        }
      ]
    },
    {
      "cell_type": "markdown",
      "metadata": {
        "id": "m4mlvS-W4TDx"
      },
      "source": [
        "#Modeling\n",
        "Train model using train set and use validation set for train feedbacks. The goal is that model would be able to learn important aspects about how to catch the clickbaits correctly."
      ]
    },
    {
      "cell_type": "markdown",
      "metadata": {
        "id": "Y-C-yuTZILRE"
      },
      "source": [
        "##Bert preprocessing"
      ]
    },
    {
      "cell_type": "code",
      "metadata": {
        "id": "cVTejAUcINXW"
      },
      "source": [
        "with tf.device('/cpu:0'):\n",
        "  # train\n",
        "  train_data = train_ds.map(to_feature_map, num_parallel_calls=tf.data.experimental.AUTOTUNE)\n",
        "  train_data = get_batched_dataset(train_data, train=True)\n",
        "\n",
        "  # valid\n",
        "  val_data = val_ds.map(to_feature_map, num_parallel_calls=tf.data.experimental.AUTOTUNE)\n",
        "  val_data = get_batched_dataset(val_data)\n",
        "\n",
        "  # test\n",
        "  test_data = test_ds.map(to_feature_map, num_parallel_calls=tf.data.experimental.AUTOTUNE)\n",
        "  test_data = get_batched_dataset(test_data)\n",
        "\n",
        "  # benchmark\n",
        "  benchmark_data = benchmark_ds.map(to_feature_map, num_parallel_calls=tf.data.experimental.AUTOTUNE)\n",
        "  benchmark_data = get_batched_dataset(benchmark_data)\n",
        "  "
      ],
      "execution_count": 18,
      "outputs": []
    },
    {
      "cell_type": "code",
      "metadata": {
        "colab": {
          "base_uri": "https://localhost:8080/"
        },
        "id": "waCLqUaWSbQY",
        "outputId": "caa95172-3ba7-44b5-d529-9b5962f2a381"
      },
      "source": [
        "# train data spec\n",
        "train_data.element_spec"
      ],
      "execution_count": 19,
      "outputs": [
        {
          "output_type": "execute_result",
          "data": {
            "text/plain": [
              "({'input_mask': TensorSpec(shape=(64, 128), dtype=tf.int32, name=None),\n",
              "  'input_type_ids': TensorSpec(shape=(64, 128), dtype=tf.int32, name=None),\n",
              "  'input_word_ids': TensorSpec(shape=(64, 128), dtype=tf.int32, name=None)},\n",
              " TensorSpec(shape=(64,), dtype=tf.int32, name=None))"
            ]
          },
          "metadata": {
            "tags": []
          },
          "execution_count": 19
        }
      ]
    },
    {
      "cell_type": "markdown",
      "metadata": {
        "id": "CsCwE3RZSi3e"
      },
      "source": [
        "#Build classifier"
      ]
    },
    {
      "cell_type": "code",
      "metadata": {
        "colab": {
          "base_uri": "https://localhost:8080/"
        },
        "id": "sHVKiVfzSkSl",
        "outputId": "70fe70d7-1cfd-42b4-ba6a-f481fef05f4a"
      },
      "source": [
        "classifier_model = create_model()\n",
        "classifier_model.summary()"
      ],
      "execution_count": 25,
      "outputs": [
        {
          "output_type": "stream",
          "text": [
            "Model: \"prediction\"\n",
            "__________________________________________________________________________________________________\n",
            "Layer (type)                    Output Shape         Param #     Connected to                     \n",
            "==================================================================================================\n",
            "input_mask (InputLayer)         [(None, 128)]        0                                            \n",
            "__________________________________________________________________________________________________\n",
            "input_type_ids (InputLayer)     [(None, 128)]        0                                            \n",
            "__________________________________________________________________________________________________\n",
            "input_word_ids (InputLayer)     [(None, 128)]        0                                            \n",
            "__________________________________________________________________________________________________\n",
            "bert_encoder (KerasLayer)       {'default': (None, 7 109482241   input_mask[0][0]                 \n",
            "                                                                 input_type_ids[0][0]             \n",
            "                                                                 input_word_ids[0][0]             \n",
            "__________________________________________________________________________________________________\n",
            "dropout_1 (Dropout)             (None, 768)          0           bert_encoder[1][13]              \n",
            "__________________________________________________________________________________________________\n",
            "classifier (Dense)              (None, 1)            769         dropout_1[0][0]                  \n",
            "==================================================================================================\n",
            "Total params: 109,483,010\n",
            "Trainable params: 109,483,009\n",
            "Non-trainable params: 1\n",
            "__________________________________________________________________________________________________\n"
          ],
          "name": "stdout"
        }
      ]
    },
    {
      "cell_type": "markdown",
      "metadata": {
        "id": "t-l3hSAZjmAR"
      },
      "source": [
        "#Train classifier model"
      ]
    },
    {
      "cell_type": "markdown",
      "metadata": {
        "id": "JB9jLSmmxlRX"
      },
      "source": [
        "##Compile model"
      ]
    },
    {
      "cell_type": "code",
      "metadata": {
        "colab": {
          "base_uri": "https://localhost:8080/",
          "height": 191
        },
        "id": "jT4HWvMbweSY",
        "outputId": "d9a8dee6-dff1-4ae0-8f5d-fccb5566acf5"
      },
      "source": [
        "es = tf.keras.callbacks.EarlyStopping(\n",
        "          monitor='val_loss', \n",
        "          verbose=1, \n",
        "          patience=5, \n",
        "          mode='min', \n",
        "          restore_best_weights=True\n",
        "          )\n",
        "\n",
        "mcb = tf.keras.callbacks.ModelCheckpoint (\n",
        "         filepath=model_checkpoint_path,\n",
        "         save_weights_only=True,\n",
        "         monitor='val_loss',\n",
        "         mode='min',\n",
        "         verbose=1,\n",
        "         save_best_only=True\n",
        "        )\n",
        "\n",
        "METRICS = [\n",
        "             keras.metrics.TruePositives(name='tp'),\n",
        "             keras.metrics.FalsePositives(name='fp'),\n",
        "             keras.metrics.TrueNegatives(name='tn'),\n",
        "             keras.metrics.FalseNegatives(name='fn'), \n",
        "             keras.metrics.BinaryAccuracy(name='accuracy'),\n",
        "             keras.metrics.Precision(name='precision'),\n",
        "             keras.metrics.Recall(name='recall'),\n",
        "             keras.metrics.AUC(name='auc'),\n",
        "             keras.metrics.AUC(name='prc', curve='PR'), # precision-recall curve\n",
        "          ]\n",
        "\n",
        "optimizer = optimization.create_optimizer(\n",
        "      init_lr=init_lr,\n",
        "      num_train_steps=num_train_steps,\n",
        "      num_warmup_steps=num_warmup_steps,\n",
        "      optimizer_type='adamw'\n",
        "      )\n",
        "\n",
        "classifier_model.compile(\n",
        "    optimizer=optimizer,\n",
        "    loss=tf.keras.losses.BinaryCrossentropy(), \n",
        "    metrics=METRICS\n",
        "    )\n",
        "\n",
        "tf.keras.utils.plot_model(model=classifier_model, show_shapes=True, dpi=60)"
      ],
      "execution_count": 26,
      "outputs": [
        {
          "output_type": "execute_result",
          "data": {
            "image/png": "[encoded data removed]",
            "text/plain": [
              "<IPython.core.display.Image object>"
            ]
          },
          "metadata": {
            "tags": []
          },
          "execution_count": 26
        }
      ]
    },
    {
      "cell_type": "markdown",
      "metadata": {
        "id": "H6XKaUuaxqlk"
      },
      "source": [
        "##Train"
      ]
    },
    {
      "cell_type": "code",
      "metadata": {
        "colab": {
          "base_uri": "https://localhost:8080/"
        },
        "cellView": "form",
        "id": "j2x4r2P2oXNF",
        "outputId": "bc2e47ae-c7ca-4030-e080-3bf31c70ce2c"
      },
      "source": [
        "#@title Load Model weights if available\n",
        "if os.path.exists(checkpoint_root_path) & len(os.listdir(checkpoint_root_path)):\n",
        "  print('loading saved weight')\n",
        "  classifier_model.load_weights(model_checkpoint_path)\n",
        "else:\n",
        "  print('No weight to initialize') "
      ],
      "execution_count": 27,
      "outputs": [
        {
          "output_type": "stream",
          "text": [
            "No weight to initialize\n"
          ],
          "name": "stdout"
        }
      ]
    },
    {
      "cell_type": "code",
      "metadata": {
        "colab": {
          "base_uri": "https://localhost:8080/"
        },
        "id": "VN83npGrjnwd",
        "outputId": "409bcf0b-ca05-43b4-f60b-cd78c12e34af"
      },
      "source": [
        "history = classifier_model.fit(\n",
        "             x=train_data,\n",
        "             validation_data=val_data,\n",
        "             epochs=epochs,\n",
        "             callbacks=[es, mcb]\n",
        "             )"
      ],
      "execution_count": 28,
      "outputs": [
        {
          "output_type": "stream",
          "text": [
            "Epoch 1/15\n",
            "608/608 [==============================] - 1099s 2s/step - loss: 0.2688 - tp: 16117.0000 - fp: 1897.0000 - tn: 17880.0000 - fn: 3018.0000 - accuracy: 0.8737 - precision: 0.8947 - recall: 0.8423 - auc: 0.9558 - prc: 0.9567 - val_loss: 0.0980 - val_tp: 3808.0000 - val_fp: 121.0000 - val_tn: 4079.0000 - val_fn: 184.0000 - val_accuracy: 0.9628 - val_precision: 0.9692 - val_recall: 0.9539 - val_auc: 0.9936 - val_prc: 0.9937\n",
            "\n",
            "Epoch 00001: val_loss improved from inf to 0.09801, saving model to /content/drive/MyDrive/Colab Notebooks/clcikbait_detection/dataset/YouTube_clickbait/checkpoints/youtube_clickbait_finetuned_domain_adapted_all/bert_en_uncased_L-12_H-768_A-12_checkpoint\n",
            "Epoch 2/15\n",
            "608/608 [==============================] - 1044s 2s/step - loss: 0.0790 - tp: 18531.0000 - fp: 505.0000 - tn: 19272.0000 - fn: 604.0000 - accuracy: 0.9715 - precision: 0.9735 - recall: 0.9684 - auc: 0.9955 - prc: 0.9953 - val_loss: 0.0827 - val_tp: 3881.0000 - val_fp: 110.0000 - val_tn: 4090.0000 - val_fn: 111.0000 - val_accuracy: 0.9730 - val_precision: 0.9724 - val_recall: 0.9722 - val_auc: 0.9944 - val_prc: 0.9936\n",
            "\n",
            "Epoch 00002: val_loss improved from 0.09801 to 0.08272, saving model to /content/drive/MyDrive/Colab Notebooks/clcikbait_detection/dataset/YouTube_clickbait/checkpoints/youtube_clickbait_finetuned_domain_adapted_all/bert_en_uncased_L-12_H-768_A-12_checkpoint\n",
            "Epoch 3/15\n",
            "608/608 [==============================] - 1044s 2s/step - loss: 0.0375 - tp: 18884.0000 - fp: 229.0000 - tn: 19548.0000 - fn: 251.0000 - accuracy: 0.9877 - precision: 0.9880 - recall: 0.9869 - auc: 0.9983 - prc: 0.9980 - val_loss: 0.1220 - val_tp: 3946.0000 - val_fp: 181.0000 - val_tn: 4019.0000 - val_fn: 46.0000 - val_accuracy: 0.9723 - val_precision: 0.9561 - val_recall: 0.9885 - val_auc: 0.9891 - val_prc: 0.9813\n",
            "\n",
            "Epoch 00003: val_loss did not improve from 0.08272\n",
            "Epoch 4/15\n",
            "608/608 [==============================] - 1042s 2s/step - loss: 0.0184 - tp: 19024.0000 - fp: 134.0000 - tn: 19643.0000 - fn: 111.0000 - accuracy: 0.9937 - precision: 0.9930 - recall: 0.9942 - auc: 0.9993 - prc: 0.9991 - val_loss: 0.1735 - val_tp: 3946.0000 - val_fp: 201.0000 - val_tn: 3999.0000 - val_fn: 46.0000 - val_accuracy: 0.9698 - val_precision: 0.9515 - val_recall: 0.9885 - val_auc: 0.9834 - val_prc: 0.9701\n",
            "\n",
            "Epoch 00004: val_loss did not improve from 0.08272\n",
            "Epoch 5/15\n",
            "608/608 [==============================] - 1042s 2s/step - loss: 0.0127 - tp: 19071.0000 - fp: 82.0000 - tn: 19695.0000 - fn: 64.0000 - accuracy: 0.9962 - precision: 0.9957 - recall: 0.9967 - auc: 0.9992 - prc: 0.9989 - val_loss: 0.1432 - val_tp: 3894.0000 - val_fp: 94.0000 - val_tn: 4106.0000 - val_fn: 98.0000 - val_accuracy: 0.9766 - val_precision: 0.9764 - val_recall: 0.9755 - val_auc: 0.9860 - val_prc: 0.9814\n",
            "\n",
            "Epoch 00005: val_loss did not improve from 0.08272\n",
            "Epoch 6/15\n",
            "608/608 [==============================] - 1036s 2s/step - loss: 0.0064 - tp: 19102.0000 - fp: 43.0000 - tn: 19734.0000 - fn: 33.0000 - accuracy: 0.9980 - precision: 0.9978 - recall: 0.9983 - auc: 0.9997 - prc: 0.9995 - val_loss: 0.1357 - val_tp: 3888.0000 - val_fp: 66.0000 - val_tn: 4134.0000 - val_fn: 104.0000 - val_accuracy: 0.9792 - val_precision: 0.9833 - val_recall: 0.9739 - val_auc: 0.9871 - val_prc: 0.9853\n",
            "\n",
            "Epoch 00006: val_loss did not improve from 0.08272\n",
            "Epoch 7/15\n",
            "608/608 [==============================] - 1043s 2s/step - loss: 0.0049 - tp: 19109.0000 - fp: 27.0000 - tn: 19750.0000 - fn: 26.0000 - accuracy: 0.9986 - precision: 0.9986 - recall: 0.9986 - auc: 0.9997 - prc: 0.9997 - val_loss: 0.1597 - val_tp: 3896.0000 - val_fp: 84.0000 - val_tn: 4116.0000 - val_fn: 96.0000 - val_accuracy: 0.9780 - val_precision: 0.9789 - val_recall: 0.9760 - val_auc: 0.9848 - val_prc: 0.9808\n",
            "Restoring model weights from the end of the best epoch.\n",
            "\n",
            "Epoch 00007: val_loss did not improve from 0.08272\n",
            "Epoch 00007: early stopping\n"
          ],
          "name": "stdout"
        }
      ]
    },
    {
      "cell_type": "code",
      "metadata": {
        "id": "Qq21bsBY5zci"
      },
      "source": [
        "# Save model weights\n",
        "classifier_model.save_weights(model_checkpoint_path)"
      ],
      "execution_count": null,
      "outputs": []
    },
    {
      "cell_type": "markdown",
      "metadata": {
        "id": "KGm28Sny7Wbg"
      },
      "source": [
        "#Plot train history"
      ]
    },
    {
      "cell_type": "code",
      "metadata": {
        "colab": {
          "base_uri": "https://localhost:8080/",
          "height": 621
        },
        "id": "de9jdjsl83rU",
        "outputId": "67447238-2945-45a7-b638-63c45a458760"
      },
      "source": [
        "vh.display_training_curves(history.history['accuracy'], history.history['val_accuracy'], 'accuracy', 211)\n",
        "vh.display_training_curves(history.history['loss'], history.history['val_loss'], 'loss', 212)"
      ],
      "execution_count": 29,
      "outputs": [
        {
          "output_type": "display_data",
          "data": {
            "image/png": "[encoded data removed]",
            "text/plain": [
              "<Figure size 720x720 with 2 Axes>"
            ]
          },
          "metadata": {
            "tags": []
          }
        }
      ]
    },
    {
      "cell_type": "code",
      "metadata": {
        "colab": {
          "base_uri": "https://localhost:8080/",
          "height": 621
        },
        "id": "bMtvCGsZ89PT",
        "outputId": "00def595-d37d-4ea3-e554-012ed93ec455"
      },
      "source": [
        "vh.display_training_curves(history.history['recall'], history.history['val_recall'], 'recall', 211)\n",
        "vh.display_training_curves(history.history['precision'], history.history['val_precision'], 'precision', 212)"
      ],
      "execution_count": 30,
      "outputs": [
        {
          "output_type": "display_data",
          "data": {
            "image/png": "[encoded data removed]",
            "text/plain": [
              "<Figure size 720x720 with 2 Axes>"
            ]
          },
          "metadata": {
            "tags": []
          }
        }
      ]
    },
    {
      "cell_type": "markdown",
      "metadata": {
        "id": "RFpsUaYEl9V5"
      },
      "source": [
        "# Model Inference\n",
        "We have trained the classifier, now let's use the trained model to infer the test dataset. Beside the test dataset, we also have benchmark dataset that we would also to see the eefectiveness of our model over benchmark dataset on predicting the clickbait's."
      ]
    },
    {
      "cell_type": "markdown",
      "metadata": {
        "id": "1Y9WvTXWlkJX"
      },
      "source": [
        "##Model Evaluation"
      ]
    },
    {
      "cell_type": "markdown",
      "metadata": {
        "id": "il2faBB5uhbz"
      },
      "source": [
        "###Evaluate Classifier on Test set"
      ]
    },
    {
      "cell_type": "code",
      "metadata": {
        "colab": {
          "base_uri": "https://localhost:8080/"
        },
        "id": "82Q5YKoQulNX",
        "outputId": "e0d2e339-ed7f-4800-fd5c-2d0012c9404e"
      },
      "source": [
        "results_test_set = classifier_model.evaluate(test_data)\n",
        "\n",
        "for name, value in zip(classifier_model.metrics_names, results_test_set):\n",
        "  print(name, ': ', value)\n",
        "print()"
      ],
      "execution_count": 31,
      "outputs": [
        {
          "output_type": "stream",
          "text": [
            "30/30 [==============================] - 18s 582ms/step - loss: 0.1053 - tp: 881.0000 - fp: 43.0000 - tn: 980.0000 - fn: 16.0000 - accuracy: 0.9693 - precision: 0.9535 - recall: 0.9822 - auc: 0.9917 - prc: 0.9874\n",
            "loss :  0.10532470047473907\n",
            "tp :  881.0\n",
            "fp :  43.0\n",
            "tn :  980.0\n",
            "fn :  16.0\n",
            "accuracy :  0.9692708253860474\n",
            "precision :  0.9534631967544556\n",
            "recall :  0.9821627736091614\n",
            "auc :  0.9917460680007935\n",
            "prc :  0.9874124526977539\n",
            "\n"
          ],
          "name": "stdout"
        }
      ]
    },
    {
      "cell_type": "markdown",
      "metadata": {
        "id": "EhQMGxtbkqMf"
      },
      "source": [
        "### Evaluate Classifier on Benchmarking set"
      ]
    },
    {
      "cell_type": "code",
      "metadata": {
        "colab": {
          "base_uri": "https://localhost:8080/"
        },
        "id": "4PF6NHJ5kxpN",
        "outputId": "b4652877-4ec3-45e0-9234-26d726da3ed9"
      },
      "source": [
        "results_benchmarking_set = classifier_model.evaluate(benchmark_data)\n",
        "\n",
        "for name, value in zip(classifier_model.metrics_names, results_benchmarking_set):\n",
        "  print(name, ': ', value)\n",
        "print()"
      ],
      "execution_count": 32,
      "outputs": [
        {
          "output_type": "stream",
          "text": [
            "2/2 [==============================] - 2s 600ms/step - loss: 0.5731 - tp: 55.0000 - fp: 6.0000 - tn: 47.0000 - fn: 20.0000 - accuracy: 0.7969 - precision: 0.9016 - recall: 0.7333 - auc: 0.9048 - prc: 0.9178\n",
            "loss :  0.5730829238891602\n",
            "tp :  55.0\n",
            "fp :  6.0\n",
            "tn :  47.0\n",
            "fn :  20.0\n",
            "accuracy :  0.796875\n",
            "precision :  0.9016393423080444\n",
            "recall :  0.7333333492279053\n",
            "auc :  0.9047797918319702\n",
            "prc :  0.9178091883659363\n",
            "\n"
          ],
          "name": "stdout"
        }
      ]
    },
    {
      "cell_type": "markdown",
      "metadata": {
        "id": "0hyxBLmuwTsg"
      },
      "source": [
        "##Export Model for inference"
      ]
    },
    {
      "cell_type": "code",
      "metadata": {
        "id": "EJ8OWWr6tPvX",
        "colab": {
          "base_uri": "https://localhost:8080/"
        },
        "outputId": "dac1baa6-aa2b-4112-f380-172b201b3670"
      },
      "source": [
        "classifier_model.save(saved_model_path, include_optimizer=False)"
      ],
      "execution_count": 33,
      "outputs": [
        {
          "output_type": "stream",
          "text": [
            "WARNING:absl:Found untraced functions such as restored_function_body, restored_function_body, restored_function_body, restored_function_body, restored_function_body while saving (showing 5 of 915). These functions will not be directly callable after loading.\n"
          ],
          "name": "stderr"
        }
      ]
    },
    {
      "cell_type": "markdown",
      "metadata": {
        "id": "4dJBXqiE9rlP"
      },
      "source": [
        "##Model prediction"
      ]
    },
    {
      "cell_type": "code",
      "metadata": {
        "id": "5ObHbCj0NVgo"
      },
      "source": [
        "saved_classifier = keras.models.load_model(saved_model_path)"
      ],
      "execution_count": 34,
      "outputs": []
    },
    {
      "cell_type": "markdown",
      "metadata": {
        "id": "vL_bcJVrlr1p"
      },
      "source": [
        "### Prediction for Test set"
      ]
    },
    {
      "cell_type": "code",
      "metadata": {
        "colab": {
          "base_uri": "https://localhost:8080/",
          "height": 588
        },
        "id": "QOxoz5tb9ty3",
        "outputId": "eb996849-5655-4c74-d136-d8763682fbc3"
      },
      "source": [
        "predict_on_test_dataset(saved_classifier, test_data, BATCH_SIZE=BATCH_SIZE)"
      ],
      "execution_count": 35,
      "outputs": [
        {
          "output_type": "stream",
          "text": [
            "Accuracy: 0.969271\n",
            "Precision: 0.953463\n",
            "Recall: 0.982163\n",
            "F1 score: 0.967600\n",
            "ROC AUC: 0.970065\n",
            "[[980  43]\n",
            " [ 16 881]]\n",
            "Non clickbaits Detected (True Negatives):  980\n",
            "Non-Clickbaits Detected as Clickbaits (False Positives):  43\n",
            "Clickbaits Detected as Non-clickbaits (False Negatives):  16\n",
            "Clickbaits Detected (True Positives):  881\n",
            "Total Non-clickbaits:  1023\n",
            "Total Clickbaits:  897\n",
            "\n"
          ],
          "name": "stdout"
        },
        {
          "output_type": "display_data",
          "data": {
            "image/png": "[encoded data removed]",
            "text/plain": [
              "<Figure size 360x360 with 2 Axes>"
            ]
          },
          "metadata": {
            "tags": [],
            "needs_background": "light"
          }
        }
      ]
    },
    {
      "cell_type": "markdown",
      "metadata": {
        "id": "S-8I5Jnnlyg5"
      },
      "source": [
        "### Prediction for Benchmarking set"
      ]
    },
    {
      "cell_type": "code",
      "metadata": {
        "colab": {
          "base_uri": "https://localhost:8080/",
          "height": 588
        },
        "id": "U4phFOUYlXT6",
        "outputId": "073c011d-bf7c-493d-f4c2-f70c897cbf1b"
      },
      "source": [
        "predict_on_test_dataset(saved_classifier, benchmark_data, BATCH_SIZE=BATCH_SIZE)"
      ],
      "execution_count": 36,
      "outputs": [
        {
          "output_type": "stream",
          "text": [
            "Accuracy: 0.796875\n",
            "Precision: 0.901639\n",
            "Recall: 0.733333\n",
            "F1 score: 0.808824\n",
            "ROC AUC: 0.810063\n",
            "[[47  6]\n",
            " [20 55]]\n",
            "Non clickbaits Detected (True Negatives):  47\n",
            "Non-Clickbaits Detected as Clickbaits (False Positives):  6\n",
            "Clickbaits Detected as Non-clickbaits (False Negatives):  20\n",
            "Clickbaits Detected (True Positives):  55\n",
            "Total Non-clickbaits:  53\n",
            "Total Clickbaits:  75\n",
            "\n"
          ],
          "name": "stdout"
        },
        {
          "output_type": "display_data",
          "data": {
            "image/png": "[encoded data removed]",
            "text/plain": [
              "<Figure size 360x360 with 2 Axes>"
            ]
          },
          "metadata": {
            "tags": [],
            "needs_background": "light"
          }
        }
      ]
    }
  ]
}