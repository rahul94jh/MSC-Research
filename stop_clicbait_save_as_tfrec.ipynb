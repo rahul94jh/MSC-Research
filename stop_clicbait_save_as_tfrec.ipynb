{
  "nbformat": 4,
  "nbformat_minor": 0,
  "metadata": {
    "colab": {
      "name": "stop_clicbait_save_as_tfrec.ipynb",
      "provenance": [],
      "collapsed_sections": [
        "COlyf2fcjgnW",
        "OfiD0fBonch4",
        "ru10hdY0m-9a",
        "KED9jDY2joVD",
        "rVKmYv05lpyX",
        "UsZfHd6Poy3d",
        "8LfJ9ecxzo7T",
        "tsm82r-S1RaY"
      ],
      "mount_file_id": "1SJCT9ReKTbV1dMgXgn-5v4VoT_7tvs_i",
      "authorship_tag": "ABX9TyNDDchm2WKs1yNEMc2I6QZV",
      "include_colab_link": true
    },
    "kernelspec": {
      "name": "python3",
      "display_name": "Python 3"
    },
    "language_info": {
      "name": "python"
    }
  },
  "cells": [
    {
      "cell_type": "markdown",
      "metadata": {
        "id": "view-in-github",
        "colab_type": "text"
      },
      "source": [
        "<a href=\"https://colab.research.google.com/github/rahul94jh/MSC-Research/blob/main/stop_clicbait_save_as_tfrec.ipynb\" target=\"_parent\"><img src=\"https://colab.research.google.com/assets/colab-badge.svg\" alt=\"Open In Colab\"/></a>"
      ]
    },
    {
      "cell_type": "markdown",
      "metadata": {
        "id": "azfeIxLij62h"
      },
      "source": [
        "The dataset is avaialable at https://github.com/bhargaviparanjape/clickbait \n",
        "This dataset was released as part of the research [Stop Clickbait: Detecting and Preventing Clickbaits in Online News Media](https://arxiv.org/abs/1610.09786)\n",
        "\n",
        "Please check the tutorial for using the dataset at https://amitness.com/2020/02/tensorflow-hub-for-transfer-learning/ , we will use the URL provided at this website to download the dataset, http://bit.ly/clickbait-data"
      ]
    },
    {
      "cell_type": "markdown",
      "metadata": {
        "id": "COlyf2fcjgnW"
      },
      "source": [
        "#Import libraries"
      ]
    },
    {
      "cell_type": "code",
      "metadata": {
        "colab": {
          "base_uri": "https://localhost:8080/"
        },
        "id": "pcf_0dl8jWc1",
        "outputId": "4ef8260a-c277-4c25-8bc1-c37fdf7d91c9"
      },
      "source": [
        "import os, math\n",
        "import numpy as np\n",
        "import pandas as pd\n",
        "import requests\n",
        "import shutil\n",
        "import re\n",
        "from pathlib import Path\n",
        "\n",
        "from matplotlib import pyplot as plt\n",
        "import tensorflow as tf\n",
        "print(\"Tensorflow version \" + tf.__version__)\n",
        "AUTO = tf.data.experimental.AUTOTUNE # used in tf.data.Dataset API\n"
      ],
      "execution_count": 102,
      "outputs": [
        {
          "output_type": "stream",
          "text": [
            "Tensorflow version 2.5.0\n"
          ],
          "name": "stdout"
        }
      ]
    },
    {
      "cell_type": "markdown",
      "metadata": {
        "id": "OfiD0fBonch4"
      },
      "source": [
        "#Configurations"
      ]
    },
    {
      "cell_type": "code",
      "metadata": {
        "id": "NypeR9qpnef4"
      },
      "source": [
        "tfrec_root_path = '/content/drive/MyDrive/Colab Notebooks/clcikbait_detection/dataset/Stop_clickbait/tfrec_data'\n",
        "tfrec_output_path = os.path.join(tfrec_root_path,'stop_clickbait_text')"
      ],
      "execution_count": 103,
      "outputs": []
    },
    {
      "cell_type": "code",
      "metadata": {
        "id": "_EAy-LgXnhmQ"
      },
      "source": [
        "CLASSES = [b'nonclickbaits', b'clickbaits'] \n",
        "SHARDS = 64"
      ],
      "execution_count": 104,
      "outputs": []
    },
    {
      "cell_type": "markdown",
      "metadata": {
        "id": "ru10hdY0m-9a"
      },
      "source": [
        "#Scripts"
      ]
    },
    {
      "cell_type": "code",
      "metadata": {
        "cellView": "form",
        "id": "mDHy46eIqlqr"
      },
      "source": [
        "#@title \"Utilities [RUN ME]\"\n",
        "def preprocess_string(text):\n",
        "    text_cleaned = re.sub(r\"http\\S+\", \"\", text, flags=re.IGNORECASE|re.MULTILINE)  # remove any url in the text\n",
        "    text_cleaned = re.sub(r\"\\w+@\\w{1,}\\.\\w{1,}\",\"\", text_cleaned, flags=re.IGNORECASE|re.MULTILINE) # remove emails from text\n",
        "    text_cleaned = re.sub(r'[^a-z\\s]+',' ',text_cleaned,flags=re.IGNORECASE|re.MULTILINE) # remove non alphabetics char\n",
        "    text_cleaned = re.sub(r'(\\s+)',' ',text_cleaned, flags=re.IGNORECASE|re.MULTILINE)  # remove spaces\n",
        "\n",
        "    text_cleaned = text_cleaned.lstrip()\n",
        "    text_cleaned = text_cleaned.rstrip()\n",
        "    text_cleaned = text_cleaned.lower() \n",
        "\n",
        "    return text_cleaned "
      ],
      "execution_count": 105,
      "outputs": []
    },
    {
      "cell_type": "code",
      "metadata": {
        "cellView": "form",
        "id": "fsTYxePdnGdg"
      },
      "source": [
        "#@title \"Utilities [RUN ME]\"\n",
        "# Three types of data can be stored in TFRecords: bytestrings, integers and floats\n",
        "# They are always stored as lists, a single data element will be a list of size 1\n",
        "\n",
        "def _bytestring_feature(list_of_bytestrings):\n",
        "  return tf.train.Feature(bytes_list=tf.train.BytesList(value=list_of_bytestrings))\n",
        "\n",
        "def _int_feature(list_of_ints): # int64\n",
        "  return tf.train.Feature(int64_list=tf.train.Int64List(value=list_of_ints))\n",
        "\n",
        "def _float_feature(list_of_floats): # float32\n",
        "  return tf.train.Feature(float_list=tf.train.FloatList(value=list_of_floats))\n",
        "  \n",
        "\n",
        "def to_tfrecord(tfrec_filewriter, text, label):  \n",
        "  class_num = label \n",
        "\n",
        "  feature = {\n",
        "      \"class\": _int_feature([class_num]),        # one class in the list\n",
        "      \"text\":  _bytestring_feature([text]),       # text feature   \n",
        "      \"label\":         _bytestring_feature([CLASSES[label]]),          # fixed length (1) list of strings, the text label\n",
        "\n",
        "  }\n",
        "  return tf.train.Example(features=tf.train.Features(feature=feature))\n",
        "  \n"
      ],
      "execution_count": 106,
      "outputs": []
    },
    {
      "cell_type": "code",
      "metadata": {
        "cellView": "form",
        "id": "BV60dAAhnQVB"
      },
      "source": [
        "#@title \"Utilities [RUN ME]\"\n",
        "def WriteAsTFRecord(dataset, tfrec_root_path, tfrec_output_path):\n",
        "  print(\"Writing TFRecords\")\n",
        "\n",
        "  if not os.path.exists(tfrec_root_path):\n",
        "    os.mkdir(tfrec_root_path)\n",
        "\n",
        "  for shard, (text, label) in enumerate(dataset):\n",
        "    # batch size used as shard size here\n",
        "    shard_size = text.numpy().shape[0]\n",
        "    # good practice to have the number of records in the filename\n",
        "    filename = tfrec_output_path + \"{:02d}-{}.tfrec\".format(shard, shard_size)\n",
        "  \n",
        "    with tf.io.TFRecordWriter(filename) as out_file:\n",
        "      for i in range(shard_size):\n",
        "        example = to_tfrecord(out_file,\n",
        "                            text.numpy()[i],\n",
        "                            label.numpy()[i])\n",
        "        out_file.write(example.SerializeToString())\n",
        "      print(\"Wrote file {} containing {} records\".format(filename, shard_size))"
      ],
      "execution_count": 107,
      "outputs": []
    },
    {
      "cell_type": "code",
      "metadata": {
        "cellView": "form",
        "id": "5_RRCHQsnU5T"
      },
      "source": [
        "#@title \"Utilities [RUN ME]\"\n",
        "def read_tfrecord(example):\n",
        "    features = {\n",
        "        \"class\": tf.io.FixedLenFeature([], tf.int64),   # shape [] means scalar\n",
        "        \"text\": tf.io.FixedLenFeature([], tf.string),\n",
        "        \"label\": tf.io.FixedLenFeature([], tf.string)  # one bytestring\n",
        "    }\n",
        "    # decode the TFRecord\n",
        "    example = tf.io.parse_single_example(example, features)\n",
        "    \n",
        "    \n",
        "    class_num = example['class']\n",
        "    text = example['text']\n",
        "    label  = example['label']\n",
        "    return text, class_num, label\n"
      ],
      "execution_count": 127,
      "outputs": []
    },
    {
      "cell_type": "markdown",
      "metadata": {
        "id": "KED9jDY2joVD"
      },
      "source": [
        "#Load data"
      ]
    },
    {
      "cell_type": "code",
      "metadata": {
        "id": "qVPP7Rf8jpu3"
      },
      "source": [
        "import pandas as pd\n",
        "df = pd.read_csv('http://bit.ly/clickbait-data')"
      ],
      "execution_count": 109,
      "outputs": []
    },
    {
      "cell_type": "code",
      "metadata": {
        "colab": {
          "base_uri": "https://localhost:8080/"
        },
        "id": "0sL7k3kMjsmI",
        "outputId": "2a807395-030c-4fc9-b13e-0b69e58d38a5"
      },
      "source": [
        "df.info()"
      ],
      "execution_count": 110,
      "outputs": [
        {
          "output_type": "stream",
          "text": [
            "<class 'pandas.core.frame.DataFrame'>\n",
            "RangeIndex: 31986 entries, 0 to 31985\n",
            "Data columns (total 2 columns):\n",
            " #   Column  Non-Null Count  Dtype \n",
            "---  ------  --------------  ----- \n",
            " 0   title   31986 non-null  object\n",
            " 1   label   31986 non-null  int64 \n",
            "dtypes: int64(1), object(1)\n",
            "memory usage: 499.9+ KB\n"
          ],
          "name": "stdout"
        }
      ]
    },
    {
      "cell_type": "code",
      "metadata": {
        "colab": {
          "base_uri": "https://localhost:8080/",
          "height": 0
        },
        "id": "lhLDN1FNlErd",
        "outputId": "de0d1d1c-0dbf-4ec7-8ff4-1a803a0c2829"
      },
      "source": [
        "df.sample(10)"
      ],
      "execution_count": 111,
      "outputs": [
        {
          "output_type": "execute_result",
          "data": {
            "text/html": [
              "<div>\n",
              "<style scoped>\n",
              "    .dataframe tbody tr th:only-of-type {\n",
              "        vertical-align: middle;\n",
              "    }\n",
              "\n",
              "    .dataframe tbody tr th {\n",
              "        vertical-align: top;\n",
              "    }\n",
              "\n",
              "    .dataframe thead th {\n",
              "        text-align: right;\n",
              "    }\n",
              "</style>\n",
              "<table border=\"1\" class=\"dataframe\">\n",
              "  <thead>\n",
              "    <tr style=\"text-align: right;\">\n",
              "      <th></th>\n",
              "      <th>title</th>\n",
              "      <th>label</th>\n",
              "    </tr>\n",
              "  </thead>\n",
              "  <tbody>\n",
              "    <tr>\n",
              "      <th>1453</th>\n",
              "      <td>GFs Shaved Their BFs' Faces... And Blood Was E...</td>\n",
              "      <td>1</td>\n",
              "    </tr>\n",
              "    <tr>\n",
              "      <th>1724</th>\n",
              "      <td>Bit by Careful Bit, Obama Toughens Stance on Iran</td>\n",
              "      <td>0</td>\n",
              "    </tr>\n",
              "    <tr>\n",
              "      <th>2595</th>\n",
              "      <td>27 Of The Most Awesome Trans Moments In 2015</td>\n",
              "      <td>1</td>\n",
              "    </tr>\n",
              "    <tr>\n",
              "      <th>21168</th>\n",
              "      <td>Second-Half Defensive Stand Helps No. 2 Oklaho...</td>\n",
              "      <td>0</td>\n",
              "    </tr>\n",
              "    <tr>\n",
              "      <th>29273</th>\n",
              "      <td>Cheap Vs. Expensive Vodka Taste Test</td>\n",
              "      <td>1</td>\n",
              "    </tr>\n",
              "    <tr>\n",
              "      <th>21469</th>\n",
              "      <td>Justin Bieber Called Bette Midler \"Britt Meddl...</td>\n",
              "      <td>1</td>\n",
              "    </tr>\n",
              "    <tr>\n",
              "      <th>8668</th>\n",
              "      <td>32 Things Karl Pilkington Has 100% Actually Said</td>\n",
              "      <td>1</td>\n",
              "    </tr>\n",
              "    <tr>\n",
              "      <th>29191</th>\n",
              "      <td>If You Aren't Already Terrified Of Pigeons, Th...</td>\n",
              "      <td>1</td>\n",
              "    </tr>\n",
              "    <tr>\n",
              "      <th>9843</th>\n",
              "      <td>Kim Kardashian Just Revealed She Uses Tons Of ...</td>\n",
              "      <td>1</td>\n",
              "    </tr>\n",
              "    <tr>\n",
              "      <th>4740</th>\n",
              "      <td>UConn Nears Perfection, but Has Room to Improve</td>\n",
              "      <td>0</td>\n",
              "    </tr>\n",
              "  </tbody>\n",
              "</table>\n",
              "</div>"
            ],
            "text/plain": [
              "                                                   title  label\n",
              "1453   GFs Shaved Their BFs' Faces... And Blood Was E...      1\n",
              "1724   Bit by Careful Bit, Obama Toughens Stance on Iran      0\n",
              "2595        27 Of The Most Awesome Trans Moments In 2015      1\n",
              "21168  Second-Half Defensive Stand Helps No. 2 Oklaho...      0\n",
              "29273               Cheap Vs. Expensive Vodka Taste Test      1\n",
              "21469  Justin Bieber Called Bette Midler \"Britt Meddl...      1\n",
              "8668    32 Things Karl Pilkington Has 100% Actually Said      1\n",
              "29191  If You Aren't Already Terrified Of Pigeons, Th...      1\n",
              "9843   Kim Kardashian Just Revealed She Uses Tons Of ...      1\n",
              "4740     UConn Nears Perfection, but Has Room to Improve      0"
            ]
          },
          "metadata": {
            "tags": []
          },
          "execution_count": 111
        }
      ]
    },
    {
      "cell_type": "code",
      "metadata": {
        "colab": {
          "base_uri": "https://localhost:8080/"
        },
        "id": "pe-8TcoulGTF",
        "outputId": "9b364223-b2d2-415d-b4b8-9d491c349aff"
      },
      "source": [
        "# We have equal distribution for clickbait and non-clickbait news headlines, thats good for us.\n",
        "df.label.value_counts(True)"
      ],
      "execution_count": 112,
      "outputs": [
        {
          "output_type": "execute_result",
          "data": {
            "text/plain": [
              "0    0.500219\n",
              "1    0.499781\n",
              "Name: label, dtype: float64"
            ]
          },
          "metadata": {
            "tags": []
          },
          "execution_count": 112
        }
      ]
    },
    {
      "cell_type": "code",
      "metadata": {
        "id": "r1b1urwkmgYD"
      },
      "source": [
        "df.to_csv('/content/drive/MyDrive/Colab Notebooks/clcikbait_detection/dataset/Stop_clickbait/stop_clickbait.csv', index=False)"
      ],
      "execution_count": 113,
      "outputs": []
    },
    {
      "cell_type": "markdown",
      "metadata": {
        "id": "rVKmYv05lpyX"
      },
      "source": [
        "#Process dataset"
      ]
    },
    {
      "cell_type": "code",
      "metadata": {
        "colab": {
          "base_uri": "https://localhost:8080/"
        },
        "id": "L6K0YPZ9lrOS",
        "outputId": "e0c6f99d-7108-44a2-9fdb-66de1f6971a1"
      },
      "source": [
        "df.shape, df.columns"
      ],
      "execution_count": 114,
      "outputs": [
        {
          "output_type": "execute_result",
          "data": {
            "text/plain": [
              "((31986, 2), Index(['title', 'label'], dtype='object'))"
            ]
          },
          "metadata": {
            "tags": []
          },
          "execution_count": 114
        }
      ]
    },
    {
      "cell_type": "code",
      "metadata": {
        "colab": {
          "base_uri": "https://localhost:8080/"
        },
        "id": "BlqTJ195oUd3",
        "outputId": "9a7dfa6d-68b8-41fc-9878-3e5290db3f56"
      },
      "source": [
        "df = df.rename(columns={\"title\": \"text\", \"label\": \"is_clickbait\"})\n",
        "df.info()"
      ],
      "execution_count": 115,
      "outputs": [
        {
          "output_type": "stream",
          "text": [
            "<class 'pandas.core.frame.DataFrame'>\n",
            "RangeIndex: 31986 entries, 0 to 31985\n",
            "Data columns (total 2 columns):\n",
            " #   Column        Non-Null Count  Dtype \n",
            "---  ------        --------------  ----- \n",
            " 0   text          31986 non-null  object\n",
            " 1   is_clickbait  31986 non-null  int64 \n",
            "dtypes: int64(1), object(1)\n",
            "memory usage: 499.9+ KB\n"
          ],
          "name": "stdout"
        }
      ]
    },
    {
      "cell_type": "code",
      "metadata": {
        "id": "pKZOADQKygN_"
      },
      "source": [
        "df['text'] = df['text'].apply(lambda t: preprocess_string(t))"
      ],
      "execution_count": 116,
      "outputs": []
    },
    {
      "cell_type": "code",
      "metadata": {
        "id": "NM6G6s9qy-Ec"
      },
      "source": [
        "df = df.sample(frac=1).reset_index()"
      ],
      "execution_count": 117,
      "outputs": []
    },
    {
      "cell_type": "code",
      "metadata": {
        "id": "qHUWxJtvoPC5"
      },
      "source": [
        "Y = df.pop('is_clickbait')\n",
        "X_TEXT = df['text']"
      ],
      "execution_count": 118,
      "outputs": []
    },
    {
      "cell_type": "code",
      "metadata": {
        "colab": {
          "base_uri": "https://localhost:8080/"
        },
        "id": "iFtnAesqotla",
        "outputId": "356467ec-17b1-455a-81c3-ea5c982a9224"
      },
      "source": [
        "Y = np.array(Y)\n",
        "X_TEXT = np.array(X_TEXT)\n",
        "Y.shape, X_TEXT.shape"
      ],
      "execution_count": 119,
      "outputs": [
        {
          "output_type": "execute_result",
          "data": {
            "text/plain": [
              "((31986,), (31986,))"
            ]
          },
          "metadata": {
            "tags": []
          },
          "execution_count": 119
        }
      ]
    },
    {
      "cell_type": "markdown",
      "metadata": {
        "id": "UsZfHd6Poy3d"
      },
      "source": [
        "#Create TF Dataset"
      ]
    },
    {
      "cell_type": "code",
      "metadata": {
        "id": "r1yofvB-o0jH"
      },
      "source": [
        "dataset = tf.data.Dataset.from_tensor_slices((X_TEXT, Y))"
      ],
      "execution_count": 120,
      "outputs": []
    },
    {
      "cell_type": "code",
      "metadata": {
        "colab": {
          "base_uri": "https://localhost:8080/"
        },
        "id": "1Oh6NX8nwN-E",
        "outputId": "6ee4f969-827b-49d7-8963-c22dfbc28a78"
      },
      "source": [
        "for i, (text, label) in enumerate(dataset.take(9)):\n",
        "  print(f'text: {text.numpy()} : is_clickbait : {CLASSES[label.numpy()]}')\n",
        "  "
      ],
      "execution_count": 121,
      "outputs": [
        {
          "output_type": "stream",
          "text": [
            "text: b'internet posting says al qaeda plans dirty bomb attack in new york city' : is_clickbait : b'nonclickbaits'\n",
            "text: b'leisure taiwan launched in taipei world trade center' : is_clickbait : b'nonclickbaits'\n",
            "text: b'voluntary student unionism bill passes australian house of representatives enters senate' : is_clickbait : b'nonclickbaits'\n",
            "text: b'the one thing you never noticed about home alone' : is_clickbait : b'clickbaits'\n",
            "text: b'print version of blender to cease publication' : is_clickbait : b'nonclickbaits'\n",
            "text: b'take a look back at the biggest black friday toys of the past years' : is_clickbait : b'clickbaits'\n",
            "text: b'puff pastry recipes that will make every meal a party' : is_clickbait : b'clickbaits'\n",
            "text: b'this guy pranked his girlfriend every time he took her photo by filming a video instead' : is_clickbait : b'clickbaits'\n",
            "text: b'tornado touches down in joplin missouri' : is_clickbait : b'nonclickbaits'\n"
          ],
          "name": "stdout"
        }
      ]
    },
    {
      "cell_type": "markdown",
      "metadata": {
        "id": "8LfJ9ecxzo7T"
      },
      "source": [
        "#Write data to TFRecord files"
      ]
    },
    {
      "cell_type": "code",
      "metadata": {
        "colab": {
          "base_uri": "https://localhost:8080/"
        },
        "id": "AFNQyzh0zrZu",
        "outputId": "baf2f05d-d12e-4105-fc22-b0a0f6c6c628"
      },
      "source": [
        "nb_texts = len(dataset)\n",
        "shard_size = math.ceil(1.0 * nb_texts / SHARDS)\n",
        "print(\"Pattern matches {} Texts which will be rewritten as {} .tfrec files containing {} texts each.\".format(nb_texts, SHARDS, shard_size))"
      ],
      "execution_count": 122,
      "outputs": [
        {
          "output_type": "stream",
          "text": [
            "Pattern matches 31986 Texts which will be rewritten as 64 .tfrec files containing 500 texts each.\n"
          ],
          "name": "stdout"
        }
      ]
    },
    {
      "cell_type": "code",
      "metadata": {
        "id": "LkBwgNGK0Cll"
      },
      "source": [
        "dataset = dataset.batch(shard_size)"
      ],
      "execution_count": 123,
      "outputs": []
    },
    {
      "cell_type": "code",
      "metadata": {
        "colab": {
          "base_uri": "https://localhost:8080/"
        },
        "id": "5a4u3mbb0HK2",
        "outputId": "57a34450-9a90-410d-84bd-311fb9f1b373"
      },
      "source": [
        "WriteAsTFRecord(dataset, tfrec_root_path, tfrec_output_path)"
      ],
      "execution_count": 125,
      "outputs": [
        {
          "output_type": "stream",
          "text": [
            "Writing TFRecords\n",
            "Wrote file /content/drive/MyDrive/Colab Notebooks/clcikbait_detection/dataset/Stop_clickbait/tfrec_data/stop_clickbait_text00-500.tfrec containing 500 records\n",
            "Wrote file /content/drive/MyDrive/Colab Notebooks/clcikbait_detection/dataset/Stop_clickbait/tfrec_data/stop_clickbait_text01-500.tfrec containing 500 records\n",
            "Wrote file /content/drive/MyDrive/Colab Notebooks/clcikbait_detection/dataset/Stop_clickbait/tfrec_data/stop_clickbait_text02-500.tfrec containing 500 records\n",
            "Wrote file /content/drive/MyDrive/Colab Notebooks/clcikbait_detection/dataset/Stop_clickbait/tfrec_data/stop_clickbait_text03-500.tfrec containing 500 records\n",
            "Wrote file /content/drive/MyDrive/Colab Notebooks/clcikbait_detection/dataset/Stop_clickbait/tfrec_data/stop_clickbait_text04-500.tfrec containing 500 records\n",
            "Wrote file /content/drive/MyDrive/Colab Notebooks/clcikbait_detection/dataset/Stop_clickbait/tfrec_data/stop_clickbait_text05-500.tfrec containing 500 records\n",
            "Wrote file /content/drive/MyDrive/Colab Notebooks/clcikbait_detection/dataset/Stop_clickbait/tfrec_data/stop_clickbait_text06-500.tfrec containing 500 records\n",
            "Wrote file /content/drive/MyDrive/Colab Notebooks/clcikbait_detection/dataset/Stop_clickbait/tfrec_data/stop_clickbait_text07-500.tfrec containing 500 records\n",
            "Wrote file /content/drive/MyDrive/Colab Notebooks/clcikbait_detection/dataset/Stop_clickbait/tfrec_data/stop_clickbait_text08-500.tfrec containing 500 records\n",
            "Wrote file /content/drive/MyDrive/Colab Notebooks/clcikbait_detection/dataset/Stop_clickbait/tfrec_data/stop_clickbait_text09-500.tfrec containing 500 records\n",
            "Wrote file /content/drive/MyDrive/Colab Notebooks/clcikbait_detection/dataset/Stop_clickbait/tfrec_data/stop_clickbait_text10-500.tfrec containing 500 records\n",
            "Wrote file /content/drive/MyDrive/Colab Notebooks/clcikbait_detection/dataset/Stop_clickbait/tfrec_data/stop_clickbait_text11-500.tfrec containing 500 records\n",
            "Wrote file /content/drive/MyDrive/Colab Notebooks/clcikbait_detection/dataset/Stop_clickbait/tfrec_data/stop_clickbait_text12-500.tfrec containing 500 records\n",
            "Wrote file /content/drive/MyDrive/Colab Notebooks/clcikbait_detection/dataset/Stop_clickbait/tfrec_data/stop_clickbait_text13-500.tfrec containing 500 records\n",
            "Wrote file /content/drive/MyDrive/Colab Notebooks/clcikbait_detection/dataset/Stop_clickbait/tfrec_data/stop_clickbait_text14-500.tfrec containing 500 records\n",
            "Wrote file /content/drive/MyDrive/Colab Notebooks/clcikbait_detection/dataset/Stop_clickbait/tfrec_data/stop_clickbait_text15-500.tfrec containing 500 records\n",
            "Wrote file /content/drive/MyDrive/Colab Notebooks/clcikbait_detection/dataset/Stop_clickbait/tfrec_data/stop_clickbait_text16-500.tfrec containing 500 records\n",
            "Wrote file /content/drive/MyDrive/Colab Notebooks/clcikbait_detection/dataset/Stop_clickbait/tfrec_data/stop_clickbait_text17-500.tfrec containing 500 records\n",
            "Wrote file /content/drive/MyDrive/Colab Notebooks/clcikbait_detection/dataset/Stop_clickbait/tfrec_data/stop_clickbait_text18-500.tfrec containing 500 records\n",
            "Wrote file /content/drive/MyDrive/Colab Notebooks/clcikbait_detection/dataset/Stop_clickbait/tfrec_data/stop_clickbait_text19-500.tfrec containing 500 records\n",
            "Wrote file /content/drive/MyDrive/Colab Notebooks/clcikbait_detection/dataset/Stop_clickbait/tfrec_data/stop_clickbait_text20-500.tfrec containing 500 records\n",
            "Wrote file /content/drive/MyDrive/Colab Notebooks/clcikbait_detection/dataset/Stop_clickbait/tfrec_data/stop_clickbait_text21-500.tfrec containing 500 records\n",
            "Wrote file /content/drive/MyDrive/Colab Notebooks/clcikbait_detection/dataset/Stop_clickbait/tfrec_data/stop_clickbait_text22-500.tfrec containing 500 records\n",
            "Wrote file /content/drive/MyDrive/Colab Notebooks/clcikbait_detection/dataset/Stop_clickbait/tfrec_data/stop_clickbait_text23-500.tfrec containing 500 records\n",
            "Wrote file /content/drive/MyDrive/Colab Notebooks/clcikbait_detection/dataset/Stop_clickbait/tfrec_data/stop_clickbait_text24-500.tfrec containing 500 records\n",
            "Wrote file /content/drive/MyDrive/Colab Notebooks/clcikbait_detection/dataset/Stop_clickbait/tfrec_data/stop_clickbait_text25-500.tfrec containing 500 records\n",
            "Wrote file /content/drive/MyDrive/Colab Notebooks/clcikbait_detection/dataset/Stop_clickbait/tfrec_data/stop_clickbait_text26-500.tfrec containing 500 records\n",
            "Wrote file /content/drive/MyDrive/Colab Notebooks/clcikbait_detection/dataset/Stop_clickbait/tfrec_data/stop_clickbait_text27-500.tfrec containing 500 records\n",
            "Wrote file /content/drive/MyDrive/Colab Notebooks/clcikbait_detection/dataset/Stop_clickbait/tfrec_data/stop_clickbait_text28-500.tfrec containing 500 records\n",
            "Wrote file /content/drive/MyDrive/Colab Notebooks/clcikbait_detection/dataset/Stop_clickbait/tfrec_data/stop_clickbait_text29-500.tfrec containing 500 records\n",
            "Wrote file /content/drive/MyDrive/Colab Notebooks/clcikbait_detection/dataset/Stop_clickbait/tfrec_data/stop_clickbait_text30-500.tfrec containing 500 records\n",
            "Wrote file /content/drive/MyDrive/Colab Notebooks/clcikbait_detection/dataset/Stop_clickbait/tfrec_data/stop_clickbait_text31-500.tfrec containing 500 records\n",
            "Wrote file /content/drive/MyDrive/Colab Notebooks/clcikbait_detection/dataset/Stop_clickbait/tfrec_data/stop_clickbait_text32-500.tfrec containing 500 records\n",
            "Wrote file /content/drive/MyDrive/Colab Notebooks/clcikbait_detection/dataset/Stop_clickbait/tfrec_data/stop_clickbait_text33-500.tfrec containing 500 records\n",
            "Wrote file /content/drive/MyDrive/Colab Notebooks/clcikbait_detection/dataset/Stop_clickbait/tfrec_data/stop_clickbait_text34-500.tfrec containing 500 records\n",
            "Wrote file /content/drive/MyDrive/Colab Notebooks/clcikbait_detection/dataset/Stop_clickbait/tfrec_data/stop_clickbait_text35-500.tfrec containing 500 records\n",
            "Wrote file /content/drive/MyDrive/Colab Notebooks/clcikbait_detection/dataset/Stop_clickbait/tfrec_data/stop_clickbait_text36-500.tfrec containing 500 records\n",
            "Wrote file /content/drive/MyDrive/Colab Notebooks/clcikbait_detection/dataset/Stop_clickbait/tfrec_data/stop_clickbait_text37-500.tfrec containing 500 records\n",
            "Wrote file /content/drive/MyDrive/Colab Notebooks/clcikbait_detection/dataset/Stop_clickbait/tfrec_data/stop_clickbait_text38-500.tfrec containing 500 records\n",
            "Wrote file /content/drive/MyDrive/Colab Notebooks/clcikbait_detection/dataset/Stop_clickbait/tfrec_data/stop_clickbait_text39-500.tfrec containing 500 records\n",
            "Wrote file /content/drive/MyDrive/Colab Notebooks/clcikbait_detection/dataset/Stop_clickbait/tfrec_data/stop_clickbait_text40-500.tfrec containing 500 records\n",
            "Wrote file /content/drive/MyDrive/Colab Notebooks/clcikbait_detection/dataset/Stop_clickbait/tfrec_data/stop_clickbait_text41-500.tfrec containing 500 records\n",
            "Wrote file /content/drive/MyDrive/Colab Notebooks/clcikbait_detection/dataset/Stop_clickbait/tfrec_data/stop_clickbait_text42-500.tfrec containing 500 records\n",
            "Wrote file /content/drive/MyDrive/Colab Notebooks/clcikbait_detection/dataset/Stop_clickbait/tfrec_data/stop_clickbait_text43-500.tfrec containing 500 records\n",
            "Wrote file /content/drive/MyDrive/Colab Notebooks/clcikbait_detection/dataset/Stop_clickbait/tfrec_data/stop_clickbait_text44-500.tfrec containing 500 records\n",
            "Wrote file /content/drive/MyDrive/Colab Notebooks/clcikbait_detection/dataset/Stop_clickbait/tfrec_data/stop_clickbait_text45-500.tfrec containing 500 records\n",
            "Wrote file /content/drive/MyDrive/Colab Notebooks/clcikbait_detection/dataset/Stop_clickbait/tfrec_data/stop_clickbait_text46-500.tfrec containing 500 records\n",
            "Wrote file /content/drive/MyDrive/Colab Notebooks/clcikbait_detection/dataset/Stop_clickbait/tfrec_data/stop_clickbait_text47-500.tfrec containing 500 records\n",
            "Wrote file /content/drive/MyDrive/Colab Notebooks/clcikbait_detection/dataset/Stop_clickbait/tfrec_data/stop_clickbait_text48-500.tfrec containing 500 records\n",
            "Wrote file /content/drive/MyDrive/Colab Notebooks/clcikbait_detection/dataset/Stop_clickbait/tfrec_data/stop_clickbait_text49-500.tfrec containing 500 records\n",
            "Wrote file /content/drive/MyDrive/Colab Notebooks/clcikbait_detection/dataset/Stop_clickbait/tfrec_data/stop_clickbait_text50-500.tfrec containing 500 records\n",
            "Wrote file /content/drive/MyDrive/Colab Notebooks/clcikbait_detection/dataset/Stop_clickbait/tfrec_data/stop_clickbait_text51-500.tfrec containing 500 records\n",
            "Wrote file /content/drive/MyDrive/Colab Notebooks/clcikbait_detection/dataset/Stop_clickbait/tfrec_data/stop_clickbait_text52-500.tfrec containing 500 records\n",
            "Wrote file /content/drive/MyDrive/Colab Notebooks/clcikbait_detection/dataset/Stop_clickbait/tfrec_data/stop_clickbait_text53-500.tfrec containing 500 records\n",
            "Wrote file /content/drive/MyDrive/Colab Notebooks/clcikbait_detection/dataset/Stop_clickbait/tfrec_data/stop_clickbait_text54-500.tfrec containing 500 records\n",
            "Wrote file /content/drive/MyDrive/Colab Notebooks/clcikbait_detection/dataset/Stop_clickbait/tfrec_data/stop_clickbait_text55-500.tfrec containing 500 records\n",
            "Wrote file /content/drive/MyDrive/Colab Notebooks/clcikbait_detection/dataset/Stop_clickbait/tfrec_data/stop_clickbait_text56-500.tfrec containing 500 records\n",
            "Wrote file /content/drive/MyDrive/Colab Notebooks/clcikbait_detection/dataset/Stop_clickbait/tfrec_data/stop_clickbait_text57-500.tfrec containing 500 records\n",
            "Wrote file /content/drive/MyDrive/Colab Notebooks/clcikbait_detection/dataset/Stop_clickbait/tfrec_data/stop_clickbait_text58-500.tfrec containing 500 records\n",
            "Wrote file /content/drive/MyDrive/Colab Notebooks/clcikbait_detection/dataset/Stop_clickbait/tfrec_data/stop_clickbait_text59-500.tfrec containing 500 records\n",
            "Wrote file /content/drive/MyDrive/Colab Notebooks/clcikbait_detection/dataset/Stop_clickbait/tfrec_data/stop_clickbait_text60-500.tfrec containing 500 records\n",
            "Wrote file /content/drive/MyDrive/Colab Notebooks/clcikbait_detection/dataset/Stop_clickbait/tfrec_data/stop_clickbait_text61-500.tfrec containing 500 records\n",
            "Wrote file /content/drive/MyDrive/Colab Notebooks/clcikbait_detection/dataset/Stop_clickbait/tfrec_data/stop_clickbait_text62-500.tfrec containing 500 records\n",
            "Wrote file /content/drive/MyDrive/Colab Notebooks/clcikbait_detection/dataset/Stop_clickbait/tfrec_data/stop_clickbait_text63-486.tfrec containing 486 records\n"
          ],
          "name": "stdout"
        }
      ]
    },
    {
      "cell_type": "markdown",
      "metadata": {
        "id": "tsm82r-S1RaY"
      },
      "source": [
        "#Read TFRecord files into TF Dataset "
      ]
    },
    {
      "cell_type": "code",
      "metadata": {
        "colab": {
          "base_uri": "https://localhost:8080/",
          "height": 35
        },
        "id": "zHBmJPGP1YqG",
        "outputId": "b7e7fcdb-810d-41ef-817c-ce2ed085392b"
      },
      "source": [
        "# read from TFRecords. For optimal performance, read from multiple\n",
        "# TFRecord files at once and set the option experimental_deterministic = False\n",
        "# to allow order-altering optimizations.\n",
        "\n",
        "option_no_order = tf.data.Options()\n",
        "option_no_order.experimental_deterministic = False\n",
        "\n",
        "filenames = tf.io.gfile.glob(tfrec_output_path + \"*.tfrec\")\n",
        "type(filenames)\n",
        "#len(filenames)\n",
        "filenames[0]"
      ],
      "execution_count": 136,
      "outputs": [
        {
          "output_type": "execute_result",
          "data": {
            "application/vnd.google.colaboratory.intrinsic+json": {
              "type": "string"
            },
            "text/plain": [
              "'/content/drive/MyDrive/Colab Notebooks/clcikbait_detection/dataset/Stop_clickbait/tfrec_data/stop_clickbait_text00-500.tfrec'"
            ]
          },
          "metadata": {
            "tags": []
          },
          "execution_count": 136
        }
      ]
    },
    {
      "cell_type": "code",
      "metadata": {
        "id": "qhstDQk71bEs"
      },
      "source": [
        "dataset_r = tf.data.TFRecordDataset(filenames, num_parallel_reads=AUTO)\n",
        "dataset_r = dataset_r.with_options(option_no_order)\n",
        "dataset_r = dataset_r.map(read_tfrecord, num_parallel_calls=AUTO)\n",
        "# For true randomness, we set the shuffle buffer to the full dataset size.\n",
        "dataset_r = dataset_r.shuffle(nb_texts)"
      ],
      "execution_count": 131,
      "outputs": []
    },
    {
      "cell_type": "code",
      "metadata": {
        "colab": {
          "base_uri": "https://localhost:8080/"
        },
        "id": "aEPgP1lm2K9z",
        "outputId": "e41d0e88-7d12-4758-b1c4-3ff8c2d3d89b"
      },
      "source": [
        "for i, (text, class_num, label) in enumerate(dataset_r.take(10)):\n",
        "  print(f'text: {text.numpy()} : is_clickbait : {bool(class_num.numpy)}')\n",
        "  "
      ],
      "execution_count": 133,
      "outputs": [
        {
          "output_type": "stream",
          "text": [
            "text: b'moldovan wines win three medals at contest in bordeaux' : is_clickbait : True\n",
            "text: b'two pilots dead in richmond plane crash' : is_clickbait : True\n",
            "text: b'will smith appeared on good morning america to talk about the oscars' : is_clickbait : True\n",
            "text: b'zac efron and the rock are looking extra fine on the set of baywatch' : is_clickbait : True\n",
            "text: b'this hunger games interpretation will change the way you see the mockingjay' : is_clickbait : True\n",
            "text: b'tour de taiwan stage european american cyclists rise up' : is_clickbait : True\n",
            "text: b'someone at the all india bakchod office has lost their damn mind' : is_clickbait : True\n",
            "text: b'canadian cops are giving out the most dad winter driving advice on facebook' : is_clickbait : True\n",
            "text: b'how adulty are you' : is_clickbait : True\n",
            "text: b'stevie wonder took james corden on the best carpool karaoke ride ever' : is_clickbait : True\n"
          ],
          "name": "stdout"
        }
      ]
    }
  ]
}