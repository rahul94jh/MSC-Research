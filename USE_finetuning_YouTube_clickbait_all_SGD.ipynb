{
  "nbformat": 4,
  "nbformat_minor": 0,
  "metadata": {
    "colab": {
      "name": "USE_finetuning_YouTube_clickbait_all.ipynb",
      "provenance": [],
      "collapsed_sections": [
        "KMTn9bhktYps",
        "cDzVIeTqtgHF",
        "HKcowprstl0r",
        "HWD2vnekDCr6",
        "fe8RMZlBoEVg",
        "Pvp9_oivD_QD",
        "HyRKSP2zwYyo",
        "dexXAe2b0LQl",
        "CsCwE3RZSi3e",
        "JB9jLSmmxlRX",
        "KGm28Sny7Wbg",
        "u3EcfqHpnb7M",
        "wUbL6y3Qnowd",
        "V3DsGFsKnteT",
        "36FvI_Jfnzm4",
        "yC6LVHAyn-hs",
        "q2_erN4OoLL5",
        "Ldte4xEboU8H"
      ],
      "mount_file_id": "1lcHESYBH9Am8tgTInSSWgKKt91tPEWJ3",
      "authorship_tag": "ABX9TyNlzNWp5x74Dd4MHqoLKJfv",
      "include_colab_link": true
    },
    "kernelspec": {
      "name": "python3",
      "display_name": "Python 3"
    },
    "language_info": {
      "name": "python"
    },
    "accelerator": "GPU"
  },
  "cells": [
    {
      "cell_type": "markdown",
      "metadata": {
        "id": "view-in-github",
        "colab_type": "text"
      },
      "source": [
        "<a href=\"https://colab.research.google.com/github/rahul94jh/MSC-Research/blob/main/USE_finetuning_YouTube_clickbait_all_SGD.ipynb\" target=\"_parent\"><img src=\"https://colab.research.google.com/assets/colab-badge.svg\" alt=\"Open In Colab\"/></a>"
      ]
    },
    {
      "cell_type": "markdown",
      "metadata": {
        "id": "KMTn9bhktYps"
      },
      "source": [
        "#Setup"
      ]
    },
    {
      "cell_type": "code",
      "metadata": {
        "colab": {
          "base_uri": "https://localhost:8080/"
        },
        "id": "aXthlH4rRNk8",
        "outputId": "ec22ae7a-d1a1-47fd-d773-267c98207967"
      },
      "source": [
        "from google.colab import drive\n",
        "drive.mount('/content/drive')"
      ],
      "execution_count": 4,
      "outputs": [
        {
          "output_type": "stream",
          "text": [
            "Drive already mounted at /content/drive; to attempt to forcibly remount, call drive.mount(\"/content/drive\", force_remount=True).\n"
          ],
          "name": "stdout"
        }
      ]
    },
    {
      "cell_type": "code",
      "metadata": {
        "colab": {
          "base_uri": "https://localhost:8080/"
        },
        "id": "U7pZ99IQqhKo",
        "outputId": "f76bb033-472c-4df7-d455-fbc1134478eb"
      },
      "source": [
        "#Check GPU, if assigned k8 then factory reset couple of times until we get Tesla GPU\n",
        "!nvidia-smi"
      ],
      "execution_count": 5,
      "outputs": [
        {
          "output_type": "stream",
          "text": [
            "Thu Jul 22 08:19:23 2021       \n",
            "+-----------------------------------------------------------------------------+\n",
            "| NVIDIA-SMI 470.42.01    Driver Version: 460.32.03    CUDA Version: 11.2     |\n",
            "|-------------------------------+----------------------+----------------------+\n",
            "| GPU  Name        Persistence-M| Bus-Id        Disp.A | Volatile Uncorr. ECC |\n",
            "| Fan  Temp  Perf  Pwr:Usage/Cap|         Memory-Usage | GPU-Util  Compute M. |\n",
            "|                               |                      |               MIG M. |\n",
            "|===============================+======================+======================|\n",
            "|   0  Tesla T4            Off  | 00000000:00:04.0 Off |                    0 |\n",
            "| N/A   47C    P8    10W /  70W |      0MiB / 15109MiB |      0%      Default |\n",
            "|                               |                      |                  N/A |\n",
            "+-------------------------------+----------------------+----------------------+\n",
            "                                                                               \n",
            "+-----------------------------------------------------------------------------+\n",
            "| Processes:                                                                  |\n",
            "|  GPU   GI   CI        PID   Type   Process name                  GPU Memory |\n",
            "|        ID   ID                                                   Usage      |\n",
            "|=============================================================================|\n",
            "|  No running processes found                                                 |\n",
            "+-----------------------------------------------------------------------------+\n"
          ],
          "name": "stdout"
        }
      ]
    },
    {
      "cell_type": "code",
      "metadata": {
        "id": "73DTOjAUnKJO"
      },
      "source": [
        "!pip install -q tensorflow-text\n",
        "!pip install -q tf-models-official"
      ],
      "execution_count": 6,
      "outputs": []
    },
    {
      "cell_type": "markdown",
      "metadata": {
        "id": "cDzVIeTqtgHF"
      },
      "source": [
        "#Imports"
      ]
    },
    {
      "cell_type": "code",
      "metadata": {
        "id": "4Q_MKLxE-7yz",
        "colab": {
          "base_uri": "https://localhost:8080/"
        },
        "outputId": "3984e5d5-f921-46cc-8443-37147f8007b3"
      },
      "source": [
        "import os, math\n",
        "import numpy as np\n",
        "import pandas as pd\n",
        "import requests\n",
        "import shutil\n",
        "import re\n",
        "from pathlib import Path\n",
        "import random\n",
        "import matplotlib as mpl\n",
        "from matplotlib import pyplot as plt\n",
        "import seaborn as sns\n",
        "\n",
        "from sklearn.metrics.pairwise import cosine_similarity\n",
        "from sklearn.metrics import roc_auc_score\n",
        "from sklearn.metrics import confusion_matrix\n",
        "from sklearn.metrics import accuracy_score\n",
        "from sklearn.metrics import precision_score\n",
        "from sklearn.metrics import recall_score\n",
        "from sklearn.metrics import f1_score\n",
        "from sklearn.metrics import cohen_kappa_score\n",
        "\n",
        "\n",
        "\n",
        "import tensorflow as tf\n",
        "import tensorflow_hub as hub\n",
        "import tensorflow_text as text\n",
        "import tensorflow_addons as tfa\n",
        "from tensorflow import keras\n",
        "from tensorflow.keras import layers\n",
        "from official.nlp.data import classifier_data_lib\n",
        "from official.nlp.bert import tokenization\n",
        "from official.nlp import optimization\n",
        "from keras.callbacks import ReduceLROnPlateau\n",
        "from tensorflow.keras.callbacks import LearningRateScheduler\n",
        "from tensorflow.keras.optimizers import SGD\n",
        "\n",
        "\n",
        "from tensorflow import keras\n",
        "from official.nlp import optimization  # to create AdamW optmizer\n",
        "AUTO = tf.data.experimental.AUTOTUNE # used in tf.data.Dataset API\n",
        "\n",
        "tf.get_logger().setLevel('ERROR')\n",
        "\n",
        "import sys\n",
        "\n",
        "#Import custom script\n",
        "sys.path.append('/content/drive/MyDrive/Colab Notebooks/clcikbait_detection/scripts')\n",
        "from tf_dataset_helpers import read_tfrec_data\n",
        "import model_helpers as mh\n",
        "import visualization_helpers as vh"
      ],
      "execution_count": 7,
      "outputs": [
        {
          "output_type": "stream",
          "text": [
            "/usr/local/lib/python3.7/dist-packages/tensorflow/python/keras/optimizer_v2/optimizer_v2.py:375: UserWarning: The `lr` argument is deprecated, use `learning_rate` instead.\n",
            "  \"The `lr` argument is deprecated, use `learning_rate` instead.\")\n"
          ],
          "name": "stderr"
        }
      ]
    },
    {
      "cell_type": "code",
      "metadata": {
        "colab": {
          "base_uri": "https://localhost:8080/"
        },
        "id": "5RE9WE8LtUhd",
        "outputId": "1169cc03-423d-4ae4-8d9a-75962a790eba"
      },
      "source": [
        "print(\"TF Version: \", tf.__version__)\n",
        "print(\"Eager mode: \", tf.executing_eagerly())\n",
        "print(\"Hub version: \", hub.__version__)\n",
        "print(\"GPU is\", \"available\" if tf.config.experimental.list_physical_devices(\"GPU\") else \"NOT AVAILABLE\")"
      ],
      "execution_count": 8,
      "outputs": [
        {
          "output_type": "stream",
          "text": [
            "TF Version:  2.5.0\n",
            "Eager mode:  True\n",
            "Hub version:  0.12.0\n",
            "GPU is available\n"
          ],
          "name": "stdout"
        }
      ]
    },
    {
      "cell_type": "markdown",
      "metadata": {
        "id": "HKcowprstl0r"
      },
      "source": [
        "#Configs"
      ]
    },
    {
      "cell_type": "markdown",
      "metadata": {
        "id": "HWD2vnekDCr6"
      },
      "source": [
        "##Sentence encoder configs"
      ]
    },
    {
      "cell_type": "code",
      "metadata": {
        "id": "GTNn3LRp7DfR"
      },
      "source": [
        "encoder = hub.load('https://tfhub.dev/google/universal-sentence-encoder/4')\n",
        "USE_layer = hub.KerasLayer(\n",
        "    encoder,\n",
        "    input_shape=[],\n",
        "    dtype=tf.string, \n",
        "    trainable=True, name='USE_embedding')"
      ],
      "execution_count": 9,
      "outputs": []
    },
    {
      "cell_type": "markdown",
      "metadata": {
        "id": "fe8RMZlBoEVg"
      },
      "source": [
        "##General config"
      ]
    },
    {
      "cell_type": "code",
      "metadata": {
        "id": "v9DLhbQrtnGd"
      },
      "source": [
        "tfrec_trainVal_files_path = '/content/drive/MyDrive/Colab Notebooks/clcikbait_detection/dataset/YouTube_clickbait/tfrec_data/train_val/'\n",
        "tfrec_test_files_path = '/content/drive/MyDrive/Colab Notebooks/clcikbait_detection/dataset/YouTube_clickbait/tfrec_data/test/'\n",
        "stop_clickbait_tfrecFiles_path = '/content/drive/MyDrive/Colab Notebooks/clcikbait_detection/dataset/Stop_clickbait/tfrec_data/'\n",
        "fvc_clickbait_tfrecFiles_path = '/content/drive/MyDrive/Colab Notebooks/clcikbait_detection/dataset/FVC_CORPUS/tfrec_data/'\n",
        "tfrec_benchmark_files_path = '/content/drive/MyDrive/Colab Notebooks/clcikbait_detection/dataset/invid_fake_video_v2/tfrec_data/'\n",
        "\n",
        "model_root_path = '/content/drive/MyDrive/Colab Notebooks/clcikbait_detection/dataset/YouTube_clickbait/saved_models'\n",
        "saved_model_name = f'youtube_clickbait_finetuned_USE_all'\n",
        "saved_model_path = os.path.join(model_root_path, saved_model_name )\n",
        "\n",
        "checkpoint_root_path = '/content/drive/MyDrive/Colab Notebooks/clcikbait_detection/dataset/YouTube_clickbait/checkpoints/youtube_clickbait_finetuned_USE_all'\n",
        "if not os.path.exists(checkpoint_root_path):\n",
        "    os.makedirs(checkpoint_root_path)\n",
        "model_checkpoint_path = os.path.join(checkpoint_root_path, f'youtube_clickbait_finetuned_USE_all_checkpoint' )\n",
        "\n",
        "\n",
        "BATCH_SIZE = 32  \n",
        "# Label categories\n",
        "label_list = [0,1]\n",
        "\n",
        "init_lr = 1e-1\n",
        "\n",
        "epochs = 30"
      ],
      "execution_count": 10,
      "outputs": []
    },
    {
      "cell_type": "markdown",
      "metadata": {
        "id": "Pvp9_oivD_QD"
      },
      "source": [
        "#Scripts"
      ]
    },
    {
      "cell_type": "code",
      "metadata": {
        "id": "7e62N59Ttk60",
        "cellView": "form"
      },
      "source": [
        "#@title \"Utilities [TF Dataset]\"\n",
        "def read_tfrecord(example):\n",
        "    features = {\n",
        "        \"class\": tf.io.FixedLenFeature([], tf.int64),   # shape [] means scalar\n",
        "        \"text\": tf.io.FixedLenFeature([], tf.string),\n",
        "        \"label\": tf.io.FixedLenFeature([], tf.string)  # one bytestring\n",
        "    }\n",
        "    # decode the TFRecord\n",
        "    example = tf.io.parse_single_example(example, features)\n",
        "    \n",
        "    \n",
        "    class_num = example['class']\n",
        "    text = example['text']\n",
        "    label  = example['label']\n",
        "    return text, class_num, label\n",
        "\n",
        "def load_dataset(filenames):\n",
        "  option_no_order = tf.data.Options()\n",
        "  option_no_order.experimental_deterministic = False\n",
        "\n",
        "  dataset = tf.data.TFRecordDataset(filenames, num_parallel_reads=AUTO)\n",
        "  dataset = dataset.with_options(option_no_order)\n",
        "  dataset = dataset.map(read_tfrecord, num_parallel_calls=AUTO)\n",
        "  return dataset\n",
        "\n",
        "def get_batched_dataset(dataset, train=False):\n",
        "  if train:\n",
        "    dataset = dataset.shuffle(num_train_examples)\n",
        "  dataset = dataset.batch(BATCH_SIZE, drop_remainder=True)\n",
        "  dataset = dataset.cache().prefetch(AUTO) # prefetch next batch while training (autotune prefetch buffer size)\n",
        "  return dataset"
      ],
      "execution_count": 11,
      "outputs": []
    },
    {
      "cell_type": "code",
      "metadata": {
        "id": "ADXfSXSIWGpt",
        "cellView": "form"
      },
      "source": [
        "#@title \"Utilities [Create Model Definition]\"\n",
        "def create_model():\n",
        "\n",
        " model = tf.keras.models.Sequential()\n",
        " model.add(USE_layer)\n",
        " model.add(tf.keras.layers.Dropout(0.2))\n",
        " model.add(tf.keras.layers.Dense(128, activation='relu'))\n",
        " model.add(tf.keras.layers.BatchNormalization())\n",
        " model.add(tf.keras.layers.Dropout(0.2))\n",
        " model.add(tf.keras.layers.Dense(1, activation='sigmoid'))\n",
        " return model"
      ],
      "execution_count": 12,
      "outputs": []
    },
    {
      "cell_type": "code",
      "metadata": {
        "id": "maZRzNq8zhiW",
        "cellView": "form"
      },
      "source": [
        "#@title \"Utilities [Model prediction]\"\n",
        "def get_metrics(y_test, y_pred):\n",
        "    # accuracy: (tp + tn) / (p + n)\n",
        "    accuracy = accuracy_score(y_test, y_pred)\n",
        "    print('Accuracy: %f' % accuracy)\n",
        "    # precision tp / (tp + fp)\n",
        "    precision = precision_score(y_test, y_pred)\n",
        "    print('Precision: %f' % precision)\n",
        "    # recall: tp / (tp + fn)\n",
        "    recall = recall_score(y_test, y_pred)\n",
        "    print('Recall: %f' % recall)\n",
        "    # f1: 2 tp / (2 tp + fp + fn)\n",
        "    f1 = f1_score(y_test, y_pred)\n",
        "    print('F1 score: %f' % f1)\n",
        "    # ROC AUC\n",
        "    auc = roc_auc_score(y_test, y_pred)\n",
        "    print('ROC AUC: %f' % auc)\n",
        "    # confusion matrix\n",
        "    matrix = confusion_matrix(y_test, y_pred)\n",
        "    print(matrix)\n",
        "\n",
        "def predict_on_test_dataset(model, test_data, BATCH_SIZE=32):\n",
        "  y_true=[]\n",
        "  \n",
        "  for text_feat, labels in test_data:\n",
        "    for i in range(BATCH_SIZE):\n",
        "      y_true.append(labels[i].numpy())\n",
        "\n",
        "\n",
        "  predicted_scores  = model.predict(test_data)\n",
        "  y_pred = (predicted_scores > 0.5).astype(\"int32\")\n",
        "  y_pred = y_pred.reshape(-1)\n",
        "  get_metrics(y_true, y_pred)\n",
        "  vh.plot_cm(y_true, predicted_scores)\n",
        "  print()"
      ],
      "execution_count": 13,
      "outputs": []
    },
    {
      "cell_type": "code",
      "metadata": {
        "id": "Dqg_9QR7hfk_",
        "cellView": "form"
      },
      "source": [
        "#@title \"Utilities [Visualization]\"\n",
        "def plot_graphs(history, metric):\n",
        "  plt.plot(history.history[metric])\n",
        "  plt.plot(history.history['val_'+metric], '')\n",
        "  plt.xlabel(\"Epochs\")\n",
        "  plt.ylabel(metric)\n",
        "  plt.legend([metric, 'val_'+metric])"
      ],
      "execution_count": 14,
      "outputs": []
    },
    {
      "cell_type": "code",
      "metadata": {
        "cellView": "form",
        "id": "zwICLvt03qG3"
      },
      "source": [
        "#@title \"Utilities [Gradient function]\"\n",
        "#https://keras.io/examples/vision/gradient_centralization/#implement-gradient-centralization\n",
        "from tensorflow.keras.optimizers import RMSprop\n",
        "class GCRMSprop(RMSprop):\n",
        "    def get_gradients(self, loss, params):\n",
        "        # We here just provide a modified get_gradients() function since we are\n",
        "        # trying to just compute the centralized gradients.\n",
        "\n",
        "        grads = []\n",
        "        gradients = super().get_gradients()\n",
        "        for grad in gradients:\n",
        "            grad_len = len(grad.shape)\n",
        "            if grad_len > 1:\n",
        "                axis = list(range(grad_len - 1))\n",
        "                grad -= tf.reduce_mean(grad, axis=axis, keep_dims=True)\n",
        "            grads.append(grad)\n",
        "\n",
        "        return grads"
      ],
      "execution_count": 15,
      "outputs": []
    },
    {
      "cell_type": "code",
      "metadata": {
        "id": "c1mlb3xZMdnu"
      },
      "source": [
        "class LearningRateDecay:\n",
        "\tdef plot(self, epochs, title=\"Learning Rate Schedule\"):\n",
        "\t\t# compute the set of learning rates for each corresponding\n",
        "\t\t# epoch\n",
        "\t\tlrs = [self(i) for i in epochs]\n",
        "\t\t# the learning rate schedule\n",
        "\t\tplt.style.use(\"ggplot\")\n",
        "\t\tplt.figure()\n",
        "\t\tplt.plot(epochs, lrs)\n",
        "\t\tplt.title(title)\n",
        "\t\tplt.xlabel(\"Epoch #\")\n",
        "\t\tplt.ylabel(\"Learning Rate\")\n",
        "\n",
        "class StepDecay(LearningRateDecay):\n",
        "\tdef __init__(self, initAlpha=0.01, factor=0.25, dropEvery=10):\n",
        "\t\t# store the base initial learning rate, drop factor, and\n",
        "\t\t# epochs to drop every\n",
        "\t\tself.initAlpha = initAlpha\n",
        "\t\tself.factor = factor\n",
        "\t\tself.dropEvery = dropEvery\n",
        "\tdef __call__(self, epoch):\n",
        "\t\t# compute the learning rate for the current epoch\n",
        "\t\texp = np.floor((1 + epoch) / self.dropEvery)\n",
        "\t\talpha = self.initAlpha * (self.factor ** exp)\n",
        "\t\t# return the learning rate\n",
        "\t\treturn float(alpha)\n",
        "\n",
        "class PolynomialDecay(LearningRateDecay):\n",
        "\tdef __init__(self, maxEpochs=100, initAlpha=0.01, power=1.0):\n",
        "\t\t# store the maximum number of epochs, base learning rate,\n",
        "\t\t# and power of the polynomial\n",
        "\t\tself.maxEpochs = maxEpochs\n",
        "\t\tself.initAlpha = initAlpha\n",
        "\t\tself.power = power\n",
        "\tdef __call__(self, epoch):\n",
        "\t\t# compute the new learning rate based on polynomial decay\n",
        "\t\tdecay = (1 - (epoch / float(self.maxEpochs))) ** self.power\n",
        "\t\talpha = self.initAlpha * decay\n",
        "\t\t# return the new learning rate\n",
        "\t\treturn float(alpha)"
      ],
      "execution_count": 16,
      "outputs": []
    },
    {
      "cell_type": "markdown",
      "metadata": {
        "id": "HyRKSP2zwYyo"
      },
      "source": [
        "#Read TFRecord data"
      ]
    },
    {
      "cell_type": "code",
      "metadata": {
        "colab": {
          "base_uri": "https://localhost:8080/"
        },
        "id": "sFYhIMQxwy6k",
        "outputId": "1d04c35d-3b85-4378-b8dd-81b45f8dae1d"
      },
      "source": [
        "#@title  \"Load files & Split into Train and Val\"\n",
        "\n",
        "# read tfrec files from disk storage\n",
        "read_YouTube_data = read_tfrec_data(tfrec_trainVal_files_path, VALIDATION_SPLIT=0.2, TESTING_SPLIT=0.0, MODE=1)\n",
        "\n",
        "read_stop_clickbait_data = read_tfrec_data(stop_clickbait_tfrecFiles_path, VALIDATION_SPLIT=0.2, TESTING_SPLIT=0.0, MODE=1)\n",
        "\n",
        "read_fvc_clickbait_data = read_tfrec_data(fvc_clickbait_tfrecFiles_path, VALIDATION_SPLIT=0.2, TESTING_SPLIT=0.0, MODE=1)\n",
        "\n",
        "# splitting data files between training, validation and test\n",
        "YouTube_filenames, YouTube_training_filenames, YouTube_validation_filenames, YouTube_testing_filenames = read_YouTube_data.get_tfrec_files()\n",
        "\n",
        "stop_clickbait_filenames, stop_clickbait_training_filenames,stop_clickbait_validation_filenames, stop_clickbait_testing_filenames = read_stop_clickbait_data.get_tfrec_files()\n",
        "\n",
        "fvc_filenames, fvc_training_filenames, fvc_validation_filenames, fvc_testing_filenames = read_fvc_clickbait_data.get_tfrec_files()\n",
        "\n",
        "\n",
        "filenames = YouTube_filenames + stop_clickbait_filenames + fvc_filenames\n",
        "training_filenames = YouTube_training_filenames + stop_clickbait_training_filenames + fvc_training_filenames\n",
        "validation_filenames = YouTube_validation_filenames + stop_clickbait_validation_filenames + fvc_validation_filenames\n",
        "\n",
        "random.shuffle(filenames)\n",
        "random.shuffle(training_filenames)\n",
        "random.shuffle(validation_filenames)\n",
        "\n",
        "print(f'Length FileNames : {len(filenames)} Length Training FileNames : {len(training_filenames)} Length Validation FileNames : {len(validation_filenames)}')\n",
        "\n",
        "num_train_examples = 974 * len(YouTube_training_filenames) + 500 * len(stop_clickbait_training_filenames) + 100 * len(fvc_training_filenames)\n",
        "num_total_examples = 974 * len(YouTube_filenames) + 500 * len(stop_clickbait_filenames) + 100 * len(fvc_filenames)\n",
        "\n",
        "validation_steps = int(num_total_examples  // len(filenames) * len(validation_filenames)) // BATCH_SIZE\n",
        "steps_per_epoch = int(num_total_examples  // len(filenames) * len(training_filenames)) // BATCH_SIZE\n",
        "\n",
        "num_train_steps = steps_per_epoch * epochs\n",
        "num_warmup_steps = num_train_steps // 10\n",
        "\n",
        "print(\"With a batch size of {}, there will be {} batches per training epoch and {} batch(es) per validation run.\".format(BATCH_SIZE, steps_per_epoch, validation_steps))\n",
        "\n"
      ],
      "execution_count": 17,
      "outputs": [
        {
          "output_type": "stream",
          "text": [
            "Pattern matches 14 data files. Splitting dataset into 12 training files , 2 validation files and 0 test files\n",
            "Pattern matches 64 data files. Splitting dataset into 52 training files , 12 validation files and 0 test files\n",
            "Pattern matches 16 data files. Splitting dataset into 13 training files , 3 validation files and 0 test files\n",
            "Length FileNames : 94 Length Training FileNames : 77 Length Validation FileNames : 17\n",
            "With a batch size of 32, there will be 1207 batches per training epoch and 266 batch(es) per validation run.\n"
          ],
          "name": "stdout"
        }
      ]
    },
    {
      "cell_type": "code",
      "metadata": {
        "colab": {
          "base_uri": "https://localhost:8080/"
        },
        "id": "EnFB1lF5p65f",
        "outputId": "94f7e4cf-a02f-4691-c1d7-778975097fb7"
      },
      "source": [
        "#@title  \"Load Test and Benchmarking files\"\n",
        "read_test_data = read_tfrec_data(tfrec_test_files_path, VALIDATION_SPLIT=0.0, TESTING_SPLIT=0.0, MODE=1) # Used only for testing\n",
        "read_benchmark_data = read_tfrec_data(tfrec_benchmark_files_path, VALIDATION_SPLIT=0.0, TESTING_SPLIT=0.0, MODE=1) # Used only for benchmarking\n",
        "\n",
        "\n",
        "testing_filenames, _, _,_ = read_test_data.get_tfrec_files()\n",
        "benchmarking_filenames, _, _,_ = read_benchmark_data.get_tfrec_files()\n",
        "\n",
        "len(testing_filenames), len(benchmarking_filenames)"
      ],
      "execution_count": 18,
      "outputs": [
        {
          "output_type": "stream",
          "text": [
            "Pattern matches 2 data files. Splitting dataset into 2 training files , 0 validation files and 0 test files\n",
            "Pattern matches 4 data files. Splitting dataset into 4 training files , 0 validation files and 0 test files\n"
          ],
          "name": "stdout"
        },
        {
          "output_type": "execute_result",
          "data": {
            "text/plain": [
              "(2, 4)"
            ]
          },
          "metadata": {
            "tags": []
          },
          "execution_count": 18
        }
      ]
    },
    {
      "cell_type": "markdown",
      "metadata": {
        "id": "dexXAe2b0LQl"
      },
      "source": [
        "#Load TFRecord into TF Dataset"
      ]
    },
    {
      "cell_type": "code",
      "metadata": {
        "id": "5a2YkXiW0Osa"
      },
      "source": [
        "# create the TF datasets\n",
        "with tf.device('/cpu:0'):\n",
        "  train_ds = load_dataset(training_filenames)\n",
        "  val_ds = load_dataset(validation_filenames)\n",
        "  test_ds = load_dataset(testing_filenames)\n",
        "  benchmark_ds = load_dataset(benchmarking_filenames)"
      ],
      "execution_count": 19,
      "outputs": []
    },
    {
      "cell_type": "code",
      "metadata": {
        "colab": {
          "base_uri": "https://localhost:8080/"
        },
        "id": "81QxcdL40xMi",
        "outputId": "d5e10fd8-a048-42e8-a0fd-74d0529d1a4b"
      },
      "source": [
        "for i,(text, class_num, label) in enumerate(train_ds.take(10)):\n",
        "  print(f\"text : {text.numpy()}, class : {class_num.numpy()}, label : {label.numpy()}\")"
      ],
      "execution_count": 20,
      "outputs": [
        {
          "output_type": "stream",
          "text": [
            "text : b'movies in minutes final destination trailer spoof of the next final destination special thanks to dtrix district link for the beat used in this video check out my nd channel twitter facebook website also thanks for the cameos ytf victor king kevjumba', class : 0, label : b'nonclickbaits'\n",
            "text : b'repo prank come join me on facebook instagram and instagram romanatwood song available here even for us this was a awkward video to make but a lot of fun join us on fb prankster dennis roady', class : 1, label : b'clickbaits'\n",
            "text : b'world s hardest prop hunt ever garry s mod let s go for likes subscribe for more videos check out more videos over here q a series challenge series check out my friends jelly slogoman on my channel i play a bunch of amazing games such as happy wheels gta and minecraft check out my socialmedia twitter instagram facebook outro song can t stop won t stop mighty high download on itunes intro song nu disco televisor neon monstercat release', class : 1, label : b'clickbaits'\n",
            "text : b'epic superbowl experience thank you for stopping by the channel if you enjoyed join the bruh bruh family by clicking here d join the fun snapchat youngsimbahhh twitter instagram merch for business and bookings please email keep grindin my friends', class : 1, label : b'clickbaits'\n",
            "text : b'the best burger ever this burger s got everything meat bun the red stuff see more like us on follow us on follow us on cast mike trapp zac oyama katie marovitch grant o brien ally beardsley crew director ryan anthony martin writer mike trapp producer shane crown production coordinator francesca mclafferty director of photography alex pollini st ac chris marius jones nd ac dit matt stevens gaffer heath gresham key grip jake reeder sound mixer danny carpenter for botown sound hmu denise valentine production designer arae webner president of original content sam reich vice president of production spencer griffin executive in charge of production sam sparks supervising producer alex edge production legal karen segall production accountant shay parsons production accountant chetera bell production intern kristie lee post production supervisor melissa balan post production coordinator marissa high licensing and programming coordinator theodora hart programming assistant caroline langella editor sam geer visual effects graphics tj gonzalez head assistant editor post prod systems engineer mark chernausek assistant editors spencer kombol andrew primavera', class : 0, label : b'nonclickbaits'\n",
            "text : b'reacting to a trickshotting class presentation my dad left me if you re reading this leave a like faze rain merch vlog channel use code rainn for off on original video connect with me twitter instagram facebook snapchat nordansnap livestream use code rainn the best xbox playstation controllers need an energy drink that s healthy rain xbl picture pack my mouse keyboard etc music by as always keep it real', class : 1, label : b'clickbaits'\n",
            "text : b'supply drop openings crazy hitmarker leave a like if you enjoyed watch me live at twitter instagram my stream my faze shirt use code rug for off kontrol freeks i use the ultra use code rug for off scufs i prefer the hybrids d', class : 1, label : b'clickbaits'\n",
            "text : b'pov sick day ch bonus footage like us on feel what it feels like to feel like crap see more follow us on follow us on', class : 0, label : b'nonclickbaits'\n",
            "text : b'the tyler oakley show the eye candy episode with tom daley and scott eastwood arguably the best looking episode to date tyler guesses celebrity abs with olympic diver tom daley and deep dives into scott eastwood s instagram tune in for more episodes every monday watch tom daley follow scott eastwood subscribe follow become a fan', class : 0, label : b'nonclickbaits'\n",
            "text : b'boomers vs millennials inspired by the new movie going in style andy zenor came up with a new game to prove which generation is the smartest going in style is in theaters starting april th', class : 0, label : b'nonclickbaits'\n"
          ],
          "name": "stdout"
        }
      ]
    },
    {
      "cell_type": "code",
      "metadata": {
        "id": "Y9EYaEqFQKM5"
      },
      "source": [
        "# We need only Text and numeric Label from the dataset\n",
        "with tf.device('/cpu:0'):\n",
        "  train_ds = train_ds.map(lambda text, class_num, label:(text, class_num))\n",
        "  val_ds = val_ds.map(lambda text, class_num, label:(text, class_num))\n",
        "  test_ds = test_ds.map(lambda text, class_num, label:(text, class_num))\n",
        "  benchmark_ds = benchmark_ds.map(lambda text, class_num, label:(text, class_num))"
      ],
      "execution_count": 21,
      "outputs": []
    },
    {
      "cell_type": "code",
      "metadata": {
        "colab": {
          "base_uri": "https://localhost:8080/"
        },
        "id": "cRpJwphml5xA",
        "outputId": "4a0780d8-4218-4b61-856f-f37443ebc5b5"
      },
      "source": [
        "train_ds.element_spec, val_ds.element_spec, test_ds.element_spec, benchmark_ds.element_spec"
      ],
      "execution_count": 22,
      "outputs": [
        {
          "output_type": "execute_result",
          "data": {
            "text/plain": [
              "((TensorSpec(shape=(), dtype=tf.string, name=None),\n",
              "  TensorSpec(shape=(), dtype=tf.int64, name=None)),\n",
              " (TensorSpec(shape=(), dtype=tf.string, name=None),\n",
              "  TensorSpec(shape=(), dtype=tf.int64, name=None)),\n",
              " (TensorSpec(shape=(), dtype=tf.string, name=None),\n",
              "  TensorSpec(shape=(), dtype=tf.int64, name=None)),\n",
              " (TensorSpec(shape=(), dtype=tf.string, name=None),\n",
              "  TensorSpec(shape=(), dtype=tf.int64, name=None)))"
            ]
          },
          "metadata": {
            "tags": []
          },
          "execution_count": 22
        }
      ]
    },
    {
      "cell_type": "code",
      "metadata": {
        "id": "RYCy7RJVfZWN"
      },
      "source": [
        "with tf.device('/cpu:0'):\n",
        "  train_ds = get_batched_dataset(train_ds, train=True)\n",
        "  val_ds = get_batched_dataset(val_ds)\n",
        "  test_ds = get_batched_dataset(test_ds)\n",
        "  benchmark_ds = get_batched_dataset(benchmark_ds)"
      ],
      "execution_count": 23,
      "outputs": []
    },
    {
      "cell_type": "markdown",
      "metadata": {
        "id": "m4mlvS-W4TDx"
      },
      "source": [
        "#Modeling"
      ]
    },
    {
      "cell_type": "markdown",
      "metadata": {
        "id": "CsCwE3RZSi3e"
      },
      "source": [
        "##Build classifier"
      ]
    },
    {
      "cell_type": "code",
      "metadata": {
        "colab": {
          "base_uri": "https://localhost:8080/"
        },
        "id": "sHVKiVfzSkSl",
        "outputId": "b737bf89-9f99-46c3-9ff1-438dc5eca828"
      },
      "source": [
        "classifier_model = create_model()\n",
        "classifier_model.summary()"
      ],
      "execution_count": 26,
      "outputs": [
        {
          "output_type": "stream",
          "text": [
            "Model: \"sequential_2\"\n",
            "_________________________________________________________________\n",
            "Layer (type)                 Output Shape              Param #   \n",
            "=================================================================\n",
            "USE_embedding (KerasLayer)   (None, 512)               256797824 \n",
            "_________________________________________________________________\n",
            "dropout_4 (Dropout)          (None, 512)               0         \n",
            "_________________________________________________________________\n",
            "dense_4 (Dense)              (None, 128)               65664     \n",
            "_________________________________________________________________\n",
            "batch_normalization_2 (Batch (None, 128)               512       \n",
            "_________________________________________________________________\n",
            "dropout_5 (Dropout)          (None, 128)               0         \n",
            "_________________________________________________________________\n",
            "dense_5 (Dense)              (None, 1)                 129       \n",
            "=================================================================\n",
            "Total params: 256,864,129\n",
            "Trainable params: 256,863,873\n",
            "Non-trainable params: 256\n",
            "_________________________________________________________________\n"
          ],
          "name": "stdout"
        }
      ]
    },
    {
      "cell_type": "markdown",
      "metadata": {
        "id": "t-l3hSAZjmAR"
      },
      "source": [
        "##Train classifier model"
      ]
    },
    {
      "cell_type": "markdown",
      "metadata": {
        "id": "JB9jLSmmxlRX"
      },
      "source": [
        "###Compile model"
      ]
    },
    {
      "cell_type": "code",
      "metadata": {
        "colab": {
          "base_uri": "https://localhost:8080/",
          "height": 532
        },
        "id": "jT4HWvMbweSY",
        "outputId": "e5abbdd5-e7cb-4842-b2fb-1d372c987ff7"
      },
      "source": [
        "METRICS = [\n",
        "             keras.metrics.TruePositives(name='tp'),\n",
        "             keras.metrics.FalsePositives(name='fp'),\n",
        "             keras.metrics.TrueNegatives(name='tn'),\n",
        "             keras.metrics.FalseNegatives(name='fn'), \n",
        "             keras.metrics.BinaryAccuracy(name='accuracy'),\n",
        "             keras.metrics.Precision(name='precision'),\n",
        "             keras.metrics.Recall(name='recall'),\n",
        "             keras.metrics.AUC(name='auc'),\n",
        "             keras.metrics.AUC(name='prc', curve='PR'), # precision-recall curve\n",
        "          ]\n",
        "\n",
        "\n",
        "es = tf.keras.callbacks.EarlyStopping(\n",
        "          monitor='val_loss', \n",
        "          verbose=1, \n",
        "          patience=5, \n",
        "          mode='min', \n",
        "          restore_best_weights=True\n",
        "          )\n",
        "\n",
        "mcb = tf.keras.callbacks.ModelCheckpoint (\n",
        "         filepath=model_checkpoint_path,\n",
        "         save_weights_only=True,\n",
        "         monitor='val_loss',\n",
        "         mode='min',\n",
        "         verbose=1,\n",
        "         save_best_only=True\n",
        "        )\n",
        "\n",
        "schedule = None\n",
        "schedule = PolynomialDecay(maxEpochs=epochs, initAlpha=init_lr, power=5)\n",
        "\n",
        "lrc = LearningRateScheduler(schedule)\n",
        "\n",
        "\n",
        "#optimizer = optimization.create_optimizer(\n",
        "#      init_lr=init_lr,\n",
        "#      num_train_steps=num_train_steps,\n",
        "#      num_warmup_steps=num_warmup_steps,\n",
        "#      optimizer_type='adamw'\n",
        "#      )\n",
        "\n",
        "\n",
        "#lr_schedule = tf.keras.optimizers.schedules.ExponentialDecay(\n",
        "#    init_lr,\n",
        "#    decay_steps=num_train_steps,\n",
        "#    decay_rate=0.96,\n",
        "#    staircase=True)\n",
        "\n",
        "optimizer = SGD(lr=init_lr, momentum=0.9, decay = 0.0)\n",
        "\n",
        "classifier_model.compile(\n",
        "    optimizer=optimizer,\n",
        "    loss=tf.keras.losses.BinaryCrossentropy(), \n",
        "    metrics=METRICS\n",
        "    )\n",
        "\n",
        "tf.keras.utils.plot_model(model=classifier_model, show_shapes=True, dpi=60)"
      ],
      "execution_count": 27,
      "outputs": [
        {
          "output_type": "stream",
          "text": [
            "/usr/local/lib/python3.7/dist-packages/tensorflow/python/keras/optimizer_v2/optimizer_v2.py:375: UserWarning: The `lr` argument is deprecated, use `learning_rate` instead.\n",
            "  \"The `lr` argument is deprecated, use `learning_rate` instead.\")\n"
          ],
          "name": "stderr"
        },
        {
          "output_type": "execute_result",
          "data": {
            "image/png": "[encoded data removed]",
            "text/plain": [
              "<IPython.core.display.Image object>"
            ]
          },
          "metadata": {
            "tags": []
          },
          "execution_count": 27
        }
      ]
    },
    {
      "cell_type": "markdown",
      "metadata": {
        "id": "H6XKaUuaxqlk"
      },
      "source": [
        "###Train"
      ]
    },
    {
      "cell_type": "code",
      "metadata": {
        "colab": {
          "base_uri": "https://localhost:8080/"
        },
        "id": "5m2m1rm9mpns",
        "outputId": "c75ecc90-bcb3-461e-9fec-f5b8546a5fb7"
      },
      "source": [
        "#@title Load Model weights if available\n",
        "#if os.path.exists(checkpoint_root_path) & len(os.listdir(checkpoint_root_path))>0:\n",
        "#  print('loading saved weight')\n",
        "#  classifier_model.load_weights(model_checkpoint_path)\n",
        "#else:\n",
        "#  print('No weight to initialize') "
      ],
      "execution_count": null,
      "outputs": [
        {
          "output_type": "stream",
          "text": [
            "No weight to initialize\n"
          ],
          "name": "stdout"
        }
      ]
    },
    {
      "cell_type": "code",
      "metadata": {
        "colab": {
          "base_uri": "https://localhost:8080/"
        },
        "id": "VN83npGrjnwd",
        "outputId": "ab05f945-eb48-4177-da9f-5d1c991b6f8d"
      },
      "source": [
        "history = classifier_model.fit(\n",
        "             x=train_ds,\n",
        "             validation_data=val_ds,\n",
        "             epochs=epochs,\n",
        "             callbacks=[es, mcb, lrc]\n",
        "             )"
      ],
      "execution_count": 28,
      "outputs": [
        {
          "output_type": "stream",
          "text": [
            "Epoch 1/30\n",
            "1217/1217 [==============================] - 67s 37ms/step - loss: 0.1648 - tp: 17883.0000 - fp: 1110.0000 - tn: 18683.0000 - fn: 1268.0000 - accuracy: 0.9389 - precision: 0.9416 - recall: 0.9338 - auc: 0.9826 - prc: 0.9827 - val_loss: 0.1130 - val_tp: 3750.0000 - val_fp: 75.0000 - val_tn: 4143.0000 - val_fn: 256.0000 - val_accuracy: 0.9598 - val_precision: 0.9804 - val_recall: 0.9361 - val_auc: 0.9933 - val_prc: 0.9930\n",
            "\n",
            "Epoch 00001: val_loss improved from inf to 0.11297, saving model to /content/drive/MyDrive/Colab Notebooks/clcikbait_detection/dataset/YouTube_clickbait/checkpoints/youtube_clickbait_finetuned_USE_all/youtube_clickbait_finetuned_USE_all_checkpoint\n",
            "Epoch 2/30\n",
            "1217/1217 [==============================] - 47s 39ms/step - loss: 0.0888 - tp: 18495.0000 - fp: 564.0000 - tn: 19229.0000 - fn: 656.0000 - accuracy: 0.9687 - precision: 0.9704 - recall: 0.9657 - auc: 0.9943 - prc: 0.9939 - val_loss: 0.1212 - val_tp: 3715.0000 - val_fp: 53.0000 - val_tn: 4165.0000 - val_fn: 291.0000 - val_accuracy: 0.9582 - val_precision: 0.9859 - val_recall: 0.9274 - val_auc: 0.9928 - val_prc: 0.9928\n",
            "\n",
            "Epoch 00002: val_loss did not improve from 0.11297\n",
            "Epoch 3/30\n",
            "1217/1217 [==============================] - 40s 33ms/step - loss: 0.0591 - tp: 18709.0000 - fp: 364.0000 - tn: 19429.0000 - fn: 442.0000 - accuracy: 0.9793 - precision: 0.9809 - recall: 0.9769 - auc: 0.9971 - prc: 0.9967 - val_loss: 0.0992 - val_tp: 3825.0000 - val_fp: 73.0000 - val_tn: 4145.0000 - val_fn: 181.0000 - val_accuracy: 0.9691 - val_precision: 0.9813 - val_recall: 0.9548 - val_auc: 0.9927 - val_prc: 0.9921\n",
            "\n",
            "Epoch 00003: val_loss improved from 0.11297 to 0.09919, saving model to /content/drive/MyDrive/Colab Notebooks/clcikbait_detection/dataset/YouTube_clickbait/checkpoints/youtube_clickbait_finetuned_USE_all/youtube_clickbait_finetuned_USE_all_checkpoint\n",
            "Epoch 4/30\n",
            "1217/1217 [==============================] - 60s 49ms/step - loss: 0.0370 - tp: 18906.0000 - fp: 214.0000 - tn: 19579.0000 - fn: 245.0000 - accuracy: 0.9882 - precision: 0.9888 - recall: 0.9872 - auc: 0.9986 - prc: 0.9984 - val_loss: 0.1100 - val_tp: 3898.0000 - val_fp: 133.0000 - val_tn: 4085.0000 - val_fn: 108.0000 - val_accuracy: 0.9707 - val_precision: 0.9670 - val_recall: 0.9730 - val_auc: 0.9906 - val_prc: 0.9879\n",
            "\n",
            "Epoch 00004: val_loss did not improve from 0.09919\n",
            "Epoch 5/30\n",
            "1217/1217 [==============================] - 45s 37ms/step - loss: 0.0231 - tp: 19009.0000 - fp: 129.0000 - tn: 19664.0000 - fn: 142.0000 - accuracy: 0.9930 - precision: 0.9933 - recall: 0.9926 - auc: 0.9992 - prc: 0.9990 - val_loss: 0.1262 - val_tp: 3841.0000 - val_fp: 83.0000 - val_tn: 4135.0000 - val_fn: 165.0000 - val_accuracy: 0.9698 - val_precision: 0.9788 - val_recall: 0.9588 - val_auc: 0.9882 - val_prc: 0.9863\n",
            "\n",
            "Epoch 00005: val_loss did not improve from 0.09919\n",
            "Epoch 6/30\n",
            "1217/1217 [==============================] - 40s 33ms/step - loss: 0.0152 - tp: 19053.0000 - fp: 92.0000 - tn: 19701.0000 - fn: 98.0000 - accuracy: 0.9951 - precision: 0.9952 - recall: 0.9949 - auc: 0.9995 - prc: 0.9995 - val_loss: 0.1316 - val_tp: 3881.0000 - val_fp: 94.0000 - val_tn: 4124.0000 - val_fn: 125.0000 - val_accuracy: 0.9734 - val_precision: 0.9764 - val_recall: 0.9688 - val_auc: 0.9879 - val_prc: 0.9859\n",
            "\n",
            "Epoch 00006: val_loss did not improve from 0.09919\n",
            "Epoch 7/30\n",
            "1217/1217 [==============================] - 40s 33ms/step - loss: 0.0110 - tp: 19087.0000 - fp: 64.0000 - tn: 19729.0000 - fn: 64.0000 - accuracy: 0.9967 - precision: 0.9967 - recall: 0.9967 - auc: 0.9997 - prc: 0.9996 - val_loss: 0.1513 - val_tp: 3846.0000 - val_fp: 75.0000 - val_tn: 4143.0000 - val_fn: 160.0000 - val_accuracy: 0.9714 - val_precision: 0.9809 - val_recall: 0.9601 - val_auc: 0.9866 - val_prc: 0.9855\n",
            "\n",
            "Epoch 00007: val_loss did not improve from 0.09919\n",
            "Epoch 8/30\n",
            "1217/1217 [==============================] - 40s 33ms/step - loss: 0.0076 - tp: 19113.0000 - fp: 42.0000 - tn: 19751.0000 - fn: 38.0000 - accuracy: 0.9979 - precision: 0.9978 - recall: 0.9980 - auc: 0.9998 - prc: 0.9997 - val_loss: 0.1505 - val_tp: 3892.0000 - val_fp: 113.0000 - val_tn: 4105.0000 - val_fn: 114.0000 - val_accuracy: 0.9724 - val_precision: 0.9718 - val_recall: 0.9715 - val_auc: 0.9864 - val_prc: 0.9826\n",
            "Restoring model weights from the end of the best epoch.\n",
            "\n",
            "Epoch 00008: val_loss did not improve from 0.09919\n",
            "Epoch 00008: early stopping\n"
          ],
          "name": "stdout"
        }
      ]
    },
    {
      "cell_type": "markdown",
      "metadata": {
        "id": "KGm28Sny7Wbg"
      },
      "source": [
        "#Plot train history"
      ]
    },
    {
      "cell_type": "code",
      "metadata": {
        "colab": {
          "base_uri": "https://localhost:8080/",
          "height": 626
        },
        "id": "2cfUO2bLXBsV",
        "outputId": "89aa0126-bd14-4ac9-ee52-e8a333377133"
      },
      "source": [
        "# plot the training loss and accuracy\n",
        "N = np.arange(0, epochs)\n",
        "\n",
        "# if the learning rate schedule is not empty, then save the learning\n",
        "# rate plot\n",
        "if schedule is not None:\n",
        "\tschedule.plot(N)\n",
        "\t#plt.savefig(args[\"lr_plot\"])"
      ],
      "execution_count": 33,
      "outputs": [
        {
          "output_type": "display_data",
          "data": {
            "image/png": "[encoded data removed]",
            "text/plain": [
              "<Figure size 864x720 with 1 Axes>"
            ]
          },
          "metadata": {
            "tags": []
          }
        }
      ]
    },
    {
      "cell_type": "code",
      "metadata": {
        "id": "de9jdjsl83rU",
        "colab": {
          "base_uri": "https://localhost:8080/",
          "height": 625
        },
        "outputId": "13eaf9fb-1a79-4bda-c2f5-3d8b2ae8aafe"
      },
      "source": [
        "vh.display_training_curves(history.history['accuracy'], history.history['val_accuracy'], 'accuracy', 211)\n",
        "vh.display_training_curves(history.history['loss'], history.history['val_loss'], 'loss', 212)"
      ],
      "execution_count": 34,
      "outputs": [
        {
          "output_type": "display_data",
          "data": {
            "image/png": "[encoded data removed]",
            "text/plain": [
              "<Figure size 720x720 with 2 Axes>"
            ]
          },
          "metadata": {
            "tags": []
          }
        }
      ]
    },
    {
      "cell_type": "code",
      "metadata": {
        "id": "bMtvCGsZ89PT",
        "colab": {
          "base_uri": "https://localhost:8080/",
          "height": 625
        },
        "outputId": "8bf5396f-fd79-4e52-f72a-f7a7d56931b6"
      },
      "source": [
        "vh.display_training_curves(history.history['recall'], history.history['val_recall'], 'recall', 211)\n",
        "vh.display_training_curves(history.history['precision'], history.history['val_precision'], 'precision', 212)"
      ],
      "execution_count": 35,
      "outputs": [
        {
          "output_type": "display_data",
          "data": {
            "image/png": "[encoded data removed]",
            "text/plain": [
              "<Figure size 720x720 with 2 Axes>"
            ]
          },
          "metadata": {
            "tags": []
          }
        }
      ]
    },
    {
      "cell_type": "markdown",
      "metadata": {
        "id": "u3EcfqHpnb7M"
      },
      "source": [
        "# Model Inference\n",
        "We have trained the classifier, now let's use the trained model to infer the test dataset. Beside the test dataset, we also have benchmark dataset that we would also to see the eefectiveness of our model over benchmark dataset on predicting the clickbait's."
      ]
    },
    {
      "cell_type": "markdown",
      "metadata": {
        "id": "wUbL6y3Qnowd"
      },
      "source": [
        "##Model Evaluation"
      ]
    },
    {
      "cell_type": "markdown",
      "metadata": {
        "id": "V3DsGFsKnteT"
      },
      "source": [
        "###Evaluate Classifier on Test set"
      ]
    },
    {
      "cell_type": "code",
      "metadata": {
        "id": "f3RkZKpanwB6",
        "colab": {
          "base_uri": "https://localhost:8080/"
        },
        "outputId": "27a65fd0-332f-41f5-9d73-8af901615eb2"
      },
      "source": [
        "results_test_set = classifier_model.evaluate(test_ds)\n",
        "\n",
        "for name, value in zip(classifier_model.metrics_names, results_test_set):\n",
        "  print(name, ': ', value)\n",
        "print()"
      ],
      "execution_count": 36,
      "outputs": [
        {
          "output_type": "stream",
          "text": [
            "60/60 [==============================] - 3s 37ms/step - loss: 0.0891 - tp: 862.0000 - fp: 20.0000 - tn: 1003.0000 - fn: 35.0000 - accuracy: 0.9714 - precision: 0.9773 - recall: 0.9610 - auc: 0.9932 - prc: 0.9928\n",
            "loss :  0.08910199254751205\n",
            "tp :  862.0\n",
            "fp :  20.0\n",
            "tn :  1003.0\n",
            "fn :  35.0\n",
            "accuracy :  0.9713541865348816\n",
            "precision :  0.9773242473602295\n",
            "recall :  0.9609810709953308\n",
            "auc :  0.9932151436805725\n",
            "prc :  0.9928134679794312\n",
            "\n"
          ],
          "name": "stdout"
        }
      ]
    },
    {
      "cell_type": "markdown",
      "metadata": {
        "id": "36FvI_Jfnzm4"
      },
      "source": [
        "### Evaluate Classifier on Benchmarking set"
      ]
    },
    {
      "cell_type": "code",
      "metadata": {
        "id": "sksFha2Jn2ax",
        "colab": {
          "base_uri": "https://localhost:8080/"
        },
        "outputId": "0a15e7bb-e201-4f3b-85d8-35f8b7e21432"
      },
      "source": [
        "results_benchmarking_set = classifier_model.evaluate(benchmark_ds)\n",
        "\n",
        "for name, value in zip(classifier_model.metrics_names, results_benchmarking_set):\n",
        "  print(name, ': ', value)\n",
        "print()"
      ],
      "execution_count": 37,
      "outputs": [
        {
          "output_type": "stream",
          "text": [
            "5/5 [==============================] - 1s 146ms/step - loss: 1.0179 - tp: 47.0000 - fp: 3.0000 - tn: 63.0000 - fn: 47.0000 - accuracy: 0.6875 - precision: 0.9400 - recall: 0.5000 - auc: 0.8763 - prc: 0.9088\n",
            "loss :  1.0179414749145508\n",
            "tp :  47.0\n",
            "fp :  3.0\n",
            "tn :  63.0\n",
            "fn :  47.0\n",
            "accuracy :  0.6875\n",
            "precision :  0.9399999976158142\n",
            "recall :  0.5\n",
            "auc :  0.8762894868850708\n",
            "prc :  0.9087992906570435\n",
            "\n"
          ],
          "name": "stdout"
        }
      ]
    },
    {
      "cell_type": "markdown",
      "metadata": {
        "id": "yC6LVHAyn-hs"
      },
      "source": [
        "##Export Model for inference"
      ]
    },
    {
      "cell_type": "code",
      "metadata": {
        "id": "DHOU2aiyoCKy"
      },
      "source": [
        "#classifier_model.save(saved_model_path, include_optimizer=False)"
      ],
      "execution_count": 38,
      "outputs": []
    },
    {
      "cell_type": "markdown",
      "metadata": {
        "id": "Qoh5oCeBoFSB"
      },
      "source": [
        "##Model prediction"
      ]
    },
    {
      "cell_type": "code",
      "metadata": {
        "id": "oHG0fmpQoHuJ"
      },
      "source": [
        "#saved_classifier = keras.models.load_model(saved_model_path)"
      ],
      "execution_count": 39,
      "outputs": []
    },
    {
      "cell_type": "markdown",
      "metadata": {
        "id": "q2_erN4OoLL5"
      },
      "source": [
        "### Prediction for Test set"
      ]
    },
    {
      "cell_type": "code",
      "metadata": {
        "id": "4qZegAuroQHP",
        "colab": {
          "base_uri": "https://localhost:8080/",
          "height": 592
        },
        "outputId": "abcc5b55-8950-421d-8035-67b92e16853d"
      },
      "source": [
        "predict_on_test_dataset(classifier_model, test_ds, BATCH_SIZE=BATCH_SIZE)"
      ],
      "execution_count": 40,
      "outputs": [
        {
          "output_type": "stream",
          "text": [
            "Accuracy: 0.971354\n",
            "Precision: 0.977324\n",
            "Recall: 0.960981\n",
            "F1 score: 0.969084\n",
            "ROC AUC: 0.970715\n",
            "[[1003   20]\n",
            " [  35  862]]\n",
            "Non clickbaits Detected (True Negatives):  1003\n",
            "Non-Clickbaits Detected as Clickbaits (False Positives):  20\n",
            "Clickbaits Detected as Non-clickbaits (False Negatives):  35\n",
            "Clickbaits Detected (True Positives):  862\n",
            "Total Non-clickbaits:  1023\n",
            "Total Clickbaits:  897\n",
            "\n"
          ],
          "name": "stdout"
        },
        {
          "output_type": "display_data",
          "data": {
            "image/png": "[encoded data removed]",
            "text/plain": [
              "<Figure size 360x360 with 2 Axes>"
            ]
          },
          "metadata": {
            "tags": []
          }
        }
      ]
    },
    {
      "cell_type": "markdown",
      "metadata": {
        "id": "Ldte4xEboU8H"
      },
      "source": [
        "### Prediction for Benchmarking set"
      ]
    },
    {
      "cell_type": "code",
      "metadata": {
        "id": "H2V6xTcFoWbm",
        "colab": {
          "base_uri": "https://localhost:8080/",
          "height": 592
        },
        "outputId": "71cbe0ac-f859-4c4e-f956-9fb420f24d00"
      },
      "source": [
        "predict_on_test_dataset(classifier_model, benchmark_ds, BATCH_SIZE=BATCH_SIZE)"
      ],
      "execution_count": 41,
      "outputs": [
        {
          "output_type": "stream",
          "text": [
            "Accuracy: 0.687500\n",
            "Precision: 0.940000\n",
            "Recall: 0.500000\n",
            "F1 score: 0.652778\n",
            "ROC AUC: 0.727273\n",
            "[[63  3]\n",
            " [47 47]]\n",
            "Non clickbaits Detected (True Negatives):  63\n",
            "Non-Clickbaits Detected as Clickbaits (False Positives):  3\n",
            "Clickbaits Detected as Non-clickbaits (False Negatives):  47\n",
            "Clickbaits Detected (True Positives):  47\n",
            "Total Non-clickbaits:  66\n",
            "Total Clickbaits:  94\n",
            "\n"
          ],
          "name": "stdout"
        },
        {
          "output_type": "display_data",
          "data": {
            "image/png": "[encoded data removed]",
            "text/plain": [
              "<Figure size 360x360 with 2 Axes>"
            ]
          },
          "metadata": {
            "tags": []
          }
        }
      ]
    }
  ]
}